{
  "nbformat": 4,
  "nbformat_minor": 0,
  "metadata": {
    "colab": {
      "provenance": [],
      "authorship_tag": "ABX9TyOTe8Lnr3JybBa+dZTcS1fy",
      "include_colab_link": true
    },
    "kernelspec": {
      "name": "python3",
      "display_name": "Python 3"
    },
    "language_info": {
      "name": "python"
    },
    "accelerator": "GPU",
    "gpuClass": "standard"
  },
  "cells": [
    {
      "cell_type": "markdown",
      "metadata": {
        "id": "view-in-github",
        "colab_type": "text"
      },
      "source": [
        "<a href=\"https://colab.research.google.com/github/Sashank11/learn_tensorflow/blob/main/Introduction_to_computer_vision_with_tensorflow.ipynb\" target=\"_parent\"><img src=\"https://colab.research.google.com/assets/colab-badge.svg\" alt=\"Open In Colab\"/></a>"
      ]
    },
    {
      "cell_type": "markdown",
      "source": [
        "# Introduction to Convolutional Neural Networks and Computer Vision with TensorFlow"
      ],
      "metadata": {
        "id": "ZDd8NgeufYNR"
      }
    },
    {
      "cell_type": "markdown",
      "source": [
        "## Get Data\n",
        "\n",
        "We start with a smaller dataset so we can experiment quickly and figure out what works and what doesn't before scaling up."
      ],
      "metadata": {
        "id": "RCnuKpisfp5c"
      }
    },
    {
      "cell_type": "code",
      "source": [
        "import zipfile \n",
        "!wget https://storage.googleapis.com/ztm_tf_course/food_vision/pizza_steak.zip\n",
        "\n",
        "# Unzip the downloaded file\n",
        "zip_ref = zipfile.ZipFile(\"pizza_steak.zip\")\n",
        "zip_ref.extractall()\n",
        "zip_ref.close()"
      ],
      "metadata": {
        "colab": {
          "base_uri": "https://localhost:8080/"
        },
        "id": "KsFKmtGAV7Op",
        "outputId": "80ec0f79-2608-4aeb-c2de-d99da0f47410"
      },
      "execution_count": 1,
      "outputs": [
        {
          "output_type": "stream",
          "name": "stdout",
          "text": [
            "--2022-12-24 11:40:00--  https://storage.googleapis.com/ztm_tf_course/food_vision/pizza_steak.zip\n",
            "Resolving storage.googleapis.com (storage.googleapis.com)... 74.125.24.128, 142.250.4.128, 142.251.10.128, ...\n",
            "Connecting to storage.googleapis.com (storage.googleapis.com)|74.125.24.128|:443... connected.\n",
            "HTTP request sent, awaiting response... 200 OK\n",
            "Length: 109540975 (104M) [application/zip]\n",
            "Saving to: ‘pizza_steak.zip’\n",
            "\n",
            "pizza_steak.zip     100%[===================>] 104.47M  24.0MB/s    in 5.4s    \n",
            "\n",
            "2022-12-24 11:40:06 (19.2 MB/s) - ‘pizza_steak.zip’ saved [109540975/109540975]\n",
            "\n"
          ]
        }
      ]
    },
    {
      "cell_type": "markdown",
      "source": [
        "## Inspect the data"
      ],
      "metadata": {
        "id": "UIHkQTvMXhb-"
      }
    },
    {
      "cell_type": "code",
      "source": [
        "!ls pizza_steak"
      ],
      "metadata": {
        "colab": {
          "base_uri": "https://localhost:8080/"
        },
        "id": "ej3DSM6bbIJV",
        "outputId": "67b4d17f-59e2-4a29-9079-d90e983fa7ef"
      },
      "execution_count": 2,
      "outputs": [
        {
          "output_type": "stream",
          "name": "stdout",
          "text": [
            "test  train\n"
          ]
        }
      ]
    },
    {
      "cell_type": "code",
      "source": [
        "!ls pizza_steak/train/"
      ],
      "metadata": {
        "colab": {
          "base_uri": "https://localhost:8080/"
        },
        "id": "rMF1X3dabRT0",
        "outputId": "b209d1e7-3bac-4688-d4c1-06298ad928ed"
      },
      "execution_count": 3,
      "outputs": [
        {
          "output_type": "stream",
          "name": "stdout",
          "text": [
            "pizza  steak\n"
          ]
        }
      ]
    },
    {
      "cell_type": "code",
      "source": [
        "!ls pizza_steak/train/steak/"
      ],
      "metadata": {
        "colab": {
          "base_uri": "https://localhost:8080/"
        },
        "id": "qNj5UDpSbUju",
        "outputId": "e1f69cdf-7401-4cc4-ea1c-9c9dfae28e49"
      },
      "execution_count": 4,
      "outputs": [
        {
          "output_type": "stream",
          "name": "stdout",
          "text": [
            "1000205.jpg  1647351.jpg  2238681.jpg  2824680.jpg  3375959.jpg  417368.jpg\n",
            "100135.jpg   1650002.jpg  2238802.jpg  2825100.jpg  3381560.jpg  4176.jpg\n",
            "101312.jpg   165639.jpg   2254705.jpg  2826987.jpg  3382936.jpg  42125.jpg\n",
            "1021458.jpg  1658186.jpg  225990.jpg   2832499.jpg  3386119.jpg  421476.jpg\n",
            "1032846.jpg  1658443.jpg  2260231.jpg  2832960.jpg  3388717.jpg  421561.jpg\n",
            "10380.jpg    165964.jpg   2268692.jpg  285045.jpg   3389138.jpg  438871.jpg\n",
            "1049459.jpg  167069.jpg   2271133.jpg  285147.jpg   3393547.jpg  43924.jpg\n",
            "1053665.jpg  1675632.jpg  227576.jpg   2855315.jpg  3393688.jpg  440188.jpg\n",
            "1068516.jpg  1678108.jpg  2283057.jpg  2856066.jpg  3396589.jpg  442757.jpg\n",
            "1068975.jpg  168006.jpg   2286639.jpg  2859933.jpg  339891.jpg\t 443210.jpg\n",
            "1081258.jpg  1682496.jpg  2287136.jpg  286219.jpg   3417789.jpg  444064.jpg\n",
            "1090122.jpg  1684438.jpg  2291292.jpg  2862562.jpg  3425047.jpg  444709.jpg\n",
            "1093966.jpg  168775.jpg   229323.jpg   2865730.jpg  3434983.jpg  447557.jpg\n",
            "1098844.jpg  1697339.jpg  2300534.jpg  2878151.jpg  3435358.jpg  461187.jpg\n",
            "1100074.jpg  1710569.jpg  2300845.jpg  2880035.jpg  3438319.jpg  461689.jpg\n",
            "1105280.jpg  1714605.jpg  231296.jpg   2881783.jpg  3444407.jpg  465494.jpg\n",
            "1117936.jpg  1724387.jpg  2315295.jpg  2884233.jpg  345734.jpg\t 468384.jpg\n",
            "1126126.jpg  1724717.jpg  2323132.jpg  2890573.jpg  3460673.jpg  477486.jpg\n",
            "114601.jpg   172936.jpg   2324994.jpg  2893832.jpg  3465327.jpg  482022.jpg\n",
            "1147047.jpg  1736543.jpg  2327701.jpg  2893892.jpg  3466159.jpg  482465.jpg\n",
            "1147883.jpg  1736968.jpg  2331076.jpg  2907177.jpg  3469024.jpg  483788.jpg\n",
            "1155665.jpg  1746626.jpg  233964.jpg   290850.jpg   3470083.jpg  493029.jpg\n",
            "1163977.jpg  1752330.jpg  2344227.jpg  2909031.jpg  3476564.jpg  503589.jpg\n",
            "1190233.jpg  1761285.jpg  234626.jpg   2910418.jpg  3478318.jpg  510757.jpg\n",
            "1208405.jpg  176508.jpg   234704.jpg   2912290.jpg  3488748.jpg  513129.jpg\n",
            "1209120.jpg  1772039.jpg  2357281.jpg  2916448.jpg  3492328.jpg  513842.jpg\n",
            "1212161.jpg  1777107.jpg  2361812.jpg  2916967.jpg  3518960.jpg  523535.jpg\n",
            "1213988.jpg  1787505.jpg  2365287.jpg  2927833.jpg  3522209.jpg  525041.jpg\n",
            "1219039.jpg  179293.jpg   2374582.jpg  2928643.jpg  3524429.jpg  534560.jpg\n",
            "1225762.jpg  1816235.jpg  239025.jpg   2929179.jpg  3528458.jpg  534633.jpg\n",
            "1230968.jpg  1822407.jpg  2390628.jpg  2936477.jpg  3531805.jpg  536535.jpg\n",
            "1236155.jpg  1823263.jpg  2392910.jpg  2938012.jpg  3536023.jpg  541410.jpg\n",
            "1241193.jpg  1826066.jpg  2394465.jpg  2938151.jpg  3538682.jpg  543691.jpg\n",
            "1248337.jpg  1828502.jpg  2395127.jpg  2939678.jpg  3540750.jpg  560503.jpg\n",
            "1257104.jpg  1828969.jpg  2396291.jpg  2940544.jpg  354329.jpg\t 561972.jpg\n",
            "126345.jpg   1829045.jpg  2400975.jpg  2940621.jpg  3547166.jpg  56240.jpg\n",
            "1264050.jpg  1829088.jpg  2403776.jpg  2949079.jpg  3553911.jpg  56409.jpg\n",
            "1264154.jpg  1836332.jpg  2403907.jpg  295491.jpg   3556871.jpg  564530.jpg\n",
            "1264858.jpg  1839025.jpg  240435.jpg   296268.jpg   355715.jpg\t 568972.jpg\n",
            "127029.jpg   1839481.jpg  2404695.jpg  2964732.jpg  356234.jpg\t 576725.jpg\n",
            "1289900.jpg  183995.jpg   2404884.jpg  2965021.jpg  3571963.jpg  588739.jpg\n",
            "1290362.jpg  184110.jpg   2407770.jpg  2966859.jpg  3576078.jpg  590142.jpg\n",
            "1295457.jpg  184226.jpg   2412263.jpg  2977966.jpg  3577618.jpg  60633.jpg\n",
            "1312841.jpg  1846706.jpg  2425062.jpg  2979061.jpg  3577732.jpg  60655.jpg\n",
            "1313316.jpg  1849364.jpg  2425389.jpg  2983260.jpg  3578934.jpg  606820.jpg\n",
            "1324791.jpg  1849463.jpg  2435316.jpg  2984311.jpg  358042.jpg\t 612551.jpg\n",
            "1327567.jpg  1849542.jpg  2437268.jpg  2988960.jpg  358045.jpg\t 614975.jpg\n",
            "1327667.jpg  1853564.jpg  2437843.jpg  2989882.jpg  3591821.jpg  616809.jpg\n",
            "1333055.jpg  1869467.jpg  2440131.jpg  2995169.jpg  359330.jpg\t 628628.jpg\n",
            "1334054.jpg  1870942.jpg  2443168.jpg  2996324.jpg  3601483.jpg  632427.jpg\n",
            "1335556.jpg  187303.jpg   2446660.jpg  3000131.jpg  3606642.jpg  636594.jpg\n",
            "1337814.jpg  187521.jpg   2455944.jpg  3002350.jpg  3609394.jpg  637374.jpg\n",
            "1340977.jpg  1888450.jpg  2458401.jpg  3007772.jpg  361067.jpg\t 640539.jpg\n",
            "1343209.jpg  1889336.jpg  2487306.jpg  3008192.jpg  3613455.jpg  644777.jpg\n",
            "134369.jpg   1907039.jpg  248841.jpg   3009617.jpg  3621464.jpg  644867.jpg\n",
            "1344105.jpg  1925230.jpg  2489716.jpg  3011642.jpg  3621562.jpg  658189.jpg\n",
            "134598.jpg   1927984.jpg  2490489.jpg  3020591.jpg  3621565.jpg  660900.jpg\n",
            "1346387.jpg  1930577.jpg  2495884.jpg  3030578.jpg  3623556.jpg  663014.jpg\n",
            "1348047.jpg  1937872.jpg  2495903.jpg  3047807.jpg  3640915.jpg  664545.jpg\n",
            "1351372.jpg  1941807.jpg  2499364.jpg  3059843.jpg  3643951.jpg  667075.jpg\n",
            "1362989.jpg  1942333.jpg  2500292.jpg  3074367.jpg  3653129.jpg  669180.jpg\n",
            "1367035.jpg  1945132.jpg  2509017.jpg  3082120.jpg  3656752.jpg  669960.jpg\n",
            "1371177.jpg  1961025.jpg  250978.jpg   3094354.jpg  3663518.jpg  6709.jpg\n",
            "1375640.jpg  1966300.jpg  2514432.jpg  3095301.jpg  3663800.jpg  674001.jpg\n",
            "1382427.jpg  1966967.jpg  2526838.jpg  3099645.jpg  3664376.jpg  676189.jpg\n",
            "1392718.jpg  1969596.jpg  252858.jpg   3100476.jpg  3670607.jpg  681609.jpg\n",
            "1395906.jpg  1971757.jpg  2532239.jpg  3110387.jpg  3671021.jpg  6926.jpg\n",
            "1400760.jpg  1976160.jpg  2534567.jpg  3113772.jpg  3671877.jpg  703556.jpg\n",
            "1403005.jpg  1984271.jpg  2535431.jpg  3116018.jpg  368073.jpg\t 703909.jpg\n",
            "1404770.jpg  1987213.jpg  2535456.jpg  3128952.jpg  368162.jpg\t 704316.jpg\n",
            "140832.jpg   1987639.jpg  2538000.jpg  3130412.jpg  368170.jpg\t 714298.jpg\n",
            "141056.jpg   1995118.jpg  2543081.jpg  3136.jpg     3693649.jpg  720060.jpg\n",
            "141135.jpg   1995252.jpg  2544643.jpg  313851.jpg   3700079.jpg  726083.jpg\n",
            "1413972.jpg  199754.jpg   2547797.jpg  3140083.jpg  3704103.jpg  728020.jpg\n",
            "1421393.jpg  2002400.jpg  2548974.jpg  3140147.jpg  3707493.jpg  732986.jpg\n",
            "1428947.jpg  2011264.jpg  2549316.jpg  3142045.jpg  3716881.jpg  734445.jpg\n",
            "1433912.jpg  2012996.jpg  2561199.jpg  3142618.jpg  3724677.jpg  735441.jpg\n",
            "143490.jpg   2013535.jpg  2563233.jpg  3142674.jpg  3727036.jpg  740090.jpg\n",
            "1445352.jpg  2017387.jpg  256592.jpg   3143192.jpg  3727491.jpg  745189.jpg\n",
            "1446401.jpg  2018173.jpg  2568848.jpg  314359.jpg   3736065.jpg  752203.jpg\n",
            "1453991.jpg  2020613.jpg  2573392.jpg  3157832.jpg  37384.jpg\t 75537.jpg\n",
            "1456841.jpg  2032669.jpg  2592401.jpg  3159818.jpg  3743286.jpg  756655.jpg\n",
            "146833.jpg   203450.jpg   2599817.jpg  3162376.jpg  3745515.jpg  762210.jpg\n",
            "1476404.jpg  2034628.jpg  2603058.jpg  3168620.jpg  3750472.jpg  763690.jpg\n",
            "1485083.jpg  2036920.jpg  2606444.jpg  3171085.jpg  3752362.jpg  767442.jpg\n",
            "1487113.jpg  2038418.jpg  2614189.jpg  317206.jpg   3766099.jpg  786409.jpg\n",
            "148916.jpg   2042975.jpg  2614649.jpg  3173444.jpg  3770370.jpg  80215.jpg\n",
            "149087.jpg   2045647.jpg  2615718.jpg  3180182.jpg  377190.jpg\t 802348.jpg\n",
            "1493169.jpg  2050584.jpg  2619625.jpg  31881.jpg    3777020.jpg  804684.jpg\n",
            "149682.jpg   2052542.jpg  2622140.jpg  3191589.jpg  3777482.jpg  812163.jpg\n",
            "1508094.jpg  2056627.jpg  262321.jpg   3204977.jpg  3781152.jpg  813486.jpg\n",
            "1512226.jpg  2062248.jpg  2625330.jpg  320658.jpg   3787809.jpg  819027.jpg\n",
            "1512347.jpg  2081995.jpg  2628106.jpg  3209173.jpg  3788729.jpg  822550.jpg\n",
            "1524526.jpg  2087958.jpg  2629750.jpg  3223400.jpg  3790962.jpg  823766.jpg\n",
            "1530833.jpg  2088030.jpg  2643906.jpg  3223601.jpg  3792514.jpg  827764.jpg\n",
            "1539499.jpg  2088195.jpg  2644457.jpg  3241894.jpg  379737.jpg\t 830007.jpg\n",
            "1541672.jpg  2090493.jpg  2648423.jpg  3245533.jpg  3807440.jpg  838344.jpg\n",
            "1548239.jpg  2090504.jpg  2651300.jpg  3245622.jpg  381162.jpg\t 853327.jpg\n",
            "1550997.jpg  2125877.jpg  2653594.jpg  3247009.jpg  3812039.jpg  854150.jpg\n",
            "1552530.jpg  2129685.jpg  2661577.jpg  3253588.jpg  3829392.jpg  864997.jpg\n",
            "15580.jpg    2133717.jpg  2668916.jpg  3260624.jpg  3830872.jpg  885571.jpg\n",
            "1559052.jpg  2136662.jpg  268444.jpg   326587.jpg   38442.jpg\t 907107.jpg\n",
            "1563266.jpg  213765.jpg   2691461.jpg  32693.jpg    3855584.jpg  908261.jpg\n",
            "1567554.jpg  2138335.jpg  2706403.jpg  3271253.jpg  3857508.jpg  910672.jpg\n",
            "1575322.jpg  2140776.jpg  270687.jpg   3274423.jpg  386335.jpg\t 911803.jpg\n",
            "1588879.jpg  214320.jpg   2707522.jpg  3280453.jpg  3867460.jpg  91432.jpg\n",
            "1594719.jpg  2146963.jpg  2711806.jpg  3298495.jpg  3868959.jpg  914570.jpg\n",
            "1595869.jpg  215222.jpg   2716993.jpg  330182.jpg   3869679.jpg  922752.jpg\n",
            "1598345.jpg  2154126.jpg  2724554.jpg  3306627.jpg  388776.jpg\t 923772.jpg\n",
            "1598885.jpg  2154779.jpg  2738227.jpg  3315727.jpg  3890465.jpg  926414.jpg\n",
            "1600179.jpg  2159975.jpg  2748917.jpg  331860.jpg   3894222.jpg  931356.jpg\n",
            "1600794.jpg  2163079.jpg  2760475.jpg  332232.jpg   3895825.jpg  937133.jpg\n",
            "160552.jpg   217250.jpg   2761427.jpg  3322909.jpg  389739.jpg\t 945791.jpg\n",
            "1606596.jpg  2172600.jpg  2765887.jpg  332557.jpg   3916407.jpg  947877.jpg\n",
            "1615395.jpg  2173084.jpg  2768451.jpg  3326734.jpg  393349.jpg\t 952407.jpg\n",
            "1618011.jpg  217996.jpg   2771149.jpg  3330642.jpg  393494.jpg\t 952437.jpg\n",
            "1619357.jpg  2193684.jpg  2779040.jpg  3333128.jpg  398288.jpg\t 955466.jpg\n",
            "1621763.jpg  220341.jpg   2788312.jpg  3333735.jpg  40094.jpg\t 9555.jpg\n",
            "1623325.jpg  22080.jpg\t  2788759.jpg  3334973.jpg  401094.jpg\t 961341.jpg\n",
            "1624450.jpg  2216146.jpg  2796102.jpg  3335013.jpg  401144.jpg\t 97656.jpg\n",
            "1624747.jpg  2222018.jpg  280284.jpg   3335267.jpg  401651.jpg\t 979110.jpg\n",
            "1628861.jpg  2223787.jpg  2807888.jpg  3346787.jpg  405173.jpg\t 980247.jpg\n",
            "1632774.jpg  2230959.jpg  2815172.jpg  3364420.jpg  405794.jpg\t 982988.jpg\n",
            "1636831.jpg  2232310.jpg  2818805.jpg  336637.jpg   40762.jpg\t 987732.jpg\n",
            "1645470.jpg  2233395.jpg  2823872.jpg  3372616.jpg  413325.jpg\t 996684.jpg\n"
          ]
        }
      ]
    },
    {
      "cell_type": "code",
      "source": [
        "import os\n",
        "\n",
        "# Walk through pizza_steak dir and list number of files\n",
        "\n",
        "for dirpath, dirnames, filenames in os.walk(\"pizza_steak\"):\n",
        "  print(f\"Ther are {len(dirnames)} directories and {len(filenames)} images in '{dirpath}'.\")"
      ],
      "metadata": {
        "colab": {
          "base_uri": "https://localhost:8080/"
        },
        "id": "17fajTWpbfd-",
        "outputId": "2a508168-3030-4278-c0c7-1327328a0057"
      },
      "execution_count": 5,
      "outputs": [
        {
          "output_type": "stream",
          "name": "stdout",
          "text": [
            "Ther are 2 directories and 0 images in 'pizza_steak'.\n",
            "Ther are 2 directories and 0 images in 'pizza_steak/test'.\n",
            "Ther are 0 directories and 250 images in 'pizza_steak/test/steak'.\n",
            "Ther are 0 directories and 250 images in 'pizza_steak/test/pizza'.\n",
            "Ther are 2 directories and 0 images in 'pizza_steak/train'.\n",
            "Ther are 0 directories and 750 images in 'pizza_steak/train/steak'.\n",
            "Ther are 0 directories and 750 images in 'pizza_steak/train/pizza'.\n"
          ]
        }
      ]
    },
    {
      "cell_type": "code",
      "source": [
        "\n",
        "num_steak_images_train = len(os.listdir(\"pizza_steak/train/steak\"))\n",
        "num_steak_images_train"
      ],
      "metadata": {
        "id": "lvko2HigcDYx",
        "colab": {
          "base_uri": "https://localhost:8080/"
        },
        "outputId": "160cefba-db95-42ed-cc7f-9847cea2104e"
      },
      "execution_count": 6,
      "outputs": [
        {
          "output_type": "execute_result",
          "data": {
            "text/plain": [
              "750"
            ]
          },
          "metadata": {},
          "execution_count": 6
        }
      ]
    },
    {
      "cell_type": "code",
      "source": [
        "# Get the classnames programmatically\n",
        "import pathlib\n",
        "import numpy as np\n",
        "data_dir = pathlib.Path(\"pizza_steak/train\")\n",
        "class_names = np.array(sorted([item.name for item in data_dir.glob(\"*\")]))\n",
        "print(class_names)"
      ],
      "metadata": {
        "colab": {
          "base_uri": "https://localhost:8080/"
        },
        "id": "df6ZVLJHJB5c",
        "outputId": "034174e1-e56d-49ef-8ad5-6f46135e1e7f"
      },
      "execution_count": 7,
      "outputs": [
        {
          "output_type": "stream",
          "name": "stdout",
          "text": [
            "['pizza' 'steak']\n"
          ]
        }
      ]
    },
    {
      "cell_type": "code",
      "source": [
        "# Visualize Images\n",
        "import matplotlib.pyplot as plt\n",
        "import matplotlib.image as mpimg\n",
        "import random\n",
        "\n",
        "def view_random_image(target_dir, target_class):\n",
        "  # Setup the target directory ( we'll view image from here)\n",
        "  target_folder = target_dir+ target_class\n",
        "\n",
        "  # Get a random image path\n",
        "  random_image = random.sample(os.listdir(target_folder), 1)\n",
        "  print(random_image)\n",
        "\n",
        "  # Read in the image and plot it using matplotlib\n",
        "  img = mpimg.imread(target_folder + '/'  + random_image[0])\n",
        "  plt.imshow(img)\n",
        "  plt.title(target_class)\n",
        "  plt.axis(\"off\");\n",
        "\n",
        "  print(f\"Image shape: {img.shape}\") # show the shape of the image\n",
        "\n",
        "  return img\n"
      ],
      "metadata": {
        "id": "_Vs7RrXeKxk3"
      },
      "execution_count": 8,
      "outputs": []
    },
    {
      "cell_type": "code",
      "source": [
        "# View random image from training dataset\n",
        "img = view_random_image(target_dir= \"pizza_steak/train/\",\n",
        "                        target_class = \"pizza\")\n",
        "img"
      ],
      "metadata": {
        "colab": {
          "base_uri": "https://localhost:8080/",
          "height": 1000
        },
        "id": "JK8-PzL0bGDI",
        "outputId": "e753af35-33d6-4442-d8a5-23424d8867d1"
      },
      "execution_count": 9,
      "outputs": [
        {
          "output_type": "stream",
          "name": "stdout",
          "text": [
            "['1065078.jpg']\n",
            "Image shape: (512, 384, 3)\n"
          ]
        },
        {
          "output_type": "execute_result",
          "data": {
            "text/plain": [
              "array([[[ 0,  0,  0],\n",
              "        [ 0,  0,  0],\n",
              "        [ 0,  0,  0],\n",
              "        ...,\n",
              "        [ 0,  0,  0],\n",
              "        [ 0,  0,  0],\n",
              "        [ 0,  0,  0]],\n",
              "\n",
              "       [[ 0,  0,  0],\n",
              "        [ 0,  0,  0],\n",
              "        [ 0,  0,  0],\n",
              "        ...,\n",
              "        [ 0,  0,  0],\n",
              "        [ 0,  0,  0],\n",
              "        [ 0,  0,  0]],\n",
              "\n",
              "       [[ 0,  0,  0],\n",
              "        [ 0,  0,  0],\n",
              "        [ 0,  0,  0],\n",
              "        ...,\n",
              "        [ 0,  0,  0],\n",
              "        [ 0,  0,  0],\n",
              "        [ 0,  0,  0]],\n",
              "\n",
              "       ...,\n",
              "\n",
              "       [[ 0,  0,  0],\n",
              "        [ 0,  0,  0],\n",
              "        [ 0,  0,  0],\n",
              "        ...,\n",
              "        [ 3, 22, 28],\n",
              "        [ 3, 22, 28],\n",
              "        [ 7, 26, 33]],\n",
              "\n",
              "       [[ 0,  0,  0],\n",
              "        [ 0,  0,  0],\n",
              "        [ 0,  0,  0],\n",
              "        ...,\n",
              "        [ 6, 25, 31],\n",
              "        [ 6, 25, 32],\n",
              "        [10, 29, 36]],\n",
              "\n",
              "       [[ 0,  0,  0],\n",
              "        [ 0,  0,  0],\n",
              "        [ 0,  0,  0],\n",
              "        ...,\n",
              "        [ 8, 27, 33],\n",
              "        [ 9, 28, 35],\n",
              "        [13, 32, 39]]], dtype=uint8)"
            ]
          },
          "metadata": {},
          "execution_count": 9
        },
        {
          "output_type": "display_data",
          "data": {
            "text/plain": [
              "<Figure size 432x288 with 1 Axes>"
            ],
            "image/png": "[encoded data removed]"
          },
          "metadata": {
            "needs_background": "light"
          }
        }
      ]
    },
    {
      "cell_type": "code",
      "source": [
        "img.dtype"
      ],
      "metadata": {
        "colab": {
          "base_uri": "https://localhost:8080/"
        },
        "id": "2F7lumJmbWyE",
        "outputId": "10c67c20-0ac5-4a49-f416-51b5ae52557b"
      },
      "execution_count": 10,
      "outputs": [
        {
          "output_type": "execute_result",
          "data": {
            "text/plain": [
              "dtype('uint8')"
            ]
          },
          "metadata": {},
          "execution_count": 10
        }
      ]
    },
    {
      "cell_type": "code",
      "source": [
        "import tensorflow as tf\n",
        "tf.constant(img)"
      ],
      "metadata": {
        "colab": {
          "base_uri": "https://localhost:8080/"
        },
        "id": "0c-LOvt5dSl2",
        "outputId": "a5098467-6099-4f4b-e86e-1a8115644e0d"
      },
      "execution_count": 11,
      "outputs": [
        {
          "output_type": "execute_result",
          "data": {
            "text/plain": [
              "<tf.Tensor: shape=(512, 384, 3), dtype=uint8, numpy=\n",
              "array([[[ 0,  0,  0],\n",
              "        [ 0,  0,  0],\n",
              "        [ 0,  0,  0],\n",
              "        ...,\n",
              "        [ 0,  0,  0],\n",
              "        [ 0,  0,  0],\n",
              "        [ 0,  0,  0]],\n",
              "\n",
              "       [[ 0,  0,  0],\n",
              "        [ 0,  0,  0],\n",
              "        [ 0,  0,  0],\n",
              "        ...,\n",
              "        [ 0,  0,  0],\n",
              "        [ 0,  0,  0],\n",
              "        [ 0,  0,  0]],\n",
              "\n",
              "       [[ 0,  0,  0],\n",
              "        [ 0,  0,  0],\n",
              "        [ 0,  0,  0],\n",
              "        ...,\n",
              "        [ 0,  0,  0],\n",
              "        [ 0,  0,  0],\n",
              "        [ 0,  0,  0]],\n",
              "\n",
              "       ...,\n",
              "\n",
              "       [[ 0,  0,  0],\n",
              "        [ 0,  0,  0],\n",
              "        [ 0,  0,  0],\n",
              "        ...,\n",
              "        [ 3, 22, 28],\n",
              "        [ 3, 22, 28],\n",
              "        [ 7, 26, 33]],\n",
              "\n",
              "       [[ 0,  0,  0],\n",
              "        [ 0,  0,  0],\n",
              "        [ 0,  0,  0],\n",
              "        ...,\n",
              "        [ 6, 25, 31],\n",
              "        [ 6, 25, 32],\n",
              "        [10, 29, 36]],\n",
              "\n",
              "       [[ 0,  0,  0],\n",
              "        [ 0,  0,  0],\n",
              "        [ 0,  0,  0],\n",
              "        ...,\n",
              "        [ 8, 27, 33],\n",
              "        [ 9, 28, 35],\n",
              "        [13, 32, 39]]], dtype=uint8)>"
            ]
          },
          "metadata": {},
          "execution_count": 11
        }
      ]
    },
    {
      "cell_type": "code",
      "source": [
        "# Image shape\n",
        "img.shape # returns width height colour channels"
      ],
      "metadata": {
        "colab": {
          "base_uri": "https://localhost:8080/"
        },
        "id": "Q2gz7KehdkNY",
        "outputId": "f71e2735-e1b9-4a18-a48b-fa762441c50a"
      },
      "execution_count": 12,
      "outputs": [
        {
          "output_type": "execute_result",
          "data": {
            "text/plain": [
              "(512, 384, 3)"
            ]
          },
          "metadata": {},
          "execution_count": 12
        }
      ]
    },
    {
      "cell_type": "markdown",
      "source": [
        "## An end to end CNN example\n",
        "\n",
        "* Load our images\n",
        "* Preprocess our images\n",
        "* Build a CNN to find patterns in our images\n",
        "* Compile our CNN\n",
        "* Fit the CNN to our training data"
      ],
      "metadata": {
        "id": "MurI0eR1fBc2"
      }
    },
    {
      "cell_type": "code",
      "source": [
        "import tensorflow as tf\n",
        "from tensorflow.keras.preprocessing.image import ImageDataGenerator\n",
        "# set the seed\n",
        "tf.random.set_seed(42)\n",
        "\n",
        "# Preprocess data ( get all of the pixel values b/w 0 & , also called scaling/normalizaiton)\n",
        "train_datagen = ImageDataGenerator(rescale = 1./255)\n",
        "valid_datagen = ImageDataGenerator(rescale = 1./255)\n",
        "\n",
        "# Setup paths to our data directories\n",
        "train_dir = \"/content/pizza_steak/train\"\n",
        "test_dir = \"/content/pizza_steak/test\"\n",
        "\n",
        "\n",
        "# Import data from directories and turn it into batches\n",
        "train_data = train_datagen.flow_from_directory(directory = train_dir,\n",
        "                                               batch_size = 32,\n",
        "                                               target_size = (224,224),\n",
        "                                               class_mode = \"binary\",\n",
        "                                               seed = 42)\n",
        "\n",
        "\n",
        "valid_data = valid_datagen.flow_from_directory(directory = test_dir,\n",
        "                                               batch_size = 32,\n",
        "                                               target_size = (224, 224),\n",
        "                                               class_mode = \"binary\",\n",
        "                                               seed = 42)\n",
        "\n",
        "# Build a CNN model (Tiny VGG)\n",
        "\n",
        "model_1 = tf.keras.models.Sequential([\n",
        "  tf.keras.layers.Conv2D(filters = 10, \n",
        "                         kernel_size = 3,\n",
        "                         activation = \"relu\",\n",
        "                         input_shape = (224,224,3)),\n",
        "  tf.keras.layers.Conv2D(10, 3, activation = \"relu\"),\n",
        "  tf.keras.layers.MaxPool2D(pool_size = 2,\n",
        "                            padding = \"valid\"),\n",
        "  tf.keras.layers.Conv2D(10, 3, activation = \"relu\"),\n",
        "  tf.keras.layers.Conv2D(10, 3, activation = \"relu\"),\n",
        "  tf.keras.layers.MaxPool2D(2),\n",
        "  tf.keras.layers.Flatten(),\n",
        "  tf.keras.layers.Dense(1, activation = \"sigmoid\")\n",
        "])\n",
        "# Comiple CNN\n",
        "model_1.compile(loss = \"binary_crossentropy\",\n",
        "                optimizer = tf.keras.optimizers.Adam(),\n",
        "                metrics = [\"accuracy\"])\n",
        "\n",
        "# Fit the model\n",
        "history_1 = model_1.fit(train_data,\n",
        "                        epochs = 5,\n",
        "                        steps_per_epoch = len(train_data),\n",
        "                        validation_data = valid_data,\n",
        "                        validation_steps = len(valid_data))\n"
      ],
      "metadata": {
        "colab": {
          "base_uri": "https://localhost:8080/"
        },
        "id": "h8_hjtNEkp2O",
        "outputId": "970d4ea7-41d5-4e60-e975-8195586bed1f"
      },
      "execution_count": 13,
      "outputs": [
        {
          "output_type": "stream",
          "name": "stdout",
          "text": [
            "Found 1500 images belonging to 2 classes.\n",
            "Found 500 images belonging to 2 classes.\n",
            "Epoch 1/5\n",
            "47/47 [==============================] - 22s 213ms/step - loss: 0.5750 - accuracy: 0.6953 - val_loss: 0.4106 - val_accuracy: 0.8320\n",
            "Epoch 2/5\n",
            "47/47 [==============================] - 9s 201ms/step - loss: 0.4294 - accuracy: 0.8007 - val_loss: 0.3525 - val_accuracy: 0.8580\n",
            "Epoch 3/5\n",
            "47/47 [==============================] - 9s 200ms/step - loss: 0.3985 - accuracy: 0.8280 - val_loss: 0.5162 - val_accuracy: 0.7340\n",
            "Epoch 4/5\n",
            "47/47 [==============================] - 11s 241ms/step - loss: 0.3911 - accuracy: 0.8367 - val_loss: 0.3233 - val_accuracy: 0.8620\n",
            "Epoch 5/5\n",
            "47/47 [==============================] - 10s 206ms/step - loss: 0.3399 - accuracy: 0.8547 - val_loss: 0.3744 - val_accuracy: 0.8220\n"
          ]
        }
      ]
    },
    {
      "cell_type": "code",
      "source": [
        "len(train_data)"
      ],
      "metadata": {
        "colab": {
          "base_uri": "https://localhost:8080/"
        },
        "id": "FrHmT-sJrmd3",
        "outputId": "295655e3-02d8-45e6-954a-3a34939395a5"
      },
      "execution_count": 14,
      "outputs": [
        {
          "output_type": "execute_result",
          "data": {
            "text/plain": [
              "47"
            ]
          },
          "metadata": {},
          "execution_count": 14
        }
      ]
    },
    {
      "cell_type": "markdown",
      "source": [
        "### If the above cell is taking longer than 10 secs per epoch make sure you are using GPU"
      ],
      "metadata": {
        "id": "YlLalaMEs8vd"
      }
    },
    {
      "cell_type": "code",
      "source": [
        "model_1.summary()"
      ],
      "metadata": {
        "colab": {
          "base_uri": "https://localhost:8080/"
        },
        "id": "A0XwNvR4hS1b",
        "outputId": "3819dd33-da5b-4aff-c779-a6b2ef639a72"
      },
      "execution_count": 15,
      "outputs": [
        {
          "output_type": "stream",
          "name": "stdout",
          "text": [
            "Model: \"sequential\"\n",
            "_________________________________________________________________\n",
            " Layer (type)                Output Shape              Param #   \n",
            "=================================================================\n",
            " conv2d (Conv2D)             (None, 222, 222, 10)      280       \n",
            "                                                                 \n",
            " conv2d_1 (Conv2D)           (None, 220, 220, 10)      910       \n",
            "                                                                 \n",
            " max_pooling2d (MaxPooling2D  (None, 110, 110, 10)     0         \n",
            " )                                                               \n",
            "                                                                 \n",
            " conv2d_2 (Conv2D)           (None, 108, 108, 10)      910       \n",
            "                                                                 \n",
            " conv2d_3 (Conv2D)           (None, 106, 106, 10)      910       \n",
            "                                                                 \n",
            " max_pooling2d_1 (MaxPooling  (None, 53, 53, 10)       0         \n",
            " 2D)                                                             \n",
            "                                                                 \n",
            " flatten (Flatten)           (None, 28090)             0         \n",
            "                                                                 \n",
            " dense (Dense)               (None, 1)                 28091     \n",
            "                                                                 \n",
            "=================================================================\n",
            "Total params: 31,101\n",
            "Trainable params: 31,101\n",
            "Non-trainable params: 0\n",
            "_________________________________________________________________\n"
          ]
        }
      ]
    },
    {
      "cell_type": "markdown",
      "source": [
        "## Using  the same model as before (prev section)"
      ],
      "metadata": {
        "id": "MRZJwL-1huBd"
      }
    },
    {
      "cell_type": "code",
      "source": [
        "# Set random seed\n",
        "import random\n",
        "tf.random.set_seed(42)\n",
        "\n",
        "# Create a model to replicate the TensorFlow playground model\n",
        "\n",
        "model_2 = tf.keras.Sequential([\n",
        "  tf.keras.layers.Flatten(input_shape = (224,224,3)),\n",
        "  tf.keras.layers.Dense(4, activation = \"relu\"),\n",
        "  tf.keras.layers.Dense(4, activation = \"relu\"),\n",
        "  tf.keras.layers.Dense(1, activation = \"sigmoid\")\n",
        "])\n",
        "\n",
        "# Compile model\n",
        "\n",
        "model_2.compile(loss = \"binary_crossentropy\",\n",
        "                optimizer = tf.keras.optimizers.Adam(),\n",
        "                metrics = [\"accuracy\"])\n",
        "\n",
        "# Fit the model\n",
        "\n",
        "history_2 = model_2.fit(train_data,\n",
        "                        epochs = 5,\n",
        "                        steps_per_epoch = len(train_data),\n",
        "                        validation_data = valid_data,\n",
        "                        validation_steps = len(valid_data))\n"
      ],
      "metadata": {
        "colab": {
          "base_uri": "https://localhost:8080/"
        },
        "id": "wHG2GdvambKT",
        "outputId": "12fb445b-eb45-4c81-c818-9d759b552e74"
      },
      "execution_count": 16,
      "outputs": [
        {
          "output_type": "stream",
          "name": "stdout",
          "text": [
            "Epoch 1/5\n",
            "47/47 [==============================] - 9s 191ms/step - loss: 0.9128 - accuracy: 0.4947 - val_loss: 0.6932 - val_accuracy: 0.5000\n",
            "Epoch 2/5\n",
            "47/47 [==============================] - 9s 184ms/step - loss: 0.6932 - accuracy: 0.5000 - val_loss: 0.6932 - val_accuracy: 0.5000\n",
            "Epoch 3/5\n",
            "47/47 [==============================] - 9s 185ms/step - loss: 0.6932 - accuracy: 0.5000 - val_loss: 0.6932 - val_accuracy: 0.5000\n",
            "Epoch 4/5\n",
            "47/47 [==============================] - 9s 185ms/step - loss: 0.6932 - accuracy: 0.5000 - val_loss: 0.6932 - val_accuracy: 0.5000\n",
            "Epoch 5/5\n",
            "47/47 [==============================] - 9s 186ms/step - loss: 0.6932 - accuracy: 0.5000 - val_loss: 0.6932 - val_accuracy: 0.5000\n"
          ]
        }
      ]
    },
    {
      "cell_type": "code",
      "source": [
        "model_2.summary()"
      ],
      "metadata": {
        "colab": {
          "base_uri": "https://localhost:8080/"
        },
        "id": "ZcUQJSjKpT-t",
        "outputId": "178c9aba-e5e8-42df-a3dd-8e68d46fbe37"
      },
      "execution_count": 17,
      "outputs": [
        {
          "output_type": "stream",
          "name": "stdout",
          "text": [
            "Model: \"sequential_1\"\n",
            "_________________________________________________________________\n",
            " Layer (type)                Output Shape              Param #   \n",
            "=================================================================\n",
            " flatten_1 (Flatten)         (None, 150528)            0         \n",
            "                                                                 \n",
            " dense_1 (Dense)             (None, 4)                 602116    \n",
            "                                                                 \n",
            " dense_2 (Dense)             (None, 4)                 20        \n",
            "                                                                 \n",
            " dense_3 (Dense)             (None, 1)                 5         \n",
            "                                                                 \n",
            "=================================================================\n",
            "Total params: 602,141\n",
            "Trainable params: 602,141\n",
            "Non-trainable params: 0\n",
            "_________________________________________________________________\n"
          ]
        }
      ]
    },
    {
      "cell_type": "code",
      "source": [
        "# Set random seed\n",
        "import random\n",
        "tf.random.set_seed(42)\n",
        "\n",
        "# Create a model to replicate the TensorFlow playground model\n",
        "\n",
        "model_3 = tf.keras.Sequential([\n",
        "  tf.keras.layers.Flatten(input_shape = (224,224,3)),\n",
        "  tf.keras.layers.Dense(100, activation = \"relu\"),\n",
        "  tf.keras.layers.Dense(100, activation= \"relu\"),\n",
        "  tf.keras.layers.Dense(100, activation = \"relu\"),\n",
        "  tf.keras.layers.Dense(1, activation = \"sigmoid\")\n",
        "])\n",
        "\n",
        "# Compile model\n",
        "\n",
        "model_3.compile(loss = \"binary_crossentropy\",\n",
        "                optimizer = tf.keras.optimizers.Adam(),\n",
        "                metrics = [\"accuracy\"])\n",
        "\n",
        "# Fit the model\n",
        "\n",
        "history_3 = model_3.fit(train_data,\n",
        "                        epochs = 5,\n",
        "                        steps_per_epoch = len(train_data),\n",
        "                        validation_data = valid_data,\n",
        "                        validation_steps = len(valid_data))"
      ],
      "metadata": {
        "colab": {
          "base_uri": "https://localhost:8080/"
        },
        "id": "YOWaU7z1osP_",
        "outputId": "2fca7b3b-cf8a-475e-fa9d-0eb16fd8735a"
      },
      "execution_count": 18,
      "outputs": [
        {
          "output_type": "stream",
          "name": "stdout",
          "text": [
            "Epoch 1/5\n",
            "47/47 [==============================] - 9s 191ms/step - loss: 2.5333 - accuracy: 0.6493 - val_loss: 1.2166 - val_accuracy: 0.6460\n",
            "Epoch 2/5\n",
            "47/47 [==============================] - 9s 183ms/step - loss: 1.7588 - accuracy: 0.6693 - val_loss: 0.7813 - val_accuracy: 0.7760\n",
            "Epoch 3/5\n",
            "47/47 [==============================] - 9s 185ms/step - loss: 0.9498 - accuracy: 0.7240 - val_loss: 1.9263 - val_accuracy: 0.5200\n",
            "Epoch 4/5\n",
            "47/47 [==============================] - 9s 183ms/step - loss: 0.6990 - accuracy: 0.7260 - val_loss: 1.1594 - val_accuracy: 0.6240\n",
            "Epoch 5/5\n",
            "47/47 [==============================] - 10s 218ms/step - loss: 0.5871 - accuracy: 0.7527 - val_loss: 0.6428 - val_accuracy: 0.7120\n"
          ]
        }
      ]
    },
    {
      "cell_type": "code",
      "source": [
        "model_3.summary()"
      ],
      "metadata": {
        "colab": {
          "base_uri": "https://localhost:8080/"
        },
        "id": "yeJHC0bwqX-H",
        "outputId": "2f0447a9-d5e1-494a-9c11-be56121b7179"
      },
      "execution_count": 19,
      "outputs": [
        {
          "output_type": "stream",
          "name": "stdout",
          "text": [
            "Model: \"sequential_2\"\n",
            "_________________________________________________________________\n",
            " Layer (type)                Output Shape              Param #   \n",
            "=================================================================\n",
            " flatten_2 (Flatten)         (None, 150528)            0         \n",
            "                                                                 \n",
            " dense_4 (Dense)             (None, 100)               15052900  \n",
            "                                                                 \n",
            " dense_5 (Dense)             (None, 100)               10100     \n",
            "                                                                 \n",
            " dense_6 (Dense)             (None, 100)               10100     \n",
            "                                                                 \n",
            " dense_7 (Dense)             (None, 1)                 101       \n",
            "                                                                 \n",
            "=================================================================\n",
            "Total params: 15,073,201\n",
            "Trainable params: 15,073,201\n",
            "Non-trainable params: 0\n",
            "_________________________________________________________________\n"
          ]
        }
      ]
    },
    {
      "cell_type": "markdown",
      "source": [
        "## Breaking Down the CNN model - Binary Classification\n",
        "1. Become one with the data (visualize, visualize, visualize...)\n",
        "2. Preprocess the data (prepare it for a model)\n",
        "3. Create a model (start with a baseline)\n",
        "4. Fit the model\n",
        "5. Evaluate the model\n",
        "6. Adjust different parameters and improve model (try to beat your baseline)\n",
        "7. Repeat until satisfied"
      ],
      "metadata": {
        "id": "_OdUlr05rW8k"
      }
    },
    {
      "cell_type": "markdown",
      "source": [
        "## 1. Become one with the data "
      ],
      "metadata": {
        "id": "iuqgZHm_ZF11"
      }
    },
    {
      "cell_type": "code",
      "source": [
        "# Visualize Data\n",
        "plt.figure()\n",
        "plt.subplot(1, 2, 1)\n",
        "steak_img = view_random_image(\"pizza_steak/train/\", \"steak\")\n",
        "plt.subplot(1, 2, 2)\n",
        "pizza_img = view_random_image(\"pizza_steak/train/\", \"pizza\");\n"
      ],
      "metadata": {
        "colab": {
          "base_uri": "https://localhost:8080/",
          "height": 268
        },
        "id": "kk3SqBlxYRro",
        "outputId": "96856b57-b03c-4eb6-955c-486736deac6c"
      },
      "execution_count": 20,
      "outputs": [
        {
          "output_type": "stream",
          "name": "stdout",
          "text": [
            "['1428947.jpg']\n",
            "Image shape: (512, 512, 3)\n",
            "['1011404.jpg']\n",
            "Image shape: (384, 512, 3)\n"
          ]
        },
        {
          "output_type": "display_data",
          "data": {
            "text/plain": [
              "<Figure size 432x288 with 2 Axes>"
            ],
            "image/png": "[encoded data removed]"
          },
          "metadata": {
            "needs_background": "light"
          }
        }
      ]
    },
    {
      "cell_type": "markdown",
      "source": [
        "## 2. Preprocess the data "
      ],
      "metadata": {
        "id": "SqglsjiaZ0S6"
      }
    },
    {
      "cell_type": "code",
      "source": [
        "# Define directory dataset paths\n",
        "\n",
        "train_dir = \"pizza_steak/train\"\n",
        "test_dir = \"pizza_steak/test\""
      ],
      "metadata": {
        "id": "1kRrmY_UaYSU"
      },
      "execution_count": 21,
      "outputs": []
    },
    {
      "cell_type": "markdown",
      "source": [
        "Turn Data into batches(32 at a time usually)\n",
        "\n",
        "* 10,000 images (or more) might not fit into the memory of your processor (GPU).\n",
        "* Trying to learn the patterns in 10,000 images in one hit could result in the model not being able to learn very well."
      ],
      "metadata": {
        "id": "53wHr7AcbEHZ"
      }
    },
    {
      "cell_type": "code",
      "source": [
        "# Create train and test data generators and rescale the data\n",
        "from tensorflow.keras.preprocessing.image import ImageDataGenerator\n",
        "train_datagen = ImageDataGenerator(rescale = 1/255.)\n",
        "test_datagen = ImageDataGenerator(rescale = 1/255.)\n"
      ],
      "metadata": {
        "id": "wY4LL8zjbziY"
      },
      "execution_count": 22,
      "outputs": []
    },
    {
      "cell_type": "code",
      "source": [
        "# Load in our image data from directories and turn them into batches\n",
        "train_data = train_datagen.flow_from_directory(directory = train_dir, # Target Directory of images\n",
        "                                               target_size = (224,224), # Target size of images(height, width)\n",
        "                                               class_mode = \"binary\", # Type of data you are working with\n",
        "                                               batch_size = 32) # Size of mini batches to load data into\n",
        "\n",
        "test_data = test_datagen.flow_from_directory(directory = test_dir,\n",
        "                                             target_size = (224,224),\n",
        "                                             class_mode = \"binary\",\n",
        "                                             batch_size =32)"
      ],
      "metadata": {
        "colab": {
          "base_uri": "https://localhost:8080/"
        },
        "id": "9obQkR4idOQc",
        "outputId": "98762ffd-7aa1-4d49-f37d-593bad5cc81b"
      },
      "execution_count": 23,
      "outputs": [
        {
          "output_type": "stream",
          "name": "stdout",
          "text": [
            "Found 1500 images belonging to 2 classes.\n",
            "Found 500 images belonging to 2 classes.\n"
          ]
        }
      ]
    },
    {
      "cell_type": "code",
      "source": [
        "# Get a sample of train data batch\n",
        "images, labels = train_data.next() # get the \"next\" batch of images/labels in train_data\n",
        "len(images), len(labels)"
      ],
      "metadata": {
        "id": "5GmgqS7Sd4HS",
        "colab": {
          "base_uri": "https://localhost:8080/"
        },
        "outputId": "16c409d8-2552-4214-ffc3-e0ef14022aae"
      },
      "execution_count": 24,
      "outputs": [
        {
          "output_type": "execute_result",
          "data": {
            "text/plain": [
              "(32, 32)"
            ]
          },
          "metadata": {},
          "execution_count": 24
        }
      ]
    },
    {
      "cell_type": "code",
      "source": [
        "# how many batches are there\n",
        "len(train_data)"
      ],
      "metadata": {
        "colab": {
          "base_uri": "https://localhost:8080/"
        },
        "id": "1KmGdSvXeQ2_",
        "outputId": "aea2f625-6f4e-4d0b-90a8-1c93b2a037fa"
      },
      "execution_count": 25,
      "outputs": [
        {
          "output_type": "execute_result",
          "data": {
            "text/plain": [
              "47"
            ]
          },
          "metadata": {},
          "execution_count": 25
        }
      ]
    },
    {
      "cell_type": "code",
      "source": [
        "images[:2], images[0].shape"
      ],
      "metadata": {
        "colab": {
          "base_uri": "https://localhost:8080/"
        },
        "id": "QjeabIv9ecWV",
        "outputId": "d7f47073-134a-44d2-9503-c1ace461eb47"
      },
      "execution_count": 26,
      "outputs": [
        {
          "output_type": "execute_result",
          "data": {
            "text/plain": [
              "(array([[[[0.47058827, 0.40784317, 0.34509805],\n",
              "          [0.4784314 , 0.427451  , 0.3647059 ],\n",
              "          [0.48627454, 0.43529415, 0.37254903],\n",
              "          ...,\n",
              "          [0.8313726 , 0.70980394, 0.48627454],\n",
              "          [0.8431373 , 0.73333335, 0.5372549 ],\n",
              "          [0.87843144, 0.7725491 , 0.5882353 ]],\n",
              " \n",
              "         [[0.50980395, 0.427451  , 0.36078432],\n",
              "          [0.5058824 , 0.42352945, 0.35686275],\n",
              "          [0.5137255 , 0.4431373 , 0.3647059 ],\n",
              "          ...,\n",
              "          [0.82745105, 0.7058824 , 0.48235297],\n",
              "          [0.82745105, 0.70980394, 0.5058824 ],\n",
              "          [0.8431373 , 0.73333335, 0.5372549 ]],\n",
              " \n",
              "         [[0.5254902 , 0.427451  , 0.34901962],\n",
              "          [0.5372549 , 0.43921572, 0.36078432],\n",
              "          [0.5372549 , 0.45098042, 0.36078432],\n",
              "          ...,\n",
              "          [0.82745105, 0.7019608 , 0.4784314 ],\n",
              "          [0.82745105, 0.7058824 , 0.49411768],\n",
              "          [0.8352942 , 0.7176471 , 0.5137255 ]],\n",
              " \n",
              "         ...,\n",
              " \n",
              "         [[0.77647066, 0.5647059 , 0.2901961 ],\n",
              "          [0.7803922 , 0.53333336, 0.22352943],\n",
              "          [0.79215693, 0.5176471 , 0.18039216],\n",
              "          ...,\n",
              "          [0.30588236, 0.2784314 , 0.24705884],\n",
              "          [0.24705884, 0.23137257, 0.19607845],\n",
              "          [0.2784314 , 0.27450982, 0.25490198]],\n",
              " \n",
              "         [[0.7843138 , 0.57254905, 0.29803923],\n",
              "          [0.79215693, 0.54509807, 0.24313727],\n",
              "          [0.8000001 , 0.5254902 , 0.18823531],\n",
              "          ...,\n",
              "          [0.2627451 , 0.23529413, 0.20392159],\n",
              "          [0.24313727, 0.227451  , 0.19215688],\n",
              "          [0.26666668, 0.2627451 , 0.24313727]],\n",
              " \n",
              "         [[0.7960785 , 0.59607846, 0.3372549 ],\n",
              "          [0.7960785 , 0.5647059 , 0.26666668],\n",
              "          [0.81568635, 0.54901963, 0.22352943],\n",
              "          ...,\n",
              "          [0.23529413, 0.19607845, 0.16078432],\n",
              "          [0.3019608 , 0.26666668, 0.24705884],\n",
              "          [0.26666668, 0.2509804 , 0.24705884]]],\n",
              " \n",
              " \n",
              "        [[[0.38823533, 0.4666667 , 0.36078432],\n",
              "          [0.3921569 , 0.46274513, 0.36078432],\n",
              "          [0.38431376, 0.454902  , 0.36078432],\n",
              "          ...,\n",
              "          [0.5294118 , 0.627451  , 0.54509807],\n",
              "          [0.5294118 , 0.627451  , 0.54509807],\n",
              "          [0.5411765 , 0.6392157 , 0.5568628 ]],\n",
              " \n",
              "         [[0.38431376, 0.454902  , 0.3529412 ],\n",
              "          [0.3921569 , 0.46274513, 0.36078432],\n",
              "          [0.39607847, 0.4666667 , 0.37254903],\n",
              "          ...,\n",
              "          [0.54509807, 0.6431373 , 0.5686275 ],\n",
              "          [0.5529412 , 0.6509804 , 0.5764706 ],\n",
              "          [0.5647059 , 0.6627451 , 0.5882353 ]],\n",
              " \n",
              "         [[0.3921569 , 0.46274513, 0.36078432],\n",
              "          [0.38431376, 0.454902  , 0.3529412 ],\n",
              "          [0.4039216 , 0.47450984, 0.3803922 ],\n",
              "          ...,\n",
              "          [0.5764706 , 0.67058825, 0.6156863 ],\n",
              "          [0.5647059 , 0.6666667 , 0.6156863 ],\n",
              "          [0.5647059 , 0.6666667 , 0.6156863 ]],\n",
              " \n",
              "         ...,\n",
              " \n",
              "         [[0.47058827, 0.5647059 , 0.4784314 ],\n",
              "          [0.4784314 , 0.5764706 , 0.4901961 ],\n",
              "          [0.48235297, 0.5803922 , 0.49803925],\n",
              "          ...,\n",
              "          [0.39607847, 0.42352945, 0.3019608 ],\n",
              "          [0.37647063, 0.40000004, 0.2901961 ],\n",
              "          [0.3803922 , 0.4039216 , 0.3019608 ]],\n",
              " \n",
              "         [[0.45098042, 0.5529412 , 0.454902  ],\n",
              "          [0.46274513, 0.5647059 , 0.4666667 ],\n",
              "          [0.47058827, 0.57254905, 0.47450984],\n",
              "          ...,\n",
              "          [0.40784317, 0.43529415, 0.3137255 ],\n",
              "          [0.39607847, 0.41960788, 0.31764707],\n",
              "          [0.38823533, 0.40784317, 0.31764707]],\n",
              " \n",
              "         [[0.47450984, 0.5764706 , 0.47058827],\n",
              "          [0.47058827, 0.57254905, 0.4666667 ],\n",
              "          [0.46274513, 0.5647059 , 0.4666667 ],\n",
              "          ...,\n",
              "          [0.4039216 , 0.427451  , 0.31764707],\n",
              "          [0.3921569 , 0.4156863 , 0.3137255 ],\n",
              "          [0.4039216 , 0.42352945, 0.3372549 ]]]], dtype=float32),\n",
              " (224, 224, 3))"
            ]
          },
          "metadata": {},
          "execution_count": 26
        }
      ]
    },
    {
      "cell_type": "code",
      "source": [
        "images[7], images[7].shape"
      ],
      "metadata": {
        "colab": {
          "base_uri": "https://localhost:8080/"
        },
        "id": "R-tanNE6eobu",
        "outputId": "1867ab15-e93d-4c61-954c-8519419829e8"
      },
      "execution_count": 27,
      "outputs": [
        {
          "output_type": "execute_result",
          "data": {
            "text/plain": [
              "(array([[[0.30588236, 0.17254902, 0.227451  ],\n",
              "         [0.34901962, 0.21960786, 0.25490198],\n",
              "         [0.4039216 , 0.2784314 , 0.2901961 ],\n",
              "         ...,\n",
              "         [0.16470589, 0.02745098, 0.1137255 ],\n",
              "         [0.16862746, 0.01960784, 0.10980393],\n",
              "         [0.15686275, 0.00784314, 0.10588236]],\n",
              " \n",
              "        [[0.28235295, 0.14901961, 0.20392159],\n",
              "         [0.34117648, 0.21176472, 0.24705884],\n",
              "         [0.42352945, 0.29803923, 0.30980393],\n",
              "         ...,\n",
              "         [0.17254902, 0.02352941, 0.1137255 ],\n",
              "         [0.1764706 , 0.02745098, 0.11764707],\n",
              "         [0.16078432, 0.01176471, 0.10980393]],\n",
              " \n",
              "        [[0.2627451 , 0.13725491, 0.19607845],\n",
              "         [0.3254902 , 0.20000002, 0.24313727],\n",
              "         [0.41960788, 0.29803923, 0.31764707],\n",
              "         ...,\n",
              "         [0.19215688, 0.04313726, 0.1254902 ],\n",
              "         [0.1764706 , 0.02745098, 0.11764707],\n",
              "         [0.16862746, 0.03137255, 0.1254902 ]],\n",
              " \n",
              "        ...,\n",
              " \n",
              "        [[0.62352943, 0.5803922 , 0.5568628 ],\n",
              "         [0.6039216 , 0.56078434, 0.5372549 ],\n",
              "         [0.6039216 , 0.56078434, 0.5372549 ],\n",
              "         ...,\n",
              "         [0.5529412 , 0.5137255 , 0.5058824 ],\n",
              "         [0.5411765 , 0.5058824 , 0.48627454],\n",
              "         [0.5882353 , 0.5529412 , 0.5254902 ]],\n",
              " \n",
              "        [[0.59607846, 0.5529412 , 0.5372549 ],\n",
              "         [0.59607846, 0.5529412 , 0.5372549 ],\n",
              "         [0.5882353 , 0.54509807, 0.5294118 ],\n",
              "         ...,\n",
              "         [0.59607846, 0.5647059 , 0.5529412 ],\n",
              "         [0.57254905, 0.54509807, 0.52156866],\n",
              "         [0.60784316, 0.5803922 , 0.54901963]],\n",
              " \n",
              "        [[0.58431375, 0.5411765 , 0.53333336],\n",
              "         [0.5882353 , 0.54509807, 0.5294118 ],\n",
              "         [0.58431375, 0.5411765 , 0.5254902 ],\n",
              "         ...,\n",
              "         [0.6392157 , 0.60784316, 0.59607846],\n",
              "         [0.6039216 , 0.5764706 , 0.5529412 ],\n",
              "         [0.6039216 , 0.5764706 , 0.54509807]]], dtype=float32), (224, 224, 3))"
            ]
          },
          "metadata": {},
          "execution_count": 27
        }
      ]
    },
    {
      "cell_type": "code",
      "source": [
        "# View the first batch of labels\n",
        "labels"
      ],
      "metadata": {
        "colab": {
          "base_uri": "https://localhost:8080/"
        },
        "id": "Iy7y_k3fe5At",
        "outputId": "297e9158-6720-498e-8a27-05d75ee89417"
      },
      "execution_count": 28,
      "outputs": [
        {
          "output_type": "execute_result",
          "data": {
            "text/plain": [
              "array([1., 1., 0., 1., 0., 0., 0., 1., 0., 1., 0., 0., 1., 0., 0., 0., 1.,\n",
              "       1., 0., 1., 0., 1., 1., 1., 0., 0., 0., 0., 0., 1., 0., 1.],\n",
              "      dtype=float32)"
            ]
          },
          "metadata": {},
          "execution_count": 28
        }
      ]
    },
    {
      "cell_type": "markdown",
      "source": [
        "## 3. Create a CNN Model (start with baseline)\n",
        "A Baseline is a relatively simple model / existing result that is setup at begining and try to beat it while experimenting"
      ],
      "metadata": {
        "id": "cb3lxe3Le_6n"
      }
    },
    {
      "cell_type": "code",
      "source": [
        "# Make the creating of our model a little easier\n",
        "import tensorflow as tf\n",
        "from tensorflow.keras.optimizers import Adam\n",
        "from tensorflow.keras.layers import Dense, Flatten, Conv2D, MaxPool2D, Activation\n",
        "from tensorflow.keras import Sequential"
      ],
      "metadata": {
        "id": "M9XuNicYheqG"
      },
      "execution_count": 29,
      "outputs": []
    },
    {
      "cell_type": "code",
      "source": [
        "# Create the model ( baseline - 3 layer CNN )\n",
        "model_4 = Sequential([\n",
        "  Conv2D(filters = 10, # number of sliding windows going across an input(higher = more complex model)\n",
        "          kernel_size = 3, # size of the sliding window going across the input\n",
        "          padding = \"valid\", # same then o/p same valid then o/p compressed\n",
        "          strides = 1, # the size of the step sliding window takes across an input\n",
        "          activation = \"relu\",\n",
        "          input_shape = (224, 224, 3)),\n",
        "  Conv2D(10,3, activation = \"relu\"),\n",
        "  Conv2D(10, 3, activation = \"relu\"),\n",
        "  Flatten(),\n",
        "  Dense(1, activation = \"sigmoid\") # Binary clf so only 1 neuron\n",
        "])\n",
        "\n",
        "# Compile model\n",
        "model_4.compile(loss = \"binary_crossentropy\",\n",
        "                optimizer = Adam(),\n",
        "                metrics = [\"accuracy\"])\n",
        "\n"
      ],
      "metadata": {
        "id": "2gkMZeSaiKLG"
      },
      "execution_count": 30,
      "outputs": []
    },
    {
      "cell_type": "code",
      "source": [
        "# Get a summary of our model\n",
        "model_4.summary()"
      ],
      "metadata": {
        "colab": {
          "base_uri": "https://localhost:8080/"
        },
        "id": "j96wcDSZzHx1",
        "outputId": "cf32319e-3b58-4f8d-9a28-7fd6c9371380"
      },
      "execution_count": 31,
      "outputs": [
        {
          "output_type": "stream",
          "name": "stdout",
          "text": [
            "Model: \"sequential_3\"\n",
            "_________________________________________________________________\n",
            " Layer (type)                Output Shape              Param #   \n",
            "=================================================================\n",
            " conv2d_4 (Conv2D)           (None, 222, 222, 10)      280       \n",
            "                                                                 \n",
            " conv2d_5 (Conv2D)           (None, 220, 220, 10)      910       \n",
            "                                                                 \n",
            " conv2d_6 (Conv2D)           (None, 218, 218, 10)      910       \n",
            "                                                                 \n",
            " flatten_3 (Flatten)         (None, 475240)            0         \n",
            "                                                                 \n",
            " dense_8 (Dense)             (None, 1)                 475241    \n",
            "                                                                 \n",
            "=================================================================\n",
            "Total params: 477,341\n",
            "Trainable params: 477,341\n",
            "Non-trainable params: 0\n",
            "_________________________________________________________________\n"
          ]
        }
      ]
    },
    {
      "cell_type": "markdown",
      "source": [
        "## 4. Fit the model"
      ],
      "metadata": {
        "id": "8EnI4peXj1HS"
      }
    },
    {
      "cell_type": "code",
      "source": [
        "# Check lengths of training and test data generators\n",
        "len(train_data), len(test_data)"
      ],
      "metadata": {
        "colab": {
          "base_uri": "https://localhost:8080/"
        },
        "id": "2kqJGoqtzEpN",
        "outputId": "8d8c6cb1-e50c-4225-b29b-23b6fa65e73a"
      },
      "execution_count": 32,
      "outputs": [
        {
          "output_type": "execute_result",
          "data": {
            "text/plain": [
              "(47, 16)"
            ]
          },
          "metadata": {},
          "execution_count": 32
        }
      ]
    },
    {
      "cell_type": "code",
      "source": [
        "# Fit the model\n",
        "history_4  = model_4.fit(train_data, # this is a combinaton of labels and sample data\n",
        "                       epochs = 5,\n",
        "                       steps_per_epoch = len(train_data),\n",
        "                       validation_data = test_data,\n",
        "                       validation_steps = len(test_data)) "
      ],
      "metadata": {
        "colab": {
          "base_uri": "https://localhost:8080/"
        },
        "id": "2FUc3xGA3XnT",
        "outputId": "5fdc9a43-5173-43b3-a55d-fb28b04f022c"
      },
      "execution_count": 33,
      "outputs": [
        {
          "output_type": "stream",
          "name": "stdout",
          "text": [
            "Epoch 1/5\n",
            "47/47 [==============================] - 10s 208ms/step - loss: 1.0157 - accuracy: 0.6840 - val_loss: 0.4444 - val_accuracy: 0.8180\n",
            "Epoch 2/5\n",
            "47/47 [==============================] - 9s 198ms/step - loss: 0.4399 - accuracy: 0.8020 - val_loss: 0.3774 - val_accuracy: 0.8360\n",
            "Epoch 3/5\n",
            "47/47 [==============================] - 9s 197ms/step - loss: 0.3006 - accuracy: 0.8807 - val_loss: 0.3850 - val_accuracy: 0.8340\n",
            "Epoch 4/5\n",
            "47/47 [==============================] - 9s 200ms/step - loss: 0.1350 - accuracy: 0.9587 - val_loss: 0.4061 - val_accuracy: 0.8300\n",
            "Epoch 5/5\n",
            "47/47 [==============================] - 10s 202ms/step - loss: 0.0461 - accuracy: 0.9927 - val_loss: 0.4517 - val_accuracy: 0.8300\n"
          ]
        }
      ]
    },
    {
      "cell_type": "code",
      "source": [
        "model_1.evaluate(test_data)"
      ],
      "metadata": {
        "colab": {
          "base_uri": "https://localhost:8080/"
        },
        "id": "kaqLu6bG4NEg",
        "outputId": "c5222dfe-fb29-4c39-9327-65e885bc6015"
      },
      "execution_count": 34,
      "outputs": [
        {
          "output_type": "stream",
          "name": "stdout",
          "text": [
            "16/16 [==============================] - 2s 139ms/step - loss: 0.3744 - accuracy: 0.8220\n"
          ]
        },
        {
          "output_type": "execute_result",
          "data": {
            "text/plain": [
              "[0.3743547797203064, 0.8220000267028809]"
            ]
          },
          "metadata": {},
          "execution_count": 34
        }
      ]
    },
    {
      "cell_type": "code",
      "source": [
        "model_1.summary()"
      ],
      "metadata": {
        "colab": {
          "base_uri": "https://localhost:8080/"
        },
        "id": "ZpLLhEB64gak",
        "outputId": "7f398120-6cf2-498d-ec0a-678ceba38baa"
      },
      "execution_count": 35,
      "outputs": [
        {
          "output_type": "stream",
          "name": "stdout",
          "text": [
            "Model: \"sequential\"\n",
            "_________________________________________________________________\n",
            " Layer (type)                Output Shape              Param #   \n",
            "=================================================================\n",
            " conv2d (Conv2D)             (None, 222, 222, 10)      280       \n",
            "                                                                 \n",
            " conv2d_1 (Conv2D)           (None, 220, 220, 10)      910       \n",
            "                                                                 \n",
            " max_pooling2d (MaxPooling2D  (None, 110, 110, 10)     0         \n",
            " )                                                               \n",
            "                                                                 \n",
            " conv2d_2 (Conv2D)           (None, 108, 108, 10)      910       \n",
            "                                                                 \n",
            " conv2d_3 (Conv2D)           (None, 106, 106, 10)      910       \n",
            "                                                                 \n",
            " max_pooling2d_1 (MaxPooling  (None, 53, 53, 10)       0         \n",
            " 2D)                                                             \n",
            "                                                                 \n",
            " flatten (Flatten)           (None, 28090)             0         \n",
            "                                                                 \n",
            " dense (Dense)               (None, 1)                 28091     \n",
            "                                                                 \n",
            "=================================================================\n",
            "Total params: 31,101\n",
            "Trainable params: 31,101\n",
            "Non-trainable params: 0\n",
            "_________________________________________________________________\n"
          ]
        }
      ]
    },
    {
      "cell_type": "markdown",
      "source": [
        "## 5. Evaluating our model"
      ],
      "metadata": {
        "id": "HdOZHmbk4ihL"
      }
    },
    {
      "cell_type": "code",
      "source": [
        "# Plot training curves\n",
        "import pandas as pd\n",
        "pd.DataFrame(history_4.history).plot(figsize = (10, 7))"
      ],
      "metadata": {
        "colab": {
          "base_uri": "https://localhost:8080/",
          "height": 445
        },
        "id": "v5xPamZps45r",
        "outputId": "75337a6d-a224-449c-ae13-afe0548727ec"
      },
      "execution_count": 36,
      "outputs": [
        {
          "output_type": "execute_result",
          "data": {
            "text/plain": [
              "<matplotlib.axes._subplots.AxesSubplot at 0x7f96d6206670>"
            ]
          },
          "metadata": {},
          "execution_count": 36
        },
        {
          "output_type": "display_data",
          "data": {
            "text/plain": [
              "<Figure size 720x504 with 1 Axes>"
            ],
            "image/png": "[encoded data removed]"
          },
          "metadata": {
            "needs_background": "light"
          }
        }
      ]
    },
    {
      "cell_type": "code",
      "source": [
        "# Plot validation and training curves separately # Could have done tensorflow callback\n",
        "def plot_loss_curve(history):\n",
        "  \"\"\"\n",
        "  Returns separate loss cuves for training and validation metrics.\n",
        "  \"\"\"\n",
        "  loss = history.history[\"loss\"]\n",
        "  val_loss = history.history[\"val_loss\"]\n",
        "  accuracy = history.history[\"accuracy\"]\n",
        "  val_accuracy = history.history[\"val_accuracy\"]\n",
        "\n",
        "  epochs = range(len(history.history[\"loss\"])) # how many epochs did we run for?\n",
        "\n",
        "  # Plot loss\n",
        "  plt.plot(epochs, loss, label = \"Training_loss\")\n",
        "  plt.plot(epochs, val_loss, label = \"Val_loss\")\n",
        "  plt.title(\"Loss\")\n",
        "  plt.xlabel(\"epochs\")\n",
        "  plt.legend()\n",
        "\n",
        "  # Plot accuracy\n",
        "  plt.figure()\n",
        "  plt.plot(epochs, accuracy, label = \"Training_accuracy\")\n",
        "  plt.plot(epochs, val_accuracy, label = \"Val_accuracy\")\n",
        "  plt.title(\"Accuracy\")\n",
        "  plt.xlabel(\"epochs\")\n",
        "  plt.legend()"
      ],
      "metadata": {
        "id": "OjP6kz02tq3a"
      },
      "execution_count": 39,
      "outputs": []
    },
    {
      "cell_type": "code",
      "source": [
        "# Check out loss and accuray of model_4\n",
        "plot_loss_curve(history_4)"
      ],
      "metadata": {
        "colab": {
          "base_uri": "https://localhost:8080/",
          "height": 573
        },
        "id": "fKhxuEl-A71_",
        "outputId": "b630da17-97ed-4a46-8d87-003d3416f38a"
      },
      "execution_count": 40,
      "outputs": [
        {
          "output_type": "display_data",
          "data": {
            "text/plain": [
              "<Figure size 432x288 with 1 Axes>"
            ],
            "image/png": "[encoded data removed]"
          },
          "metadata": {
            "needs_background": "light"
          }
        },
        {
          "output_type": "display_data",
          "data": {
            "text/plain": [
              "<Figure size 432x288 with 1 Axes>"
            ],
            "image/png": "[encoded data removed]"
          },
          "metadata": {
            "needs_background": "light"
          }
        }
      ]
    },
    {
      "cell_type": "markdown",
      "source": [
        "## 6. Adjust model parameters"
      ],
      "metadata": {
        "id": "iC7OgJOBBZQX"
      }
    },
    {
      "cell_type": "markdown",
      "source": [
        "Fitting a machine learning model comes in 3 steps:\n",
        "\n",
        "1. Create a basline.\n",
        "2. Beat the baseline by overfitting a larger model.\n",
        "3. Reduce overfitting.\n",
        "So far we've gone through steps 0 and 1.\n",
        "\n",
        "And there are even a few more things we could try to further overfit our model:\n",
        "\n",
        "* Increase the number of convolutional layers.\n",
        "* Increase the number of convolutional filters.\n",
        "* Add another dense layer to the output of our flattened layer.\n",
        "\n",
        "Reduce Overfitting:\n",
        "* Add data augmentation\n",
        "* Add regularization layers (such as MaxPool2D)\n",
        "* Add more data..."
      ],
      "metadata": {
        "id": "cbAPuGelDdnd"
      }
    },
    {
      "cell_type": "code",
      "source": [],
      "metadata": {
        "id": "bNzzIyiDFECT"
      },
      "execution_count": 38,
      "outputs": []
    }
  ]
}