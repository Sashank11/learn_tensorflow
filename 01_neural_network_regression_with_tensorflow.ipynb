{
  "nbformat": 4,
  "nbformat_minor": 0,
  "metadata": {
    "colab": {
      "name": "01_neural_network_regression_with_tensorflow.ipynb",
      "provenance": [],
      "collapsed_sections": [],
      "authorship_tag": "ABX9TyOjqwoA8VZdIkgreABz6HNo",
      "include_colab_link": true
    },
    "kernelspec": {
      "name": "python3",
      "display_name": "Python 3"
    },
    "language_info": {
      "name": "python"
    }
  },
  "cells": [
    {
      "cell_type": "markdown",
      "metadata": {
        "id": "view-in-github",
        "colab_type": "text"
      },
      "source": [
        "<a href=\"https://colab.research.google.com/github/Sashank11/learn_tensorflow/blob/main/01_neural_network_regression_with_tensorflow.ipynb\" target=\"_parent\"><img src=\"https://colab.research.google.com/assets/colab-badge.svg\" alt=\"Open In Colab\"/></a>"
      ]
    },
    {
      "cell_type": "markdown",
      "source": [
        "# Introduction to Regression with Neural Networks in TensorFlow"
      ],
      "metadata": {
        "id": "bbgrF1QZW5Bd"
      }
    },
    {
      "cell_type": "code",
      "source": [
        "# Import TensorFlow\n",
        "import tensorflow as tf\n",
        "print(tf.__version__)"
      ],
      "metadata": {
        "colab": {
          "base_uri": "https://localhost:8080/"
        },
        "id": "X_u3w13hX229",
        "outputId": "dbe2eb48-313d-4b79-9516-22b1c009cc7c"
      },
      "execution_count": 19,
      "outputs": [
        {
          "output_type": "stream",
          "name": "stdout",
          "text": [
            "2.8.2\n"
          ]
        }
      ]
    },
    {
      "cell_type": "markdown",
      "source": [
        "## Creating data to view and fit"
      ],
      "metadata": {
        "id": "rSN97yRyYJz3"
      }
    },
    {
      "cell_type": "code",
      "source": [
        "import numpy as np\n",
        "import matplotlib.pyplot as plt\n",
        "\n",
        "# Create features\n",
        "X = np.array([-7.0, -4.0, -1.0, 2.0, 5.0, 8.0, 11.0, 14.0])\n",
        "\n",
        "# Create labels \n",
        "y = np.array([3.0, 6.0, 9.0, 12.0, 15.0, 18.0, 21.0, 24.0])\n",
        "\n",
        "# Visualize\n",
        "with plt.style.context('dark_background'):\n",
        "  plt.scatter(X,y);"
      ],
      "metadata": {
        "colab": {
          "base_uri": "https://localhost:8080/",
          "height": 269
        },
        "id": "hpvf-xf0Yer1",
        "outputId": "65db7e8d-ae80-4e5a-bade-628ef61034c5"
      },
      "execution_count": 20,
      "outputs": [
        {
          "output_type": "display_data",
          "data": {
            "text/plain": [
              "<Figure size 432x288 with 1 Axes>"
            ],
            "image/png": "[encoded data removed]"
          },
          "metadata": {}
        }
      ]
    },
    {
      "cell_type": "code",
      "source": [
        "y == X + 10"
      ],
      "metadata": {
        "colab": {
          "base_uri": "https://localhost:8080/"
        },
        "id": "WBNxAdRcaFcX",
        "outputId": "3b4cb34b-ff67-44f3-c549-eee8843ad43e"
      },
      "execution_count": 21,
      "outputs": [
        {
          "output_type": "execute_result",
          "data": {
            "text/plain": [
              "array([ True,  True,  True,  True,  True,  True,  True,  True])"
            ]
          },
          "metadata": {},
          "execution_count": 21
        }
      ]
    },
    {
      "cell_type": "markdown",
      "source": [
        "## Input and Output Shapes"
      ],
      "metadata": {
        "id": "Ty3BaDU_a_AP"
      }
    },
    {
      "cell_type": "code",
      "source": [
        "# Create a demo tensor for our housing price prediction problem\n",
        "house_info = tf.constant([\"bedroom\", \"bathroom\", \"garage\"])\n",
        "house_price = tf.constant([939700])\n",
        "house_info, house_price"
      ],
      "metadata": {
        "colab": {
          "base_uri": "https://localhost:8080/"
        },
        "id": "bq_p27_xbIe4",
        "outputId": "e23499a0-7209-4f37-f275-a9dbc42ddd36"
      },
      "execution_count": 22,
      "outputs": [
        {
          "output_type": "execute_result",
          "data": {
            "text/plain": [
              "(<tf.Tensor: shape=(3,), dtype=string, numpy=array([b'bedroom', b'bathroom', b'garage'], dtype=object)>,\n",
              " <tf.Tensor: shape=(1,), dtype=int32, numpy=array([939700], dtype=int32)>)"
            ]
          },
          "metadata": {},
          "execution_count": 22
        }
      ]
    },
    {
      "cell_type": "code",
      "source": [
        "X.shape, y.shape"
      ],
      "metadata": {
        "colab": {
          "base_uri": "https://localhost:8080/"
        },
        "id": "ZBP8EpKubuBx",
        "outputId": "627f2317-7b01-435e-fa14-63d769fa1fea"
      },
      "execution_count": 23,
      "outputs": [
        {
          "output_type": "execute_result",
          "data": {
            "text/plain": [
              "((8,), (8,))"
            ]
          },
          "metadata": {},
          "execution_count": 23
        }
      ]
    },
    {
      "cell_type": "code",
      "source": [
        "input_shape = X[0].shape\n",
        "output_shape = y[0].shape\n",
        "input_shape, output_shape"
      ],
      "metadata": {
        "colab": {
          "base_uri": "https://localhost:8080/"
        },
        "id": "CLzyq_mBb1rP",
        "outputId": "54ed6995-6eb8-4ae6-c37d-77ae15b075f1"
      },
      "execution_count": 24,
      "outputs": [
        {
          "output_type": "execute_result",
          "data": {
            "text/plain": [
              "((), ())"
            ]
          },
          "metadata": {},
          "execution_count": 24
        }
      ]
    },
    {
      "cell_type": "code",
      "source": [
        "X[0].ndim"
      ],
      "metadata": {
        "colab": {
          "base_uri": "https://localhost:8080/"
        },
        "id": "QP4zUw-Ncdfn",
        "outputId": "f2894acf-ee09-4cca-e894-1a9da22562ee"
      },
      "execution_count": 25,
      "outputs": [
        {
          "output_type": "execute_result",
          "data": {
            "text/plain": [
              "0"
            ]
          },
          "metadata": {},
          "execution_count": 25
        }
      ]
    },
    {
      "cell_type": "code",
      "source": [
        "X[0], y[0] # In this case we use only 1 X value to predict 1 y value"
      ],
      "metadata": {
        "colab": {
          "base_uri": "https://localhost:8080/"
        },
        "id": "HhvmZjlqcfrr",
        "outputId": "fb28d1cd-3993-45c1-a462-8e3dda2f89ff"
      },
      "execution_count": 26,
      "outputs": [
        {
          "output_type": "execute_result",
          "data": {
            "text/plain": [
              "(-7.0, 3.0)"
            ]
          },
          "metadata": {},
          "execution_count": 26
        }
      ]
    },
    {
      "cell_type": "code",
      "source": [
        "# Turn our NumPy arrays into tensors\n",
        "X = tf.constant(X);\n",
        "y = tf.constant(y);\n",
        "X, y"
      ],
      "metadata": {
        "colab": {
          "base_uri": "https://localhost:8080/"
        },
        "id": "7hhev02gcjAg",
        "outputId": "ec9faf79-01e1-492e-811a-12d87cf82697"
      },
      "execution_count": 27,
      "outputs": [
        {
          "output_type": "execute_result",
          "data": {
            "text/plain": [
              "(<tf.Tensor: shape=(8,), dtype=float64, numpy=array([-7., -4., -1.,  2.,  5.,  8., 11., 14.])>,\n",
              " <tf.Tensor: shape=(8,), dtype=float64, numpy=array([ 3.,  6.,  9., 12., 15., 18., 21., 24.])>)"
            ]
          },
          "metadata": {},
          "execution_count": 27
        }
      ]
    },
    {
      "cell_type": "code",
      "source": [
        "input_shape = X[0].shape\n",
        "output_shape = y[0].shape\n",
        "input_shape, output_shape"
      ],
      "metadata": {
        "colab": {
          "base_uri": "https://localhost:8080/"
        },
        "id": "ZcA1ly12uEe6",
        "outputId": "1b69e634-bc01-43b0-86db-987af08c6521"
      },
      "execution_count": 28,
      "outputs": [
        {
          "output_type": "execute_result",
          "data": {
            "text/plain": [
              "(TensorShape([]), TensorShape([]))"
            ]
          },
          "metadata": {},
          "execution_count": 28
        }
      ]
    },
    {
      "cell_type": "code",
      "source": [
        "with plt.style.context(\"dark_background\"):\n",
        "  plt.scatter(X,y);"
      ],
      "metadata": {
        "colab": {
          "base_uri": "https://localhost:8080/",
          "height": 269
        },
        "id": "NZ_Rd-X8uNME",
        "outputId": "c3fbd5fd-6d41-48e6-849d-2ddad51a14ac"
      },
      "execution_count": 29,
      "outputs": [
        {
          "output_type": "display_data",
          "data": {
            "text/plain": [
              "<Figure size 432x288 with 1 Axes>"
            ],
            "image/png": "[encoded data removed]"
          },
          "metadata": {}
        }
      ]
    },
    {
      "cell_type": "markdown",
      "source": [
        "# Steps in modelling with TensorFlow\n",
        "\n",
        "## 1.  Creating a model - define input, hidden, output layers of a DL model\n",
        "## 2.  Compiling a model - define loss function(error rate/amount), optimizer and evaluation metrics\n",
        "## 3.  Fitting a model - letting the model try to find patterns b/w X and y"
      ],
      "metadata": {
        "id": "TyDXGSP1uVRZ"
      }
    },
    {
      "cell_type": "code",
      "source": [
        "# Set random seed\n",
        "tf.random.set_seed(42)\n",
        "\n",
        "# 1. Create a model using Sequential API\n",
        "model = tf.keras.Sequential([\n",
        "  tf.keras.layers.Dense(1)])\n",
        "\n",
        "# 2. Compile the model\n",
        "model.compile(loss = tf.keras.losses.mae,\n",
        "              optimizer = tf.keras.optimizers.Adam(lr = 1), # SGD: Stochasitc gradient descent\n",
        "              metrics=[\"mae\"])\n",
        "# 3. Fit the model\n",
        "model.fit(tf.expand_dims(X,axis = -1), y, epochs=100);"
      ],
      "metadata": {
        "colab": {
          "base_uri": "https://localhost:8080/"
        },
        "id": "BlH2lxiBuoNb",
        "outputId": "0f2e247e-c3bc-4734-d02a-52e6cd18310f"
      },
      "execution_count": 30,
      "outputs": [
        {
          "output_type": "stream",
          "name": "stdout",
          "text": [
            "Epoch 1/100\n"
          ]
        },
        {
          "output_type": "stream",
          "name": "stderr",
          "text": [
            "/usr/local/lib/python3.7/dist-packages/keras/optimizer_v2/adam.py:105: UserWarning: The `lr` argument is deprecated, use `learning_rate` instead.\n",
            "  super(Adam, self).__init__(name, **kwargs)\n"
          ]
        },
        {
          "output_type": "stream",
          "name": "stdout",
          "text": [
            "1/1 [==============================] - 1s 998ms/step - loss: 11.5048 - mae: 11.5048\n",
            "Epoch 2/100\n",
            "1/1 [==============================] - 0s 21ms/step - loss: 7.0048 - mae: 7.0048\n",
            "Epoch 3/100\n",
            "1/1 [==============================] - 0s 20ms/step - loss: 9.4578 - mae: 9.4578\n",
            "Epoch 4/100\n",
            "1/1 [==============================] - 0s 16ms/step - loss: 10.1106 - mae: 10.1106\n",
            "Epoch 5/100\n",
            "1/1 [==============================] - 0s 22ms/step - loss: 8.2394 - mae: 8.2394\n",
            "Epoch 6/100\n",
            "1/1 [==============================] - 0s 21ms/step - loss: 5.5039 - mae: 5.5039\n",
            "Epoch 7/100\n",
            "1/1 [==============================] - 0s 23ms/step - loss: 4.3896 - mae: 4.3896\n",
            "Epoch 8/100\n",
            "1/1 [==============================] - 0s 18ms/step - loss: 4.9851 - mae: 4.9851\n",
            "Epoch 9/100\n",
            "1/1 [==============================] - 0s 15ms/step - loss: 4.8325 - mae: 4.8325\n",
            "Epoch 10/100\n",
            "1/1 [==============================] - 0s 21ms/step - loss: 4.0845 - mae: 4.0845\n",
            "Epoch 11/100\n",
            "1/1 [==============================] - 0s 15ms/step - loss: 2.8519 - mae: 2.8519\n",
            "Epoch 12/100\n",
            "1/1 [==============================] - 0s 23ms/step - loss: 1.2183 - mae: 1.2183\n",
            "Epoch 13/100\n",
            "1/1 [==============================] - 0s 21ms/step - loss: 1.5283 - mae: 1.5283\n",
            "Epoch 14/100\n",
            "1/1 [==============================] - 0s 23ms/step - loss: 2.1356 - mae: 2.1356\n",
            "Epoch 15/100\n",
            "1/1 [==============================] - 0s 24ms/step - loss: 1.8680 - mae: 1.8680\n",
            "Epoch 16/100\n",
            "1/1 [==============================] - 0s 20ms/step - loss: 1.4835 - mae: 1.4835\n",
            "Epoch 17/100\n",
            "1/1 [==============================] - 0s 23ms/step - loss: 2.2087 - mae: 2.2087\n",
            "Epoch 18/100\n",
            "1/1 [==============================] - 0s 16ms/step - loss: 2.9532 - mae: 2.9532\n",
            "Epoch 19/100\n",
            "1/1 [==============================] - 0s 17ms/step - loss: 2.6949 - mae: 2.6949\n",
            "Epoch 20/100\n",
            "1/1 [==============================] - 0s 17ms/step - loss: 1.8516 - mae: 1.8516\n",
            "Epoch 21/100\n",
            "1/1 [==============================] - 0s 11ms/step - loss: 2.1691 - mae: 2.1691\n",
            "Epoch 22/100\n",
            "1/1 [==============================] - 0s 10ms/step - loss: 2.4674 - mae: 2.4674\n",
            "Epoch 23/100\n",
            "1/1 [==============================] - 0s 11ms/step - loss: 2.2915 - mae: 2.2915\n",
            "Epoch 24/100\n",
            "1/1 [==============================] - 0s 10ms/step - loss: 1.6968 - mae: 1.6968\n",
            "Epoch 25/100\n",
            "1/1 [==============================] - 0s 9ms/step - loss: 0.7637 - mae: 0.7637\n",
            "Epoch 26/100\n",
            "1/1 [==============================] - 0s 9ms/step - loss: 1.2690 - mae: 1.2690\n",
            "Epoch 27/100\n",
            "1/1 [==============================] - 0s 10ms/step - loss: 1.1645 - mae: 1.1645\n",
            "Epoch 28/100\n",
            "1/1 [==============================] - 0s 11ms/step - loss: 0.3749 - mae: 0.3749\n",
            "Epoch 29/100\n",
            "1/1 [==============================] - 0s 9ms/step - loss: 1.4732 - mae: 1.4732\n",
            "Epoch 30/100\n",
            "1/1 [==============================] - 0s 8ms/step - loss: 1.9397 - mae: 1.9397\n",
            "Epoch 31/100\n",
            "1/1 [==============================] - 0s 9ms/step - loss: 1.5352 - mae: 1.5352\n",
            "Epoch 32/100\n",
            "1/1 [==============================] - 0s 25ms/step - loss: 0.9031 - mae: 0.9031\n",
            "Epoch 33/100\n",
            "1/1 [==============================] - 0s 31ms/step - loss: 1.2424 - mae: 1.2424\n",
            "Epoch 34/100\n",
            "1/1 [==============================] - 0s 8ms/step - loss: 1.1349 - mae: 1.1349\n",
            "Epoch 35/100\n",
            "1/1 [==============================] - 0s 7ms/step - loss: 0.6276 - mae: 0.6276\n",
            "Epoch 36/100\n",
            "1/1 [==============================] - 0s 7ms/step - loss: 1.0319 - mae: 1.0319\n",
            "Epoch 37/100\n",
            "1/1 [==============================] - 0s 22ms/step - loss: 1.0677 - mae: 1.0677\n",
            "Epoch 38/100\n",
            "1/1 [==============================] - 0s 7ms/step - loss: 0.2927 - mae: 0.2927\n",
            "Epoch 39/100\n",
            "1/1 [==============================] - 0s 12ms/step - loss: 1.1797 - mae: 1.1797\n",
            "Epoch 40/100\n",
            "1/1 [==============================] - 0s 20ms/step - loss: 1.4485 - mae: 1.4485\n",
            "Epoch 41/100\n",
            "1/1 [==============================] - 0s 7ms/step - loss: 0.8530 - mae: 0.8530\n",
            "Epoch 42/100\n",
            "1/1 [==============================] - 0s 8ms/step - loss: 1.0011 - mae: 1.0011\n",
            "Epoch 43/100\n",
            "1/1 [==============================] - 0s 10ms/step - loss: 1.5700 - mae: 1.5700\n",
            "Epoch 44/100\n",
            "1/1 [==============================] - 0s 7ms/step - loss: 1.3694 - mae: 1.3694\n",
            "Epoch 45/100\n",
            "1/1 [==============================] - 0s 8ms/step - loss: 0.5455 - mae: 0.5455\n",
            "Epoch 46/100\n",
            "1/1 [==============================] - 0s 8ms/step - loss: 1.2306 - mae: 1.2306\n",
            "Epoch 47/100\n",
            "1/1 [==============================] - 0s 18ms/step - loss: 1.6327 - mae: 1.6327\n",
            "Epoch 48/100\n",
            "1/1 [==============================] - 0s 30ms/step - loss: 1.1118 - mae: 1.1118\n",
            "Epoch 49/100\n",
            "1/1 [==============================] - 0s 58ms/step - loss: 0.2694 - mae: 0.2694\n",
            "Epoch 50/100\n",
            "1/1 [==============================] - 0s 28ms/step - loss: 0.8134 - mae: 0.8134\n",
            "Epoch 51/100\n",
            "1/1 [==============================] - 0s 18ms/step - loss: 0.5734 - mae: 0.5734\n",
            "Epoch 52/100\n",
            "1/1 [==============================] - 0s 13ms/step - loss: 0.6280 - mae: 0.6280\n",
            "Epoch 53/100\n",
            "1/1 [==============================] - 0s 13ms/step - loss: 0.7757 - mae: 0.7757\n",
            "Epoch 54/100\n",
            "1/1 [==============================] - 0s 45ms/step - loss: 0.2197 - mae: 0.2197\n",
            "Epoch 55/100\n",
            "1/1 [==============================] - 0s 21ms/step - loss: 1.0054 - mae: 1.0054\n",
            "Epoch 56/100\n",
            "1/1 [==============================] - 0s 27ms/step - loss: 1.1359 - mae: 1.1359\n",
            "Epoch 57/100\n",
            "1/1 [==============================] - 0s 26ms/step - loss: 0.5186 - mae: 0.5186\n",
            "Epoch 58/100\n",
            "1/1 [==============================] - 0s 23ms/step - loss: 0.7827 - mae: 0.7827\n",
            "Epoch 59/100\n",
            "1/1 [==============================] - 0s 30ms/step - loss: 1.0254 - mae: 1.0254\n",
            "Epoch 60/100\n",
            "1/1 [==============================] - 0s 22ms/step - loss: 0.4385 - mae: 0.4385\n",
            "Epoch 61/100\n",
            "1/1 [==============================] - 0s 14ms/step - loss: 0.9478 - mae: 0.9478\n",
            "Epoch 62/100\n",
            "1/1 [==============================] - 0s 12ms/step - loss: 1.2829 - mae: 1.2829\n",
            "Epoch 63/100\n",
            "1/1 [==============================] - 0s 13ms/step - loss: 0.7778 - mae: 0.7778\n",
            "Epoch 64/100\n",
            "1/1 [==============================] - 0s 14ms/step - loss: 0.5056 - mae: 0.5056\n",
            "Epoch 65/100\n",
            "1/1 [==============================] - 0s 28ms/step - loss: 0.8326 - mae: 0.8326\n",
            "Epoch 66/100\n",
            "1/1 [==============================] - 0s 29ms/step - loss: 0.3400 - mae: 0.3400\n",
            "Epoch 67/100\n",
            "1/1 [==============================] - 0s 19ms/step - loss: 0.9424 - mae: 0.9424\n",
            "Epoch 68/100\n",
            "1/1 [==============================] - 0s 22ms/step - loss: 1.2530 - mae: 1.2530\n",
            "Epoch 69/100\n",
            "1/1 [==============================] - 0s 13ms/step - loss: 0.7174 - mae: 0.7174\n",
            "Epoch 70/100\n",
            "1/1 [==============================] - 0s 36ms/step - loss: 0.5749 - mae: 0.5749\n",
            "Epoch 71/100\n",
            "1/1 [==============================] - 0s 15ms/step - loss: 0.9446 - mae: 0.9446\n",
            "Epoch 72/100\n",
            "1/1 [==============================] - 0s 22ms/step - loss: 0.4716 - mae: 0.4716\n",
            "Epoch 73/100\n",
            "1/1 [==============================] - 0s 15ms/step - loss: 0.7573 - mae: 0.7573\n",
            "Epoch 74/100\n",
            "1/1 [==============================] - 0s 33ms/step - loss: 1.0770 - mae: 1.0770\n",
            "Epoch 75/100\n",
            "1/1 [==============================] - 0s 26ms/step - loss: 0.5727 - mae: 0.5727\n",
            "Epoch 76/100\n",
            "1/1 [==============================] - 0s 14ms/step - loss: 0.6662 - mae: 0.6662\n",
            "Epoch 77/100\n",
            "1/1 [==============================] - 0s 17ms/step - loss: 0.9794 - mae: 0.9794\n",
            "Epoch 78/100\n",
            "1/1 [==============================] - 0s 20ms/step - loss: 0.4692 - mae: 0.4692\n",
            "Epoch 79/100\n",
            "1/1 [==============================] - 0s 23ms/step - loss: 0.7777 - mae: 0.7777\n",
            "Epoch 80/100\n",
            "1/1 [==============================] - 0s 9ms/step - loss: 1.1098 - mae: 1.1098\n",
            "Epoch 81/100\n",
            "1/1 [==============================] - 0s 24ms/step - loss: 0.6231 - mae: 0.6231\n",
            "Epoch 82/100\n",
            "1/1 [==============================] - 0s 10ms/step - loss: 0.6206 - mae: 0.6206\n",
            "Epoch 83/100\n",
            "1/1 [==============================] - 0s 7ms/step - loss: 0.9405 - mae: 0.9405\n",
            "Epoch 84/100\n",
            "1/1 [==============================] - 0s 9ms/step - loss: 0.4750 - mae: 0.4750\n",
            "Epoch 85/100\n",
            "1/1 [==============================] - 0s 8ms/step - loss: 0.7040 - mae: 0.7040\n",
            "Epoch 86/100\n",
            "1/1 [==============================] - 0s 7ms/step - loss: 0.9885 - mae: 0.9885\n",
            "Epoch 87/100\n",
            "1/1 [==============================] - 0s 7ms/step - loss: 0.5033 - mae: 0.5033\n",
            "Epoch 88/100\n",
            "1/1 [==============================] - 0s 7ms/step - loss: 0.7370 - mae: 0.7370\n",
            "Epoch 89/100\n",
            "1/1 [==============================] - 0s 6ms/step - loss: 1.0521 - mae: 1.0521\n",
            "Epoch 90/100\n",
            "1/1 [==============================] - 0s 24ms/step - loss: 0.5645 - mae: 0.5645\n",
            "Epoch 91/100\n",
            "1/1 [==============================] - 0s 20ms/step - loss: 0.6600 - mae: 0.6600\n",
            "Epoch 92/100\n",
            "1/1 [==============================] - 0s 20ms/step - loss: 0.9780 - mae: 0.9780\n",
            "Epoch 93/100\n",
            "1/1 [==============================] - 0s 18ms/step - loss: 0.5125 - mae: 0.5125\n",
            "Epoch 94/100\n",
            "1/1 [==============================] - 0s 14ms/step - loss: 0.6707 - mae: 0.6707\n",
            "Epoch 95/100\n",
            "1/1 [==============================] - 0s 10ms/step - loss: 0.9701 - mae: 0.9701\n",
            "Epoch 96/100\n",
            "1/1 [==============================] - 0s 7ms/step - loss: 0.4863 - mae: 0.4863\n",
            "Epoch 97/100\n",
            "1/1 [==============================] - 0s 7ms/step - loss: 0.7100 - mae: 0.7100\n",
            "Epoch 98/100\n",
            "1/1 [==============================] - 0s 9ms/step - loss: 1.0163 - mae: 1.0163\n",
            "Epoch 99/100\n",
            "1/1 [==============================] - 0s 10ms/step - loss: 0.5327 - mae: 0.5327\n",
            "Epoch 100/100\n",
            "1/1 [==============================] - 0s 23ms/step - loss: 0.6594 - mae: 0.6594\n"
          ]
        }
      ]
    },
    {
      "cell_type": "code",
      "source": [
        "# Try and make prediction\n",
        "model.predict([17.0])"
      ],
      "metadata": {
        "colab": {
          "base_uri": "https://localhost:8080/"
        },
        "id": "P3jmBHjAzLsS",
        "outputId": "f3c6f483-0ebd-43cc-eaa7-b5940a8e8ca9"
      },
      "execution_count": 31,
      "outputs": [
        {
          "output_type": "execute_result",
          "data": {
            "text/plain": [
              "array([[24.42508]], dtype=float32)"
            ]
          },
          "metadata": {},
          "execution_count": 31
        }
      ]
    },
    {
      "cell_type": "markdown",
      "source": [
        "## Improving our Model\n",
        "### We can improve model by altering the steps we took to Create\n",
        "### 1. Creating a model - Here we add more layers, increase hidden units, change activation function of each layer\n",
        "### 2. Compiling a model - Here we change Optimization function or learning rate\n",
        "### 3. Fitting a model - increase epochs or increase data"
      ],
      "metadata": {
        "id": "GEKWwGqcz4_T"
      }
    },
    {
      "cell_type": "code",
      "source": [
        "tf.random.set_seed(42)\n",
        "model = tf.keras.Sequential([\n",
        "  tf.keras.layers.Dense(100, activation =\"relu\"),\n",
        "  tf.keras.layers.Dense(100, activation =\"relu\"),\n",
        "  tf.keras.layers.Dense(100, activation = \"relu\"),\n",
        "  tf.keras.layers.Dense(1)\n",
        "])\n",
        "model.compile(loss = tf.keras.losses.mae,\n",
        "              optimizer=tf.keras.optimizers.Adam(lr = 0.1),\n",
        "              metrics=[\"mae\"])\n",
        "model.fit(tf.expand_dims(X, axis = -1), y, epochs = 100)"
      ],
      "metadata": {
        "colab": {
          "base_uri": "https://localhost:8080/"
        },
        "id": "wqEnA1fD01OK",
        "outputId": "2b2ddd8b-6e95-476e-d3a0-0d5ad587dfc5"
      },
      "execution_count": 32,
      "outputs": [
        {
          "output_type": "stream",
          "name": "stdout",
          "text": [
            "Epoch 1/100\n"
          ]
        },
        {
          "output_type": "stream",
          "name": "stderr",
          "text": [
            "/usr/local/lib/python3.7/dist-packages/keras/optimizer_v2/adam.py:105: UserWarning: The `lr` argument is deprecated, use `learning_rate` instead.\n",
            "  super(Adam, self).__init__(name, **kwargs)\n"
          ]
        },
        {
          "output_type": "stream",
          "name": "stdout",
          "text": [
            "1/1 [==============================] - 1s 956ms/step - loss: 13.3030 - mae: 13.3030\n",
            "Epoch 2/100\n",
            "1/1 [==============================] - 0s 9ms/step - loss: 99.7780 - mae: 99.7780\n",
            "Epoch 3/100\n",
            "1/1 [==============================] - 0s 12ms/step - loss: 9.2314 - mae: 9.2314\n",
            "Epoch 4/100\n",
            "1/1 [==============================] - 0s 8ms/step - loss: 12.9976 - mae: 12.9976\n",
            "Epoch 5/100\n",
            "1/1 [==============================] - 0s 9ms/step - loss: 11.4197 - mae: 11.4197\n",
            "Epoch 6/100\n",
            "1/1 [==============================] - 0s 9ms/step - loss: 5.2410 - mae: 5.2410\n",
            "Epoch 7/100\n",
            "1/1 [==============================] - 0s 9ms/step - loss: 18.7342 - mae: 18.7342\n",
            "Epoch 8/100\n",
            "1/1 [==============================] - 0s 8ms/step - loss: 7.2566 - mae: 7.2566\n",
            "Epoch 9/100\n",
            "1/1 [==============================] - 0s 10ms/step - loss: 9.0452 - mae: 9.0452\n",
            "Epoch 10/100\n",
            "1/1 [==============================] - 0s 9ms/step - loss: 9.8199 - mae: 9.8199\n",
            "Epoch 11/100\n",
            "1/1 [==============================] - 0s 8ms/step - loss: 6.8891 - mae: 6.8891\n",
            "Epoch 12/100\n",
            "1/1 [==============================] - 0s 7ms/step - loss: 6.0362 - mae: 6.0362\n",
            "Epoch 13/100\n",
            "1/1 [==============================] - 0s 10ms/step - loss: 4.7759 - mae: 4.7759\n",
            "Epoch 14/100\n",
            "1/1 [==============================] - 0s 10ms/step - loss: 5.0328 - mae: 5.0328\n",
            "Epoch 15/100\n",
            "1/1 [==============================] - 0s 10ms/step - loss: 4.7195 - mae: 4.7195\n",
            "Epoch 16/100\n",
            "1/1 [==============================] - 0s 10ms/step - loss: 4.2190 - mae: 4.2190\n",
            "Epoch 17/100\n",
            "1/1 [==============================] - 0s 10ms/step - loss: 5.1261 - mae: 5.1261\n",
            "Epoch 18/100\n",
            "1/1 [==============================] - 0s 11ms/step - loss: 4.6295 - mae: 4.6295\n",
            "Epoch 19/100\n",
            "1/1 [==============================] - 0s 11ms/step - loss: 5.8874 - mae: 5.8874\n",
            "Epoch 20/100\n",
            "1/1 [==============================] - 0s 13ms/step - loss: 3.6882 - mae: 3.6882\n",
            "Epoch 21/100\n",
            "1/1 [==============================] - 0s 13ms/step - loss: 4.3299 - mae: 4.3299\n",
            "Epoch 22/100\n",
            "1/1 [==============================] - 0s 16ms/step - loss: 4.1221 - mae: 4.1221\n",
            "Epoch 23/100\n",
            "1/1 [==============================] - 0s 14ms/step - loss: 3.0956 - mae: 3.0956\n",
            "Epoch 24/100\n",
            "1/1 [==============================] - 0s 16ms/step - loss: 3.6764 - mae: 3.6764\n",
            "Epoch 25/100\n",
            "1/1 [==============================] - 0s 21ms/step - loss: 2.5856 - mae: 2.5856\n",
            "Epoch 26/100\n",
            "1/1 [==============================] - 0s 13ms/step - loss: 2.7395 - mae: 2.7395\n",
            "Epoch 27/100\n",
            "1/1 [==============================] - 0s 16ms/step - loss: 2.7555 - mae: 2.7555\n",
            "Epoch 28/100\n",
            "1/1 [==============================] - 0s 13ms/step - loss: 2.4707 - mae: 2.4707\n",
            "Epoch 29/100\n",
            "1/1 [==============================] - 0s 14ms/step - loss: 2.2373 - mae: 2.2373\n",
            "Epoch 30/100\n",
            "1/1 [==============================] - 0s 15ms/step - loss: 1.9707 - mae: 1.9707\n",
            "Epoch 31/100\n",
            "1/1 [==============================] - 0s 20ms/step - loss: 1.9979 - mae: 1.9979\n",
            "Epoch 32/100\n",
            "1/1 [==============================] - 0s 14ms/step - loss: 2.1702 - mae: 2.1702\n",
            "Epoch 33/100\n",
            "1/1 [==============================] - 0s 16ms/step - loss: 1.9242 - mae: 1.9242\n",
            "Epoch 34/100\n",
            "1/1 [==============================] - 0s 19ms/step - loss: 2.0565 - mae: 2.0565\n",
            "Epoch 35/100\n",
            "1/1 [==============================] - 0s 19ms/step - loss: 1.5612 - mae: 1.5612\n",
            "Epoch 36/100\n",
            "1/1 [==============================] - 0s 13ms/step - loss: 1.5511 - mae: 1.5511\n",
            "Epoch 37/100\n",
            "1/1 [==============================] - 0s 15ms/step - loss: 1.6572 - mae: 1.6572\n",
            "Epoch 38/100\n",
            "1/1 [==============================] - 0s 22ms/step - loss: 1.5247 - mae: 1.5247\n",
            "Epoch 39/100\n",
            "1/1 [==============================] - 0s 18ms/step - loss: 1.5052 - mae: 1.5052\n",
            "Epoch 40/100\n",
            "1/1 [==============================] - 0s 21ms/step - loss: 1.1492 - mae: 1.1492\n",
            "Epoch 41/100\n",
            "1/1 [==============================] - 0s 18ms/step - loss: 1.4081 - mae: 1.4081\n",
            "Epoch 42/100\n",
            "1/1 [==============================] - 0s 20ms/step - loss: 1.0539 - mae: 1.0539\n",
            "Epoch 43/100\n",
            "1/1 [==============================] - 0s 19ms/step - loss: 1.4318 - mae: 1.4318\n",
            "Epoch 44/100\n",
            "1/1 [==============================] - 0s 25ms/step - loss: 0.6734 - mae: 0.6734\n",
            "Epoch 45/100\n",
            "1/1 [==============================] - 0s 17ms/step - loss: 0.3954 - mae: 0.3954\n",
            "Epoch 46/100\n",
            "1/1 [==============================] - 0s 20ms/step - loss: 0.7800 - mae: 0.7800\n",
            "Epoch 47/100\n",
            "1/1 [==============================] - 0s 15ms/step - loss: 1.3640 - mae: 1.3640\n",
            "Epoch 48/100\n",
            "1/1 [==============================] - 0s 12ms/step - loss: 0.4404 - mae: 0.4404\n",
            "Epoch 49/100\n",
            "1/1 [==============================] - 0s 9ms/step - loss: 2.6921 - mae: 2.6921\n",
            "Epoch 50/100\n",
            "1/1 [==============================] - 0s 13ms/step - loss: 1.6160 - mae: 1.6160\n",
            "Epoch 51/100\n",
            "1/1 [==============================] - 0s 18ms/step - loss: 2.9662 - mae: 2.9662\n",
            "Epoch 52/100\n",
            "1/1 [==============================] - 0s 19ms/step - loss: 0.6992 - mae: 0.6992\n",
            "Epoch 53/100\n",
            "1/1 [==============================] - 0s 21ms/step - loss: 1.6545 - mae: 1.6545\n",
            "Epoch 54/100\n",
            "1/1 [==============================] - 0s 12ms/step - loss: 0.8943 - mae: 0.8943\n",
            "Epoch 55/100\n",
            "1/1 [==============================] - 0s 9ms/step - loss: 1.3961 - mae: 1.3961\n",
            "Epoch 56/100\n",
            "1/1 [==============================] - 0s 9ms/step - loss: 0.6819 - mae: 0.6819\n",
            "Epoch 57/100\n",
            "1/1 [==============================] - 0s 12ms/step - loss: 2.0880 - mae: 2.0880\n",
            "Epoch 58/100\n",
            "1/1 [==============================] - 0s 10ms/step - loss: 0.4924 - mae: 0.4924\n",
            "Epoch 59/100\n",
            "1/1 [==============================] - 0s 11ms/step - loss: 2.9609 - mae: 2.9609\n",
            "Epoch 60/100\n",
            "1/1 [==============================] - 0s 11ms/step - loss: 3.8653 - mae: 3.8653\n",
            "Epoch 61/100\n",
            "1/1 [==============================] - 0s 10ms/step - loss: 3.4946 - mae: 3.4946\n",
            "Epoch 62/100\n",
            "1/1 [==============================] - 0s 12ms/step - loss: 2.0850 - mae: 2.0850\n",
            "Epoch 63/100\n",
            "1/1 [==============================] - 0s 9ms/step - loss: 1.2824 - mae: 1.2824\n",
            "Epoch 64/100\n",
            "1/1 [==============================] - 0s 10ms/step - loss: 2.0284 - mae: 2.0284\n",
            "Epoch 65/100\n",
            "1/1 [==============================] - 0s 10ms/step - loss: 0.4225 - mae: 0.4225\n",
            "Epoch 66/100\n",
            "1/1 [==============================] - 0s 10ms/step - loss: 1.8456 - mae: 1.8456\n",
            "Epoch 67/100\n",
            "1/1 [==============================] - 0s 10ms/step - loss: 1.7837 - mae: 1.7837\n",
            "Epoch 68/100\n",
            "1/1 [==============================] - 0s 10ms/step - loss: 1.2214 - mae: 1.2214\n",
            "Epoch 69/100\n",
            "1/1 [==============================] - 0s 10ms/step - loss: 2.3325 - mae: 2.3325\n",
            "Epoch 70/100\n",
            "1/1 [==============================] - 0s 10ms/step - loss: 2.1115 - mae: 2.1115\n",
            "Epoch 71/100\n",
            "1/1 [==============================] - 0s 18ms/step - loss: 0.4815 - mae: 0.4815\n",
            "Epoch 72/100\n",
            "1/1 [==============================] - 0s 20ms/step - loss: 1.6539 - mae: 1.6539\n",
            "Epoch 73/100\n",
            "1/1 [==============================] - 0s 19ms/step - loss: 1.4774 - mae: 1.4774\n",
            "Epoch 74/100\n",
            "1/1 [==============================] - 0s 17ms/step - loss: 1.0770 - mae: 1.0770\n",
            "Epoch 75/100\n",
            "1/1 [==============================] - 0s 16ms/step - loss: 0.9540 - mae: 0.9540\n",
            "Epoch 76/100\n",
            "1/1 [==============================] - 0s 20ms/step - loss: 1.2826 - mae: 1.2826\n",
            "Epoch 77/100\n",
            "1/1 [==============================] - 0s 10ms/step - loss: 1.2439 - mae: 1.2439\n",
            "Epoch 78/100\n",
            "1/1 [==============================] - 0s 9ms/step - loss: 0.6598 - mae: 0.6598\n",
            "Epoch 79/100\n",
            "1/1 [==============================] - 0s 9ms/step - loss: 0.5289 - mae: 0.5289\n",
            "Epoch 80/100\n",
            "1/1 [==============================] - 0s 9ms/step - loss: 0.6137 - mae: 0.6137\n",
            "Epoch 81/100\n",
            "1/1 [==============================] - 0s 10ms/step - loss: 1.0192 - mae: 1.0192\n",
            "Epoch 82/100\n",
            "1/1 [==============================] - 0s 10ms/step - loss: 0.8193 - mae: 0.8193\n",
            "Epoch 83/100\n",
            "1/1 [==============================] - 0s 10ms/step - loss: 1.0967 - mae: 1.0967\n",
            "Epoch 84/100\n",
            "1/1 [==============================] - 0s 10ms/step - loss: 1.0206 - mae: 1.0206\n",
            "Epoch 85/100\n",
            "1/1 [==============================] - 0s 10ms/step - loss: 0.5972 - mae: 0.5972\n",
            "Epoch 86/100\n",
            "1/1 [==============================] - 0s 10ms/step - loss: 0.7263 - mae: 0.7263\n",
            "Epoch 87/100\n",
            "1/1 [==============================] - 0s 10ms/step - loss: 0.9569 - mae: 0.9569\n",
            "Epoch 88/100\n",
            "1/1 [==============================] - 0s 9ms/step - loss: 0.5888 - mae: 0.5888\n",
            "Epoch 89/100\n",
            "1/1 [==============================] - 0s 10ms/step - loss: 1.3263 - mae: 1.3263\n",
            "Epoch 90/100\n",
            "1/1 [==============================] - 0s 10ms/step - loss: 1.6051 - mae: 1.6051\n",
            "Epoch 91/100\n",
            "1/1 [==============================] - 0s 10ms/step - loss: 0.7543 - mae: 0.7543\n",
            "Epoch 92/100\n",
            "1/1 [==============================] - 0s 10ms/step - loss: 1.5285 - mae: 1.5285\n",
            "Epoch 93/100\n",
            "1/1 [==============================] - 0s 10ms/step - loss: 2.1477 - mae: 2.1477\n",
            "Epoch 94/100\n",
            "1/1 [==============================] - 0s 12ms/step - loss: 0.9611 - mae: 0.9611\n",
            "Epoch 95/100\n",
            "1/1 [==============================] - 0s 14ms/step - loss: 1.4823 - mae: 1.4823\n",
            "Epoch 96/100\n",
            "1/1 [==============================] - 0s 16ms/step - loss: 2.3948 - mae: 2.3948\n",
            "Epoch 97/100\n",
            "1/1 [==============================] - 0s 27ms/step - loss: 2.3809 - mae: 2.3809\n",
            "Epoch 98/100\n",
            "1/1 [==============================] - 0s 13ms/step - loss: 1.4756 - mae: 1.4756\n",
            "Epoch 99/100\n",
            "1/1 [==============================] - 0s 20ms/step - loss: 0.5257 - mae: 0.5257\n",
            "Epoch 100/100\n",
            "1/1 [==============================] - 0s 19ms/step - loss: 1.0870 - mae: 1.0870\n"
          ]
        },
        {
          "output_type": "execute_result",
          "data": {
            "text/plain": [
              "<keras.callbacks.History at 0x7f18779449d0>"
            ]
          },
          "metadata": {},
          "execution_count": 32
        }
      ]
    },
    {
      "cell_type": "code",
      "source": [
        "model.predict([17.0])"
      ],
      "metadata": {
        "colab": {
          "base_uri": "https://localhost:8080/"
        },
        "id": "JdUp7qL_DM47",
        "outputId": "a74cfd1d-2a39-4226-d92f-af57c6dfd5b2"
      },
      "execution_count": 33,
      "outputs": [
        {
          "output_type": "execute_result",
          "data": {
            "text/plain": [
              "array([[26.582006]], dtype=float32)"
            ]
          },
          "metadata": {},
          "execution_count": 33
        }
      ]
    },
    {
      "cell_type": "markdown",
      "source": [
        "## Evaluating a model"
      ],
      "metadata": {
        "id": "UOZnXx-tDd7_"
      }
    },
    {
      "cell_type": "markdown",
      "source": [
        "When it comes to evaluation... there are 3 words you should memorize:\n",
        "> \"Visualize\", \"Visualize\", \"Visualize\"\n",
        "\n",
        "It's good idea to visualize:\n",
        "* The data - what data are we working with? What does it look like?\n",
        "* The model - What does our model look like?\n",
        "* The training of a model - how does a model perform while it learns?\n",
        "* The predictions of the model - how do the predictions of a model line up against the ground truth(the Original Labels)?"
      ],
      "metadata": {
        "id": "AXj-CCrgE8-B"
      }
    },
    {
      "cell_type": "code",
      "source": [
        "# Make a bigger dataset\n",
        "X = tf.range(-100, 100, 4)\n",
        "X"
      ],
      "metadata": {
        "colab": {
          "base_uri": "https://localhost:8080/"
        },
        "id": "wtXmbrd5G_Pk",
        "outputId": "9ad5ef12-c97a-4069-f375-9efa8f57dc5e"
      },
      "execution_count": 34,
      "outputs": [
        {
          "output_type": "execute_result",
          "data": {
            "text/plain": [
              "<tf.Tensor: shape=(50,), dtype=int32, numpy=\n",
              "array([-100,  -96,  -92,  -88,  -84,  -80,  -76,  -72,  -68,  -64,  -60,\n",
              "        -56,  -52,  -48,  -44,  -40,  -36,  -32,  -28,  -24,  -20,  -16,\n",
              "        -12,   -8,   -4,    0,    4,    8,   12,   16,   20,   24,   28,\n",
              "         32,   36,   40,   44,   48,   52,   56,   60,   64,   68,   72,\n",
              "         76,   80,   84,   88,   92,   96], dtype=int32)>"
            ]
          },
          "metadata": {},
          "execution_count": 34
        }
      ]
    },
    {
      "cell_type": "code",
      "source": [
        "# Make labels for the dataset\n",
        "y = X + 10\n",
        "y"
      ],
      "metadata": {
        "colab": {
          "base_uri": "https://localhost:8080/"
        },
        "id": "QxA_hDTBHPwm",
        "outputId": "348f6485-8df2-47bb-bdc6-ba6b3e90aeb0"
      },
      "execution_count": 35,
      "outputs": [
        {
          "output_type": "execute_result",
          "data": {
            "text/plain": [
              "<tf.Tensor: shape=(50,), dtype=int32, numpy=\n",
              "array([-90, -86, -82, -78, -74, -70, -66, -62, -58, -54, -50, -46, -42,\n",
              "       -38, -34, -30, -26, -22, -18, -14, -10,  -6,  -2,   2,   6,  10,\n",
              "        14,  18,  22,  26,  30,  34,  38,  42,  46,  50,  54,  58,  62,\n",
              "        66,  70,  74,  78,  82,  86,  90,  94,  98, 102, 106], dtype=int32)>"
            ]
          },
          "metadata": {},
          "execution_count": 35
        }
      ]
    },
    {
      "cell_type": "code",
      "source": [
        "# Visualize data\n",
        "with plt.style.context(\"dark_background\"):\n",
        "  plt.scatter(X,y)"
      ],
      "metadata": {
        "colab": {
          "base_uri": "https://localhost:8080/",
          "height": 265
        },
        "id": "J4bp_HwiPiAE",
        "outputId": "460f41e0-a4c0-4f86-f418-cc13b79bd38d"
      },
      "execution_count": 37,
      "outputs": [
        {
          "output_type": "display_data",
          "data": {
            "text/plain": [
              "<Figure size 432x288 with 1 Axes>"
            ],
            "image/png": "[encoded data removed]"
          },
          "metadata": {}
        }
      ]
    },
    {
      "cell_type": "code",
      "source": [
        "from sklearn.model_selection import train_test_split\n",
        "import pandas as pd\n",
        "df = pd.DataFrame(X)\n",
        "df\n",
        "#X_train, X_test, y_train, y_test = train_test_split(X, y, test_size = 0.2)"
      ],
      "metadata": {
        "colab": {
          "base_uri": "https://localhost:8080/",
          "height": 1000
        },
        "id": "nXq_DEtqP0kO",
        "outputId": "faed4eb0-4041-4092-bd6b-394d5ef89f66"
      },
      "execution_count": 44,
      "outputs": [
        {
          "output_type": "execute_result",
          "data": {
            "text/plain": [
              "      0\n",
              "0  -100\n",
              "1   -96\n",
              "2   -92\n",
              "3   -88\n",
              "4   -84\n",
              "5   -80\n",
              "6   -76\n",
              "7   -72\n",
              "8   -68\n",
              "9   -64\n",
              "10  -60\n",
              "11  -56\n",
              "12  -52\n",
              "13  -48\n",
              "14  -44\n",
              "15  -40\n",
              "16  -36\n",
              "17  -32\n",
              "18  -28\n",
              "19  -24\n",
              "20  -20\n",
              "21  -16\n",
              "22  -12\n",
              "23   -8\n",
              "24   -4\n",
              "25    0\n",
              "26    4\n",
              "27    8\n",
              "28   12\n",
              "29   16\n",
              "30   20\n",
              "31   24\n",
              "32   28\n",
              "33   32\n",
              "34   36\n",
              "35   40\n",
              "36   44\n",
              "37   48\n",
              "38   52\n",
              "39   56\n",
              "40   60\n",
              "41   64\n",
              "42   68\n",
              "43   72\n",
              "44   76\n",
              "45   80\n",
              "46   84\n",
              "47   88\n",
              "48   92\n",
              "49   96"
            ],
            "text/html": [
              "\n",
              "  <div id=\"df-00659f6e-b97b-49ad-9bf9-f4d41a8a745f\">\n",
              "    <div class=\"colab-df-container\">\n",
              "      <div>\n",
              "<style scoped>\n",
              "    .dataframe tbody tr th:only-of-type {\n",
              "        vertical-align: middle;\n",
              "    }\n",
              "\n",
              "    .dataframe tbody tr th {\n",
              "        vertical-align: top;\n",
              "    }\n",
              "\n",
              "    .dataframe thead th {\n",
              "        text-align: right;\n",
              "    }\n",
              "</style>\n",
              "<table border=\"1\" class=\"dataframe\">\n",
              "  <thead>\n",
              "    <tr style=\"text-align: right;\">\n",
              "      <th></th>\n",
              "      <th>0</th>\n",
              "    </tr>\n",
              "  </thead>\n",
              "  <tbody>\n",
              "    <tr>\n",
              "      <th>0</th>\n",
              "      <td>-100</td>\n",
              "    </tr>\n",
              "    <tr>\n",
              "      <th>1</th>\n",
              "      <td>-96</td>\n",
              "    </tr>\n",
              "    <tr>\n",
              "      <th>2</th>\n",
              "      <td>-92</td>\n",
              "    </tr>\n",
              "    <tr>\n",
              "      <th>3</th>\n",
              "      <td>-88</td>\n",
              "    </tr>\n",
              "    <tr>\n",
              "      <th>4</th>\n",
              "      <td>-84</td>\n",
              "    </tr>\n",
              "    <tr>\n",
              "      <th>5</th>\n",
              "      <td>-80</td>\n",
              "    </tr>\n",
              "    <tr>\n",
              "      <th>6</th>\n",
              "      <td>-76</td>\n",
              "    </tr>\n",
              "    <tr>\n",
              "      <th>7</th>\n",
              "      <td>-72</td>\n",
              "    </tr>\n",
              "    <tr>\n",
              "      <th>8</th>\n",
              "      <td>-68</td>\n",
              "    </tr>\n",
              "    <tr>\n",
              "      <th>9</th>\n",
              "      <td>-64</td>\n",
              "    </tr>\n",
              "    <tr>\n",
              "      <th>10</th>\n",
              "      <td>-60</td>\n",
              "    </tr>\n",
              "    <tr>\n",
              "      <th>11</th>\n",
              "      <td>-56</td>\n",
              "    </tr>\n",
              "    <tr>\n",
              "      <th>12</th>\n",
              "      <td>-52</td>\n",
              "    </tr>\n",
              "    <tr>\n",
              "      <th>13</th>\n",
              "      <td>-48</td>\n",
              "    </tr>\n",
              "    <tr>\n",
              "      <th>14</th>\n",
              "      <td>-44</td>\n",
              "    </tr>\n",
              "    <tr>\n",
              "      <th>15</th>\n",
              "      <td>-40</td>\n",
              "    </tr>\n",
              "    <tr>\n",
              "      <th>16</th>\n",
              "      <td>-36</td>\n",
              "    </tr>\n",
              "    <tr>\n",
              "      <th>17</th>\n",
              "      <td>-32</td>\n",
              "    </tr>\n",
              "    <tr>\n",
              "      <th>18</th>\n",
              "      <td>-28</td>\n",
              "    </tr>\n",
              "    <tr>\n",
              "      <th>19</th>\n",
              "      <td>-24</td>\n",
              "    </tr>\n",
              "    <tr>\n",
              "      <th>20</th>\n",
              "      <td>-20</td>\n",
              "    </tr>\n",
              "    <tr>\n",
              "      <th>21</th>\n",
              "      <td>-16</td>\n",
              "    </tr>\n",
              "    <tr>\n",
              "      <th>22</th>\n",
              "      <td>-12</td>\n",
              "    </tr>\n",
              "    <tr>\n",
              "      <th>23</th>\n",
              "      <td>-8</td>\n",
              "    </tr>\n",
              "    <tr>\n",
              "      <th>24</th>\n",
              "      <td>-4</td>\n",
              "    </tr>\n",
              "    <tr>\n",
              "      <th>25</th>\n",
              "      <td>0</td>\n",
              "    </tr>\n",
              "    <tr>\n",
              "      <th>26</th>\n",
              "      <td>4</td>\n",
              "    </tr>\n",
              "    <tr>\n",
              "      <th>27</th>\n",
              "      <td>8</td>\n",
              "    </tr>\n",
              "    <tr>\n",
              "      <th>28</th>\n",
              "      <td>12</td>\n",
              "    </tr>\n",
              "    <tr>\n",
              "      <th>29</th>\n",
              "      <td>16</td>\n",
              "    </tr>\n",
              "    <tr>\n",
              "      <th>30</th>\n",
              "      <td>20</td>\n",
              "    </tr>\n",
              "    <tr>\n",
              "      <th>31</th>\n",
              "      <td>24</td>\n",
              "    </tr>\n",
              "    <tr>\n",
              "      <th>32</th>\n",
              "      <td>28</td>\n",
              "    </tr>\n",
              "    <tr>\n",
              "      <th>33</th>\n",
              "      <td>32</td>\n",
              "    </tr>\n",
              "    <tr>\n",
              "      <th>34</th>\n",
              "      <td>36</td>\n",
              "    </tr>\n",
              "    <tr>\n",
              "      <th>35</th>\n",
              "      <td>40</td>\n",
              "    </tr>\n",
              "    <tr>\n",
              "      <th>36</th>\n",
              "      <td>44</td>\n",
              "    </tr>\n",
              "    <tr>\n",
              "      <th>37</th>\n",
              "      <td>48</td>\n",
              "    </tr>\n",
              "    <tr>\n",
              "      <th>38</th>\n",
              "      <td>52</td>\n",
              "    </tr>\n",
              "    <tr>\n",
              "      <th>39</th>\n",
              "      <td>56</td>\n",
              "    </tr>\n",
              "    <tr>\n",
              "      <th>40</th>\n",
              "      <td>60</td>\n",
              "    </tr>\n",
              "    <tr>\n",
              "      <th>41</th>\n",
              "      <td>64</td>\n",
              "    </tr>\n",
              "    <tr>\n",
              "      <th>42</th>\n",
              "      <td>68</td>\n",
              "    </tr>\n",
              "    <tr>\n",
              "      <th>43</th>\n",
              "      <td>72</td>\n",
              "    </tr>\n",
              "    <tr>\n",
              "      <th>44</th>\n",
              "      <td>76</td>\n",
              "    </tr>\n",
              "    <tr>\n",
              "      <th>45</th>\n",
              "      <td>80</td>\n",
              "    </tr>\n",
              "    <tr>\n",
              "      <th>46</th>\n",
              "      <td>84</td>\n",
              "    </tr>\n",
              "    <tr>\n",
              "      <th>47</th>\n",
              "      <td>88</td>\n",
              "    </tr>\n",
              "    <tr>\n",
              "      <th>48</th>\n",
              "      <td>92</td>\n",
              "    </tr>\n",
              "    <tr>\n",
              "      <th>49</th>\n",
              "      <td>96</td>\n",
              "    </tr>\n",
              "  </tbody>\n",
              "</table>\n",
              "</div>\n",
              "      <button class=\"colab-df-convert\" onclick=\"convertToInteractive('df-00659f6e-b97b-49ad-9bf9-f4d41a8a745f')\"\n",
              "              title=\"Convert this dataframe to an interactive table.\"\n",
              "              style=\"display:none;\">\n",
              "        \n",
              "  <svg xmlns=\"http://www.w3.org/2000/svg\" height=\"24px\"viewBox=\"0 0 24 24\"\n",
              "       width=\"24px\">\n",
              "    <path d=\"M0 0h24v24H0V0z\" fill=\"none\"/>\n",
              "    <path d=\"M18.56 5.44l.94 2.06.94-2.06 2.06-.94-2.06-.94-.94-2.06-.94 2.06-2.06.94zm-11 1L8.5 8.5l.94-2.06 2.06-.94-2.06-.94L8.5 2.5l-.94 2.06-2.06.94zm10 10l.94 2.06.94-2.06 2.06-.94-2.06-.94-.94-2.06-.94 2.06-2.06.94z\"/><path d=\"M17.41 7.96l-1.37-1.37c-.4-.4-.92-.59-1.43-.59-.52 0-1.04.2-1.43.59L10.3 9.45l-7.72 7.72c-.78.78-.78 2.05 0 2.83L4 21.41c.39.39.9.59 1.41.59.51 0 1.02-.2 1.41-.59l7.78-7.78 2.81-2.81c.8-.78.8-2.07 0-2.86zM5.41 20L4 18.59l7.72-7.72 1.47 1.35L5.41 20z\"/>\n",
              "  </svg>\n",
              "      </button>\n",
              "      \n",
              "  <style>\n",
              "    .colab-df-container {\n",
              "      display:flex;\n",
              "      flex-wrap:wrap;\n",
              "      gap: 12px;\n",
              "    }\n",
              "\n",
              "    .colab-df-convert {\n",
              "      background-color: #E8F0FE;\n",
              "      border: none;\n",
              "      border-radius: 50%;\n",
              "      cursor: pointer;\n",
              "      display: none;\n",
              "      fill: #1967D2;\n",
              "      height: 32px;\n",
              "      padding: 0 0 0 0;\n",
              "      width: 32px;\n",
              "    }\n",
              "\n",
              "    .colab-df-convert:hover {\n",
              "      background-color: #E2EBFA;\n",
              "      box-shadow: 0px 1px 2px rgba(60, 64, 67, 0.3), 0px 1px 3px 1px rgba(60, 64, 67, 0.15);\n",
              "      fill: #174EA6;\n",
              "    }\n",
              "\n",
              "    [theme=dark] .colab-df-convert {\n",
              "      background-color: #3B4455;\n",
              "      fill: #D2E3FC;\n",
              "    }\n",
              "\n",
              "    [theme=dark] .colab-df-convert:hover {\n",
              "      background-color: #434B5C;\n",
              "      box-shadow: 0px 1px 3px 1px rgba(0, 0, 0, 0.15);\n",
              "      filter: drop-shadow(0px 1px 2px rgba(0, 0, 0, 0.3));\n",
              "      fill: #FFFFFF;\n",
              "    }\n",
              "  </style>\n",
              "\n",
              "      <script>\n",
              "        const buttonEl =\n",
              "          document.querySelector('#df-00659f6e-b97b-49ad-9bf9-f4d41a8a745f button.colab-df-convert');\n",
              "        buttonEl.style.display =\n",
              "          google.colab.kernel.accessAllowed ? 'block' : 'none';\n",
              "\n",
              "        async function convertToInteractive(key) {\n",
              "          const element = document.querySelector('#df-00659f6e-b97b-49ad-9bf9-f4d41a8a745f');\n",
              "          const dataTable =\n",
              "            await google.colab.kernel.invokeFunction('convertToInteractive',\n",
              "                                                     [key], {});\n",
              "          if (!dataTable) return;\n",
              "\n",
              "          const docLinkHtml = 'Like what you see? Visit the ' +\n",
              "            '<a target=\"_blank\" href=https://colab.research.google.com/notebooks/data_table.ipynb>data table notebook</a>'\n",
              "            + ' to learn more about interactive tables.';\n",
              "          element.innerHTML = '';\n",
              "          dataTable['output_type'] = 'display_data';\n",
              "          await google.colab.output.renderOutput(dataTable, element);\n",
              "          const docLink = document.createElement('div');\n",
              "          docLink.innerHTML = docLinkHtml;\n",
              "          element.appendChild(docLink);\n",
              "        }\n",
              "      </script>\n",
              "    </div>\n",
              "  </div>\n",
              "  "
            ]
          },
          "metadata": {},
          "execution_count": 44
        }
      ]
    },
    {
      "cell_type": "code",
      "source": [
        ""
      ],
      "metadata": {
        "id": "34LtDBoxQVpj"
      },
      "execution_count": null,
      "outputs": []
    }
  ]
}