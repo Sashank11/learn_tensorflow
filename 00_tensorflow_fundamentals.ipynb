{
  "nbformat": 4,
  "nbformat_minor": 0,
  "metadata": {
    "colab": {
      "name": "00_tensorflow_fundamentals.ipynb",
      "provenance": [],
      "authorship_tag": "ABX9TyOe1EdIFJBYFNBR5gWuuUAH",
      "include_colab_link": true
    },
    "kernelspec": {
      "name": "python3",
      "display_name": "Python 3"
    },
    "language_info": {
      "name": "python"
    }
  },
  "cells": [
    {
      "cell_type": "markdown",
      "metadata": {
        "id": "view-in-github",
        "colab_type": "text"
      },
      "source": [
        "<a href=\"https://colab.research.google.com/github/Sashank11/learn_tensorflow/blob/main/00_tensorflow_fundamentals.ipynb\" target=\"_parent\"><img src=\"https://colab.research.google.com/assets/colab-badge.svg\" alt=\"Open In Colab\"/></a>"
      ]
    },
    {
      "cell_type": "markdown",
      "source": [
        "# In this notebook we cover fundamental concepts of tensors using tensorflow\n",
        "\n",
        "Topics covered:\n",
        "* Introduction to tensors\n",
        "* Getting information from tensors\n",
        "* Manipulating tensors\n",
        "* Tensors and NumPy\n",
        "* Using @tf.function ( way to speed of py func)\n",
        "* Using GPUs with TensorFlow (or TPUs)\n",
        "* Excercises to try yourself"
      ],
      "metadata": {
        "id": "Mi7Fg4d-x0Rr"
      }
    },
    {
      "cell_type": "markdown",
      "source": [
        ""
      ],
      "metadata": {
        "id": "da0aMVXxyPQb"
      }
    },
    {
      "cell_type": "markdown",
      "source": [
        "\n",
        "### Introduction to tensors"
      ],
      "metadata": {
        "id": "QSdtLH2TyLRa"
      }
    },
    {
      "cell_type": "code",
      "source": [
        "# Import TensorFlow\n",
        "import tensorflow as tf\n",
        "print(tf.__version__)"
      ],
      "metadata": {
        "colab": {
          "base_uri": "https://localhost:8080/"
        },
        "id": "VgcxY6lbzaqD",
        "outputId": "ab9202cb-a95b-4710-9ddc-9355f3b37241"
      },
      "execution_count": 1,
      "outputs": [
        {
          "output_type": "stream",
          "name": "stdout",
          "text": [
            "2.8.2\n"
          ]
        }
      ]
    },
    {
      "cell_type": "code",
      "source": [
        "# Creating tensors with tf.constant()\n"
      ],
      "metadata": {
        "id": "ZYnt_Znzzw7Y"
      },
      "execution_count": 2,
      "outputs": []
    }
  ]
}