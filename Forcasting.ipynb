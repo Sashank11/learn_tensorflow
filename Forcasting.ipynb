{
  "nbformat": 4,
  "nbformat_minor": 0,
  "metadata": {
    "colab": {
      "provenance": [],
      "authorship_tag": "ABX9TyOuPLNFSU9wv+UZ1BhK2aMo",
      "include_colab_link": true
    },
    "kernelspec": {
      "name": "python3",
      "display_name": "Python 3"
    },
    "language_info": {
      "name": "python"
    },
    "accelerator": "GPU",
    "gpuClass": "standard"
  },
  "cells": [
    {
      "cell_type": "markdown",
      "metadata": {
        "id": "view-in-github",
        "colab_type": "text"
      },
      "source": [
        "<a href=\"https://colab.research.google.com/github/Sashank11/learn_tensorflow/blob/main/Forcasting.ipynb\" target=\"_parent\"><img src=\"https://colab.research.google.com/assets/colab-badge.svg\" alt=\"Open In Colab\"/></a>"
      ]
    },
    {
      "cell_type": "markdown",
      "source": [
        "# This is test notebook"
      ],
      "metadata": {
        "id": "FfqMXqntYWg6"
      }
    },
    {
      "cell_type": "code",
      "source": [
        "!wget https://raw.githubusercontent.com/mrdbourke/tensorflow-deep-learning/main/extras/BTC_USD_2013-10-01_2021-05-18-CoinDesk.csv"
      ],
      "metadata": {
        "colab": {
          "base_uri": "https://localhost:8080/"
        },
        "id": "JLWDA1a-Ycg7",
        "outputId": "2155b6d1-6b2e-4346-e79b-9e0259562bb3"
      },
      "execution_count": null,
      "outputs": [
        {
          "output_type": "stream",
          "name": "stdout",
          "text": [
            "--2023-03-13 12:18:05--  https://raw.githubusercontent.com/mrdbourke/tensorflow-deep-learning/main/extras/BTC_USD_2013-10-01_2021-05-18-CoinDesk.csv\n",
            "Resolving raw.githubusercontent.com (raw.githubusercontent.com)... 185.199.108.133, 185.199.109.133, 185.199.110.133, ...\n",
            "Connecting to raw.githubusercontent.com (raw.githubusercontent.com)|185.199.108.133|:443... connected.\n",
            "HTTP request sent, awaiting response... 200 OK\n",
            "Length: 178509 (174K) [text/plain]\n",
            "Saving to: ‘BTC_USD_2013-10-01_2021-05-18-CoinDesk.csv’\n",
            "\n",
            "\r          BTC_USD_2   0%[                    ]       0  --.-KB/s               \rBTC_USD_2013-10-01_ 100%[===================>] 174.33K  --.-KB/s    in 0.02s   \n",
            "\n",
            "2023-03-13 12:18:05 (6.92 MB/s) - ‘BTC_USD_2013-10-01_2021-05-18-CoinDesk.csv’ saved [178509/178509]\n",
            "\n"
          ]
        }
      ]
    },
    {
      "cell_type": "markdown",
      "source": [
        "# Importing with pandas"
      ],
      "metadata": {
        "id": "9u2NeXCgiHHk"
      }
    },
    {
      "cell_type": "code",
      "source": [
        "import pandas as pd\n",
        "df = pd.read_csv(\"/content/BTC_USD_2013-10-01_2021-05-18-CoinDesk.csv\",parse_dates = [\"Date\"], \n",
        "                 index_col = [\"Date\"]) # Telling pandas its a datatime type\n",
        "\n",
        "df.head()"
      ],
      "metadata": {
        "colab": {
          "base_uri": "https://localhost:8080/",
          "height": 238
        },
        "id": "XiE6CfePjmOd",
        "outputId": "1313e7a6-5fec-4917-c256-1a1761152b66"
      },
      "execution_count": null,
      "outputs": [
        {
          "output_type": "execute_result",
          "data": {
            "text/plain": [
              "           Currency  Closing Price (USD)  24h Open (USD)  24h High (USD)  \\\n",
              "Date                                                                       \n",
              "2013-10-01      BTC            123.65499       124.30466       124.75166   \n",
              "2013-10-02      BTC            125.45500       123.65499       125.75850   \n",
              "2013-10-03      BTC            108.58483       125.45500       125.66566   \n",
              "2013-10-04      BTC            118.67466       108.58483       118.67500   \n",
              "2013-10-05      BTC            121.33866       118.67466       121.93633   \n",
              "\n",
              "            24h Low (USD)  \n",
              "Date                       \n",
              "2013-10-01      122.56349  \n",
              "2013-10-02      123.63383  \n",
              "2013-10-03       83.32833  \n",
              "2013-10-04      107.05816  \n",
              "2013-10-05      118.00566  "
            ],
            "text/html": [
              "\n",
              "  <div id=\"df-8360d7c8-ea44-4e2a-87ae-b7ede4e999f6\">\n",
              "    <div class=\"colab-df-container\">\n",
              "      <div>\n",
              "<style scoped>\n",
              "    .dataframe tbody tr th:only-of-type {\n",
              "        vertical-align: middle;\n",
              "    }\n",
              "\n",
              "    .dataframe tbody tr th {\n",
              "        vertical-align: top;\n",
              "    }\n",
              "\n",
              "    .dataframe thead th {\n",
              "        text-align: right;\n",
              "    }\n",
              "</style>\n",
              "<table border=\"1\" class=\"dataframe\">\n",
              "  <thead>\n",
              "    <tr style=\"text-align: right;\">\n",
              "      <th></th>\n",
              "      <th>Currency</th>\n",
              "      <th>Closing Price (USD)</th>\n",
              "      <th>24h Open (USD)</th>\n",
              "      <th>24h High (USD)</th>\n",
              "      <th>24h Low (USD)</th>\n",
              "    </tr>\n",
              "    <tr>\n",
              "      <th>Date</th>\n",
              "      <th></th>\n",
              "      <th></th>\n",
              "      <th></th>\n",
              "      <th></th>\n",
              "      <th></th>\n",
              "    </tr>\n",
              "  </thead>\n",
              "  <tbody>\n",
              "    <tr>\n",
              "      <th>2013-10-01</th>\n",
              "      <td>BTC</td>\n",
              "      <td>123.65499</td>\n",
              "      <td>124.30466</td>\n",
              "      <td>124.75166</td>\n",
              "      <td>122.56349</td>\n",
              "    </tr>\n",
              "    <tr>\n",
              "      <th>2013-10-02</th>\n",
              "      <td>BTC</td>\n",
              "      <td>125.45500</td>\n",
              "      <td>123.65499</td>\n",
              "      <td>125.75850</td>\n",
              "      <td>123.63383</td>\n",
              "    </tr>\n",
              "    <tr>\n",
              "      <th>2013-10-03</th>\n",
              "      <td>BTC</td>\n",
              "      <td>108.58483</td>\n",
              "      <td>125.45500</td>\n",
              "      <td>125.66566</td>\n",
              "      <td>83.32833</td>\n",
              "    </tr>\n",
              "    <tr>\n",
              "      <th>2013-10-04</th>\n",
              "      <td>BTC</td>\n",
              "      <td>118.67466</td>\n",
              "      <td>108.58483</td>\n",
              "      <td>118.67500</td>\n",
              "      <td>107.05816</td>\n",
              "    </tr>\n",
              "    <tr>\n",
              "      <th>2013-10-05</th>\n",
              "      <td>BTC</td>\n",
              "      <td>121.33866</td>\n",
              "      <td>118.67466</td>\n",
              "      <td>121.93633</td>\n",
              "      <td>118.00566</td>\n",
              "    </tr>\n",
              "  </tbody>\n",
              "</table>\n",
              "</div>\n",
              "      <button class=\"colab-df-convert\" onclick=\"convertToInteractive('df-8360d7c8-ea44-4e2a-87ae-b7ede4e999f6')\"\n",
              "              title=\"Convert this dataframe to an interactive table.\"\n",
              "              style=\"display:none;\">\n",
              "        \n",
              "  <svg xmlns=\"http://www.w3.org/2000/svg\" height=\"24px\"viewBox=\"0 0 24 24\"\n",
              "       width=\"24px\">\n",
              "    <path d=\"M0 0h24v24H0V0z\" fill=\"none\"/>\n",
              "    <path d=\"M18.56 5.44l.94 2.06.94-2.06 2.06-.94-2.06-.94-.94-2.06-.94 2.06-2.06.94zm-11 1L8.5 8.5l.94-2.06 2.06-.94-2.06-.94L8.5 2.5l-.94 2.06-2.06.94zm10 10l.94 2.06.94-2.06 2.06-.94-2.06-.94-.94-2.06-.94 2.06-2.06.94z\"/><path d=\"M17.41 7.96l-1.37-1.37c-.4-.4-.92-.59-1.43-.59-.52 0-1.04.2-1.43.59L10.3 9.45l-7.72 7.72c-.78.78-.78 2.05 0 2.83L4 21.41c.39.39.9.59 1.41.59.51 0 1.02-.2 1.41-.59l7.78-7.78 2.81-2.81c.8-.78.8-2.07 0-2.86zM5.41 20L4 18.59l7.72-7.72 1.47 1.35L5.41 20z\"/>\n",
              "  </svg>\n",
              "      </button>\n",
              "      \n",
              "  <style>\n",
              "    .colab-df-container {\n",
              "      display:flex;\n",
              "      flex-wrap:wrap;\n",
              "      gap: 12px;\n",
              "    }\n",
              "\n",
              "    .colab-df-convert {\n",
              "      background-color: #E8F0FE;\n",
              "      border: none;\n",
              "      border-radius: 50%;\n",
              "      cursor: pointer;\n",
              "      display: none;\n",
              "      fill: #1967D2;\n",
              "      height: 32px;\n",
              "      padding: 0 0 0 0;\n",
              "      width: 32px;\n",
              "    }\n",
              "\n",
              "    .colab-df-convert:hover {\n",
              "      background-color: #E2EBFA;\n",
              "      box-shadow: 0px 1px 2px rgba(60, 64, 67, 0.3), 0px 1px 3px 1px rgba(60, 64, 67, 0.15);\n",
              "      fill: #174EA6;\n",
              "    }\n",
              "\n",
              "    [theme=dark] .colab-df-convert {\n",
              "      background-color: #3B4455;\n",
              "      fill: #D2E3FC;\n",
              "    }\n",
              "\n",
              "    [theme=dark] .colab-df-convert:hover {\n",
              "      background-color: #434B5C;\n",
              "      box-shadow: 0px 1px 3px 1px rgba(0, 0, 0, 0.15);\n",
              "      filter: drop-shadow(0px 1px 2px rgba(0, 0, 0, 0.3));\n",
              "      fill: #FFFFFF;\n",
              "    }\n",
              "  </style>\n",
              "\n",
              "      <script>\n",
              "        const buttonEl =\n",
              "          document.querySelector('#df-8360d7c8-ea44-4e2a-87ae-b7ede4e999f6 button.colab-df-convert');\n",
              "        buttonEl.style.display =\n",
              "          google.colab.kernel.accessAllowed ? 'block' : 'none';\n",
              "\n",
              "        async function convertToInteractive(key) {\n",
              "          const element = document.querySelector('#df-8360d7c8-ea44-4e2a-87ae-b7ede4e999f6');\n",
              "          const dataTable =\n",
              "            await google.colab.kernel.invokeFunction('convertToInteractive',\n",
              "                                                     [key], {});\n",
              "          if (!dataTable) return;\n",
              "\n",
              "          const docLinkHtml = 'Like what you see? Visit the ' +\n",
              "            '<a target=\"_blank\" href=https://colab.research.google.com/notebooks/data_table.ipynb>data table notebook</a>'\n",
              "            + ' to learn more about interactive tables.';\n",
              "          element.innerHTML = '';\n",
              "          dataTable['output_type'] = 'display_data';\n",
              "          await google.colab.output.renderOutput(dataTable, element);\n",
              "          const docLink = document.createElement('div');\n",
              "          docLink.innerHTML = docLinkHtml;\n",
              "          element.appendChild(docLink);\n",
              "        }\n",
              "      </script>\n",
              "    </div>\n",
              "  </div>\n",
              "  "
            ]
          },
          "metadata": {},
          "execution_count": 2
        }
      ]
    },
    {
      "cell_type": "code",
      "source": [
        "df.info()"
      ],
      "metadata": {
        "colab": {
          "base_uri": "https://localhost:8080/"
        },
        "id": "1zoIuPbEkTJP",
        "outputId": "cb07368d-0680-4d1c-bd0a-ecaf19797153"
      },
      "execution_count": null,
      "outputs": [
        {
          "output_type": "stream",
          "name": "stdout",
          "text": [
            "<class 'pandas.core.frame.DataFrame'>\n",
            "DatetimeIndex: 2787 entries, 2013-10-01 to 2021-05-18\n",
            "Data columns (total 5 columns):\n",
            " #   Column               Non-Null Count  Dtype  \n",
            "---  ------               --------------  -----  \n",
            " 0   Currency             2787 non-null   object \n",
            " 1   Closing Price (USD)  2787 non-null   float64\n",
            " 2   24h Open (USD)       2787 non-null   float64\n",
            " 3   24h High (USD)       2787 non-null   float64\n",
            " 4   24h Low (USD)        2787 non-null   float64\n",
            "dtypes: float64(4), object(1)\n",
            "memory usage: 130.6+ KB\n"
          ]
        }
      ]
    },
    {
      "cell_type": "code",
      "source": [
        "len(df)"
      ],
      "metadata": {
        "colab": {
          "base_uri": "https://localhost:8080/"
        },
        "id": "mnDxVGmVkawQ",
        "outputId": "fedc06c9-999e-4821-e287-14bb1178b856"
      },
      "execution_count": null,
      "outputs": [
        {
          "output_type": "execute_result",
          "data": {
            "text/plain": [
              "2787"
            ]
          },
          "metadata": {},
          "execution_count": 4
        }
      ]
    },
    {
      "cell_type": "markdown",
      "source": [
        "# Visualizing"
      ],
      "metadata": {
        "id": "mnXX5RVLkfLd"
      }
    },
    {
      "cell_type": "code",
      "source": [
        "# looking at the closing price for each day"
      ],
      "metadata": {
        "id": "0gz-k7KLEq3k"
      },
      "execution_count": null,
      "outputs": []
    },
    {
      "cell_type": "code",
      "source": [
        "bitcoin_prices = pd.DataFrame(df[\"Closing Price (USD)\"]).rename(columns = {\"Closing Price (USD)\": \"Price\"})\n",
        "bitcoin_prices.head()"
      ],
      "metadata": {
        "colab": {
          "base_uri": "https://localhost:8080/",
          "height": 238
        },
        "id": "FaFxbOwYJKyN",
        "outputId": "6efc31d0-ca8c-4d63-8800-9fe221a2aab9"
      },
      "execution_count": null,
      "outputs": [
        {
          "output_type": "execute_result",
          "data": {
            "text/plain": [
              "                Price\n",
              "Date                 \n",
              "2013-10-01  123.65499\n",
              "2013-10-02  125.45500\n",
              "2013-10-03  108.58483\n",
              "2013-10-04  118.67466\n",
              "2013-10-05  121.33866"
            ],
            "text/html": [
              "\n",
              "  <div id=\"df-3ac5b2da-c528-4371-85a1-702067fccfe4\">\n",
              "    <div class=\"colab-df-container\">\n",
              "      <div>\n",
              "<style scoped>\n",
              "    .dataframe tbody tr th:only-of-type {\n",
              "        vertical-align: middle;\n",
              "    }\n",
              "\n",
              "    .dataframe tbody tr th {\n",
              "        vertical-align: top;\n",
              "    }\n",
              "\n",
              "    .dataframe thead th {\n",
              "        text-align: right;\n",
              "    }\n",
              "</style>\n",
              "<table border=\"1\" class=\"dataframe\">\n",
              "  <thead>\n",
              "    <tr style=\"text-align: right;\">\n",
              "      <th></th>\n",
              "      <th>Price</th>\n",
              "    </tr>\n",
              "    <tr>\n",
              "      <th>Date</th>\n",
              "      <th></th>\n",
              "    </tr>\n",
              "  </thead>\n",
              "  <tbody>\n",
              "    <tr>\n",
              "      <th>2013-10-01</th>\n",
              "      <td>123.65499</td>\n",
              "    </tr>\n",
              "    <tr>\n",
              "      <th>2013-10-02</th>\n",
              "      <td>125.45500</td>\n",
              "    </tr>\n",
              "    <tr>\n",
              "      <th>2013-10-03</th>\n",
              "      <td>108.58483</td>\n",
              "    </tr>\n",
              "    <tr>\n",
              "      <th>2013-10-04</th>\n",
              "      <td>118.67466</td>\n",
              "    </tr>\n",
              "    <tr>\n",
              "      <th>2013-10-05</th>\n",
              "      <td>121.33866</td>\n",
              "    </tr>\n",
              "  </tbody>\n",
              "</table>\n",
              "</div>\n",
              "      <button class=\"colab-df-convert\" onclick=\"convertToInteractive('df-3ac5b2da-c528-4371-85a1-702067fccfe4')\"\n",
              "              title=\"Convert this dataframe to an interactive table.\"\n",
              "              style=\"display:none;\">\n",
              "        \n",
              "  <svg xmlns=\"http://www.w3.org/2000/svg\" height=\"24px\"viewBox=\"0 0 24 24\"\n",
              "       width=\"24px\">\n",
              "    <path d=\"M0 0h24v24H0V0z\" fill=\"none\"/>\n",
              "    <path d=\"M18.56 5.44l.94 2.06.94-2.06 2.06-.94-2.06-.94-.94-2.06-.94 2.06-2.06.94zm-11 1L8.5 8.5l.94-2.06 2.06-.94-2.06-.94L8.5 2.5l-.94 2.06-2.06.94zm10 10l.94 2.06.94-2.06 2.06-.94-2.06-.94-.94-2.06-.94 2.06-2.06.94z\"/><path d=\"M17.41 7.96l-1.37-1.37c-.4-.4-.92-.59-1.43-.59-.52 0-1.04.2-1.43.59L10.3 9.45l-7.72 7.72c-.78.78-.78 2.05 0 2.83L4 21.41c.39.39.9.59 1.41.59.51 0 1.02-.2 1.41-.59l7.78-7.78 2.81-2.81c.8-.78.8-2.07 0-2.86zM5.41 20L4 18.59l7.72-7.72 1.47 1.35L5.41 20z\"/>\n",
              "  </svg>\n",
              "      </button>\n",
              "      \n",
              "  <style>\n",
              "    .colab-df-container {\n",
              "      display:flex;\n",
              "      flex-wrap:wrap;\n",
              "      gap: 12px;\n",
              "    }\n",
              "\n",
              "    .colab-df-convert {\n",
              "      background-color: #E8F0FE;\n",
              "      border: none;\n",
              "      border-radius: 50%;\n",
              "      cursor: pointer;\n",
              "      display: none;\n",
              "      fill: #1967D2;\n",
              "      height: 32px;\n",
              "      padding: 0 0 0 0;\n",
              "      width: 32px;\n",
              "    }\n",
              "\n",
              "    .colab-df-convert:hover {\n",
              "      background-color: #E2EBFA;\n",
              "      box-shadow: 0px 1px 2px rgba(60, 64, 67, 0.3), 0px 1px 3px 1px rgba(60, 64, 67, 0.15);\n",
              "      fill: #174EA6;\n",
              "    }\n",
              "\n",
              "    [theme=dark] .colab-df-convert {\n",
              "      background-color: #3B4455;\n",
              "      fill: #D2E3FC;\n",
              "    }\n",
              "\n",
              "    [theme=dark] .colab-df-convert:hover {\n",
              "      background-color: #434B5C;\n",
              "      box-shadow: 0px 1px 3px 1px rgba(0, 0, 0, 0.15);\n",
              "      filter: drop-shadow(0px 1px 2px rgba(0, 0, 0, 0.3));\n",
              "      fill: #FFFFFF;\n",
              "    }\n",
              "  </style>\n",
              "\n",
              "      <script>\n",
              "        const buttonEl =\n",
              "          document.querySelector('#df-3ac5b2da-c528-4371-85a1-702067fccfe4 button.colab-df-convert');\n",
              "        buttonEl.style.display =\n",
              "          google.colab.kernel.accessAllowed ? 'block' : 'none';\n",
              "\n",
              "        async function convertToInteractive(key) {\n",
              "          const element = document.querySelector('#df-3ac5b2da-c528-4371-85a1-702067fccfe4');\n",
              "          const dataTable =\n",
              "            await google.colab.kernel.invokeFunction('convertToInteractive',\n",
              "                                                     [key], {});\n",
              "          if (!dataTable) return;\n",
              "\n",
              "          const docLinkHtml = 'Like what you see? Visit the ' +\n",
              "            '<a target=\"_blank\" href=https://colab.research.google.com/notebooks/data_table.ipynb>data table notebook</a>'\n",
              "            + ' to learn more about interactive tables.';\n",
              "          element.innerHTML = '';\n",
              "          dataTable['output_type'] = 'display_data';\n",
              "          await google.colab.output.renderOutput(dataTable, element);\n",
              "          const docLink = document.createElement('div');\n",
              "          docLink.innerHTML = docLinkHtml;\n",
              "          element.appendChild(docLink);\n",
              "        }\n",
              "      </script>\n",
              "    </div>\n",
              "  </div>\n",
              "  "
            ]
          },
          "metadata": {},
          "execution_count": 6
        }
      ]
    },
    {
      "cell_type": "code",
      "source": [
        "import matplotlib.pyplot as plt\n",
        "bitcoin_prices.plot(figsize=(10,7))\n",
        "plt.ylabel(\"BTC Price\")\n",
        "plt.title(\"Price of Bitcoin from 2013-2021\", fontsize = 16)\n",
        "plt.legend(fontsize =14);"
      ],
      "metadata": {
        "colab": {
          "base_uri": "https://localhost:8080/",
          "height": 460
        },
        "id": "9dqpGPxiJnnm",
        "outputId": "d5c2e98b-9eef-4636-cb42-22f5c8ca24b7"
      },
      "execution_count": null,
      "outputs": [
        {
          "output_type": "display_data",
          "data": {
            "text/plain": [
              "<Figure size 720x504 with 1 Axes>"
            ],
            "image/png": "[encoded data removed]"
          },
          "metadata": {
            "needs_background": "light"
          }
        }
      ]
    },
    {
      "cell_type": "markdown",
      "source": [
        "# Train test set"
      ],
      "metadata": {
        "id": "XIoYKTVlJ4Xo"
      }
    },
    {
      "cell_type": "code",
      "source": [
        "# Get bitcoin date array\n",
        "timesteps = bitcoin_prices.index.to_numpy()\n",
        "prices = bitcoin_prices[\"Price\"].to_numpy()\n",
        "\n",
        "timesteps[:10], prices[:10]"
      ],
      "metadata": {
        "colab": {
          "base_uri": "https://localhost:8080/"
        },
        "id": "bDZzCS67t8rw",
        "outputId": "0a308e5c-aca1-443e-b6b5-19a66b405471"
      },
      "execution_count": null,
      "outputs": [
        {
          "output_type": "execute_result",
          "data": {
            "text/plain": [
              "(array(['2013-10-01T00:00:00.000000000', '2013-10-02T00:00:00.000000000',\n",
              "        '2013-10-03T00:00:00.000000000', '2013-10-04T00:00:00.000000000',\n",
              "        '2013-10-05T00:00:00.000000000', '2013-10-06T00:00:00.000000000',\n",
              "        '2013-10-07T00:00:00.000000000', '2013-10-08T00:00:00.000000000',\n",
              "        '2013-10-09T00:00:00.000000000', '2013-10-10T00:00:00.000000000'],\n",
              "       dtype='datetime64[ns]'),\n",
              " array([123.65499, 125.455  , 108.58483, 118.67466, 121.33866, 120.65533,\n",
              "        121.795  , 123.033  , 124.049  , 125.96116]))"
            ]
          },
          "metadata": {},
          "execution_count": 8
        }
      ]
    },
    {
      "cell_type": "code",
      "source": [
        "# correct way to split - time series split\n",
        "split_size = int(0.8 * len(prices))\n",
        "\n",
        "X_train, y_train = timesteps[:split_size], prices[:split_size]\n",
        "\n",
        "X_test, y_test = timesteps[split_size:], prices[split_size:]\n",
        "\n",
        "len(X_train), len(y_train), len(X_test), len(y_test)"
      ],
      "metadata": {
        "colab": {
          "base_uri": "https://localhost:8080/"
        },
        "id": "U_xTNVmzudH3",
        "outputId": "1ec0fc6e-2561-4aea-ad69-65a761733002"
      },
      "execution_count": null,
      "outputs": [
        {
          "output_type": "execute_result",
          "data": {
            "text/plain": [
              "(2229, 2229, 558, 558)"
            ]
          },
          "metadata": {},
          "execution_count": 9
        }
      ]
    },
    {
      "cell_type": "code",
      "source": [
        "# plot the splits\n",
        "plt.figure(figsize = (10,7))\n",
        "plt.scatter(X_train, y_train, s = 5, label = \"Train Data\")\n",
        "plt.scatter(X_test, y_test, s = 5, label = \"Test Data\")\n",
        "plt.xlabel(\"Date\")\n",
        "plt.ylabel(\"BTC Price\")\n",
        "plt.legend(fontsize = 14)\n",
        "plt.show();"
      ],
      "metadata": {
        "colab": {
          "base_uri": "https://localhost:8080/",
          "height": 442
        },
        "id": "mYzObtKwwoNT",
        "outputId": "17f66167-10d7-4537-dff3-499903572dd8"
      },
      "execution_count": null,
      "outputs": [
        {
          "output_type": "display_data",
          "data": {
            "text/plain": [
              "<Figure size 720x504 with 1 Axes>"
            ],
            "image/png": "[encoded data removed]"
          },
          "metadata": {
            "needs_background": "light"
          }
        }
      ]
    },
    {
      "cell_type": "code",
      "source": [
        "# Creating plotting function for future use\n",
        "\n",
        "def plot_time_series(timesteps, values, format='.', start=0, end=None, label=None):\n",
        "  # Plot the series\n",
        "  plt.plot(timesteps[start:end], values[start:end], format, label=label)\n",
        "  plt.xlabel(\"Time\")\n",
        "  plt.ylabel(\"BTC Price\")\n",
        "  if label:\n",
        "    plt.legend(fontsize=14) # make label bigger\n",
        "  plt.grid(True)"
      ],
      "metadata": {
        "id": "N8YI5ZCZxIPj"
      },
      "execution_count": null,
      "outputs": []
    },
    {
      "cell_type": "code",
      "source": [
        "plt.figure(figsize = (10, 7))\n",
        "plot_time_series(timesteps = X_train, values = y_train, label = \"Train Data\")\n",
        "plot_time_series(timesteps = X_test, values = y_test, label = \"Test Data\")"
      ],
      "metadata": {
        "colab": {
          "base_uri": "https://localhost:8080/",
          "height": 442
        },
        "id": "NNo7jfRr27Yt",
        "outputId": "414ad53c-6318-46ac-a965-86a3529b1b50"
      },
      "execution_count": null,
      "outputs": [
        {
          "output_type": "display_data",
          "data": {
            "text/plain": [
              "<Figure size 720x504 with 1 Axes>"
            ],
            "image/png": "[encoded data removed]"
          },
          "metadata": {
            "needs_background": "light"
          }
        }
      ]
    },
    {
      "cell_type": "markdown",
      "source": [
        "# Creating Models"
      ],
      "metadata": {
        "id": "w8peIlXs3Vf-"
      }
    },
    {
      "cell_type": "markdown",
      "source": [
        "### Naive model"
      ],
      "metadata": {
        "id": "_AFkad5a3keB"
      }
    },
    {
      "cell_type": "markdown",
      "source": [
        "## Model 0"
      ],
      "metadata": {
        "id": "WsPmht-A3s14"
      }
    },
    {
      "cell_type": "code",
      "source": [
        "naive_forecast = y_test[:-1]\n",
        "naive_forecast[:10], naive_forecast[-10:]"
      ],
      "metadata": {
        "colab": {
          "base_uri": "https://localhost:8080/"
        },
        "id": "iMh5M-qfJeNI",
        "outputId": "e4d02b11-f0fa-4187-a873-7cf64cfa9ca2"
      },
      "execution_count": null,
      "outputs": [
        {
          "output_type": "execute_result",
          "data": {
            "text/plain": [
              "(array([9226.48582088, 8794.35864452, 8798.04205463, 9081.18687849,\n",
              "        8711.53433917, 8760.89271814, 8749.52059102, 8656.97092235,\n",
              "        8500.64355816, 8469.2608989 ]),\n",
              " array([57107.12067189, 58788.20967893, 58102.19142623, 55715.54665129,\n",
              "        56573.5554719 , 52147.82118698, 49764.1320816 , 50032.69313676,\n",
              "        47885.62525472, 45604.61575361]))"
            ]
          },
          "metadata": {},
          "execution_count": 13
        }
      ]
    },
    {
      "cell_type": "code",
      "source": [
        "#plot\n",
        "plt.figure(figsize = (10,7))\n",
        "plot_time_series(timesteps = X_train, values = y_train, label = \"Train Data\")\n",
        "plot_time_series(timesteps=X_test, values=y_test, label=\"Test data\")\n",
        "plot_time_series(timesteps=X_test[1:], values=naive_forecast, format=\"-\", label=\"Naive forecast\");"
      ],
      "metadata": {
        "colab": {
          "base_uri": "https://localhost:8080/",
          "height": 442
        },
        "id": "lbCwpdW7L5YL",
        "outputId": "067f47c5-ec54-4804-aeec-b283221b2118"
      },
      "execution_count": null,
      "outputs": [
        {
          "output_type": "display_data",
          "data": {
            "text/plain": [
              "<Figure size 720x504 with 1 Axes>"
            ],
            "image/png": "[encoded data removed]"
          },
          "metadata": {
            "needs_background": "light"
          }
        }
      ]
    },
    {
      "cell_type": "code",
      "source": [
        "plt.figure(figsize=(10, 7))\n",
        "offset = 300 # offset the values by 300 timesteps \n",
        "plot_time_series(timesteps=X_test, values=y_test, start=offset, label=\"Test data\")\n",
        "plot_time_series(timesteps=X_test[1:], values=naive_forecast, format=\"-\", start=offset, label=\"Naive forecast\");"
      ],
      "metadata": {
        "colab": {
          "base_uri": "https://localhost:8080/",
          "height": 442
        },
        "id": "vcu73w-uMQqZ",
        "outputId": "e80671b4-dd7e-4c84-bf68-43e5fe6fd811"
      },
      "execution_count": null,
      "outputs": [
        {
          "output_type": "display_data",
          "data": {
            "text/plain": [
              "<Figure size 720x504 with 1 Axes>"
            ],
            "image/png": "[encoded data removed]"
          },
          "metadata": {
            "needs_background": "light"
          }
        }
      ]
    },
    {
      "cell_type": "markdown",
      "source": [
        "### Evaluating in time series Model\n",
        "\n",
        "* MAE\n",
        "* MSE\n",
        "* RMSE\n",
        "* MAPE/sMAPE\n",
        "* MASE"
      ],
      "metadata": {
        "id": "yFegQLn6MUhL"
      }
    },
    {
      "cell_type": "code",
      "source": [
        "import tensorflow as tf"
      ],
      "metadata": {
        "id": "bBE1e26mMZ5m"
      },
      "execution_count": null,
      "outputs": []
    },
    {
      "cell_type": "code",
      "source": [
        "# MASE implementation\n",
        "def mean_absolute_scaled_error(y_true, y_pred):\n",
        "  mae = tf.reduce_mean(tf.abs(y_true-y_pred))\n",
        "  mae_naive_no_season = tf.reduce_mean(tf.abs(y_true[1:]- y_true[:-1]))\n",
        "  return mae/mae_naive_no_season"
      ],
      "metadata": {
        "id": "g8mMZIY3yAnD"
      },
      "execution_count": null,
      "outputs": []
    },
    {
      "cell_type": "code",
      "source": [
        "mean_absolute_scaled_error(y_true = y_test[1:], y_pred = naive_forecast).numpy()"
      ],
      "metadata": {
        "colab": {
          "base_uri": "https://localhost:8080/"
        },
        "id": "_1xhuLRt3OEu",
        "outputId": "1d123930-40fb-47a3-8176-aac422d18915"
      },
      "execution_count": null,
      "outputs": [
        {
          "output_type": "execute_result",
          "data": {
            "text/plain": [
              "0.9995699939182624"
            ]
          },
          "metadata": {},
          "execution_count": 18
        }
      ]
    },
    {
      "cell_type": "code",
      "source": [
        "def evaluate_preds(y_true, y_pred):\n",
        "  # Make sure float32 (for metric calculations)\n",
        "  y_true = tf.cast(y_true, dtype=tf.float32)\n",
        "  y_pred = tf.cast(y_pred, dtype=tf.float32)\n",
        "\n",
        "  # Calculate various metrics\n",
        "  mae = tf.keras.metrics.mean_absolute_error(y_true, y_pred)\n",
        "  mse = tf.keras.metrics.mean_squared_error(y_true, y_pred) # puts and emphasis on outliers (all errors get squared)\n",
        "  rmse = tf.sqrt(mse)\n",
        "  mape = tf.keras.metrics.mean_absolute_percentage_error(y_true, y_pred)\n",
        "  mase = mean_absolute_scaled_error(y_true, y_pred)\n",
        "  \n",
        "  return {\"mae\": mae.numpy(),\n",
        "          \"mse\": mse.numpy(),\n",
        "          \"rmse\": rmse.numpy(),\n",
        "          \"mape\": mape.numpy(),\n",
        "          \"mase\": mase.numpy()}"
      ],
      "metadata": {
        "id": "su2rOKSN3VAj"
      },
      "execution_count": null,
      "outputs": []
    },
    {
      "cell_type": "code",
      "source": [
        "naive_results = evaluate_preds(y_true = y_test[1:], y_pred = naive_forecast)\n",
        "naive_results"
      ],
      "metadata": {
        "colab": {
          "base_uri": "https://localhost:8080/"
        },
        "id": "s_FXDSPR4wB8",
        "outputId": "0e18a533-7726-4b0f-d454-77838a059009"
      },
      "execution_count": null,
      "outputs": [
        {
          "output_type": "execute_result",
          "data": {
            "text/plain": [
              "{'mae': 567.9802,\n",
              " 'mse': 1147547.0,\n",
              " 'rmse': 1071.2362,\n",
              " 'mape': 2.516525,\n",
              " 'mase': 0.99957}"
            ]
          },
          "metadata": {},
          "execution_count": 20
        }
      ]
    },
    {
      "cell_type": "markdown",
      "source": [
        "### Windowing our dataset"
      ],
      "metadata": {
        "id": "VqOzS3rh5rXb"
      }
    },
    {
      "cell_type": "code",
      "source": [
        "#Global variables for window and horizon size\n",
        "HORIZON = 1\n",
        "WINDOW_SIZE = 7"
      ],
      "metadata": {
        "id": "mIVKptrlVIZH"
      },
      "execution_count": null,
      "outputs": []
    },
    {
      "cell_type": "code",
      "source": [
        "#function to label windowed data\n",
        "def get_labelled_windows(x, horizon=HORIZON):\n",
        "  return x[:, :-horizon], x[:, -horizon:]"
      ],
      "metadata": {
        "id": "aUSk4HBwV5Uc"
      },
      "execution_count": null,
      "outputs": []
    },
    {
      "cell_type": "code",
      "source": [
        "test_window, test_label = get_labelled_windows(tf.expand_dims(tf.range(8) + 1, axis = 0))\n",
        "test_window, test_label"
      ],
      "metadata": {
        "colab": {
          "base_uri": "https://localhost:8080/"
        },
        "id": "ApRNdIQuXF5H",
        "outputId": "e466bc01-54ec-46bc-81d7-70dbcc51ff6f"
      },
      "execution_count": null,
      "outputs": [
        {
          "output_type": "execute_result",
          "data": {
            "text/plain": [
              "(<tf.Tensor: shape=(1, 7), dtype=int32, numpy=array([[1, 2, 3, 4, 5, 6, 7]], dtype=int32)>,\n",
              " <tf.Tensor: shape=(1, 1), dtype=int32, numpy=array([[8]], dtype=int32)>)"
            ]
          },
          "metadata": {},
          "execution_count": 23
        }
      ]
    },
    {
      "cell_type": "code",
      "source": [
        "import numpy as np\n",
        "# Create function to view NumPy arrays as windows \n",
        "def make_windows(x, window_size=7, horizon=1):\n",
        "  \"\"\"\n",
        "  Turns a 1D array into a 2D array of sequential windows of window_size.\n",
        "  \"\"\"\n",
        "  # 1. Create a window of specific window_size (add the horizon on the end for later labelling)\n",
        "  window_step = np.expand_dims(np.arange(window_size+horizon), axis=0)\n",
        "  # print(f\"Window step:\\n {window_step}\")\n",
        "\n",
        "  # 2. Create a 2D array of multiple window steps (minus 1 to account for 0 indexing)\n",
        "  window_indexes = window_step + np.expand_dims(np.arange(len(x)-(window_size+horizon-1)), axis=0).T # create 2D array of windows of size window_size\n",
        "  # print(f\"Window indexes:\\n {window_indexes[:3], window_indexes[-3:], window_indexes.shape}\")\n",
        "\n",
        "  # 3. Index on the target array (time series) with 2D array of multiple window steps\n",
        "  windowed_array = x[window_indexes]\n",
        "\n",
        "  # 4. Get the labelled windows\n",
        "  windows, labels = get_labelled_windows(windowed_array, horizon=horizon)\n",
        "\n",
        "  return windows, labels"
      ],
      "metadata": {
        "id": "96dHhfdsXV23"
      },
      "execution_count": null,
      "outputs": []
    },
    {
      "cell_type": "code",
      "source": [
        "full_windows, full_labels = make_windows(prices, window_size=WINDOW_SIZE, horizon=HORIZON)\n",
        "len(full_windows), len(full_labels)\n"
      ],
      "metadata": {
        "colab": {
          "base_uri": "https://localhost:8080/"
        },
        "id": "JSHrzCA0sTjC",
        "outputId": "06343bdc-cd88-45d5-ffa0-e552f12b4edd"
      },
      "execution_count": null,
      "outputs": [
        {
          "output_type": "execute_result",
          "data": {
            "text/plain": [
              "(2780, 2780)"
            ]
          },
          "metadata": {},
          "execution_count": 25
        }
      ]
    },
    {
      "cell_type": "code",
      "source": [
        "# View the first 3 windows/labels\n",
        "for i in range(3):\n",
        "  print(f\"Window: {full_windows[i]} -> Label: {full_labels[i]}\")"
      ],
      "metadata": {
        "colab": {
          "base_uri": "https://localhost:8080/"
        },
        "id": "WO4jajCQsU8x",
        "outputId": "70c729aa-6dcd-4bf5-ef7b-555b7b7085dd"
      },
      "execution_count": null,
      "outputs": [
        {
          "output_type": "stream",
          "name": "stdout",
          "text": [
            "Window: [123.65499 125.455   108.58483 118.67466 121.33866 120.65533 121.795  ] -> Label: [123.033]\n",
            "Window: [125.455   108.58483 118.67466 121.33866 120.65533 121.795   123.033  ] -> Label: [124.049]\n",
            "Window: [108.58483 118.67466 121.33866 120.65533 121.795   123.033   124.049  ] -> Label: [125.96116]\n"
          ]
        }
      ]
    },
    {
      "cell_type": "markdown",
      "source": [
        "### Turning windows into training and test sets"
      ],
      "metadata": {
        "id": "k3v62KSfsbgY"
      }
    },
    {
      "cell_type": "markdown",
      "source": [
        "## Turning windows into training and test sets\n",
        "\n"
      ],
      "metadata": {
        "id": "NBtwkDJEsnRP"
      }
    },
    {
      "cell_type": "code",
      "source": [
        "def make_train_test_splits(windows, labels, test_split = 0.2):\n",
        "  split_size = int(len(windows) * (1-test_split))\n",
        "  train_windows = windows[:split_size]\n",
        "  train_labels =  labels[:split_size]\n",
        "  test_windows = windows[split_size:]\n",
        "  test_labels =  labels[split_size:]\n",
        "  return train_windows, test_windows, train_labels, test_labels"
      ],
      "metadata": {
        "id": "bfp2nkLY9t1G"
      },
      "execution_count": null,
      "outputs": []
    },
    {
      "cell_type": "code",
      "source": [
        "train_windows, test_windows, train_labels, test_labels = make_train_test_splits(windows = full_windows, labels = full_labels)\n",
        "len(train_windows), len(test_windows), len(train_labels), len(test_labels)"
      ],
      "metadata": {
        "colab": {
          "base_uri": "https://localhost:8080/"
        },
        "id": "MIwHUet2D80f",
        "outputId": "aee2a7a1-fd2b-49bc-98f9-abfb321de4f9"
      },
      "execution_count": null,
      "outputs": [
        {
          "output_type": "execute_result",
          "data": {
            "text/plain": [
              "(2224, 556, 2224, 556)"
            ]
          },
          "metadata": {},
          "execution_count": 28
        }
      ]
    },
    {
      "cell_type": "code",
      "source": [
        "len(full_windows) * 0.8"
      ],
      "metadata": {
        "colab": {
          "base_uri": "https://localhost:8080/"
        },
        "id": "V0Y_aYlMEVkA",
        "outputId": "452f576e-bfbc-4f04-b700-08031d61d55b"
      },
      "execution_count": null,
      "outputs": [
        {
          "output_type": "execute_result",
          "data": {
            "text/plain": [
              "2224.0"
            ]
          },
          "metadata": {},
          "execution_count": 29
        }
      ]
    },
    {
      "cell_type": "code",
      "source": [
        "train_windows[:5], train_labels[:5]"
      ],
      "metadata": {
        "colab": {
          "base_uri": "https://localhost:8080/"
        },
        "id": "Yc5WrDYGEmNy",
        "outputId": "9d81fddc-78bc-4624-9084-8a24f862a6a7"
      },
      "execution_count": null,
      "outputs": [
        {
          "output_type": "execute_result",
          "data": {
            "text/plain": [
              "(array([[123.65499, 125.455  , 108.58483, 118.67466, 121.33866, 120.65533,\n",
              "         121.795  ],\n",
              "        [125.455  , 108.58483, 118.67466, 121.33866, 120.65533, 121.795  ,\n",
              "         123.033  ],\n",
              "        [108.58483, 118.67466, 121.33866, 120.65533, 121.795  , 123.033  ,\n",
              "         124.049  ],\n",
              "        [118.67466, 121.33866, 120.65533, 121.795  , 123.033  , 124.049  ,\n",
              "         125.96116],\n",
              "        [121.33866, 120.65533, 121.795  , 123.033  , 124.049  , 125.96116,\n",
              "         125.27966]]), array([[123.033  ],\n",
              "        [124.049  ],\n",
              "        [125.96116],\n",
              "        [125.27966],\n",
              "        [125.9275 ]]))"
            ]
          },
          "metadata": {},
          "execution_count": 30
        }
      ]
    },
    {
      "cell_type": "code",
      "source": [
        "np.array_equal(np.squeeze(train_labels[:-HORIZON-1]), y_train[WINDOW_SIZE:])"
      ],
      "metadata": {
        "colab": {
          "base_uri": "https://localhost:8080/"
        },
        "id": "Xgn9KcmFE55j",
        "outputId": "9e2c51a3-6278-4bed-8952-b8c6c9ae548e"
      },
      "execution_count": null,
      "outputs": [
        {
          "output_type": "execute_result",
          "data": {
            "text/plain": [
              "True"
            ]
          },
          "metadata": {},
          "execution_count": 31
        }
      ]
    },
    {
      "cell_type": "markdown",
      "source": [
        "## Make a modelling checkpoint"
      ],
      "metadata": {
        "id": "J08oLyanFW7d"
      }
    },
    {
      "cell_type": "code",
      "source": [
        "import os\n",
        "\n",
        "def create_model_checkpoint(model_name, save_path = \"model_experiments\"):\n",
        "  return tf.keras.callbacks.ModelCheckpoint(filepath=os.path.join(save_path, model_name),\n",
        "                                            verbose = 0,\n",
        "                                            save_best_only = True)"
      ],
      "metadata": {
        "id": "mniwBAJ0FpCo"
      },
      "execution_count": null,
      "outputs": []
    },
    {
      "cell_type": "markdown",
      "source": [
        "# Creating Models"
      ],
      "metadata": {
        "id": "du_iGlCqGpgk"
      }
    },
    {
      "cell_type": "markdown",
      "source": [
        "### Model 1: window = 7, horizon = 1"
      ],
      "metadata": {
        "id": "0XXNeXPOG3zB"
      }
    },
    {
      "cell_type": "code",
      "source": [
        "import tensorflow as tf\n",
        "from tensorflow.keras import layers\n",
        "tf.random.set_seed(42)\n",
        "\n",
        "# Construct model\n",
        "model_1 = tf.keras.Sequential([\n",
        "    layers.Dense(128, activation = \"relu\"),\n",
        "    layers.Dense(HORIZON, activation =\"linear\")\n",
        "], name = \"model_1_dense\")\n",
        "\n",
        "# Compiling\n",
        "model_1.compile(loss = \"mae\",\n",
        "                optimizer = tf.keras.optimizers.Adam(),\n",
        "                metrics = [\"mae\", \"mse\"])\n",
        "# fitting\n",
        "model_1.fit(x = train_windows,\n",
        "            y = train_labels,\n",
        "            epochs = 100,\n",
        "            verbose = 1,\n",
        "            batch_size =  128,\n",
        "            validation_data = (test_windows, test_labels),\n",
        "            callbacks = [create_model_checkpoint(model_name = model_1.name)])"
      ],
      "metadata": {
        "colab": {
          "base_uri": "https://localhost:8080/"
        },
        "id": "S4pAfe0QLdkp",
        "outputId": "b9f2d8db-1645-4201-c38d-7178dfd671d3"
      },
      "execution_count": null,
      "outputs": [
        {
          "output_type": "stream",
          "name": "stdout",
          "text": [
            "Epoch 1/100\n",
            "11/18 [=================>............] - ETA: 0s - loss: 2841.5718 - mae: 2841.5718 - mse: 20325842.0000  "
          ]
        },
        {
          "output_type": "stream",
          "name": "stderr",
          "text": [
            "WARNING:absl:Found untraced functions such as _update_step_xla while saving (showing 1 of 1). These functions will not be directly callable after loading.\n"
          ]
        },
        {
          "output_type": "stream",
          "name": "stdout",
          "text": [
            "\b\b\b\b\b\b\b\b\b\b\b\b\b\b\b\b\b\b\b\b\b\b\b\b\b\b\b\b\b\b\b\b\b\b\b\b\b\b\b\b\b\b\b\b\b\b\b\b\b\b\b\b\b\b\b\b\b\b\b\b\b\b\b\b\b\b\b\b\b\b\b\b\b\b\b\b\b\b\b\b\b\b\b\b\b\b\b\b\b\b\b\b\b\b\b\b\b\b\b\b\b\b\b\b\r18/18 [==============================] - 6s 80ms/step - loss: 2281.7041 - mae: 2281.7041 - mse: 14554058.0000 - val_loss: 3144.7485 - val_mae: 3144.7485 - val_mse: 19528574.0000\n",
            "Epoch 2/100\n",
            "14/18 [======================>.......] - ETA: 0s - loss: 378.0269 - mae: 378.0269 - mse: 501825.3438"
          ]
        },
        {
          "output_type": "stream",
          "name": "stderr",
          "text": [
            "WARNING:absl:Found untraced functions such as _update_step_xla while saving (showing 1 of 1). These functions will not be directly callable after loading.\n"
          ]
        },
        {
          "output_type": "stream",
          "name": "stdout",
          "text": [
            "\b\b\b\b\b\b\b\b\b\b\b\b\b\b\b\b\b\b\b\b\b\b\b\b\b\b\b\b\b\b\b\b\b\b\b\b\b\b\b\b\b\b\b\b\b\b\b\b\b\b\b\b\b\b\b\b\b\b\b\b\b\b\b\b\b\b\b\b\b\b\b\b\b\b\b\b\b\b\b\b\b\b\b\b\b\b\b\b\b\b\b\b\b\b\b\b\b\b\b\b\r18/18 [==============================] - 1s 53ms/step - loss: 341.6603 - mae: 341.6603 - mse: 435733.7188 - val_loss: 1365.9562 - val_mae: 1365.9562 - val_mse: 4677091.5000\n",
            "Epoch 3/100\n",
            "12/18 [===================>..........] - ETA: 0s - loss: 221.4310 - mae: 221.4310 - mse: 225509.9219"
          ]
        },
        {
          "output_type": "stream",
          "name": "stderr",
          "text": [
            "WARNING:absl:Found untraced functions such as _update_step_xla while saving (showing 1 of 1). These functions will not be directly callable after loading.\n"
          ]
        },
        {
          "output_type": "stream",
          "name": "stdout",
          "text": [
            "\b\b\b\b\b\b\b\b\b\b\b\b\b\b\b\b\b\b\b\b\b\b\b\b\b\b\b\b\b\b\b\b\b\b\b\b\b\b\b\b\b\b\b\b\b\b\b\b\b\b\b\b\b\b\b\b\b\b\b\b\b\b\b\b\b\b\b\b\b\b\b\b\b\b\b\b\b\b\b\b\b\b\b\b\b\b\b\b\b\b\b\b\b\b\b\b\b\b\b\b\r18/18 [==============================] - 1s 72ms/step - loss: 210.6777 - mae: 210.6777 - mse: 208884.5312 - val_loss: 989.1725 - val_mae: 989.1725 - val_mse: 3060635.7500\n",
            "Epoch 4/100\n",
            "12/18 [===================>..........] - ETA: 0s - loss: 179.1400 - mae: 179.1400 - mse: 171072.0000"
          ]
        },
        {
          "output_type": "stream",
          "name": "stderr",
          "text": [
            "WARNING:absl:Found untraced functions such as _update_step_xla while saving (showing 1 of 1). These functions will not be directly callable after loading.\n"
          ]
        },
        {
          "output_type": "stream",
          "name": "stdout",
          "text": [
            "\b\b\b\b\b\b\b\b\b\b\b\b\b\b\b\b\b\b\b\b\b\b\b\b\b\b\b\b\b\b\b\b\b\b\b\b\b\b\b\b\b\b\b\b\b\b\b\b\b\b\b\b\b\b\b\b\b\b\b\b\b\b\b\b\b\b\b\b\b\b\b\b\b\b\b\b\b\b\b\b\b\b\b\b\b\b\b\b\b\b\b\b\b\b\b\b\b\b\b\b\r18/18 [==============================] - 1s 49ms/step - loss: 170.4575 - mae: 170.4575 - mse: 153834.9531 - val_loss: 944.0375 - val_mae: 944.0375 - val_mse: 2892274.2500\n",
            "Epoch 5/100\n",
            "18/18 [==============================] - 0s 17ms/step - loss: 166.9515 - mae: 166.9515 - mse: 152716.1875 - val_loss: 957.6377 - val_mae: 957.6377 - val_mse: 2866714.5000\n",
            "Epoch 6/100\n",
            "10/18 [===============>..............] - ETA: 0s - loss: 159.6216 - mae: 159.6216 - mse: 128636.7266"
          ]
        },
        {
          "output_type": "stream",
          "name": "stderr",
          "text": [
            "WARNING:absl:Found untraced functions such as _update_step_xla while saving (showing 1 of 1). These functions will not be directly callable after loading.\n"
          ]
        },
        {
          "output_type": "stream",
          "name": "stdout",
          "text": [
            "\b\b\b\b\b\b\b\b\b\b\b\b\b\b\b\b\b\b\b\b\b\b\b\b\b\b\b\b\b\b\b\b\b\b\b\b\b\b\b\b\b\b\b\b\b\b\b\b\b\b\b\b\b\b\b\b\b\b\b\b\b\b\b\b\b\b\b\b\b\b\b\b\b\b\b\b\b\b\b\b\b\b\b\b\b\b\b\b\b\b\b\b\b\b\b\b\b\b\b\b\r18/18 [==============================] - 1s 53ms/step - loss: 162.3185 - mae: 162.3185 - mse: 142785.7031 - val_loss: 899.3006 - val_mae: 899.3006 - val_mse: 2739551.2500\n",
            "Epoch 7/100\n",
            "13/18 [====================>.........] - ETA: 0s - loss: 165.7937 - mae: 165.7937 - mse: 154870.4688"
          ]
        },
        {
          "output_type": "stream",
          "name": "stderr",
          "text": [
            "WARNING:absl:Found untraced functions such as _update_step_xla while saving (showing 1 of 1). These functions will not be directly callable after loading.\n"
          ]
        },
        {
          "output_type": "stream",
          "name": "stdout",
          "text": [
            "\b\b\b\b\b\b\b\b\b\b\b\b\b\b\b\b\b\b\b\b\b\b\b\b\b\b\b\b\b\b\b\b\b\b\b\b\b\b\b\b\b\b\b\b\b\b\b\b\b\b\b\b\b\b\b\b\b\b\b\b\b\b\b\b\b\b\b\b\b\b\b\b\b\b\b\b\b\b\b\b\b\b\b\b\b\b\b\b\b\b\b\b\b\b\b\b\b\b\b\b\r18/18 [==============================] - 1s 52ms/step - loss: 157.8130 - mae: 157.8130 - mse: 137606.6406 - val_loss: 878.9920 - val_mae: 878.9920 - val_mse: 2572312.5000\n",
            "Epoch 8/100\n",
            "16/18 [=========================>....] - ETA: 0s - loss: 154.1372 - mae: 154.1372 - mse: 132451.2500"
          ]
        },
        {
          "output_type": "stream",
          "name": "stderr",
          "text": [
            "WARNING:absl:Found untraced functions such as _update_step_xla while saving (showing 1 of 1). These functions will not be directly callable after loading.\n"
          ]
        },
        {
          "output_type": "stream",
          "name": "stdout",
          "text": [
            "\b\b\b\b\b\b\b\b\b\b\b\b\b\b\b\b\b\b\b\b\b\b\b\b\b\b\b\b\b\b\b\b\b\b\b\b\b\b\b\b\b\b\b\b\b\b\b\b\b\b\b\b\b\b\b\b\b\b\b\b\b\b\b\b\b\b\b\b\b\b\b\b\b\b\b\b\b\b\b\b\b\b\b\b\b\b\b\b\b\b\b\b\b\b\b\b\b\b\b\b\r18/18 [==============================] - 1s 59ms/step - loss: 155.0357 - mae: 155.0357 - mse: 131922.3594 - val_loss: 856.5881 - val_mae: 856.5881 - val_mse: 2473230.5000\n",
            "Epoch 9/100\n",
            "18/18 [==============================] - 0s 11ms/step - loss: 152.7041 - mae: 152.7041 - mse: 129109.8828 - val_loss: 874.6484 - val_mae: 874.6484 - val_mse: 2429489.7500\n",
            "Epoch 10/100\n",
            "18/18 [==============================] - ETA: 0s - loss: 149.3833 - mae: 149.3833 - mse: 123987.5234"
          ]
        },
        {
          "output_type": "stream",
          "name": "stderr",
          "text": [
            "WARNING:absl:Found untraced functions such as _update_step_xla while saving (showing 1 of 1). These functions will not be directly callable after loading.\n"
          ]
        },
        {
          "output_type": "stream",
          "name": "stdout",
          "text": [
            "\b\b\b\b\b\b\b\b\b\b\b\b\b\b\b\b\b\b\b\b\b\b\b\b\b\b\b\b\b\b\b\b\b\b\b\b\b\b\b\b\b\b\b\b\b\b\b\b\b\b\b\b\b\b\b\b\b\b\b\b\b\b\b\b\b\b\b\b\b\b\b\b\b\b\b\b\b\b\b\b\b\b\b\b\b\b\b\b\b\b\b\b\b\b\b\b\b\b\b\b\r18/18 [==============================] - 1s 63ms/step - loss: 149.3833 - mae: 149.3833 - mse: 123987.5234 - val_loss: 818.5051 - val_mae: 818.5051 - val_mse: 2274003.2500\n",
            "Epoch 11/100\n",
            "12/18 [===================>..........] - ETA: 0s - loss: 153.2850 - mae: 153.2850 - mse: 132902.5625"
          ]
        },
        {
          "output_type": "stream",
          "name": "stderr",
          "text": [
            "WARNING:absl:Found untraced functions such as _update_step_xla while saving (showing 1 of 1). These functions will not be directly callable after loading.\n"
          ]
        },
        {
          "output_type": "stream",
          "name": "stdout",
          "text": [
            "\b\b\b\b\b\b\b\b\b\b\b\b\b\b\b\b\b\b\b\b\b\b\b\b\b\b\b\b\b\b\b\b\b\b\b\b\b\b\b\b\b\b\b\b\b\b\b\b\b\b\b\b\b\b\b\b\b\b\b\b\b\b\b\b\b\b\b\b\b\b\b\b\b\b\b\b\b\b\b\b\b\b\b\b\b\b\b\b\b\b\b\b\b\b\b\b\b\b\b\b\r18/18 [==============================] - 1s 75ms/step - loss: 145.5024 - mae: 145.5024 - mse: 117866.2422 - val_loss: 804.5117 - val_mae: 804.5117 - val_mse: 2175703.5000\n",
            "Epoch 12/100\n",
            "18/18 [==============================] - 0s 14ms/step - loss: 142.3135 - mae: 142.3135 - mse: 113382.7656 - val_loss: 810.6111 - val_mae: 810.6111 - val_mse: 2126672.0000\n",
            "Epoch 13/100\n",
            "18/18 [==============================] - 0s 14ms/step - loss: 142.6771 - mae: 142.6771 - mse: 113423.8359 - val_loss: 832.1588 - val_mae: 832.1588 - val_mse: 2136437.7500\n",
            "Epoch 14/100\n",
            "11/18 [=================>............] - ETA: 0s - loss: 132.9745 - mae: 132.9745 - mse: 98966.2812"
          ]
        },
        {
          "output_type": "stream",
          "name": "stderr",
          "text": [
            "WARNING:absl:Found untraced functions such as _update_step_xla while saving (showing 1 of 1). These functions will not be directly callable after loading.\n"
          ]
        },
        {
          "output_type": "stream",
          "name": "stdout",
          "text": [
            "\b\b\b\b\b\b\b\b\b\b\b\b\b\b\b\b\b\b\b\b\b\b\b\b\b\b\b\b\b\b\b\b\b\b\b\b\b\b\b\b\b\b\b\b\b\b\b\b\b\b\b\b\b\b\b\b\b\b\b\b\b\b\b\b\b\b\b\b\b\b\b\b\b\b\b\b\b\b\b\b\b\b\b\b\b\b\b\b\b\b\b\b\b\b\b\b\b\b\b\r18/18 [==============================] - 1s 77ms/step - loss: 139.0432 - mae: 139.0432 - mse: 106726.6641 - val_loss: 786.5219 - val_mae: 786.5219 - val_mse: 1991317.8750\n",
            "Epoch 15/100\n",
            "12/18 [===================>..........] - ETA: 0s - loss: 130.3956 - mae: 130.3956 - mse: 95776.6016 "
          ]
        },
        {
          "output_type": "stream",
          "name": "stderr",
          "text": [
            "WARNING:absl:Found untraced functions such as _update_step_xla while saving (showing 1 of 1). These functions will not be directly callable after loading.\n"
          ]
        },
        {
          "output_type": "stream",
          "name": "stdout",
          "text": [
            "\b\b\b\b\b\b\b\b\b\b\b\b\b\b\b\b\b\b\b\b\b\b\b\b\b\b\b\b\b\b\b\b\b\b\b\b\b\b\b\b\b\b\b\b\b\b\b\b\b\b\b\b\b\b\b\b\b\b\b\b\b\b\b\b\b\b\b\b\b\b\b\b\b\b\b\b\b\b\b\b\b\b\b\b\b\b\b\b\b\b\b\b\b\b\b\b\b\b\b\r18/18 [==============================] - 1s 87ms/step - loss: 136.0749 - mae: 136.0749 - mse: 103885.9766 - val_loss: 747.9601 - val_mae: 747.9601 - val_mse: 1867404.8750\n",
            "Epoch 16/100\n",
            "18/18 [==============================] - 0s 8ms/step - loss: 132.4276 - mae: 132.4276 - mse: 98924.1797 - val_loss: 753.2552 - val_mae: 753.2552 - val_mse: 1846230.5000\n",
            "Epoch 17/100\n",
            "13/18 [====================>.........] - ETA: 0s - loss: 132.3488 - mae: 132.3488 - mse: 98997.9453"
          ]
        },
        {
          "output_type": "stream",
          "name": "stderr",
          "text": [
            "WARNING:absl:Found untraced functions such as _update_step_xla while saving (showing 1 of 1). These functions will not be directly callable after loading.\n"
          ]
        },
        {
          "output_type": "stream",
          "name": "stdout",
          "text": [
            "\b\b\b\b\b\b\b\b\b\b\b\b\b\b\b\b\b\b\b\b\b\b\b\b\b\b\b\b\b\b\b\b\b\b\b\b\b\b\b\b\b\b\b\b\b\b\b\b\b\b\b\b\b\b\b\b\b\b\b\b\b\b\b\b\b\b\b\b\b\b\b\b\b\b\b\b\b\b\b\b\b\b\b\b\b\b\b\b\b\b\b\b\b\b\b\b\b\b\b\r18/18 [==============================] - 1s 57ms/step - loss: 131.5004 - mae: 131.5004 - mse: 97790.8125 - val_loss: 744.8328 - val_mae: 744.8328 - val_mse: 1799073.5000\n",
            "Epoch 18/100\n",
            "16/18 [=========================>....] - ETA: 0s - loss: 134.7740 - mae: 134.7740 - mse: 102308.3594"
          ]
        },
        {
          "output_type": "stream",
          "name": "stderr",
          "text": [
            "WARNING:absl:Found untraced functions such as _update_step_xla while saving (showing 1 of 1). These functions will not be directly callable after loading.\n"
          ]
        },
        {
          "output_type": "stream",
          "name": "stdout",
          "text": [
            "\b\b\b\b\b\b\b\b\b\b\b\b\b\b\b\b\b\b\b\b\b\b\b\b\b\b\b\b\b\b\b\b\b\b\b\b\b\b\b\b\b\b\b\b\b\b\b\b\b\b\b\b\b\b\b\b\b\b\b\b\b\b\b\b\b\b\b\b\b\b\b\b\b\b\b\b\b\b\b\b\b\b\b\b\b\b\b\b\b\b\b\b\b\b\b\b\b\b\b\b\r18/18 [==============================] - 1s 59ms/step - loss: 130.8030 - mae: 130.8030 - mse: 96978.9062 - val_loss: 725.1486 - val_mae: 725.1486 - val_mse: 1725245.5000\n",
            "Epoch 19/100\n",
            "11/18 [=================>............] - ETA: 0s - loss: 131.7178 - mae: 131.7178 - mse: 105010.9219"
          ]
        },
        {
          "output_type": "stream",
          "name": "stderr",
          "text": [
            "WARNING:absl:Found untraced functions such as _update_step_xla while saving (showing 1 of 1). These functions will not be directly callable after loading.\n"
          ]
        },
        {
          "output_type": "stream",
          "name": "stdout",
          "text": [
            "\b\b\b\b\b\b\b\b\b\b\b\b\b\b\b\b\b\b\b\b\b\b\b\b\b\b\b\b\b\b\b\b\b\b\b\b\b\b\b\b\b\b\b\b\b\b\b\b\b\b\b\b\b\b\b\b\b\b\b\b\b\b\b\b\b\b\b\b\b\b\b\b\b\b\b\b\b\b\b\b\b\b\b\b\b\b\b\b\b\b\b\b\b\b\b\b\b\b\b\b\r18/18 [==============================] - 1s 56ms/step - loss: 127.2640 - mae: 127.2640 - mse: 92182.5938 - val_loss: 719.4996 - val_mae: 719.4996 - val_mse: 1688056.5000\n",
            "Epoch 20/100\n",
            "12/18 [===================>..........] - ETA: 0s - loss: 128.1420 - mae: 128.1420 - mse: 94352.6328 "
          ]
        },
        {
          "output_type": "stream",
          "name": "stderr",
          "text": [
            "WARNING:absl:Found untraced functions such as _update_step_xla while saving (showing 1 of 1). These functions will not be directly callable after loading.\n"
          ]
        },
        {
          "output_type": "stream",
          "name": "stdout",
          "text": [
            "\b\b\b\b\b\b\b\b\b\b\b\b\b\b\b\b\b\b\b\b\b\b\b\b\b\b\b\b\b\b\b\b\b\b\b\b\b\b\b\b\b\b\b\b\b\b\b\b\b\b\b\b\b\b\b\b\b\b\b\b\b\b\b\b\b\b\b\b\b\b\b\b\b\b\b\b\b\b\b\b\b\b\b\b\b\b\b\b\b\b\b\b\b\b\b\b\b\b\b\r18/18 [==============================] - 1s 64ms/step - loss: 126.0866 - mae: 126.0866 - mse: 92098.9141 - val_loss: 714.6266 - val_mae: 714.6266 - val_mse: 1740934.2500\n",
            "Epoch 21/100\n",
            "12/18 [===================>..........] - ETA: 0s - loss: 132.1796 - mae: 132.1796 - mse: 94674.7109 "
          ]
        },
        {
          "output_type": "stream",
          "name": "stderr",
          "text": [
            "WARNING:absl:Found untraced functions such as _update_step_xla while saving (showing 1 of 1). These functions will not be directly callable after loading.\n"
          ]
        },
        {
          "output_type": "stream",
          "name": "stdout",
          "text": [
            "\b\b\b\b\b\b\b\b\b\b\b\b\b\b\b\b\b\b\b\b\b\b\b\b\b\b\b\b\b\b\b\b\b\b\b\b\b\b\b\b\b\b\b\b\b\b\b\b\b\b\b\b\b\b\b\b\b\b\b\b\b\b\b\b\b\b\b\b\b\b\b\b\b\b\b\b\b\b\b\b\b\b\b\b\b\b\b\b\b\b\b\b\b\b\b\b\b\b\b\r18/18 [==============================] - 1s 60ms/step - loss: 129.2124 - mae: 129.2124 - mse: 94704.4062 - val_loss: 681.7356 - val_mae: 681.7356 - val_mse: 1567450.6250\n",
            "Epoch 22/100\n",
            " 1/18 [>.............................] - ETA: 0s - loss: 175.7789 - mae: 175.7789 - mse: 176582.1875"
          ]
        },
        {
          "output_type": "stream",
          "name": "stderr",
          "text": [
            "WARNING:absl:Found untraced functions such as _update_step_xla while saving (showing 1 of 1). These functions will not be directly callable after loading.\n"
          ]
        },
        {
          "output_type": "stream",
          "name": "stdout",
          "text": [
            "\b\b\b\b\b\b\b\b\b\b\b\b\b\b\b\b\b\b\b\b\b\b\b\b\b\b\b\b\b\b\b\b\b\b\b\b\b\b\b\b\b\b\b\b\b\b\b\b\b\b\b\b\b\b\b\b\b\b\b\b\b\b\b\b\b\b\b\b\b\b\b\b\b\b\b\b\b\b\b\b\b\b\b\b\b\b\b\b\b\b\b\b\b\b\b\b\b\b\b\b\r18/18 [==============================] - 0s 29ms/step - loss: 123.6975 - mae: 123.6975 - mse: 88103.0078 - val_loss: 676.0070 - val_mae: 676.0070 - val_mse: 1533340.1250\n",
            "Epoch 23/100\n",
            "18/18 [==============================] - 0s 5ms/step - loss: 124.1439 - mae: 124.1439 - mse: 88450.9844 - val_loss: 685.4307 - val_mae: 685.4307 - val_mse: 1538959.0000\n",
            "Epoch 24/100\n",
            " 1/18 [>.............................] - ETA: 0s - loss: 132.0941 - mae: 132.0941 - mse: 79073.9062"
          ]
        },
        {
          "output_type": "stream",
          "name": "stderr",
          "text": [
            "WARNING:absl:Found untraced functions such as _update_step_xla while saving (showing 1 of 1). These functions will not be directly callable after loading.\n"
          ]
        },
        {
          "output_type": "stream",
          "name": "stdout",
          "text": [
            "\b\b\b\b\b\b\b\b\b\b\b\b\b\b\b\b\b\b\b\b\b\b\b\b\b\b\b\b\b\b\b\b\b\b\b\b\b\b\b\b\b\b\b\b\b\b\b\b\b\b\b\b\b\b\b\b\b\b\b\b\b\b\b\b\b\b\b\b\b\b\b\b\b\b\b\b\b\b\b\b\b\b\b\b\b\b\b\b\b\b\b\b\b\b\b\b\b\b\b\r18/18 [==============================] - 0s 27ms/step - loss: 120.8004 - mae: 120.8004 - mse: 83766.3203 - val_loss: 675.9192 - val_mae: 675.9192 - val_mse: 1504310.8750\n",
            "Epoch 25/100\n",
            " 1/18 [>.............................] - ETA: 0s - loss: 135.4853 - mae: 135.4853 - mse: 76775.8594"
          ]
        },
        {
          "output_type": "stream",
          "name": "stderr",
          "text": [
            "WARNING:absl:Found untraced functions such as _update_step_xla while saving (showing 1 of 1). These functions will not be directly callable after loading.\n"
          ]
        },
        {
          "output_type": "stream",
          "name": "stdout",
          "text": [
            "\b\b\b\b\b\b\b\b\b\b\b\b\b\b\b\b\b\b\b\b\b\b\b\b\b\b\b\b\b\b\b\b\b\b\b\b\b\b\b\b\b\b\b\b\b\b\b\b\b\b\b\b\b\b\b\b\b\b\b\b\b\b\b\b\b\b\b\b\b\b\b\b\b\b\b\b\b\b\b\b\b\b\b\b\b\b\b\b\b\b\b\b\b\b\b\b\b\b\b\r18/18 [==============================] - 0s 28ms/step - loss: 119.3263 - mae: 119.3263 - mse: 82529.9062 - val_loss: 650.8288 - val_mae: 650.8288 - val_mse: 1471770.7500\n",
            "Epoch 26/100\n",
            "18/18 [==============================] - 0s 6ms/step - loss: 124.2577 - mae: 124.2577 - mse: 84059.8047 - val_loss: 675.9068 - val_mae: 675.9068 - val_mse: 1557721.5000\n",
            "Epoch 27/100\n",
            " 1/18 [>.............................] - ETA: 0s - loss: 175.9742 - mae: 175.9742 - mse: 146082.9062"
          ]
        },
        {
          "output_type": "stream",
          "name": "stderr",
          "text": [
            "WARNING:absl:Found untraced functions such as _update_step_xla while saving (showing 1 of 1). These functions will not be directly callable after loading.\n"
          ]
        },
        {
          "output_type": "stream",
          "name": "stdout",
          "text": [
            "\b\b\b\b\b\b\b\b\b\b\b\b\b\b\b\b\b\b\b\b\b\b\b\b\b\b\b\b\b\b\b\b\b\b\b\b\b\b\b\b\b\b\b\b\b\b\b\b\b\b\b\b\b\b\b\b\b\b\b\b\b\b\b\b\b\b\b\b\b\b\b\b\b\b\b\b\b\b\b\b\b\b\b\b\b\b\b\b\b\b\b\b\b\b\b\b\b\b\b\b\r18/18 [==============================] - 0s 29ms/step - loss: 121.0905 - mae: 121.0905 - mse: 84400.0078 - val_loss: 643.1326 - val_mae: 643.1326 - val_mse: 1441002.7500\n",
            "Epoch 28/100\n",
            " 1/18 [>.............................] - ETA: 0s - loss: 112.2806 - mae: 112.2806 - mse: 66496.1719"
          ]
        },
        {
          "output_type": "stream",
          "name": "stderr",
          "text": [
            "WARNING:absl:Found untraced functions such as _update_step_xla while saving (showing 1 of 1). These functions will not be directly callable after loading.\n"
          ]
        },
        {
          "output_type": "stream",
          "name": "stdout",
          "text": [
            "\b\b\b\b\b\b\b\b\b\b\b\b\b\b\b\b\b\b\b\b\b\b\b\b\b\b\b\b\b\b\b\b\b\b\b\b\b\b\b\b\b\b\b\b\b\b\b\b\b\b\b\b\b\b\b\b\b\b\b\b\b\b\b\b\b\b\b\b\b\b\b\b\b\b\b\b\b\b\b\b\b\b\b\b\b\b\b\b\b\b\b\b\b\b\b\b\b\b\b\r18/18 [==============================] - 0s 27ms/step - loss: 116.7260 - mae: 116.7260 - mse: 79547.1328 - val_loss: 641.3295 - val_mae: 641.3295 - val_mse: 1394695.8750\n",
            "Epoch 29/100\n",
            " 1/18 [>.............................] - ETA: 0s - loss: 110.2338 - mae: 110.2338 - mse: 76712.7656"
          ]
        },
        {
          "output_type": "stream",
          "name": "stderr",
          "text": [
            "WARNING:absl:Found untraced functions such as _update_step_xla while saving (showing 1 of 1). These functions will not be directly callable after loading.\n"
          ]
        },
        {
          "output_type": "stream",
          "name": "stdout",
          "text": [
            "\b\b\b\b\b\b\b\b\b\b\b\b\b\b\b\b\b\b\b\b\b\b\b\b\b\b\b\b\b\b\b\b\b\b\b\b\b\b\b\b\b\b\b\b\b\b\b\b\b\b\b\b\b\b\b\b\b\b\b\b\b\b\b\b\b\b\b\b\b\b\b\b\b\b\b\b\b\b\b\b\b\b\b\b\b\b\b\b\b\b\b\b\b\b\b\b\b\b\b\r18/18 [==============================] - 0s 29ms/step - loss: 118.2067 - mae: 118.2067 - mse: 80541.5859 - val_loss: 628.7875 - val_mae: 628.7875 - val_mse: 1363514.2500\n",
            "Epoch 30/100\n",
            " 1/18 [>.............................] - ETA: 0s - loss: 128.2287 - mae: 128.2287 - mse: 87557.6328"
          ]
        },
        {
          "output_type": "stream",
          "name": "stderr",
          "text": [
            "WARNING:absl:Found untraced functions such as _update_step_xla while saving (showing 1 of 1). These functions will not be directly callable after loading.\n"
          ]
        },
        {
          "output_type": "stream",
          "name": "stdout",
          "text": [
            "\b\b\b\b\b\b\b\b\b\b\b\b\b\b\b\b\b\b\b\b\b\b\b\b\b\b\b\b\b\b\b\b\b\b\b\b\b\b\b\b\b\b\b\b\b\b\b\b\b\b\b\b\b\b\b\b\b\b\b\b\b\b\b\b\b\b\b\b\b\b\b\b\b\b\b\b\b\b\b\b\b\b\b\b\b\b\b\b\b\b\b\b\b\b\b\b\b\b\b\r18/18 [==============================] - 0s 27ms/step - loss: 118.3570 - mae: 118.3570 - mse: 79539.5234 - val_loss: 622.2944 - val_mae: 622.2944 - val_mse: 1354801.8750\n",
            "Epoch 31/100\n",
            "18/18 [==============================] - 0s 5ms/step - loss: 114.2174 - mae: 114.2174 - mse: 76791.5469 - val_loss: 650.1943 - val_mae: 650.1943 - val_mse: 1398316.7500\n",
            "Epoch 32/100\n",
            " 1/18 [>.............................] - ETA: 0s - loss: 116.6684 - mae: 116.6684 - mse: 79761.2969"
          ]
        },
        {
          "output_type": "stream",
          "name": "stderr",
          "text": [
            "WARNING:absl:Found untraced functions such as _update_step_xla while saving (showing 1 of 1). These functions will not be directly callable after loading.\n"
          ]
        },
        {
          "output_type": "stream",
          "name": "stdout",
          "text": [
            "\b\b\b\b\b\b\b\b\b\b\b\b\b\b\b\b\b\b\b\b\b\b\b\b\b\b\b\b\b\b\b\b\b\b\b\b\b\b\b\b\b\b\b\b\b\b\b\b\b\b\b\b\b\b\b\b\b\b\b\b\b\b\b\b\b\b\b\b\b\b\b\b\b\b\b\b\b\b\b\b\b\b\b\b\b\b\b\b\b\b\b\b\b\b\b\b\b\b\b\r18/18 [==============================] - 1s 38ms/step - loss: 117.4199 - mae: 117.4199 - mse: 80274.6250 - val_loss: 612.5175 - val_mae: 612.5175 - val_mse: 1316426.1250\n",
            "Epoch 33/100\n",
            "18/18 [==============================] - 0s 7ms/step - loss: 115.3450 - mae: 115.3450 - mse: 77932.3750 - val_loss: 625.3098 - val_mae: 625.3098 - val_mse: 1333263.0000\n",
            "Epoch 34/100\n",
            "14/18 [======================>.......] - ETA: 0s - loss: 116.9030 - mae: 116.9030 - mse: 84744.5781 "
          ]
        },
        {
          "output_type": "stream",
          "name": "stderr",
          "text": [
            "WARNING:absl:Found untraced functions such as _update_step_xla while saving (showing 1 of 1). These functions will not be directly callable after loading.\n"
          ]
        },
        {
          "output_type": "stream",
          "name": "stdout",
          "text": [
            "\b\b\b\b\b\b\b\b\b\b\b\b\b\b\b\b\b\b\b\b\b\b\b\b\b\b\b\b\b\b\b\b\b\b\b\b\b\b\b\b\b\b\b\b\b\b\b\b\b\b\b\b\b\b\b\b\b\b\b\b\b\b\b\b\b\b\b\b\b\b\b\b\b\b\b\b\b\b\b\b\b\b\b\b\b\b\b\b\b\b\b\b\b\b\b\b\b\b\b\r18/18 [==============================] - 1s 41ms/step - loss: 114.4267 - mae: 114.4267 - mse: 77678.3125 - val_loss: 603.9234 - val_mae: 603.9234 - val_mse: 1290452.1250\n",
            "Epoch 35/100\n",
            "18/18 [==============================] - 0s 7ms/step - loss: 111.4273 - mae: 111.4273 - mse: 75414.5469 - val_loss: 609.2564 - val_mae: 609.2564 - val_mse: 1304932.1250\n",
            "Epoch 36/100\n",
            "15/18 [========================>.....] - ETA: 0s - loss: 112.3218 - mae: 112.3218 - mse: 76166.8984 "
          ]
        },
        {
          "output_type": "stream",
          "name": "stderr",
          "text": [
            "WARNING:absl:Found untraced functions such as _update_step_xla while saving (showing 1 of 1). These functions will not be directly callable after loading.\n"
          ]
        },
        {
          "output_type": "stream",
          "name": "stdout",
          "text": [
            "\b\b\b\b\b\b\b\b\b\b\b\b\b\b\b\b\b\b\b\b\b\b\b\b\b\b\b\b\b\b\b\b\b\b\b\b\b\b\b\b\b\b\b\b\b\b\b\b\b\b\b\b\b\b\b\b\b\b\b\b\b\b\b\b\b\b\b\b\b\b\b\b\b\b\b\b\b\b\b\b\b\b\b\b\b\b\b\b\b\b\b\b\b\b\b\b\b\b\b\r18/18 [==============================] - 1s 37ms/step - loss: 113.9215 - mae: 113.9215 - mse: 75657.9766 - val_loss: 598.3939 - val_mae: 598.3939 - val_mse: 1269777.0000\n",
            "Epoch 37/100\n",
            "18/18 [==============================] - ETA: 0s - loss: 113.2151 - mae: 113.2151 - mse: 76640.5938 "
          ]
        },
        {
          "output_type": "stream",
          "name": "stderr",
          "text": [
            "WARNING:absl:Found untraced functions such as _update_step_xla while saving (showing 1 of 1). These functions will not be directly callable after loading.\n"
          ]
        },
        {
          "output_type": "stream",
          "name": "stdout",
          "text": [
            "\b\b\b\b\b\b\b\b\b\b\b\b\b\b\b\b\b\b\b\b\b\b\b\b\b\b\b\b\b\b\b\b\b\b\b\b\b\b\b\b\b\b\b\b\b\b\b\b\b\b\b\b\b\b\b\b\b\b\b\b\b\b\b\b\b\b\b\b\b\b\b\b\b\b\b\b\b\b\b\b\b\b\b\b\b\b\b\b\b\b\b\b\b\b\b\b\b\b\b\r18/18 [==============================] - 0s 28ms/step - loss: 113.2151 - mae: 113.2151 - mse: 76640.5938 - val_loss: 594.1689 - val_mae: 594.1689 - val_mse: 1259088.6250\n",
            "Epoch 38/100\n",
            "18/18 [==============================] - 0s 6ms/step - loss: 111.5890 - mae: 111.5890 - mse: 74503.2266 - val_loss: 608.4341 - val_mae: 608.4341 - val_mse: 1296912.1250\n",
            "Epoch 39/100\n",
            "18/18 [==============================] - 0s 5ms/step - loss: 114.3675 - mae: 114.3675 - mse: 74825.5078 - val_loss: 594.6649 - val_mae: 594.6649 - val_mse: 1258357.0000\n",
            "Epoch 40/100\n",
            " 1/18 [>.............................] - ETA: 0s - loss: 105.8300 - mae: 105.8300 - mse: 93816.6406"
          ]
        },
        {
          "output_type": "stream",
          "name": "stderr",
          "text": [
            "WARNING:absl:Found untraced functions such as _update_step_xla while saving (showing 1 of 1). These functions will not be directly callable after loading.\n"
          ]
        },
        {
          "output_type": "stream",
          "name": "stdout",
          "text": [
            "\b\b\b\b\b\b\b\b\b\b\b\b\b\b\b\b\b\b\b\b\b\b\b\b\b\b\b\b\b\b\b\b\b\b\b\b\b\b\b\b\b\b\b\b\b\b\b\b\b\b\b\b\b\b\b\b\b\b\b\b\b\b\b\b\b\b\b\b\b\b\b\b\b\b\b\b\b\b\b\b\b\b\b\b\b\b\b\b\b\b\b\b\b\b\b\b\b\b\b\r18/18 [==============================] - 1s 39ms/step - loss: 109.7306 - mae: 109.7306 - mse: 72615.7734 - val_loss: 591.0858 - val_mae: 591.0858 - val_mse: 1246868.7500\n",
            "Epoch 41/100\n",
            "18/18 [==============================] - 0s 5ms/step - loss: 111.4370 - mae: 111.4370 - mse: 73022.5312 - val_loss: 621.0292 - val_mae: 621.0292 - val_mse: 1317118.8750\n",
            "Epoch 42/100\n",
            "18/18 [==============================] - 0s 5ms/step - loss: 115.0154 - mae: 115.0154 - mse: 76526.3516 - val_loss: 609.0734 - val_mae: 609.0734 - val_mse: 1272324.5000\n",
            "Epoch 43/100\n",
            "18/18 [==============================] - 0s 5ms/step - loss: 113.8266 - mae: 113.8266 - mse: 72893.7656 - val_loss: 627.5564 - val_mae: 627.5564 - val_mse: 1328395.5000\n",
            "Epoch 44/100\n",
            "18/18 [==============================] - 0s 5ms/step - loss: 115.8882 - mae: 115.8882 - mse: 77030.6172 - val_loss: 591.2438 - val_mae: 591.2438 - val_mse: 1240687.1250\n",
            "Epoch 45/100\n",
            "18/18 [==============================] - 0s 6ms/step - loss: 108.7687 - mae: 108.7687 - mse: 71840.8438 - val_loss: 602.0266 - val_mae: 602.0266 - val_mse: 1252582.8750\n",
            "Epoch 46/100\n",
            " 1/18 [>.............................] - ETA: 0s - loss: 83.6527 - mae: 83.6527 - mse: 45817.0000"
          ]
        },
        {
          "output_type": "stream",
          "name": "stderr",
          "text": [
            "WARNING:absl:Found untraced functions such as _update_step_xla while saving (showing 1 of 1). These functions will not be directly callable after loading.\n"
          ]
        },
        {
          "output_type": "stream",
          "name": "stdout",
          "text": [
            "\b\b\b\b\b\b\b\b\b\b\b\b\b\b\b\b\b\b\b\b\b\b\b\b\b\b\b\b\b\b\b\b\b\b\b\b\b\b\b\b\b\b\b\b\b\b\b\b\b\b\b\b\b\b\b\b\b\b\b\b\b\b\b\b\b\b\b\b\b\b\b\b\b\b\b\b\b\b\b\b\b\b\b\b\b\b\b\b\b\b\b\b\b\b\b\b\b\r18/18 [==============================] - 0s 27ms/step - loss: 112.0866 - mae: 112.0866 - mse: 73101.2812 - val_loss: 585.9604 - val_mae: 585.9604 - val_mse: 1226714.5000\n",
            "Epoch 47/100\n",
            "18/18 [==============================] - 0s 5ms/step - loss: 112.8950 - mae: 112.8950 - mse: 74977.9297 - val_loss: 683.6014 - val_mae: 683.6014 - val_mse: 1444455.6250\n",
            "Epoch 48/100\n",
            "18/18 [==============================] - 0s 5ms/step - loss: 109.4504 - mae: 109.4504 - mse: 71449.2422 - val_loss: 590.9235 - val_mae: 590.9235 - val_mse: 1225954.1250\n",
            "Epoch 49/100\n",
            " 1/18 [>.............................] - ETA: 0s - loss: 154.7255 - mae: 154.7255 - mse: 114434.2578"
          ]
        },
        {
          "output_type": "stream",
          "name": "stderr",
          "text": [
            "WARNING:absl:Found untraced functions such as _update_step_xla while saving (showing 1 of 1). These functions will not be directly callable after loading.\n"
          ]
        },
        {
          "output_type": "stream",
          "name": "stdout",
          "text": [
            "\b\b\b\b\b\b\b\b\b\b\b\b\b\b\b\b\b\b\b\b\b\b\b\b\b\b\b\b\b\b\b\b\b\b\b\b\b\b\b\b\b\b\b\b\b\b\b\b\b\b\b\b\b\b\b\b\b\b\b\b\b\b\b\b\b\b\b\b\b\b\b\b\b\b\b\b\b\b\b\b\b\b\b\b\b\b\b\b\b\b\b\b\b\b\b\b\b\b\b\b\r18/18 [==============================] - 0s 29ms/step - loss: 110.9113 - mae: 110.9113 - mse: 71760.5859 - val_loss: 576.8130 - val_mae: 576.8130 - val_mse: 1202730.6250\n",
            "Epoch 50/100\n",
            "18/18 [==============================] - 0s 6ms/step - loss: 109.1905 - mae: 109.1905 - mse: 70857.5859 - val_loss: 615.5135 - val_mae: 615.5135 - val_mse: 1287727.6250\n",
            "Epoch 51/100\n",
            "18/18 [==============================] - 0s 5ms/step - loss: 109.1909 - mae: 109.1909 - mse: 70806.6641 - val_loss: 598.4968 - val_mae: 598.4968 - val_mse: 1235848.0000\n",
            "Epoch 52/100\n",
            "18/18 [==============================] - 0s 5ms/step - loss: 110.7992 - mae: 110.7992 - mse: 73110.8672 - val_loss: 577.5297 - val_mae: 577.5297 - val_mse: 1198845.5000\n",
            "Epoch 53/100\n",
            "18/18 [==============================] - 0s 5ms/step - loss: 110.4222 - mae: 110.4222 - mse: 72109.5938 - val_loss: 640.7705 - val_mae: 640.7705 - val_mse: 1331143.7500\n",
            "Epoch 54/100\n",
            "18/18 [==============================] - 0s 5ms/step - loss: 114.7485 - mae: 114.7485 - mse: 73600.0703 - val_loss: 600.6329 - val_mae: 600.6329 - val_mse: 1239657.3750\n",
            "Epoch 55/100\n",
            " 1/18 [>.............................] - ETA: 0s - loss: 129.1957 - mae: 129.1957 - mse: 98159.1875"
          ]
        },
        {
          "output_type": "stream",
          "name": "stderr",
          "text": [
            "WARNING:absl:Found untraced functions such as _update_step_xla while saving (showing 1 of 1). These functions will not be directly callable after loading.\n"
          ]
        },
        {
          "output_type": "stream",
          "name": "stdout",
          "text": [
            "\b\b\b\b\b\b\b\b\b\b\b\b\b\b\b\b\b\b\b\b\b\b\b\b\b\b\b\b\b\b\b\b\b\b\b\b\b\b\b\b\b\b\b\b\b\b\b\b\b\b\b\b\b\b\b\b\b\b\b\b\b\b\b\b\b\b\b\b\b\b\b\b\b\b\b\b\b\b\b\b\b\b\b\b\b\b\b\b\b\b\b\b\b\b\b\b\b\b\b\r18/18 [==============================] - 0s 27ms/step - loss: 111.1842 - mae: 111.1842 - mse: 73325.6406 - val_loss: 572.1926 - val_mae: 572.1926 - val_mse: 1185546.3750\n",
            "Epoch 56/100\n",
            "18/18 [==============================] - 0s 5ms/step - loss: 109.7081 - mae: 109.7081 - mse: 71636.3750 - val_loss: 763.8484 - val_mae: 763.8484 - val_mse: 1706579.1250\n",
            "Epoch 57/100\n",
            "18/18 [==============================] - 0s 5ms/step - loss: 130.8108 - mae: 130.8108 - mse: 86970.3438 - val_loss: 691.7520 - val_mae: 691.7520 - val_mse: 1481721.8750\n",
            "Epoch 58/100\n",
            "18/18 [==============================] - 0s 4ms/step - loss: 115.9598 - mae: 115.9598 - mse: 74385.2500 - val_loss: 633.9919 - val_mae: 633.9919 - val_mse: 1326620.5000\n",
            "Epoch 59/100\n",
            "18/18 [==============================] - 0s 5ms/step - loss: 109.0599 - mae: 109.0599 - mse: 70327.5156 - val_loss: 578.5963 - val_mae: 578.5963 - val_mse: 1202163.5000\n",
            "Epoch 60/100\n",
            "18/18 [==============================] - 0s 5ms/step - loss: 109.0953 - mae: 109.0953 - mse: 72269.7109 - val_loss: 636.4926 - val_mae: 636.4926 - val_mse: 1315986.0000\n",
            "Epoch 61/100\n",
            "18/18 [==============================] - 0s 5ms/step - loss: 109.0176 - mae: 109.0176 - mse: 71697.0156 - val_loss: 581.1273 - val_mae: 581.1273 - val_mse: 1193742.2500\n",
            "Epoch 62/100\n",
            "18/18 [==============================] - 0s 5ms/step - loss: 108.7092 - mae: 108.7092 - mse: 70368.1719 - val_loss: 604.8789 - val_mae: 604.8789 - val_mse: 1252477.3750\n",
            "Epoch 63/100\n",
            "18/18 [==============================] - 0s 5ms/step - loss: 112.4291 - mae: 112.4291 - mse: 73112.5391 - val_loss: 610.9917 - val_mae: 610.9917 - val_mse: 1256631.3750\n",
            "Epoch 64/100\n",
            "18/18 [==============================] - 0s 5ms/step - loss: 111.2587 - mae: 111.2587 - mse: 71553.9609 - val_loss: 662.3392 - val_mae: 662.3392 - val_mse: 1375871.6250\n",
            "Epoch 65/100\n",
            "18/18 [==============================] - 0s 5ms/step - loss: 110.4685 - mae: 110.4685 - mse: 71812.0312 - val_loss: 576.6140 - val_mae: 576.6140 - val_mse: 1191130.8750\n",
            "Epoch 66/100\n",
            " 1/18 [>.............................] - ETA: 0s - loss: 116.8816 - mae: 116.8816 - mse: 79359.6484"
          ]
        },
        {
          "output_type": "stream",
          "name": "stderr",
          "text": [
            "WARNING:absl:Found untraced functions such as _update_step_xla while saving (showing 1 of 1). These functions will not be directly callable after loading.\n"
          ]
        },
        {
          "output_type": "stream",
          "name": "stdout",
          "text": [
            "\b\b\b\b\b\b\b\b\b\b\b\b\b\b\b\b\b\b\b\b\b\b\b\b\b\b\b\b\b\b\b\b\b\b\b\b\b\b\b\b\b\b\b\b\b\b\b\b\b\b\b\b\b\b\b\b\b\b\b\b\b\b\b\b\b\b\b\b\b\b\b\b\b\b\b\b\b\b\b\b\b\b\b\b\b\b\b\b\b\b\b\b\b\b\b\b\b\b\b\r18/18 [==============================] - 0s 27ms/step - loss: 106.6224 - mae: 106.6224 - mse: 69029.3828 - val_loss: 568.8024 - val_mae: 568.8024 - val_mse: 1171141.3750\n",
            "Epoch 67/100\n",
            "18/18 [==============================] - 0s 5ms/step - loss: 105.1644 - mae: 105.1644 - mse: 67896.0859 - val_loss: 627.3135 - val_mae: 627.3135 - val_mse: 1301260.1250\n",
            "Epoch 68/100\n",
            "18/18 [==============================] - 0s 5ms/step - loss: 113.4739 - mae: 113.4739 - mse: 69119.0547 - val_loss: 696.4592 - val_mae: 696.4592 - val_mse: 1483708.1250\n",
            "Epoch 69/100\n",
            "18/18 [==============================] - 0s 5ms/step - loss: 123.1845 - mae: 123.1845 - mse: 79396.3359 - val_loss: 657.3510 - val_mae: 657.3510 - val_mse: 1378081.1250\n",
            "Epoch 70/100\n",
            "18/18 [==============================] - 0s 5ms/step - loss: 122.2929 - mae: 122.2929 - mse: 79255.2266 - val_loss: 577.2891 - val_mae: 577.2891 - val_mse: 1191102.5000\n",
            "Epoch 71/100\n",
            "18/18 [==============================] - 0s 5ms/step - loss: 108.8473 - mae: 108.8473 - mse: 68868.9844 - val_loss: 585.6149 - val_mae: 585.6149 - val_mse: 1200904.0000\n",
            "Epoch 72/100\n",
            "18/18 [==============================] - 0s 5ms/step - loss: 107.0658 - mae: 107.0658 - mse: 69506.5391 - val_loss: 570.3105 - val_mae: 570.3105 - val_mse: 1173519.0000\n",
            "Epoch 73/100\n",
            "18/18 [==============================] - 0s 5ms/step - loss: 109.7125 - mae: 109.7125 - mse: 70470.7734 - val_loss: 603.4639 - val_mae: 603.4639 - val_mse: 1244740.3750\n",
            "Epoch 74/100\n",
            "18/18 [==============================] - 0s 5ms/step - loss: 106.2941 - mae: 106.2941 - mse: 69086.7734 - val_loss: 569.1794 - val_mae: 569.1794 - val_mse: 1170165.1250\n",
            "Epoch 75/100\n",
            "18/18 [==============================] - 0s 5ms/step - loss: 108.9171 - mae: 108.9171 - mse: 69961.8516 - val_loss: 629.6121 - val_mae: 629.6121 - val_mse: 1294372.1250\n",
            "Epoch 76/100\n",
            "18/18 [==============================] - 0s 5ms/step - loss: 110.4314 - mae: 110.4314 - mse: 71285.2266 - val_loss: 584.2487 - val_mae: 584.2487 - val_mse: 1201602.1250\n",
            "Epoch 77/100\n",
            "18/18 [==============================] - 0s 5ms/step - loss: 108.4925 - mae: 108.4925 - mse: 69370.1016 - val_loss: 573.7324 - val_mae: 573.7324 - val_mse: 1179111.3750\n",
            "Epoch 78/100\n",
            " 1/18 [>.............................] - ETA: 0s - loss: 108.8433 - mae: 108.8433 - mse: 52922.1992"
          ]
        },
        {
          "output_type": "stream",
          "name": "stderr",
          "text": [
            "WARNING:absl:Found untraced functions such as _update_step_xla while saving (showing 1 of 1). These functions will not be directly callable after loading.\n"
          ]
        },
        {
          "output_type": "stream",
          "name": "stdout",
          "text": [
            "\b\b\b\b\b\b\b\b\b\b\b\b\b\b\b\b\b\b\b\b\b\b\b\b\b\b\b\b\b\b\b\b\b\b\b\b\b\b\b\b\b\b\b\b\b\b\b\b\b\b\b\b\b\b\b\b\b\b\b\b\b\b\b\b\b\b\b\b\b\b\b\b\b\b\b\b\b\b\b\b\b\b\b\b\b\b\b\b\b\b\b\b\b\b\b\b\b\b\b\r18/18 [==============================] - 0s 27ms/step - loss: 106.4401 - mae: 106.4401 - mse: 68095.0781 - val_loss: 567.8501 - val_mae: 567.8501 - val_mse: 1164497.5000\n",
            "Epoch 79/100\n",
            "18/18 [==============================] - 0s 5ms/step - loss: 105.9171 - mae: 105.9171 - mse: 69361.0234 - val_loss: 575.9356 - val_mae: 575.9356 - val_mse: 1185073.2500\n",
            "Epoch 80/100\n",
            "18/18 [==============================] - 0s 5ms/step - loss: 106.1483 - mae: 106.1483 - mse: 69324.7422 - val_loss: 576.9654 - val_mae: 576.9654 - val_mse: 1176374.5000\n",
            "Epoch 81/100\n",
            "18/18 [==============================] - 0s 5ms/step - loss: 106.2817 - mae: 106.2817 - mse: 68280.2422 - val_loss: 569.8843 - val_mae: 569.8843 - val_mse: 1168697.1250\n",
            "Epoch 82/100\n",
            "18/18 [==============================] - 0s 5ms/step - loss: 113.6229 - mae: 113.6229 - mse: 74231.6562 - val_loss: 571.0629 - val_mae: 571.0629 - val_mse: 1172766.1250\n",
            "Epoch 83/100\n",
            "18/18 [==============================] - 0s 4ms/step - loss: 110.6063 - mae: 110.6063 - mse: 70998.8203 - val_loss: 671.5125 - val_mae: 671.5125 - val_mse: 1407998.3750\n",
            "Epoch 84/100\n",
            "18/18 [==============================] - 0s 4ms/step - loss: 112.2821 - mae: 112.2821 - mse: 70758.8516 - val_loss: 574.4454 - val_mae: 574.4454 - val_mse: 1182950.5000\n",
            "Epoch 85/100\n",
            "18/18 [==============================] - 0s 5ms/step - loss: 105.7838 - mae: 105.7838 - mse: 68465.4766 - val_loss: 583.3104 - val_mae: 583.3104 - val_mse: 1189466.0000\n",
            "Epoch 86/100\n",
            "18/18 [==============================] - 0s 5ms/step - loss: 106.8222 - mae: 106.8222 - mse: 67709.9375 - val_loss: 584.8114 - val_mae: 584.8114 - val_mse: 1194338.6250\n",
            "Epoch 87/100\n",
            "18/18 [==============================] - 0s 5ms/step - loss: 106.4134 - mae: 106.4134 - mse: 67313.4375 - val_loss: 570.3574 - val_mae: 570.3574 - val_mse: 1170807.7500\n",
            "Epoch 88/100\n",
            "18/18 [==============================] - 0s 5ms/step - loss: 105.8767 - mae: 105.8767 - mse: 68933.5156 - val_loss: 575.9248 - val_mae: 575.9248 - val_mse: 1184273.7500\n",
            "Epoch 89/100\n",
            " 1/18 [>.............................] - ETA: 0s - loss: 102.9114 - mae: 102.9114 - mse: 64066.4609"
          ]
        },
        {
          "output_type": "stream",
          "name": "stderr",
          "text": [
            "WARNING:absl:Found untraced functions such as _update_step_xla while saving (showing 1 of 1). These functions will not be directly callable after loading.\n"
          ]
        },
        {
          "output_type": "stream",
          "name": "stdout",
          "text": [
            "\b\b\b\b\b\b\b\b\b\b\b\b\b\b\b\b\b\b\b\b\b\b\b\b\b\b\b\b\b\b\b\b\b\b\b\b\b\b\b\b\b\b\b\b\b\b\b\b\b\b\b\b\b\b\b\b\b\b\b\b\b\b\b\b\b\b\b\b\b\b\b\b\b\b\b\b\b\b\b\b\b\b\b\b\b\b\b\b\b\b\b\b\b\b\b\b\b\b\b\r18/18 [==============================] - 0s 27ms/step - loss: 105.8318 - mae: 105.8318 - mse: 68101.0469 - val_loss: 566.0012 - val_mae: 566.0012 - val_mse: 1157765.1250\n",
            "Epoch 90/100\n",
            "18/18 [==============================] - 0s 5ms/step - loss: 105.7031 - mae: 105.7031 - mse: 67055.5000 - val_loss: 625.7344 - val_mae: 625.7344 - val_mse: 1279580.3750\n",
            "Epoch 91/100\n",
            "18/18 [==============================] - 0s 5ms/step - loss: 112.2625 - mae: 112.2625 - mse: 71488.0859 - val_loss: 657.0490 - val_mae: 657.0490 - val_mse: 1369611.5000\n",
            "Epoch 92/100\n",
            "18/18 [==============================] - 0s 6ms/step - loss: 107.5380 - mae: 107.5380 - mse: 68800.2031 - val_loss: 570.4370 - val_mae: 570.4370 - val_mse: 1170615.0000\n",
            "Epoch 93/100\n",
            "18/18 [==============================] - 0s 5ms/step - loss: 110.6538 - mae: 110.6538 - mse: 69040.2891 - val_loss: 588.9293 - val_mae: 588.9293 - val_mse: 1210886.7500\n",
            "Epoch 94/100\n",
            "18/18 [==============================] - 0s 5ms/step - loss: 112.2562 - mae: 112.2562 - mse: 72564.9531 - val_loss: 593.3301 - val_mae: 593.3301 - val_mse: 1206934.1250\n",
            "Epoch 95/100\n",
            "18/18 [==============================] - 0s 5ms/step - loss: 105.2867 - mae: 105.2867 - mse: 67049.0938 - val_loss: 567.5770 - val_mae: 567.5770 - val_mse: 1157634.5000\n",
            "Epoch 96/100\n",
            "18/18 [==============================] - 0s 6ms/step - loss: 106.6608 - mae: 106.6608 - mse: 67551.2812 - val_loss: 588.5917 - val_mae: 588.5917 - val_mse: 1213856.5000\n",
            "Epoch 97/100\n",
            "18/18 [==============================] - 0s 5ms/step - loss: 106.9461 - mae: 106.9461 - mse: 69076.3516 - val_loss: 590.7094 - val_mae: 590.7094 - val_mse: 1202624.5000\n",
            "Epoch 98/100\n",
            "18/18 [==============================] - 0s 5ms/step - loss: 106.8200 - mae: 106.8200 - mse: 68889.8047 - val_loss: 567.5953 - val_mae: 567.5953 - val_mse: 1162485.6250\n",
            "Epoch 99/100\n",
            "18/18 [==============================] - 0s 5ms/step - loss: 106.2268 - mae: 106.2268 - mse: 68707.5391 - val_loss: 566.4280 - val_mae: 566.4280 - val_mse: 1159369.5000\n",
            "Epoch 100/100\n",
            "18/18 [==============================] - 0s 6ms/step - loss: 108.1187 - mae: 108.1187 - mse: 67818.3516 - val_loss: 612.4571 - val_mae: 612.4571 - val_mse: 1248845.7500\n"
          ]
        },
        {
          "output_type": "execute_result",
          "data": {
            "text/plain": [
              "<keras.callbacks.History at 0x7fe700049d30>"
            ]
          },
          "metadata": {},
          "execution_count": 33
        }
      ]
    },
    {
      "cell_type": "code",
      "source": [
        "# Eval\n",
        "model_1.evaluate(test_windows, test_labels)"
      ],
      "metadata": {
        "colab": {
          "base_uri": "https://localhost:8080/"
        },
        "id": "WswOVg4GOG9q",
        "outputId": "40cf5e25-ce7f-40f0-bb01-501b60ea10a6"
      },
      "execution_count": null,
      "outputs": [
        {
          "output_type": "stream",
          "name": "stdout",
          "text": [
            "18/18 [==============================] - 0s 2ms/step - loss: 612.4571 - mae: 612.4571 - mse: 1248845.3750\n"
          ]
        },
        {
          "output_type": "execute_result",
          "data": {
            "text/plain": [
              "[612.4570922851562, 612.4570922851562, 1248845.375]"
            ]
          },
          "metadata": {},
          "execution_count": 34
        }
      ]
    },
    {
      "cell_type": "code",
      "source": [
        "# loading model\n",
        "model_1 = tf.keras.models.load_model(\"model_experiments/model_1_dense/\")\n",
        "model_1.evaluate(test_windows, test_labels)"
      ],
      "metadata": {
        "colab": {
          "base_uri": "https://localhost:8080/"
        },
        "id": "70v1-AOePfUe",
        "outputId": "b4df5923-dd56-4f46-a307-c6afc2c72410"
      },
      "execution_count": null,
      "outputs": [
        {
          "output_type": "stream",
          "name": "stdout",
          "text": [
            "18/18 [==============================] - 0s 2ms/step - loss: 566.0012 - mae: 566.0012 - mse: 1157764.7500\n"
          ]
        },
        {
          "output_type": "execute_result",
          "data": {
            "text/plain": [
              "[566.0011596679688, 566.0011596679688, 1157764.75]"
            ]
          },
          "metadata": {},
          "execution_count": 35
        }
      ]
    },
    {
      "cell_type": "code",
      "source": [
        "def make_preds(model, input_data):\n",
        "  forecast = model.predict(input_data)\n",
        "  return tf.squeeze(forecast)"
      ],
      "metadata": {
        "id": "YAXjX4ZxP4nD"
      },
      "execution_count": null,
      "outputs": []
    },
    {
      "cell_type": "code",
      "source": [
        "# Make preds\n",
        "model_1_preds = make_preds(model_1, test_windows)\n",
        "len(model_1_preds), model_1_preds[:10]"
      ],
      "metadata": {
        "colab": {
          "base_uri": "https://localhost:8080/"
        },
        "id": "bEFo69XP0ow7",
        "outputId": "e8b7f934-973f-4801-ddaf-f4ba4e611ab8"
      },
      "execution_count": null,
      "outputs": [
        {
          "output_type": "stream",
          "name": "stdout",
          "text": [
            "18/18 [==============================] - 0s 1ms/step\n"
          ]
        },
        {
          "output_type": "execute_result",
          "data": {
            "text/plain": [
              "(556, <tf.Tensor: shape=(10,), dtype=float32, numpy=\n",
              " array([8860.644, 8803.733, 9062.801, 8778.278, 8761.762, 8772.484,\n",
              "        8681.05 , 8540.179, 8481.956, 8546.333], dtype=float32)>)"
            ]
          },
          "metadata": {},
          "execution_count": 37
        }
      ]
    },
    {
      "cell_type": "code",
      "source": [
        "# Eval preds\n",
        "model_1_res = evaluate_preds(y_true = tf.squeeze(test_labels),\n",
        "                                                 y_pred = model_1_preds)\n",
        "model_1_res"
      ],
      "metadata": {
        "colab": {
          "base_uri": "https://localhost:8080/"
        },
        "id": "xTjRw-cv1FZZ",
        "outputId": "ccd04353-6ceb-402c-a9dd-cc3f6d83b444"
      },
      "execution_count": null,
      "outputs": [
        {
          "output_type": "execute_result",
          "data": {
            "text/plain": [
              "{'mae': 566.00116,\n",
              " 'mse': 1157764.9,\n",
              " 'rmse': 1075.9949,\n",
              " 'mape': 2.5279796,\n",
              " 'mase': 0.9943073}"
            ]
          },
          "metadata": {},
          "execution_count": 38
        }
      ]
    },
    {
      "cell_type": "code",
      "source": [
        "# Plot model 1\n",
        "offset = 450\n",
        "plt.figure(figsize=(10,7))\n",
        "plot_time_series(timesteps = X_test[-len(test_windows):],\n",
        "                 values = test_labels[:, 0],\n",
        "                 start = offset,\n",
        "                 label = \"Test Data\")\n",
        "\n",
        "plot_time_series(timesteps = X_test[-len(test_windows):],\n",
        "                 values = model_1_preds,\n",
        "                 start = offset,\n",
        "                 format = \"-\",\n",
        "                 label = \"model_1_preds\")"
      ],
      "metadata": {
        "colab": {
          "base_uri": "https://localhost:8080/",
          "height": 446
        },
        "id": "sSP3GpFO1qNa",
        "outputId": "6b2e822c-aaf6-49ee-9569-4b4a7dbebaf2"
      },
      "execution_count": null,
      "outputs": [
        {
          "output_type": "display_data",
          "data": {
            "text/plain": [
              "<Figure size 720x504 with 1 Axes>"
            ],
            "image/png": "[encoded data removed]"
          },
          "metadata": {
            "needs_background": "light"
          }
        }
      ]
    },
    {
      "cell_type": "code",
      "source": [
        "HORIZON = 7\n",
        "WINDOW_SIZE = 30"
      ],
      "metadata": {
        "id": "pV_8puZV289U"
      },
      "execution_count": null,
      "outputs": []
    },
    {
      "cell_type": "code",
      "source": [
        "full_windows, full_labels = make_windows(prices, window_size = WINDOW_SIZE, horizon = HORIZON)\n",
        "len(full_windows), len(full_labels)"
      ],
      "metadata": {
        "colab": {
          "base_uri": "https://localhost:8080/"
        },
        "id": "61HFGzdI4zPP",
        "outputId": "e9f3481c-cb2e-4665-a287-428ba361484d"
      },
      "execution_count": null,
      "outputs": [
        {
          "output_type": "execute_result",
          "data": {
            "text/plain": [
              "(2751, 2751)"
            ]
          },
          "metadata": {},
          "execution_count": 41
        }
      ]
    },
    {
      "cell_type": "code",
      "source": [
        "# Train and test\n",
        "train_windows, test_windows, train_labels, test_labels = make_train_test_splits(windows = full_windows,\n",
        "                                                                  labels = full_labels,\n",
        "                                                                  test_split = 0.2)"
      ],
      "metadata": {
        "id": "VEKbKiMV5Dka"
      },
      "execution_count": null,
      "outputs": []
    },
    {
      "cell_type": "markdown",
      "source": [
        "### Model 2"
      ],
      "metadata": {
        "id": "tijQYURl9DUX"
      }
    },
    {
      "cell_type": "code",
      "source": [
        "import tensorflow as tf\n",
        "from tensorflow.keras import layers\n",
        "tf.random.set_seed(42)\n",
        "\n",
        "# Construct model\n",
        "model_2 = tf.keras.Sequential([\n",
        "    layers.Dense(128, activation = \"relu\"),\n",
        "    layers.Dense(HORIZON, activation =\"linear\")\n",
        "], name = \"model_2_dense\")\n",
        "\n",
        "# Compiling\n",
        "model_2.compile(loss = \"mae\",\n",
        "                optimizer = tf.keras.optimizers.Adam(),\n",
        "                metrics = [\"mae\", \"mse\"])\n",
        "# fitting\n",
        "model_2.fit(x = train_windows,\n",
        "            y = train_labels,\n",
        "            epochs = 100,\n",
        "            verbose = 0,\n",
        "            batch_size =  128,\n",
        "            validation_data = (test_windows, test_labels),\n",
        "            callbacks = [create_model_checkpoint(model_name = model_2.name)])"
      ],
      "metadata": {
        "colab": {
          "base_uri": "https://localhost:8080/"
        },
        "id": "TC8mbKpN9Tx3",
        "outputId": "1f48d15e-465e-4d61-807e-172ce22304dc"
      },
      "execution_count": null,
      "outputs": [
        {
          "output_type": "stream",
          "name": "stderr",
          "text": [
            "WARNING:absl:Found untraced functions such as _update_step_xla while saving (showing 1 of 1). These functions will not be directly callable after loading.\n",
            "WARNING:absl:Found untraced functions such as _update_step_xla while saving (showing 1 of 1). These functions will not be directly callable after loading.\n",
            "WARNING:absl:Found untraced functions such as _update_step_xla while saving (showing 1 of 1). These functions will not be directly callable after loading.\n",
            "WARNING:absl:Found untraced functions such as _update_step_xla while saving (showing 1 of 1). These functions will not be directly callable after loading.\n",
            "WARNING:absl:Found untraced functions such as _update_step_xla while saving (showing 1 of 1). These functions will not be directly callable after loading.\n",
            "WARNING:absl:Found untraced functions such as _update_step_xla while saving (showing 1 of 1). These functions will not be directly callable after loading.\n",
            "WARNING:absl:Found untraced functions such as _update_step_xla while saving (showing 1 of 1). These functions will not be directly callable after loading.\n",
            "WARNING:absl:Found untraced functions such as _update_step_xla while saving (showing 1 of 1). These functions will not be directly callable after loading.\n",
            "WARNING:absl:Found untraced functions such as _update_step_xla while saving (showing 1 of 1). These functions will not be directly callable after loading.\n",
            "WARNING:absl:Found untraced functions such as _update_step_xla while saving (showing 1 of 1). These functions will not be directly callable after loading.\n",
            "WARNING:absl:Found untraced functions such as _update_step_xla while saving (showing 1 of 1). These functions will not be directly callable after loading.\n",
            "WARNING:absl:Found untraced functions such as _update_step_xla while saving (showing 1 of 1). These functions will not be directly callable after loading.\n",
            "WARNING:absl:Found untraced functions such as _update_step_xla while saving (showing 1 of 1). These functions will not be directly callable after loading.\n",
            "WARNING:absl:Found untraced functions such as _update_step_xla while saving (showing 1 of 1). These functions will not be directly callable after loading.\n",
            "WARNING:absl:Found untraced functions such as _update_step_xla while saving (showing 1 of 1). These functions will not be directly callable after loading.\n",
            "WARNING:absl:Found untraced functions such as _update_step_xla while saving (showing 1 of 1). These functions will not be directly callable after loading.\n",
            "WARNING:absl:Found untraced functions such as _update_step_xla while saving (showing 1 of 1). These functions will not be directly callable after loading.\n",
            "WARNING:absl:Found untraced functions such as _update_step_xla while saving (showing 1 of 1). These functions will not be directly callable after loading.\n",
            "WARNING:absl:Found untraced functions such as _update_step_xla while saving (showing 1 of 1). These functions will not be directly callable after loading.\n",
            "WARNING:absl:Found untraced functions such as _update_step_xla while saving (showing 1 of 1). These functions will not be directly callable after loading.\n",
            "WARNING:absl:Found untraced functions such as _update_step_xla while saving (showing 1 of 1). These functions will not be directly callable after loading.\n",
            "WARNING:absl:Found untraced functions such as _update_step_xla while saving (showing 1 of 1). These functions will not be directly callable after loading.\n"
          ]
        },
        {
          "output_type": "execute_result",
          "data": {
            "text/plain": [
              "<keras.callbacks.History at 0x7fe6f85268b0>"
            ]
          },
          "metadata": {},
          "execution_count": 43
        }
      ]
    },
    {
      "cell_type": "code",
      "source": [
        "model_2.evaluate(test_windows, test_labels)"
      ],
      "metadata": {
        "colab": {
          "base_uri": "https://localhost:8080/"
        },
        "id": "4hiDnmi69uMQ",
        "outputId": "534e75b7-c78c-406b-b924-47b1e2e51617"
      },
      "execution_count": null,
      "outputs": [
        {
          "output_type": "stream",
          "name": "stdout",
          "text": [
            "18/18 [==============================] - 0s 3ms/step - loss: 1340.5868 - mae: 1340.5868 - mse: 5801179.5000\n"
          ]
        },
        {
          "output_type": "execute_result",
          "data": {
            "text/plain": [
              "[1340.5867919921875, 1340.5867919921875, 5801179.5]"
            ]
          },
          "metadata": {},
          "execution_count": 44
        }
      ]
    },
    {
      "cell_type": "code",
      "source": [
        "# Loading the best perfoming instance into the model\n",
        "model_2 = tf.keras.models.load_model(\"model_experiments/model_2_dense/\")\n",
        "model_2.evaluate(test_windows, test_labels)"
      ],
      "metadata": {
        "colab": {
          "base_uri": "https://localhost:8080/"
        },
        "id": "1-0rlBDj-c26",
        "outputId": "cdda6653-6c63-45f3-c96d-76042424721b"
      },
      "execution_count": null,
      "outputs": [
        {
          "output_type": "stream",
          "name": "stdout",
          "text": [
            "18/18 [==============================] - 0s 3ms/step - loss: 1244.0457 - mae: 1244.0457 - mse: 5357088.0000\n"
          ]
        },
        {
          "output_type": "execute_result",
          "data": {
            "text/plain": [
              "[1244.045654296875, 1244.045654296875, 5357088.0]"
            ]
          },
          "metadata": {},
          "execution_count": 45
        }
      ]
    },
    {
      "cell_type": "code",
      "source": [
        "model_2_preds = make_preds(model_2,\n",
        "                           input_data = test_windows)"
      ],
      "metadata": {
        "colab": {
          "base_uri": "https://localhost:8080/"
        },
        "id": "3fzk3L0r-0q8",
        "outputId": "57d4ed2e-0753-44e9-bd9b-d687d5527d12"
      },
      "execution_count": null,
      "outputs": [
        {
          "output_type": "stream",
          "name": "stdout",
          "text": [
            "18/18 [==============================] - 0s 3ms/step\n"
          ]
        }
      ]
    },
    {
      "cell_type": "code",
      "source": [
        "# making eval fun work for larger horizons\n",
        "def evaluate_preds(y_true, y_pred):\n",
        "  # Make sure float32 (for metric calculations)\n",
        "  y_true = tf.cast(y_true, dtype=tf.float32)\n",
        "  y_pred = tf.cast(y_pred, dtype=tf.float32)\n",
        "\n",
        "  # Calculate various metrics\n",
        "  mae = tf.keras.metrics.mean_absolute_error(y_true, y_pred)\n",
        "  mse = tf.keras.metrics.mean_squared_error(y_true, y_pred) # puts and emphasis on outliers (all errors get squared)\n",
        "  rmse = tf.sqrt(mse)\n",
        "  mape = tf.keras.metrics.mean_absolute_percentage_error(y_true, y_pred)\n",
        "  mase = mean_absolute_scaled_error(y_true, y_pred)\n",
        "  \n",
        "  # for diff horizon\n",
        "  if mae.ndim > 0:\n",
        "    mae = tf.reduce_mean(mae)\n",
        "    mse = tf.reduce_mean(mse)\n",
        "    rmse = tf.reduce_mean(rmse)\n",
        "    mape = tf.reduce_mean(mape)\n",
        "    mase = tf.reduce_mean(mase)\n",
        "\n",
        "  return {\"mae\": mae.numpy(),\n",
        "          \"mse\": mse.numpy(),\n",
        "          \"rmse\": rmse.numpy(),\n",
        "          \"mape\": mape.numpy(),\n",
        "          \"mase\": mase.numpy()}"
      ],
      "metadata": {
        "id": "LhX4SW8OBJrI"
      },
      "execution_count": null,
      "outputs": []
    },
    {
      "cell_type": "code",
      "source": [
        "model_2_results = evaluate_preds(y_true = tf.squeeze(test_labels),\n",
        "                                 y_pred = model_2_preds)\n",
        "model_2_results"
      ],
      "metadata": {
        "colab": {
          "base_uri": "https://localhost:8080/"
        },
        "id": "u38zgFoy-9lX",
        "outputId": "ac14a959-ef31-4577-e7de-318464bcb345"
      },
      "execution_count": null,
      "outputs": [
        {
          "output_type": "execute_result",
          "data": {
            "text/plain": [
              "{'mae': 1244.0458,\n",
              " 'mse': 5357087.5,\n",
              " 'rmse': 1427.1691,\n",
              " 'mape': 5.5514965,\n",
              " 'mase': 2.2137098}"
            ]
          },
          "metadata": {},
          "execution_count": 48
        }
      ]
    },
    {
      "cell_type": "code",
      "source": [
        "#Plot model 2\n",
        "offset = 300\n",
        "plt.figure(figsize=(10,7))\n",
        "plot_time_series(timesteps = X_test[-len(test_windows):],\n",
        "                 values = test_labels[:, 0],\n",
        "                 start = offset,\n",
        "                 format = \".\",\n",
        "                 label = \"Test Data\")\n",
        "\n",
        "plot_time_series(timesteps = X_test[-len(test_windows):],\n",
        "                 values = tf.reduce_mean(model_2_preds, axis = 1),\n",
        "                 start = offset,\n",
        "                 format = \"-\",\n",
        "                 label = \"model_2_preds\")"
      ],
      "metadata": {
        "colab": {
          "base_uri": "https://localhost:8080/",
          "height": 442
        },
        "id": "x2ZYQMbG_M4a",
        "outputId": "06698b32-49f8-48f2-9465-2b23319fc6fa"
      },
      "execution_count": null,
      "outputs": [
        {
          "output_type": "display_data",
          "data": {
            "text/plain": [
              "<Figure size 720x504 with 1 Axes>"
            ],
            "image/png": "[encoded data removed]"
          },
          "metadata": {
            "needs_background": "light"
          }
        }
      ]
    },
    {
      "cell_type": "code",
      "source": [
        "pd.DataFrame({\"naive\": naive_results[\"mae\"],\n",
        "              \"horizon_1_window_7\": model_1_res[\"mae\"],\n",
        "              \"horizon_7_window_30\": model_2_results[\"mae\"]}, index = [\"mae\"]).plot(figsize = (10,7), kind = \"bar\");"
      ],
      "metadata": {
        "colab": {
          "base_uri": "https://localhost:8080/",
          "height": 440
        },
        "id": "ESHogCzC_fAc",
        "outputId": "5959162a-694b-4fc8-e7b7-d87542b04a40"
      },
      "execution_count": null,
      "outputs": [
        {
          "output_type": "display_data",
          "data": {
            "text/plain": [
              "<Figure size 720x504 with 1 Axes>"
            ],
            "image/png": "[encoded data removed]"
          },
          "metadata": {
            "needs_background": "light"
          }
        }
      ]
    },
    {
      "cell_type": "markdown",
      "source": [
        "### Conv 1D model"
      ],
      "metadata": {
        "id": "wkiomQ-thCm5"
      }
    },
    {
      "cell_type": "code",
      "source": [
        "HORIZON = 1\n",
        "WINDOW_SIZE = 7"
      ],
      "metadata": {
        "id": "bmirfDS1iRVp"
      },
      "execution_count": null,
      "outputs": []
    },
    {
      "cell_type": "code",
      "source": [
        "full_windows, full_labels = make_windows(prices, window_size = WINDOW_SIZE, horizon = HORIZON)\n",
        "len(full_windows), len(full_labels)"
      ],
      "metadata": {
        "colab": {
          "base_uri": "https://localhost:8080/"
        },
        "id": "cKFSG0oiim_1",
        "outputId": "feace1e9-c598-4269-fd1e-f7d57340397d"
      },
      "execution_count": null,
      "outputs": [
        {
          "output_type": "execute_result",
          "data": {
            "text/plain": [
              "(2780, 2780)"
            ]
          },
          "metadata": {},
          "execution_count": 52
        }
      ]
    },
    {
      "cell_type": "markdown",
      "source": [
        "## Train-Test sets"
      ],
      "metadata": {
        "id": "DIoArheoixBS"
      }
    },
    {
      "cell_type": "code",
      "source": [
        "train_windows, test_windows, train_labels, test_labels = make_train_test_splits(windows = full_windows, labels = full_labels)\n",
        "len(train_windows), len(test_windows), len(train_labels), len(test_labels)"
      ],
      "metadata": {
        "colab": {
          "base_uri": "https://localhost:8080/"
        },
        "id": "CgAF_iCMi8Y_",
        "outputId": "77a9b2a9-8e2d-4490-9a18-ffb60f735d36"
      },
      "execution_count": null,
      "outputs": [
        {
          "output_type": "execute_result",
          "data": {
            "text/plain": [
              "(2224, 556, 2224, 556)"
            ]
          },
          "metadata": {},
          "execution_count": 53
        }
      ]
    },
    {
      "cell_type": "markdown",
      "source": [
        "# Reshaping data to fit in Conv1D layer"
      ],
      "metadata": {
        "id": "kuMddJ27jENH"
      }
    },
    {
      "cell_type": "code",
      "source": [
        "x = tf.constant(train_windows[0])\n",
        "x"
      ],
      "metadata": {
        "colab": {
          "base_uri": "https://localhost:8080/"
        },
        "id": "9VBZz8DIjnxP",
        "outputId": "165fe527-423d-45ca-cceb-942610cf403a"
      },
      "execution_count": null,
      "outputs": [
        {
          "output_type": "execute_result",
          "data": {
            "text/plain": [
              "<tf.Tensor: shape=(7,), dtype=float64, numpy=\n",
              "array([123.65499, 125.455  , 108.58483, 118.67466, 121.33866, 120.65533,\n",
              "       121.795  ])>"
            ]
          },
          "metadata": {},
          "execution_count": 54
        }
      ]
    },
    {
      "cell_type": "code",
      "source": [
        "expand_dims_layers = layers.Lambda(lambda x: tf.expand_dims(x, axis = 1))"
      ],
      "metadata": {
        "id": "9UI4cVeykFv1"
      },
      "execution_count": null,
      "outputs": []
    },
    {
      "cell_type": "code",
      "source": [
        "x.shape\n"
      ],
      "metadata": {
        "colab": {
          "base_uri": "https://localhost:8080/"
        },
        "id": "FrU0y0BlkOoa",
        "outputId": "22854305-b073-478f-c798-2e5684079052"
      },
      "execution_count": null,
      "outputs": [
        {
          "output_type": "execute_result",
          "data": {
            "text/plain": [
              "TensorShape([7])"
            ]
          },
          "metadata": {},
          "execution_count": 56
        }
      ]
    },
    {
      "cell_type": "code",
      "source": [
        "expand_dims_layers(x).shape\n",
        "expand_dims_layers(x)"
      ],
      "metadata": {
        "colab": {
          "base_uri": "https://localhost:8080/"
        },
        "id": "srbU0HOikphy",
        "outputId": "b8dbf6e5-bfca-46d3-c3b0-21dd5157ac33"
      },
      "execution_count": null,
      "outputs": [
        {
          "output_type": "execute_result",
          "data": {
            "text/plain": [
              "<tf.Tensor: shape=(7, 1), dtype=float32, numpy=\n",
              "array([[123.65499],\n",
              "       [125.455  ],\n",
              "       [108.58483],\n",
              "       [118.67466],\n",
              "       [121.33866],\n",
              "       [120.65533],\n",
              "       [121.795  ]], dtype=float32)>"
            ]
          },
          "metadata": {},
          "execution_count": 57
        }
      ]
    },
    {
      "cell_type": "markdown",
      "source": [
        "## Create Conv1D layer"
      ],
      "metadata": {
        "id": "h9FJioqvkunJ"
      }
    },
    {
      "cell_type": "code",
      "source": [
        "tf.random.set_seed(42)\n",
        "\n",
        "model_4 = tf.keras.Sequential([\n",
        "    layers.Lambda(lambda x: tf.expand_dims(x, axis = 1)),\n",
        "    layers.Conv1D(filters = 128, kernel_size = 5, strides = 1, padding = \"causal\", activation = \"relu\" ),\n",
        "    layers.Dense(HORIZON)\n",
        "],  name = \"model_4_1D\")\n",
        "\n",
        "\n",
        "model_4.compile(loss = \"mae\",\n",
        "                optimizer = tf.keras.optimizers.Adam())\n",
        "\n",
        "model_4.fit(train_windows, train_labels,\n",
        "            batch_size = 128,\n",
        "            epochs = 100,\n",
        "            verbose = 1,\n",
        "            validation_data = (test_windows, test_labels),\n",
        "            callbacks = [create_model_checkpoint(model_name = model_4.name)])"
      ],
      "metadata": {
        "colab": {
          "base_uri": "https://localhost:8080/"
        },
        "id": "mQkO7ENZlCFo",
        "outputId": "6bbfe12c-6ac2-47f6-e6d6-8592841e20d3"
      },
      "execution_count": null,
      "outputs": [
        {
          "output_type": "stream",
          "name": "stdout",
          "text": [
            "Epoch 1/100\n",
            "16/18 [=========================>....] - ETA: 0s - loss: 1269.8458  "
          ]
        },
        {
          "output_type": "stream",
          "name": "stderr",
          "text": [
            "WARNING:absl:Found untraced functions such as _jit_compiled_convolution_op, _update_step_xla while saving (showing 2 of 2). These functions will not be directly callable after loading.\n"
          ]
        },
        {
          "output_type": "stream",
          "name": "stdout",
          "text": [
            "\b\b\b\b\b\b\b\b\b\b\b\b\b\b\b\b\b\b\b\b\b\b\b\b\b\b\b\b\b\b\b\b\b\b\b\b\b\b\b\b\b\b\b\b\b\b\b\b\b\b\b\b\b\b\b\b\b\b\b\b\b\b\b\b\b\b\r18/18 [==============================] - 6s 48ms/step - loss: 1186.4027 - val_loss: 1893.0331\n",
            "Epoch 2/100\n",
            "17/18 [===========================>..] - ETA: 0s - loss: 315.2103"
          ]
        },
        {
          "output_type": "stream",
          "name": "stderr",
          "text": [
            "WARNING:absl:Found untraced functions such as _jit_compiled_convolution_op, _update_step_xla while saving (showing 2 of 2). These functions will not be directly callable after loading.\n"
          ]
        },
        {
          "output_type": "stream",
          "name": "stdout",
          "text": [
            "\b\b\b\b\b\b\b\b\b\b\b\b\b\b\b\b\b\b\b\b\b\b\b\b\b\b\b\b\b\b\b\b\b\b\b\b\b\b\b\b\b\b\b\b\b\b\b\b\b\b\b\b\b\b\b\b\b\b\b\b\b\b\b\b\b\r18/18 [==============================] - 1s 39ms/step - loss: 312.8267 - val_loss: 1664.9564\n",
            "Epoch 3/100\n",
            "18/18 [==============================] - ETA: 0s - loss: 202.0864"
          ]
        },
        {
          "output_type": "stream",
          "name": "stderr",
          "text": [
            "WARNING:absl:Found untraced functions such as _jit_compiled_convolution_op, _update_step_xla while saving (showing 2 of 2). These functions will not be directly callable after loading.\n"
          ]
        },
        {
          "output_type": "stream",
          "name": "stdout",
          "text": [
            "\b\b\b\b\b\b\b\b\b\b\b\b\b\b\b\b\b\b\b\b\b\b\b\b\b\b\b\b\b\b\b\b\b\b\b\b\b\b\b\b\b\b\b\b\b\b\b\b\b\b\b\b\b\b\b\b\b\b\b\b\b\b\b\b\b\r18/18 [==============================] - 1s 37ms/step - loss: 202.0864 - val_loss: 1165.4661\n",
            "Epoch 4/100\n",
            "17/18 [===========================>..] - ETA: 0s - loss: 181.5643"
          ]
        },
        {
          "output_type": "stream",
          "name": "stderr",
          "text": [
            "WARNING:absl:Found untraced functions such as _jit_compiled_convolution_op, _update_step_xla while saving (showing 2 of 2). These functions will not be directly callable after loading.\n"
          ]
        },
        {
          "output_type": "stream",
          "name": "stdout",
          "text": [
            "\b\b\b\b\b\b\b\b\b\b\b\b\b\b\b\b\b\b\b\b\b\b\b\b\b\b\b\b\b\b\b\b\b\b\b\b\b\b\b\b\b\b\b\b\b\b\b\b\b\b\b\b\b\b\b\b\b\b\b\b\b\b\b\b\b\r18/18 [==============================] - 1s 37ms/step - loss: 179.7454 - val_loss: 999.8001\n",
            "Epoch 5/100\n",
            "18/18 [==============================] - 0s 6ms/step - loss: 176.1056 - val_loss: 1001.1810\n",
            "Epoch 6/100\n",
            "18/18 [==============================] - ETA: 0s - loss: 172.4531"
          ]
        },
        {
          "output_type": "stream",
          "name": "stderr",
          "text": [
            "WARNING:absl:Found untraced functions such as _jit_compiled_convolution_op, _update_step_xla while saving (showing 2 of 2). These functions will not be directly callable after loading.\n"
          ]
        },
        {
          "output_type": "stream",
          "name": "stdout",
          "text": [
            "\b\b\b\b\b\b\b\b\b\b\b\b\b\b\b\b\b\b\b\b\b\b\b\b\b\b\b\b\b\b\b\b\b\b\b\b\b\b\b\b\b\b\b\b\b\b\b\b\b\b\b\b\b\b\b\b\b\b\b\b\b\b\b\b\b\r18/18 [==============================] - 1s 36ms/step - loss: 172.4531 - val_loss: 960.1289\n",
            "Epoch 7/100\n",
            "18/18 [==============================] - ETA: 0s - loss: 169.9957"
          ]
        },
        {
          "output_type": "stream",
          "name": "stderr",
          "text": [
            "WARNING:absl:Found untraced functions such as _jit_compiled_convolution_op, _update_step_xla while saving (showing 2 of 2). These functions will not be directly callable after loading.\n"
          ]
        },
        {
          "output_type": "stream",
          "name": "stdout",
          "text": [
            "\b\b\b\b\b\b\b\b\b\b\b\b\b\b\b\b\b\b\b\b\b\b\b\b\b\b\b\b\b\b\b\b\b\b\b\b\b\b\b\b\b\b\b\b\b\b\b\b\b\b\b\b\b\b\b\b\b\b\b\b\b\b\b\b\b\r18/18 [==============================] - 1s 42ms/step - loss: 169.9957 - val_loss: 942.0026\n",
            "Epoch 8/100\n",
            "12/18 [===================>..........] - ETA: 0s - loss: 163.7327"
          ]
        },
        {
          "output_type": "stream",
          "name": "stderr",
          "text": [
            "WARNING:absl:Found untraced functions such as _jit_compiled_convolution_op, _update_step_xla while saving (showing 2 of 2). These functions will not be directly callable after loading.\n"
          ]
        },
        {
          "output_type": "stream",
          "name": "stdout",
          "text": [
            "\b\b\b\b\b\b\b\b\b\b\b\b\b\b\b\b\b\b\b\b\b\b\b\b\b\b\b\b\b\b\b\b\b\b\b\b\b\b\b\b\b\b\b\b\b\b\b\b\b\b\b\b\b\b\b\b\b\b\b\b\b\b\b\b\b\r18/18 [==============================] - 1s 71ms/step - loss: 166.5110 - val_loss: 933.3093\n",
            "Epoch 9/100\n",
            "18/18 [==============================] - 0s 8ms/step - loss: 164.6980 - val_loss: 964.9873\n",
            "Epoch 10/100\n",
            "12/18 [===================>..........] - ETA: 0s - loss: 158.0240"
          ]
        },
        {
          "output_type": "stream",
          "name": "stderr",
          "text": [
            "WARNING:absl:Found untraced functions such as _jit_compiled_convolution_op, _update_step_xla while saving (showing 2 of 2). These functions will not be directly callable after loading.\n"
          ]
        },
        {
          "output_type": "stream",
          "name": "stdout",
          "text": [
            "\b\b\b\b\b\b\b\b\b\b\b\b\b\b\b\b\b\b\b\b\b\b\b\b\b\b\b\b\b\b\b\b\b\b\b\b\b\b\b\b\b\b\b\b\b\b\b\b\b\b\b\b\b\b\b\b\b\b\b\b\b\b\b\b\b\r18/18 [==============================] - 1s 49ms/step - loss: 162.5099 - val_loss: 899.0797\n",
            "Epoch 11/100\n",
            "17/18 [===========================>..] - ETA: 0s - loss: 159.4978"
          ]
        },
        {
          "output_type": "stream",
          "name": "stderr",
          "text": [
            "WARNING:absl:Found untraced functions such as _jit_compiled_convolution_op, _update_step_xla while saving (showing 2 of 2). These functions will not be directly callable after loading.\n"
          ]
        },
        {
          "output_type": "stream",
          "name": "stdout",
          "text": [
            "\b\b\b\b\b\b\b\b\b\b\b\b\b\b\b\b\b\b\b\b\b\b\b\b\b\b\b\b\b\b\b\b\b\b\b\b\b\b\b\b\b\b\b\b\b\b\b\b\b\b\b\b\b\b\b\b\b\b\b\b\b\b\b\b\b\r18/18 [==============================] - 1s 38ms/step - loss: 159.2193 - val_loss: 879.5193\n",
            "Epoch 12/100\n",
            "18/18 [==============================] - 0s 5ms/step - loss: 156.5123 - val_loss: 940.9238\n",
            "Epoch 13/100\n",
            "17/18 [===========================>..] - ETA: 0s - loss: 155.4370"
          ]
        },
        {
          "output_type": "stream",
          "name": "stderr",
          "text": [
            "WARNING:absl:Found untraced functions such as _jit_compiled_convolution_op, _update_step_xla while saving (showing 2 of 2). These functions will not be directly callable after loading.\n"
          ]
        },
        {
          "output_type": "stream",
          "name": "stdout",
          "text": [
            "\b\b\b\b\b\b\b\b\b\b\b\b\b\b\b\b\b\b\b\b\b\b\b\b\b\b\b\b\b\b\b\b\b\b\b\b\b\b\b\b\b\b\b\b\b\b\b\b\b\b\b\b\b\b\b\b\b\b\b\b\b\b\b\b\b\r18/18 [==============================] - 1s 37ms/step - loss: 154.9511 - val_loss: 873.1116\n",
            "Epoch 14/100\n",
            "18/18 [==============================] - 0s 5ms/step - loss: 151.1842 - val_loss: 874.9969\n",
            "Epoch 15/100\n",
            "18/18 [==============================] - 0s 6ms/step - loss: 150.1201 - val_loss: 876.4102\n",
            "Epoch 16/100\n",
            "18/18 [==============================] - ETA: 0s - loss: 146.4263"
          ]
        },
        {
          "output_type": "stream",
          "name": "stderr",
          "text": [
            "WARNING:absl:Found untraced functions such as _jit_compiled_convolution_op, _update_step_xla while saving (showing 2 of 2). These functions will not be directly callable after loading.\n"
          ]
        },
        {
          "output_type": "stream",
          "name": "stdout",
          "text": [
            "\b\b\b\b\b\b\b\b\b\b\b\b\b\b\b\b\b\b\b\b\b\b\b\b\b\b\b\b\b\b\b\b\b\b\b\b\b\b\b\b\b\b\b\b\b\b\b\b\b\b\b\b\b\b\b\b\b\b\b\b\b\b\b\b\b\r18/18 [==============================] - 1s 36ms/step - loss: 146.4263 - val_loss: 831.7955\n",
            "Epoch 17/100\n",
            "15/18 [========================>.....] - ETA: 0s - loss: 142.5715"
          ]
        },
        {
          "output_type": "stream",
          "name": "stderr",
          "text": [
            "WARNING:absl:Found untraced functions such as _jit_compiled_convolution_op, _update_step_xla while saving (showing 2 of 2). These functions will not be directly callable after loading.\n"
          ]
        },
        {
          "output_type": "stream",
          "name": "stdout",
          "text": [
            "\b\b\b\b\b\b\b\b\b\b\b\b\b\b\b\b\b\b\b\b\b\b\b\b\b\b\b\b\b\b\b\b\b\b\b\b\b\b\b\b\b\b\b\b\b\b\b\b\b\b\b\b\b\b\b\b\b\b\b\b\b\b\b\b\b\r18/18 [==============================] - 1s 37ms/step - loss: 144.4884 - val_loss: 808.7264\n",
            "Epoch 18/100\n",
            "18/18 [==============================] - 0s 5ms/step - loss: 141.3549 - val_loss: 815.5231\n",
            "Epoch 19/100\n",
            "15/18 [========================>.....] - ETA: 0s - loss: 137.8721"
          ]
        },
        {
          "output_type": "stream",
          "name": "stderr",
          "text": [
            "WARNING:absl:Found untraced functions such as _jit_compiled_convolution_op, _update_step_xla while saving (showing 2 of 2). These functions will not be directly callable after loading.\n"
          ]
        },
        {
          "output_type": "stream",
          "name": "stdout",
          "text": [
            "\b\b\b\b\b\b\b\b\b\b\b\b\b\b\b\b\b\b\b\b\b\b\b\b\b\b\b\b\b\b\b\b\b\b\b\b\b\b\b\b\b\b\b\b\b\b\b\b\b\b\b\b\b\b\b\b\b\b\b\b\b\b\b\b\b\r18/18 [==============================] - 1s 36ms/step - loss: 138.2053 - val_loss: 797.4401\n",
            "Epoch 20/100\n",
            "18/18 [==============================] - ETA: 0s - loss: 139.2476"
          ]
        },
        {
          "output_type": "stream",
          "name": "stderr",
          "text": [
            "WARNING:absl:Found untraced functions such as _jit_compiled_convolution_op, _update_step_xla while saving (showing 2 of 2). These functions will not be directly callable after loading.\n"
          ]
        },
        {
          "output_type": "stream",
          "name": "stdout",
          "text": [
            "\b\b\b\b\b\b\b\b\b\b\b\b\b\b\b\b\b\b\b\b\b\b\b\b\b\b\b\b\b\b\b\b\b\b\b\b\b\b\b\b\b\b\b\b\b\b\b\b\b\b\b\b\b\b\b\b\b\b\b\b\b\b\b\b\b\r18/18 [==============================] - 1s 36ms/step - loss: 139.2476 - val_loss: 791.2050\n",
            "Epoch 21/100\n",
            "15/18 [========================>.....] - ETA: 0s - loss: 137.0294"
          ]
        },
        {
          "output_type": "stream",
          "name": "stderr",
          "text": [
            "WARNING:absl:Found untraced functions such as _jit_compiled_convolution_op, _update_step_xla while saving (showing 2 of 2). These functions will not be directly callable after loading.\n"
          ]
        },
        {
          "output_type": "stream",
          "name": "stdout",
          "text": [
            "\b\b\b\b\b\b\b\b\b\b\b\b\b\b\b\b\b\b\b\b\b\b\b\b\b\b\b\b\b\b\b\b\b\b\b\b\b\b\b\b\b\b\b\b\b\b\b\b\b\b\b\b\b\b\b\b\b\b\b\b\b\b\b\b\b\r18/18 [==============================] - 1s 37ms/step - loss: 137.5904 - val_loss: 739.5886\n",
            "Epoch 22/100\n",
            "18/18 [==============================] - ETA: 0s - loss: 135.9917"
          ]
        },
        {
          "output_type": "stream",
          "name": "stderr",
          "text": [
            "WARNING:absl:Found untraced functions such as _jit_compiled_convolution_op, _update_step_xla while saving (showing 2 of 2). These functions will not be directly callable after loading.\n"
          ]
        },
        {
          "output_type": "stream",
          "name": "stdout",
          "text": [
            "\b\b\b\b\b\b\b\b\b\b\b\b\b\b\b\b\b\b\b\b\b\b\b\b\b\b\b\b\b\b\b\b\b\b\b\b\b\b\b\b\b\b\b\b\b\b\b\b\b\b\b\b\b\b\b\b\b\b\b\b\b\b\b\b\b\r18/18 [==============================] - 1s 36ms/step - loss: 135.9917 - val_loss: 729.4485\n",
            "Epoch 23/100\n",
            "18/18 [==============================] - ETA: 0s - loss: 131.5576"
          ]
        },
        {
          "output_type": "stream",
          "name": "stderr",
          "text": [
            "WARNING:absl:Found untraced functions such as _jit_compiled_convolution_op, _update_step_xla while saving (showing 2 of 2). These functions will not be directly callable after loading.\n"
          ]
        },
        {
          "output_type": "stream",
          "name": "stdout",
          "text": [
            "\b\b\b\b\b\b\b\b\b\b\b\b\b\b\b\b\b\b\b\b\b\b\b\b\b\b\b\b\b\b\b\b\b\b\b\b\b\b\b\b\b\b\b\b\b\b\b\b\b\b\b\b\b\b\b\b\b\b\b\b\b\b\b\b\b\r18/18 [==============================] - 1s 55ms/step - loss: 131.5576 - val_loss: 722.6551\n",
            "Epoch 24/100\n",
            "17/18 [===========================>..] - ETA: 0s - loss: 134.9184"
          ]
        },
        {
          "output_type": "stream",
          "name": "stderr",
          "text": [
            "WARNING:absl:Found untraced functions such as _jit_compiled_convolution_op, _update_step_xla while saving (showing 2 of 2). These functions will not be directly callable after loading.\n"
          ]
        },
        {
          "output_type": "stream",
          "name": "stdout",
          "text": [
            "\b\b\b\b\b\b\b\b\b\b\b\b\b\b\b\b\b\b\b\b\b\b\b\b\b\b\b\b\b\b\b\b\b\b\b\b\b\b\b\b\b\b\b\b\b\b\b\b\b\b\b\b\b\b\b\b\b\b\b\b\b\b\b\b\b\r18/18 [==============================] - 1s 40ms/step - loss: 133.4050 - val_loss: 722.0060\n",
            "Epoch 25/100\n",
            "18/18 [==============================] - ETA: 0s - loss: 132.5636"
          ]
        },
        {
          "output_type": "stream",
          "name": "stderr",
          "text": [
            "WARNING:absl:Found untraced functions such as _jit_compiled_convolution_op, _update_step_xla while saving (showing 2 of 2). These functions will not be directly callable after loading.\n"
          ]
        },
        {
          "output_type": "stream",
          "name": "stdout",
          "text": [
            "\b\b\b\b\b\b\b\b\b\b\b\b\b\b\b\b\b\b\b\b\b\b\b\b\b\b\b\b\b\b\b\b\b\b\b\b\b\b\b\b\b\b\b\b\b\b\b\b\b\b\b\b\b\b\b\b\b\b\b\b\b\b\b\b\b\r18/18 [==============================] - 1s 37ms/step - loss: 132.5636 - val_loss: 703.3380\n",
            "Epoch 26/100\n",
            "18/18 [==============================] - 0s 6ms/step - loss: 127.5961 - val_loss: 713.8855\n",
            "Epoch 27/100\n",
            "18/18 [==============================] - ETA: 0s - loss: 127.2092"
          ]
        },
        {
          "output_type": "stream",
          "name": "stderr",
          "text": [
            "WARNING:absl:Found untraced functions such as _jit_compiled_convolution_op, _update_step_xla while saving (showing 2 of 2). These functions will not be directly callable after loading.\n"
          ]
        },
        {
          "output_type": "stream",
          "name": "stdout",
          "text": [
            "\b\b\b\b\b\b\b\b\b\b\b\b\b\b\b\b\b\b\b\b\b\b\b\b\b\b\b\b\b\b\b\b\b\b\b\b\b\b\b\b\b\b\b\b\b\b\b\b\b\b\b\b\b\b\b\b\b\b\b\b\b\b\b\b\b\r18/18 [==============================] - 1s 38ms/step - loss: 127.2092 - val_loss: 693.8887\n",
            "Epoch 28/100\n",
            "18/18 [==============================] - ETA: 0s - loss: 124.5941"
          ]
        },
        {
          "output_type": "stream",
          "name": "stderr",
          "text": [
            "WARNING:absl:Found untraced functions such as _jit_compiled_convolution_op, _update_step_xla while saving (showing 2 of 2). These functions will not be directly callable after loading.\n"
          ]
        },
        {
          "output_type": "stream",
          "name": "stdout",
          "text": [
            "\b\b\b\b\b\b\b\b\b\b\b\b\b\b\b\b\b\b\b\b\b\b\b\b\b\b\b\b\b\b\b\b\b\b\b\b\b\b\b\b\b\b\b\b\b\b\b\b\b\b\b\b\b\b\b\b\b\b\b\b\b\b\b\b\b\r18/18 [==============================] - 1s 37ms/step - loss: 124.5941 - val_loss: 676.6644\n",
            "Epoch 29/100\n",
            "18/18 [==============================] - 0s 5ms/step - loss: 123.0996 - val_loss: 688.7412\n",
            "Epoch 30/100\n",
            "18/18 [==============================] - 0s 6ms/step - loss: 126.7919 - val_loss: 769.1885\n",
            "Epoch 31/100\n",
            "18/18 [==============================] - 0s 6ms/step - loss: 138.4290 - val_loss: 810.8820\n",
            "Epoch 32/100\n",
            "18/18 [==============================] - ETA: 0s - loss: 136.2323"
          ]
        },
        {
          "output_type": "stream",
          "name": "stderr",
          "text": [
            "WARNING:absl:Found untraced functions such as _jit_compiled_convolution_op, _update_step_xla while saving (showing 2 of 2). These functions will not be directly callable after loading.\n"
          ]
        },
        {
          "output_type": "stream",
          "name": "stdout",
          "text": [
            "\b\b\b\b\b\b\b\b\b\b\b\b\b\b\b\b\b\b\b\b\b\b\b\b\b\b\b\b\b\b\b\b\b\b\b\b\b\b\b\b\b\b\b\b\b\b\b\b\b\b\b\b\b\b\b\b\b\b\b\b\b\b\b\b\b\r18/18 [==============================] - 1s 49ms/step - loss: 136.2323 - val_loss: 668.3837\n",
            "Epoch 33/100\n",
            "13/18 [====================>.........] - ETA: 0s - loss: 132.3458"
          ]
        },
        {
          "output_type": "stream",
          "name": "stderr",
          "text": [
            "WARNING:absl:Found untraced functions such as _jit_compiled_convolution_op, _update_step_xla while saving (showing 2 of 2). These functions will not be directly callable after loading.\n"
          ]
        },
        {
          "output_type": "stream",
          "name": "stdout",
          "text": [
            "\b\b\b\b\b\b\b\b\b\b\b\b\b\b\b\b\b\b\b\b\b\b\b\b\b\b\b\b\b\b\b\b\b\b\b\b\b\b\b\b\b\b\b\b\b\b\b\b\b\b\b\b\b\b\b\b\b\b\b\b\b\b\b\b\b\r18/18 [==============================] - 1s 52ms/step - loss: 129.7711 - val_loss: 667.0239\n",
            "Epoch 34/100\n",
            "11/18 [=================>............] - ETA: 0s - loss: 126.8043"
          ]
        },
        {
          "output_type": "stream",
          "name": "stderr",
          "text": [
            "WARNING:absl:Found untraced functions such as _jit_compiled_convolution_op, _update_step_xla while saving (showing 2 of 2). These functions will not be directly callable after loading.\n"
          ]
        },
        {
          "output_type": "stream",
          "name": "stdout",
          "text": [
            "\b\b\b\b\b\b\b\b\b\b\b\b\b\b\b\b\b\b\b\b\b\b\b\b\b\b\b\b\b\b\b\b\b\b\b\b\b\b\b\b\b\b\b\b\b\b\b\b\b\b\b\b\b\b\b\b\b\b\b\b\b\b\b\b\b\r18/18 [==============================] - 1s 46ms/step - loss: 120.9278 - val_loss: 647.9471\n",
            "Epoch 35/100\n",
            "17/18 [===========================>..] - ETA: 0s - loss: 118.9782"
          ]
        },
        {
          "output_type": "stream",
          "name": "stderr",
          "text": [
            "WARNING:absl:Found untraced functions such as _jit_compiled_convolution_op, _update_step_xla while saving (showing 2 of 2). These functions will not be directly callable after loading.\n"
          ]
        },
        {
          "output_type": "stream",
          "name": "stdout",
          "text": [
            "\b\b\b\b\b\b\b\b\b\b\b\b\b\b\b\b\b\b\b\b\b\b\b\b\b\b\b\b\b\b\b\b\b\b\b\b\b\b\b\b\b\b\b\b\b\b\b\b\b\b\b\b\b\b\b\b\b\b\b\b\b\b\b\b\b\r18/18 [==============================] - 1s 36ms/step - loss: 118.7402 - val_loss: 639.5839\n",
            "Epoch 36/100\n",
            "18/18 [==============================] - 0s 6ms/step - loss: 122.9238 - val_loss: 696.7701\n",
            "Epoch 37/100\n",
            "18/18 [==============================] - ETA: 0s - loss: 119.2153"
          ]
        },
        {
          "output_type": "stream",
          "name": "stderr",
          "text": [
            "WARNING:absl:Found untraced functions such as _jit_compiled_convolution_op, _update_step_xla while saving (showing 2 of 2). These functions will not be directly callable after loading.\n"
          ]
        },
        {
          "output_type": "stream",
          "name": "stdout",
          "text": [
            "\b\b\b\b\b\b\b\b\b\b\b\b\b\b\b\b\b\b\b\b\b\b\b\b\b\b\b\b\b\b\b\b\b\b\b\b\b\b\b\b\b\b\b\b\b\b\b\b\b\b\b\b\b\b\b\b\b\b\b\b\b\b\b\b\b\r18/18 [==============================] - 1s 37ms/step - loss: 119.2153 - val_loss: 634.7574\n",
            "Epoch 38/100\n",
            "17/18 [===========================>..] - ETA: 0s - loss: 118.2405"
          ]
        },
        {
          "output_type": "stream",
          "name": "stderr",
          "text": [
            "WARNING:absl:Found untraced functions such as _jit_compiled_convolution_op, _update_step_xla while saving (showing 2 of 2). These functions will not be directly callable after loading.\n"
          ]
        },
        {
          "output_type": "stream",
          "name": "stdout",
          "text": [
            "\b\b\b\b\b\b\b\b\b\b\b\b\b\b\b\b\b\b\b\b\b\b\b\b\b\b\b\b\b\b\b\b\b\b\b\b\b\b\b\b\b\b\b\b\b\b\b\b\b\b\b\b\b\b\b\b\b\b\b\b\b\b\b\b\b\r18/18 [==============================] - 1s 53ms/step - loss: 117.9696 - val_loss: 631.3264\n",
            "Epoch 39/100\n",
            "18/18 [==============================] - 0s 6ms/step - loss: 117.6102 - val_loss: 650.8625\n",
            "Epoch 40/100\n",
            "18/18 [==============================] - 0s 5ms/step - loss: 115.8023 - val_loss: 639.3522\n",
            "Epoch 41/100\n",
            "18/18 [==============================] - ETA: 0s - loss: 117.2934"
          ]
        },
        {
          "output_type": "stream",
          "name": "stderr",
          "text": [
            "WARNING:absl:Found untraced functions such as _jit_compiled_convolution_op, _update_step_xla while saving (showing 2 of 2). These functions will not be directly callable after loading.\n"
          ]
        },
        {
          "output_type": "stream",
          "name": "stdout",
          "text": [
            "\b\b\b\b\b\b\b\b\b\b\b\b\b\b\b\b\b\b\b\b\b\b\b\b\b\b\b\b\b\b\b\b\b\b\b\b\b\b\b\b\b\b\b\b\b\b\b\b\b\b\b\b\b\b\b\b\b\b\b\b\b\b\b\b\b\r18/18 [==============================] - 1s 38ms/step - loss: 117.2934 - val_loss: 617.4385\n",
            "Epoch 42/100\n",
            "17/18 [===========================>..] - ETA: 0s - loss: 120.3063"
          ]
        },
        {
          "output_type": "stream",
          "name": "stderr",
          "text": [
            "WARNING:absl:Found untraced functions such as _jit_compiled_convolution_op, _update_step_xla while saving (showing 2 of 2). These functions will not be directly callable after loading.\n"
          ]
        },
        {
          "output_type": "stream",
          "name": "stdout",
          "text": [
            "\b\b\b\b\b\b\b\b\b\b\b\b\b\b\b\b\b\b\b\b\b\b\b\b\b\b\b\b\b\b\b\b\b\b\b\b\b\b\b\b\b\b\b\b\b\b\b\b\b\b\b\b\b\b\b\b\b\b\b\b\b\b\b\b\b\r18/18 [==============================] - 1s 37ms/step - loss: 119.1791 - val_loss: 614.5514\n",
            "Epoch 43/100\n",
            "18/18 [==============================] - 0s 5ms/step - loss: 114.2330 - val_loss: 622.2151\n",
            "Epoch 44/100\n",
            "18/18 [==============================] - 0s 5ms/step - loss: 116.0303 - val_loss: 630.9911\n",
            "Epoch 45/100\n",
            "18/18 [==============================] - 0s 6ms/step - loss: 118.0512 - val_loss: 617.9268\n",
            "Epoch 46/100\n",
            "18/18 [==============================] - 0s 6ms/step - loss: 114.9739 - val_loss: 617.0681\n",
            "Epoch 47/100\n",
            "18/18 [==============================] - 0s 5ms/step - loss: 113.8472 - val_loss: 651.6744\n",
            "Epoch 48/100\n",
            "18/18 [==============================] - ETA: 0s - loss: 113.3914"
          ]
        },
        {
          "output_type": "stream",
          "name": "stderr",
          "text": [
            "WARNING:absl:Found untraced functions such as _jit_compiled_convolution_op, _update_step_xla while saving (showing 2 of 2). These functions will not be directly callable after loading.\n"
          ]
        },
        {
          "output_type": "stream",
          "name": "stdout",
          "text": [
            "\b\b\b\b\b\b\b\b\b\b\b\b\b\b\b\b\b\b\b\b\b\b\b\b\b\b\b\b\b\b\b\b\b\b\b\b\b\b\b\b\b\b\b\b\b\b\b\b\b\b\b\b\b\b\b\b\b\b\b\b\b\b\b\b\b\r18/18 [==============================] - 1s 36ms/step - loss: 113.3914 - val_loss: 608.4485\n",
            "Epoch 49/100\n",
            "18/18 [==============================] - 0s 6ms/step - loss: 113.1871 - val_loss: 638.9835\n",
            "Epoch 50/100\n",
            "18/18 [==============================] - 0s 5ms/step - loss: 120.0575 - val_loss: 676.2143\n",
            "Epoch 51/100\n",
            "18/18 [==============================] - 0s 5ms/step - loss: 114.9799 - val_loss: 635.3262\n",
            "Epoch 52/100\n",
            "18/18 [==============================] - 0s 5ms/step - loss: 115.1492 - val_loss: 635.1833\n",
            "Epoch 53/100\n",
            "18/18 [==============================] - 0s 5ms/step - loss: 116.5148 - val_loss: 610.7680\n",
            "Epoch 54/100\n",
            "18/18 [==============================] - 0s 5ms/step - loss: 116.8919 - val_loss: 669.4310\n",
            "Epoch 55/100\n",
            "18/18 [==============================] - ETA: 0s - loss: 115.2006"
          ]
        },
        {
          "output_type": "stream",
          "name": "stderr",
          "text": [
            "WARNING:absl:Found untraced functions such as _jit_compiled_convolution_op, _update_step_xla while saving (showing 2 of 2). These functions will not be directly callable after loading.\n"
          ]
        },
        {
          "output_type": "stream",
          "name": "stdout",
          "text": [
            "\b\b\b\b\b\b\b\b\b\b\b\b\b\b\b\b\b\b\b\b\b\b\b\b\b\b\b\b\b\b\b\b\b\b\b\b\b\b\b\b\b\b\b\b\b\b\b\b\b\b\b\b\b\b\b\b\b\b\b\b\b\b\b\b\b\r18/18 [==============================] - 1s 37ms/step - loss: 115.2006 - val_loss: 595.5186\n",
            "Epoch 56/100\n",
            "18/18 [==============================] - 0s 6ms/step - loss: 112.7341 - val_loss: 777.6857\n",
            "Epoch 57/100\n",
            "18/18 [==============================] - 0s 5ms/step - loss: 133.5479 - val_loss: 627.5447\n",
            "Epoch 58/100\n",
            "18/18 [==============================] - 0s 7ms/step - loss: 120.6445 - val_loss: 628.7038\n",
            "Epoch 59/100\n",
            "18/18 [==============================] - 0s 5ms/step - loss: 110.4317 - val_loss: 597.0834\n",
            "Epoch 60/100\n",
            "18/18 [==============================] - 0s 5ms/step - loss: 110.6138 - val_loss: 596.5500\n",
            "Epoch 61/100\n",
            "16/18 [=========================>....] - ETA: 0s - loss: 111.5410"
          ]
        },
        {
          "output_type": "stream",
          "name": "stderr",
          "text": [
            "WARNING:absl:Found untraced functions such as _jit_compiled_convolution_op, _update_step_xla while saving (showing 2 of 2). These functions will not be directly callable after loading.\n"
          ]
        },
        {
          "output_type": "stream",
          "name": "stdout",
          "text": [
            "\b\b\b\b\b\b\b\b\b\b\b\b\b\b\b\b\b\b\b\b\b\b\b\b\b\b\b\b\b\b\b\b\b\b\b\b\b\b\b\b\b\b\b\b\b\b\b\b\b\b\b\b\b\b\b\b\b\b\b\b\b\b\b\b\b\r18/18 [==============================] - 1s 64ms/step - loss: 110.6519 - val_loss: 590.7925\n",
            "Epoch 62/100\n",
            "17/18 [===========================>..] - ETA: 0s - loss: 109.9839"
          ]
        },
        {
          "output_type": "stream",
          "name": "stderr",
          "text": [
            "WARNING:absl:Found untraced functions such as _jit_compiled_convolution_op, _update_step_xla while saving (showing 2 of 2). These functions will not be directly callable after loading.\n"
          ]
        },
        {
          "output_type": "stream",
          "name": "stdout",
          "text": [
            "\b\b\b\b\b\b\b\b\b\b\b\b\b\b\b\b\b\b\b\b\b\b\b\b\b\b\b\b\b\b\b\b\b\b\b\b\b\b\b\b\b\b\b\b\b\b\b\b\b\b\b\b\b\b\b\b\b\b\b\b\b\b\b\b\b\r18/18 [==============================] - 1s 65ms/step - loss: 109.7075 - val_loss: 585.4584\n",
            "Epoch 63/100\n",
            "18/18 [==============================] - 0s 6ms/step - loss: 111.0353 - val_loss: 614.6492\n",
            "Epoch 64/100\n",
            "18/18 [==============================] - 0s 15ms/step - loss: 113.1855 - val_loss: 658.4300\n",
            "Epoch 65/100\n",
            "18/18 [==============================] - 0s 15ms/step - loss: 114.8933 - val_loss: 589.0383\n",
            "Epoch 66/100\n",
            "18/18 [==============================] - 0s 12ms/step - loss: 111.3460 - val_loss: 587.8133\n",
            "Epoch 67/100\n",
            "18/18 [==============================] - 0s 9ms/step - loss: 108.4869 - val_loss: 637.9094\n",
            "Epoch 68/100\n",
            "18/18 [==============================] - 0s 7ms/step - loss: 116.2084 - val_loss: 724.5101\n",
            "Epoch 69/100\n",
            "18/18 [==============================] - 0s 7ms/step - loss: 126.3239 - val_loss: 679.5115\n",
            "Epoch 70/100\n",
            "13/18 [====================>.........] - ETA: 0s - loss: 116.6620"
          ]
        },
        {
          "output_type": "stream",
          "name": "stderr",
          "text": [
            "WARNING:absl:Found untraced functions such as _jit_compiled_convolution_op, _update_step_xla while saving (showing 2 of 2). These functions will not be directly callable after loading.\n"
          ]
        },
        {
          "output_type": "stream",
          "name": "stdout",
          "text": [
            "\b\b\b\b\b\b\b\b\b\b\b\b\b\b\b\b\b\b\b\b\b\b\b\b\b\b\b\b\b\b\b\b\b\b\b\b\b\b\b\b\b\b\b\b\b\b\b\b\b\b\b\b\b\b\b\b\b\b\b\b\b\b\b\b\b\r18/18 [==============================] - 1s 52ms/step - loss: 117.1768 - val_loss: 579.9788\n",
            "Epoch 71/100\n",
            "18/18 [==============================] - 0s 7ms/step - loss: 111.1645 - val_loss: 589.9527\n",
            "Epoch 72/100\n",
            "14/18 [======================>.......] - ETA: 0s - loss: 110.1699"
          ]
        },
        {
          "output_type": "stream",
          "name": "stderr",
          "text": [
            "WARNING:absl:Found untraced functions such as _jit_compiled_convolution_op, _update_step_xla while saving (showing 2 of 2). These functions will not be directly callable after loading.\n"
          ]
        },
        {
          "output_type": "stream",
          "name": "stdout",
          "text": [
            "\b\b\b\b\b\b\b\b\b\b\b\b\b\b\b\b\b\b\b\b\b\b\b\b\b\b\b\b\b\b\b\b\b\b\b\b\b\b\b\b\b\b\b\b\b\b\b\b\b\b\b\b\b\b\b\b\b\b\b\b\b\b\b\b\b\r18/18 [==============================] - 1s 49ms/step - loss: 110.0957 - val_loss: 578.2144\n",
            "Epoch 73/100\n",
            "18/18 [==============================] - 0s 6ms/step - loss: 110.0774 - val_loss: 606.2245\n",
            "Epoch 74/100\n",
            "16/18 [=========================>....] - ETA: 0s - loss: 109.3859"
          ]
        },
        {
          "output_type": "stream",
          "name": "stderr",
          "text": [
            "WARNING:absl:Found untraced functions such as _jit_compiled_convolution_op, _update_step_xla while saving (showing 2 of 2). These functions will not be directly callable after loading.\n"
          ]
        },
        {
          "output_type": "stream",
          "name": "stdout",
          "text": [
            "\b\b\b\b\b\b\b\b\b\b\b\b\b\b\b\b\b\b\b\b\b\b\b\b\b\b\b\b\b\b\b\b\b\b\b\b\b\b\b\b\b\b\b\b\b\b\b\b\b\b\b\b\b\b\b\b\b\b\b\b\b\b\b\b\b\r18/18 [==============================] - 1s 36ms/step - loss: 109.6689 - val_loss: 577.1975\n",
            "Epoch 75/100\n",
            "18/18 [==============================] - 0s 5ms/step - loss: 108.7143 - val_loss: 601.3829\n",
            "Epoch 76/100\n",
            "15/18 [========================>.....] - ETA: 0s - loss: 110.2770"
          ]
        },
        {
          "output_type": "stream",
          "name": "stderr",
          "text": [
            "WARNING:absl:Found untraced functions such as _jit_compiled_convolution_op, _update_step_xla while saving (showing 2 of 2). These functions will not be directly callable after loading.\n"
          ]
        },
        {
          "output_type": "stream",
          "name": "stdout",
          "text": [
            "\b\b\b\b\b\b\b\b\b\b\b\b\b\b\b\b\b\b\b\b\b\b\b\b\b\b\b\b\b\b\b\b\b\b\b\b\b\b\b\b\b\b\b\b\b\b\b\b\b\b\b\b\b\b\b\b\b\b\b\b\b\b\b\b\b\r18/18 [==============================] - 1s 36ms/step - loss: 110.0664 - val_loss: 574.5993\n",
            "Epoch 77/100\n",
            "18/18 [==============================] - 0s 5ms/step - loss: 111.4314 - val_loss: 577.2739\n",
            "Epoch 78/100\n",
            "17/18 [===========================>..] - ETA: 0s - loss: 109.9568"
          ]
        },
        {
          "output_type": "stream",
          "name": "stderr",
          "text": [
            "WARNING:absl:Found untraced functions such as _jit_compiled_convolution_op, _update_step_xla while saving (showing 2 of 2). These functions will not be directly callable after loading.\n"
          ]
        },
        {
          "output_type": "stream",
          "name": "stdout",
          "text": [
            "\b\b\b\b\b\b\b\b\b\b\b\b\b\b\b\b\b\b\b\b\b\b\b\b\b\b\b\b\b\b\b\b\b\b\b\b\b\b\b\b\b\b\b\b\b\b\b\b\b\b\b\b\b\b\b\b\b\b\b\b\b\b\b\b\b\r18/18 [==============================] - 1s 53ms/step - loss: 109.0202 - val_loss: 574.5699\n",
            "Epoch 79/100\n",
            "18/18 [==============================] - 0s 5ms/step - loss: 108.8424 - val_loss: 596.2291\n",
            "Epoch 80/100\n",
            "18/18 [==============================] - 0s 6ms/step - loss: 109.5473 - val_loss: 577.2368\n",
            "Epoch 81/100\n",
            "18/18 [==============================] - 0s 5ms/step - loss: 107.7576 - val_loss: 576.5963\n",
            "Epoch 82/100\n",
            "18/18 [==============================] - ETA: 0s - loss: 113.8236"
          ]
        },
        {
          "output_type": "stream",
          "name": "stderr",
          "text": [
            "WARNING:absl:Found untraced functions such as _jit_compiled_convolution_op, _update_step_xla while saving (showing 2 of 2). These functions will not be directly callable after loading.\n"
          ]
        },
        {
          "output_type": "stream",
          "name": "stdout",
          "text": [
            "\b\b\b\b\b\b\b\b\b\b\b\b\b\b\b\b\b\b\b\b\b\b\b\b\b\b\b\b\b\b\b\b\b\b\b\b\b\b\b\b\b\b\b\b\b\b\b\b\b\b\b\b\b\b\b\b\b\b\b\b\b\b\b\b\b\r18/18 [==============================] - 1s 37ms/step - loss: 113.8236 - val_loss: 572.7977\n",
            "Epoch 83/100\n",
            "18/18 [==============================] - 0s 6ms/step - loss: 112.8533 - val_loss: 672.2198\n",
            "Epoch 84/100\n",
            "18/18 [==============================] - 0s 5ms/step - loss: 113.8610 - val_loss: 581.2977\n",
            "Epoch 85/100\n",
            "18/18 [==============================] - 0s 6ms/step - loss: 107.9542 - val_loss: 577.8069\n",
            "Epoch 86/100\n",
            "18/18 [==============================] - 0s 5ms/step - loss: 109.2405 - val_loss: 607.1849\n",
            "Epoch 87/100\n",
            "15/18 [========================>.....] - ETA: 0s - loss: 108.8745"
          ]
        },
        {
          "output_type": "stream",
          "name": "stderr",
          "text": [
            "WARNING:absl:Found untraced functions such as _jit_compiled_convolution_op, _update_step_xla while saving (showing 2 of 2). These functions will not be directly callable after loading.\n"
          ]
        },
        {
          "output_type": "stream",
          "name": "stdout",
          "text": [
            "\b\b\b\b\b\b\b\b\b\b\b\b\b\b\b\b\b\b\b\b\b\b\b\b\b\b\b\b\b\b\b\b\b\b\b\b\b\b\b\b\b\b\b\b\b\b\b\b\b\b\b\b\b\b\b\b\b\b\b\b\b\b\b\b\b\r18/18 [==============================] - 1s 36ms/step - loss: 109.6470 - val_loss: 569.6613\n",
            "Epoch 88/100\n",
            "18/18 [==============================] - 0s 6ms/step - loss: 108.7699 - val_loss: 603.8412\n",
            "Epoch 89/100\n",
            "18/18 [==============================] - ETA: 0s - loss: 109.9004"
          ]
        },
        {
          "output_type": "stream",
          "name": "stderr",
          "text": [
            "WARNING:absl:Found untraced functions such as _jit_compiled_convolution_op, _update_step_xla while saving (showing 2 of 2). These functions will not be directly callable after loading.\n"
          ]
        },
        {
          "output_type": "stream",
          "name": "stdout",
          "text": [
            "\b\b\b\b\b\b\b\b\b\b\b\b\b\b\b\b\b\b\b\b\b\b\b\b\b\b\b\b\b\b\b\b\b\b\b\b\b\b\b\b\b\b\b\b\b\b\b\b\b\b\b\b\b\b\b\b\b\b\b\b\b\b\b\b\b\r18/18 [==============================] - 1s 38ms/step - loss: 109.9004 - val_loss: 569.3906\n",
            "Epoch 90/100\n",
            "18/18 [==============================] - 0s 5ms/step - loss: 109.0258 - val_loss: 693.3569\n",
            "Epoch 91/100\n",
            "18/18 [==============================] - 0s 5ms/step - loss: 114.5264 - val_loss: 594.1089\n",
            "Epoch 92/100\n",
            "18/18 [==============================] - 0s 5ms/step - loss: 109.4621 - val_loss: 572.7429\n",
            "Epoch 93/100\n",
            "18/18 [==============================] - 0s 5ms/step - loss: 113.6252 - val_loss: 609.3470\n",
            "Epoch 94/100\n",
            "18/18 [==============================] - 0s 6ms/step - loss: 109.4382 - val_loss: 580.3224\n",
            "Epoch 95/100\n",
            "18/18 [==============================] - 0s 6ms/step - loss: 107.2873 - val_loss: 572.4028\n",
            "Epoch 96/100\n",
            "18/18 [==============================] - 0s 6ms/step - loss: 114.0158 - val_loss: 628.0858\n",
            "Epoch 97/100\n",
            "18/18 [==============================] - 0s 5ms/step - loss: 112.2724 - val_loss: 636.8037\n",
            "Epoch 98/100\n",
            "18/18 [==============================] - 0s 6ms/step - loss: 113.6128 - val_loss: 570.2812\n",
            "Epoch 99/100\n",
            "18/18 [==============================] - 0s 6ms/step - loss: 110.1002 - val_loss: 576.7447\n",
            "Epoch 100/100\n",
            "18/18 [==============================] - 0s 5ms/step - loss: 107.9840 - val_loss: 607.1453\n"
          ]
        },
        {
          "output_type": "execute_result",
          "data": {
            "text/plain": [
              "<keras.callbacks.History at 0x7fe6faf12d30>"
            ]
          },
          "metadata": {},
          "execution_count": 58
        }
      ]
    },
    {
      "cell_type": "code",
      "source": [
        "model_4.summary()"
      ],
      "metadata": {
        "colab": {
          "base_uri": "https://localhost:8080/"
        },
        "id": "XRy7bJRUnsBc",
        "outputId": "d0f82483-1e8e-45fb-f1e5-9259a9efc8b6"
      },
      "execution_count": null,
      "outputs": [
        {
          "output_type": "stream",
          "name": "stdout",
          "text": [
            "Model: \"model_4_1D\"\n",
            "_________________________________________________________________\n",
            " Layer (type)                Output Shape              Param #   \n",
            "=================================================================\n",
            " lambda_1 (Lambda)           (None, 1, 7)              0         \n",
            "                                                                 \n",
            " conv1d (Conv1D)             (None, 1, 128)            4608      \n",
            "                                                                 \n",
            " dense_4 (Dense)             (None, 1, 1)              129       \n",
            "                                                                 \n",
            "=================================================================\n",
            "Total params: 4,737\n",
            "Trainable params: 4,737\n",
            "Non-trainable params: 0\n",
            "_________________________________________________________________\n"
          ]
        }
      ]
    },
    {
      "cell_type": "code",
      "source": [
        "model_4.evaluate(test_windows, test_labels)"
      ],
      "metadata": {
        "colab": {
          "base_uri": "https://localhost:8080/"
        },
        "id": "waxA6ScYoEfq",
        "outputId": "7adbf7bb-8cc7-4366-dc79-9472e7c7f101"
      },
      "execution_count": null,
      "outputs": [
        {
          "output_type": "stream",
          "name": "stdout",
          "text": [
            "18/18 [==============================] - 0s 4ms/step - loss: 607.1452\n"
          ]
        },
        {
          "output_type": "execute_result",
          "data": {
            "text/plain": [
              "607.1452026367188"
            ]
          },
          "metadata": {},
          "execution_count": 60
        }
      ]
    },
    {
      "cell_type": "code",
      "source": [
        "# load back best performing instance\n",
        "model_4 = tf.keras.models.load_model(\"model_experiments/model_4_1D\")\n",
        "model_4.evaluate(test_windows, test_labels)"
      ],
      "metadata": {
        "colab": {
          "base_uri": "https://localhost:8080/"
        },
        "id": "WHAAEeS6oa9M",
        "outputId": "7c64d23d-3c07-41d1-a962-df138265fb45"
      },
      "execution_count": null,
      "outputs": [
        {
          "output_type": "stream",
          "name": "stdout",
          "text": [
            "18/18 [==============================] - 0s 2ms/step - loss: 569.3906\n"
          ]
        },
        {
          "output_type": "execute_result",
          "data": {
            "text/plain": [
              "569.3905639648438"
            ]
          },
          "metadata": {},
          "execution_count": 61
        }
      ]
    },
    {
      "cell_type": "code",
      "source": [
        "model_4_preds = make_preds(model_4, test_windows)\n",
        "model_4_preds[:10]"
      ],
      "metadata": {
        "colab": {
          "base_uri": "https://localhost:8080/"
        },
        "id": "Kid6n24-or-4",
        "outputId": "53eb252a-5a45-4460-8201-f147d2f9fc71"
      },
      "execution_count": null,
      "outputs": [
        {
          "output_type": "stream",
          "name": "stdout",
          "text": [
            "18/18 [==============================] - 0s 2ms/step\n"
          ]
        },
        {
          "output_type": "execute_result",
          "data": {
            "text/plain": [
              "<tf.Tensor: shape=(10,), dtype=float32, numpy=\n",
              "array([8899.486, 8798.908, 9004.152, 8798.677, 8750.23 , 8739.281,\n",
              "       8684.846, 8547.913, 8466.437, 8523.297], dtype=float32)>"
            ]
          },
          "metadata": {},
          "execution_count": 62
        }
      ]
    },
    {
      "cell_type": "code",
      "source": [
        "# Results\n",
        "model_4_results = evaluate_preds(y_true = tf.squeeze(test_labels), y_pred = model_4_preds)\n",
        "model_4_results"
      ],
      "metadata": {
        "colab": {
          "base_uri": "https://localhost:8080/"
        },
        "id": "NfIzrB4Bo4gs",
        "outputId": "362c9d74-f86b-44f2-eab3-f655222eab08"
      },
      "execution_count": null,
      "outputs": [
        {
          "output_type": "execute_result",
          "data": {
            "text/plain": [
              "{'mae': 569.3905,\n",
              " 'mse': 1184985.5,\n",
              " 'rmse': 1088.5703,\n",
              " 'mape': 2.551426,\n",
              " 'mase': 1.0002614}"
            ]
          },
          "metadata": {},
          "execution_count": 63
        }
      ]
    },
    {
      "cell_type": "markdown",
      "source": [
        "## Model 5 : RNN"
      ],
      "metadata": {
        "id": "5UwK9ObwpHyP"
      }
    },
    {
      "cell_type": "code",
      "source": [
        "import tensorflow as tf\n",
        "tf.random.set_seed(42)\n",
        "# Functional API\n",
        "inputs = layers.Input(shape = (WINDOW_SIZE))\n",
        "x = layers.Lambda(lambda x: tf.expand_dims(x, axis = 1))(inputs)\n",
        "# x = layers.LSTM(128, return_sequences = True)(x)\n",
        "x = layers.LSTM(128, activation = \"relu\")(x)\n",
        "# x = layers.Dense(32, activation = \"relu\")(x)\n",
        "output = layers.Dense(HORIZON)(x)\n",
        "model_5 = tf.keras.Model(inputs = inputs, outputs = output, name = \"model_5_LSTM\")\n",
        "\n",
        "model_5.compile(loss = \"mae\",\n",
        "                optimizer = tf.keras.optimizers.Adam())\n",
        "\n",
        "model_5.fit(train_windows,\n",
        "            train_labels,\n",
        "            epochs = 100,\n",
        "            verbose = 1,\n",
        "            batch_size = 128,\n",
        "            validation_data = (test_windows, test_labels),\n",
        "            callbacks = [create_model_checkpoint(model_name = model_5.name)])"
      ],
      "metadata": {
        "colab": {
          "base_uri": "https://localhost:8080/"
        },
        "id": "Gfo7WgAmpkS8",
        "outputId": "9b715c73-ec86-43c9-dda1-5e94731bd775"
      },
      "execution_count": null,
      "outputs": [
        {
          "output_type": "stream",
          "name": "stderr",
          "text": [
            "WARNING:tensorflow:Layer lstm will not use cuDNN kernels since it doesn't meet the criteria. It will use a generic GPU kernel as fallback when running on GPU.\n"
          ]
        },
        {
          "output_type": "stream",
          "name": "stdout",
          "text": [
            "Epoch 1/100\n",
            "18/18 [==============================] - 4s 146ms/step - loss: 2373.9863 - val_loss: 8945.7803\n",
            "Epoch 2/100\n",
            "18/18 [==============================] - 2s 117ms/step - loss: 744.6711 - val_loss: 1139.0789\n",
            "Epoch 3/100\n",
            "18/18 [==============================] - 0s 7ms/step - loss: 249.7504 - val_loss: 1278.0128\n",
            "Epoch 4/100\n",
            "18/18 [==============================] - 2s 96ms/step - loss: 201.8114 - val_loss: 1076.6560\n",
            "Epoch 5/100\n",
            "18/18 [==============================] - 0s 7ms/step - loss: 191.9706 - val_loss: 1081.0015\n",
            "Epoch 6/100\n",
            "18/18 [==============================] - 2s 115ms/step - loss: 192.4640 - val_loss: 1066.8269\n",
            "Epoch 7/100\n",
            "18/18 [==============================] - 0s 8ms/step - loss: 187.9444 - val_loss: 1068.1873\n",
            "Epoch 8/100\n",
            "18/18 [==============================] - 0s 7ms/step - loss: 185.8500 - val_loss: 1069.3035\n",
            "Epoch 9/100\n",
            "18/18 [==============================] - 2s 96ms/step - loss: 183.9287 - val_loss: 1056.4580\n",
            "Epoch 10/100\n",
            "18/18 [==============================] - 2s 118ms/step - loss: 182.8471 - val_loss: 1037.1512\n",
            "Epoch 11/100\n",
            "18/18 [==============================] - 0s 8ms/step - loss: 182.6263 - val_loss: 1039.2084\n",
            "Epoch 12/100\n",
            "18/18 [==============================] - 2s 134ms/step - loss: 180.7528 - val_loss: 1026.7144\n",
            "Epoch 13/100\n",
            "18/18 [==============================] - 2s 96ms/step - loss: 178.7871 - val_loss: 1006.9364\n",
            "Epoch 14/100\n",
            "18/18 [==============================] - 0s 9ms/step - loss: 177.2702 - val_loss: 1029.3733\n",
            "Epoch 15/100\n",
            "18/18 [==============================] - 0s 8ms/step - loss: 176.5330 - val_loss: 1014.8704\n",
            "Epoch 16/100\n",
            "18/18 [==============================] - 2s 122ms/step - loss: 174.3492 - val_loss: 973.4017\n",
            "Epoch 17/100\n",
            "18/18 [==============================] - 0s 8ms/step - loss: 172.7970 - val_loss: 1048.2019\n",
            "Epoch 18/100\n",
            "18/18 [==============================] - 0s 7ms/step - loss: 172.4923 - val_loss: 1039.1737\n",
            "Epoch 19/100\n",
            "18/18 [==============================] - 0s 8ms/step - loss: 170.4453 - val_loss: 1004.2272\n",
            "Epoch 20/100\n",
            "18/18 [==============================] - 2s 99ms/step - loss: 169.3046 - val_loss: 943.5955\n",
            "Epoch 21/100\n",
            "18/18 [==============================] - 2s 97ms/step - loss: 166.2930 - val_loss: 940.8015\n",
            "Epoch 22/100\n",
            "18/18 [==============================] - 2s 96ms/step - loss: 165.0562 - val_loss: 929.2384\n",
            "Epoch 23/100\n",
            "18/18 [==============================] - 0s 8ms/step - loss: 164.8178 - val_loss: 947.9773\n",
            "Epoch 24/100\n",
            "18/18 [==============================] - 0s 7ms/step - loss: 161.3083 - val_loss: 934.6539\n",
            "Epoch 25/100\n",
            "18/18 [==============================] - 3s 154ms/step - loss: 159.8166 - val_loss: 904.1815\n",
            "Epoch 26/100\n",
            "18/18 [==============================] - 2s 99ms/step - loss: 157.8268 - val_loss: 898.5473\n",
            "Epoch 27/100\n",
            "18/18 [==============================] - 0s 7ms/step - loss: 156.5489 - val_loss: 906.7285\n",
            "Epoch 28/100\n",
            "18/18 [==============================] - 2s 98ms/step - loss: 155.2918 - val_loss: 863.2939\n",
            "Epoch 29/100\n",
            "18/18 [==============================] - 0s 7ms/step - loss: 153.2313 - val_loss: 887.3565\n",
            "Epoch 30/100\n",
            "18/18 [==============================] - 0s 7ms/step - loss: 152.1680 - val_loss: 867.2015\n",
            "Epoch 31/100\n",
            "18/18 [==============================] - 2s 96ms/step - loss: 149.7360 - val_loss: 839.7791\n",
            "Epoch 32/100\n",
            "18/18 [==============================] - 0s 8ms/step - loss: 148.7809 - val_loss: 845.2792\n",
            "Epoch 33/100\n",
            "18/18 [==============================] - 0s 8ms/step - loss: 146.7376 - val_loss: 881.5552\n",
            "Epoch 34/100\n",
            "18/18 [==============================] - 2s 124ms/step - loss: 146.5491 - val_loss: 804.4631\n",
            "Epoch 35/100\n",
            "18/18 [==============================] - 0s 8ms/step - loss: 143.5476 - val_loss: 822.2939\n",
            "Epoch 36/100\n",
            "18/18 [==============================] - 2s 96ms/step - loss: 144.4937 - val_loss: 791.5847\n",
            "Epoch 37/100\n",
            "18/18 [==============================] - 0s 12ms/step - loss: 142.2099 - val_loss: 822.9697\n",
            "Epoch 38/100\n",
            "18/18 [==============================] - 2s 124ms/step - loss: 140.6895 - val_loss: 769.9858\n",
            "Epoch 39/100\n",
            "18/18 [==============================] - 2s 93ms/step - loss: 138.4702 - val_loss: 767.1131\n",
            "Epoch 40/100\n",
            "18/18 [==============================] - 0s 7ms/step - loss: 137.4550 - val_loss: 773.7735\n",
            "Epoch 41/100\n",
            "18/18 [==============================] - 2s 133ms/step - loss: 135.6182 - val_loss: 749.9752\n",
            "Epoch 42/100\n",
            "18/18 [==============================] - 0s 12ms/step - loss: 134.4085 - val_loss: 758.3563\n",
            "Epoch 43/100\n",
            "18/18 [==============================] - 4s 212ms/step - loss: 133.3050 - val_loss: 742.8728\n",
            "Epoch 44/100\n",
            "18/18 [==============================] - 4s 247ms/step - loss: 132.3308 - val_loss: 730.0920\n",
            "Epoch 45/100\n",
            "18/18 [==============================] - 4s 239ms/step - loss: 130.3569 - val_loss: 723.2376\n",
            "Epoch 46/100\n",
            "18/18 [==============================] - 0s 15ms/step - loss: 130.6543 - val_loss: 737.5858\n",
            "Epoch 47/100\n",
            "18/18 [==============================] - 3s 170ms/step - loss: 129.5865 - val_loss: 720.6461\n",
            "Epoch 48/100\n",
            "18/18 [==============================] - 2s 96ms/step - loss: 128.4321 - val_loss: 720.4519\n",
            "Epoch 49/100\n",
            "18/18 [==============================] - 2s 114ms/step - loss: 127.6074 - val_loss: 712.7519\n",
            "Epoch 50/100\n",
            "18/18 [==============================] - 0s 13ms/step - loss: 130.5128 - val_loss: 731.5766\n",
            "Epoch 51/100\n",
            "18/18 [==============================] - 0s 14ms/step - loss: 130.2621 - val_loss: 806.2206\n",
            "Epoch 52/100\n",
            "18/18 [==============================] - 2s 133ms/step - loss: 134.6038 - val_loss: 687.1552\n",
            "Epoch 53/100\n",
            "18/18 [==============================] - 2s 94ms/step - loss: 126.9064 - val_loss: 681.4214\n",
            "Epoch 54/100\n",
            "18/18 [==============================] - 0s 8ms/step - loss: 125.7215 - val_loss: 687.7043\n",
            "Epoch 55/100\n",
            "18/18 [==============================] - 0s 8ms/step - loss: 123.7243 - val_loss: 691.1254\n",
            "Epoch 56/100\n",
            "18/18 [==============================] - 2s 93ms/step - loss: 123.3780 - val_loss: 670.0307\n",
            "Epoch 57/100\n",
            "18/18 [==============================] - 0s 7ms/step - loss: 124.1236 - val_loss: 693.8527\n",
            "Epoch 58/100\n",
            "18/18 [==============================] - 2s 92ms/step - loss: 120.8556 - val_loss: 658.9121\n",
            "Epoch 59/100\n",
            "18/18 [==============================] - 2s 120ms/step - loss: 119.5500 - val_loss: 655.3940\n",
            "Epoch 60/100\n",
            "18/18 [==============================] - 0s 7ms/step - loss: 119.6762 - val_loss: 657.8739\n",
            "Epoch 61/100\n",
            "18/18 [==============================] - 0s 7ms/step - loss: 119.3567 - val_loss: 690.7332\n",
            "Epoch 62/100\n",
            "18/18 [==============================] - 0s 8ms/step - loss: 122.2538 - val_loss: 728.9281\n",
            "Epoch 63/100\n",
            "18/18 [==============================] - 0s 8ms/step - loss: 124.1364 - val_loss: 666.9761\n",
            "Epoch 64/100\n",
            "18/18 [==============================] - 0s 7ms/step - loss: 117.4817 - val_loss: 669.1860\n",
            "Epoch 65/100\n",
            "18/18 [==============================] - 2s 127ms/step - loss: 118.7673 - val_loss: 637.1722\n",
            "Epoch 66/100\n",
            "18/18 [==============================] - 0s 12ms/step - loss: 117.1524 - val_loss: 650.9772\n",
            "Epoch 67/100\n",
            "18/18 [==============================] - 2s 98ms/step - loss: 117.3922 - val_loss: 632.0011\n",
            "Epoch 68/100\n",
            "18/18 [==============================] - 2s 94ms/step - loss: 118.7492 - val_loss: 629.9614\n",
            "Epoch 69/100\n",
            "18/18 [==============================] - 0s 8ms/step - loss: 118.9084 - val_loss: 629.9811\n",
            "Epoch 70/100\n",
            "18/18 [==============================] - 0s 7ms/step - loss: 118.8915 - val_loss: 631.6398\n",
            "Epoch 71/100\n",
            "18/18 [==============================] - 0s 7ms/step - loss: 116.7175 - val_loss: 673.4727\n",
            "Epoch 72/100\n",
            "18/18 [==============================] - 0s 8ms/step - loss: 119.4509 - val_loss: 636.4448\n",
            "Epoch 73/100\n",
            "18/18 [==============================] - 2s 120ms/step - loss: 115.9652 - val_loss: 628.0632\n",
            "Epoch 74/100\n",
            "18/18 [==============================] - 0s 7ms/step - loss: 115.7493 - val_loss: 645.7668\n",
            "Epoch 75/100\n",
            "18/18 [==============================] - 0s 7ms/step - loss: 115.8045 - val_loss: 643.6078\n",
            "Epoch 76/100\n",
            "18/18 [==============================] - 2s 99ms/step - loss: 116.1012 - val_loss: 615.1918\n",
            "Epoch 77/100\n",
            "18/18 [==============================] - 0s 7ms/step - loss: 114.6453 - val_loss: 655.3223\n",
            "Epoch 78/100\n",
            "18/18 [==============================] - 0s 8ms/step - loss: 116.7796 - val_loss: 626.2580\n",
            "Epoch 79/100\n",
            "18/18 [==============================] - 2s 95ms/step - loss: 114.0939 - val_loss: 611.0188\n",
            "Epoch 80/100\n",
            "18/18 [==============================] - 0s 7ms/step - loss: 113.0322 - val_loss: 623.7084\n",
            "Epoch 81/100\n",
            "18/18 [==============================] - 0s 7ms/step - loss: 114.0625 - val_loss: 651.8150\n",
            "Epoch 82/100\n",
            "18/18 [==============================] - 0s 7ms/step - loss: 117.3070 - val_loss: 631.0970\n",
            "Epoch 83/100\n",
            "18/18 [==============================] - 0s 13ms/step - loss: 114.2165 - val_loss: 655.9598\n",
            "Epoch 84/100\n",
            "18/18 [==============================] - 0s 13ms/step - loss: 115.4150 - val_loss: 623.5713\n",
            "Epoch 85/100\n",
            "18/18 [==============================] - 0s 12ms/step - loss: 114.2817 - val_loss: 622.7980\n",
            "Epoch 86/100\n",
            "18/18 [==============================] - 0s 12ms/step - loss: 114.9438 - val_loss: 615.0585\n",
            "Epoch 87/100\n",
            "18/18 [==============================] - 2s 116ms/step - loss: 113.2217 - val_loss: 603.5589\n",
            "Epoch 88/100\n",
            "18/18 [==============================] - 0s 7ms/step - loss: 112.2604 - val_loss: 610.7798\n",
            "Epoch 89/100\n",
            "18/18 [==============================] - 0s 7ms/step - loss: 111.8103 - val_loss: 630.0093\n",
            "Epoch 90/100\n",
            "18/18 [==============================] - 0s 7ms/step - loss: 116.6886 - val_loss: 634.8469\n",
            "Epoch 91/100\n",
            "18/18 [==============================] - 0s 7ms/step - loss: 116.1753 - val_loss: 644.1503\n",
            "Epoch 92/100\n",
            "18/18 [==============================] - 2s 115ms/step - loss: 112.3805 - val_loss: 597.0722\n",
            "Epoch 93/100\n",
            "18/18 [==============================] - 0s 8ms/step - loss: 112.9373 - val_loss: 597.2059\n",
            "Epoch 94/100\n",
            "18/18 [==============================] - 0s 8ms/step - loss: 110.9637 - val_loss: 598.2957\n",
            "Epoch 95/100\n",
            "18/18 [==============================] - 2s 94ms/step - loss: 110.9345 - val_loss: 595.0659\n",
            "Epoch 96/100\n",
            "18/18 [==============================] - 0s 7ms/step - loss: 112.4730 - val_loss: 615.6916\n",
            "Epoch 97/100\n",
            "18/18 [==============================] - 0s 8ms/step - loss: 113.9812 - val_loss: 638.5051\n",
            "Epoch 98/100\n",
            "18/18 [==============================] - 2s 97ms/step - loss: 113.3106 - val_loss: 592.8619\n",
            "Epoch 99/100\n",
            "18/18 [==============================] - 2s 94ms/step - loss: 111.8656 - val_loss: 592.0872\n",
            "Epoch 100/100\n",
            "18/18 [==============================] - 0s 7ms/step - loss: 118.2650 - val_loss: 626.7348\n"
          ]
        },
        {
          "output_type": "execute_result",
          "data": {
            "text/plain": [
              "<keras.callbacks.History at 0x7fe6fb33b040>"
            ]
          },
          "metadata": {},
          "execution_count": 64
        }
      ]
    },
    {
      "cell_type": "code",
      "source": [
        "# eval\n",
        "model_5 = tf.keras.models.load_model(\"model_experiments/model_5_LSTM\")\n",
        "model_5.evaluate(test_windows, test_labels)"
      ],
      "metadata": {
        "colab": {
          "base_uri": "https://localhost:8080/"
        },
        "id": "F6hfo09Pxt9N",
        "outputId": "7fb070b6-0991-4c2b-bd29-a9f79ab1f424"
      },
      "execution_count": null,
      "outputs": [
        {
          "output_type": "stream",
          "name": "stderr",
          "text": [
            "WARNING:tensorflow:Layer lstm will not use cuDNN kernels since it doesn't meet the criteria. It will use a generic GPU kernel as fallback when running on GPU.\n"
          ]
        },
        {
          "output_type": "stream",
          "name": "stdout",
          "text": [
            "18/18 [==============================] - 0s 4ms/step - loss: 592.0872\n"
          ]
        },
        {
          "output_type": "execute_result",
          "data": {
            "text/plain": [
              "592.0872192382812"
            ]
          },
          "metadata": {},
          "execution_count": 65
        }
      ]
    },
    {
      "cell_type": "code",
      "source": [
        "model_5_preds = make_preds(model_5, test_windows)\n",
        "model_5_preds[:5]"
      ],
      "metadata": {
        "colab": {
          "base_uri": "https://localhost:8080/"
        },
        "id": "khMDetJQzkjK",
        "outputId": "d25237ad-3d6d-4228-e890-72d5069b3aa2"
      },
      "execution_count": null,
      "outputs": [
        {
          "output_type": "stream",
          "name": "stdout",
          "text": [
            "18/18 [==============================] - 0s 3ms/step\n"
          ]
        },
        {
          "output_type": "execute_result",
          "data": {
            "text/plain": [
              "<tf.Tensor: shape=(5,), dtype=float32, numpy=array([8953.573, 8818.727, 8969.929, 8782.837, 8744.813], dtype=float32)>"
            ]
          },
          "metadata": {},
          "execution_count": 66
        }
      ]
    },
    {
      "cell_type": "code",
      "source": [
        "model_5_results = evaluate_preds(y_true = tf.squeeze(test_labels),\n",
        "                                 y_pred = model_5_preds)\n",
        "model_5_results"
      ],
      "metadata": {
        "colab": {
          "base_uri": "https://localhost:8080/"
        },
        "id": "lQwQka1Rzk31",
        "outputId": "bbb8512f-589c-41a3-fe25-dda4de56d0a8"
      },
      "execution_count": null,
      "outputs": [
        {
          "output_type": "execute_result",
          "data": {
            "text/plain": [
              "{'mae': 592.08716,\n",
              " 'mse': 1250727.8,\n",
              " 'rmse': 1118.3594,\n",
              " 'mape': 2.656346,\n",
              " 'mase': 1.0401331}"
            ]
          },
          "metadata": {},
          "execution_count": 67
        }
      ]
    },
    {
      "cell_type": "markdown",
      "source": [
        "## Multivariate time series\n",
        "\n",
        "---\n",
        "\n"
      ],
      "metadata": {
        "id": "tcVBg5lE3yCV"
      }
    },
    {
      "cell_type": "code",
      "source": [
        "# Block reward values\n",
        "block_reward_1 = 50 # 3 January 2009 (2009-01-03) - this block reward isn't in our dataset (it starts from 01 October 2013)\n",
        "block_reward_2 = 25 # 28 November 2012 \n",
        "block_reward_3 = 12.5 # 9 July 2016\n",
        "block_reward_4 = 6.25 # 11 May 2020"
      ],
      "metadata": {
        "id": "WZYaZolN1JPj"
      },
      "execution_count": null,
      "outputs": []
    },
    {
      "cell_type": "code",
      "source": [
        "# Block reward dates (datetime form of the above date stamps)\n",
        "block_reward_2_datetime = np.datetime64(\"2012-11-28\")\n",
        "block_reward_3_datetime = np.datetime64(\"2016-07-09\")\n",
        "block_reward_4_datetime = np.datetime64(\"2020-05-11\")"
      ],
      "metadata": {
        "id": "9QDIpGXJ3ofg"
      },
      "execution_count": null,
      "outputs": []
    },
    {
      "cell_type": "code",
      "source": [
        "block_reward_2_days = (block_reward_3_datetime - bitcoin_prices.index[0]).days\n",
        "block_reward_3_days = (block_reward_4_datetime - bitcoin_prices.index[0]).days\n",
        "block_reward_2_days, block_reward_3_days"
      ],
      "metadata": {
        "id": "rgISaJeA3qbI",
        "colab": {
          "base_uri": "https://localhost:8080/"
        },
        "outputId": "d0a37552-8b17-4b5e-9e0e-e6a89145d065"
      },
      "execution_count": null,
      "outputs": [
        {
          "output_type": "execute_result",
          "data": {
            "text/plain": [
              "(1012, 2414)"
            ]
          },
          "metadata": {},
          "execution_count": 71
        }
      ]
    },
    {
      "cell_type": "code",
      "source": [
        "# Adding in block_reward values as a feature to our dataframe\n",
        "bitcoin_prices_block = bitcoin_prices.copy()\n",
        "bitcoin_prices_block[\"block_reward\"] = None\n",
        "bitcoin_prices_block.iloc[:block_reward_2_days, -1] = block_reward_2\n",
        "bitcoin_prices_block.iloc[block_reward_2_days:block_reward_3_days , -1] = block_reward_3\n",
        "bitcoin_prices_block.iloc[block_reward_3_days: , -1] = block_reward_4\n",
        "bitcoin_prices_block"
      ],
      "metadata": {
        "colab": {
          "base_uri": "https://localhost:8080/",
          "height": 455
        },
        "id": "nsx12Awh7oeZ",
        "outputId": "f86005af-eea7-4ba5-ebf4-ba9dcf0c2fae"
      },
      "execution_count": null,
      "outputs": [
        {
          "output_type": "execute_result",
          "data": {
            "text/plain": [
              "                   Price block_reward\n",
              "Date                                 \n",
              "2013-10-01    123.654990           25\n",
              "2013-10-02    125.455000           25\n",
              "2013-10-03    108.584830           25\n",
              "2013-10-04    118.674660           25\n",
              "2013-10-05    121.338660           25\n",
              "...                  ...          ...\n",
              "2021-05-14  49764.132082         6.25\n",
              "2021-05-15  50032.693137         6.25\n",
              "2021-05-16  47885.625255         6.25\n",
              "2021-05-17  45604.615754         6.25\n",
              "2021-05-18  43144.471291         6.25\n",
              "\n",
              "[2787 rows x 2 columns]"
            ],
            "text/html": [
              "\n",
              "  <div id=\"df-355c0d6c-b8f1-4887-bd88-0716d93523e0\">\n",
              "    <div class=\"colab-df-container\">\n",
              "      <div>\n",
              "<style scoped>\n",
              "    .dataframe tbody tr th:only-of-type {\n",
              "        vertical-align: middle;\n",
              "    }\n",
              "\n",
              "    .dataframe tbody tr th {\n",
              "        vertical-align: top;\n",
              "    }\n",
              "\n",
              "    .dataframe thead th {\n",
              "        text-align: right;\n",
              "    }\n",
              "</style>\n",
              "<table border=\"1\" class=\"dataframe\">\n",
              "  <thead>\n",
              "    <tr style=\"text-align: right;\">\n",
              "      <th></th>\n",
              "      <th>Price</th>\n",
              "      <th>block_reward</th>\n",
              "    </tr>\n",
              "    <tr>\n",
              "      <th>Date</th>\n",
              "      <th></th>\n",
              "      <th></th>\n",
              "    </tr>\n",
              "  </thead>\n",
              "  <tbody>\n",
              "    <tr>\n",
              "      <th>2013-10-01</th>\n",
              "      <td>123.654990</td>\n",
              "      <td>25</td>\n",
              "    </tr>\n",
              "    <tr>\n",
              "      <th>2013-10-02</th>\n",
              "      <td>125.455000</td>\n",
              "      <td>25</td>\n",
              "    </tr>\n",
              "    <tr>\n",
              "      <th>2013-10-03</th>\n",
              "      <td>108.584830</td>\n",
              "      <td>25</td>\n",
              "    </tr>\n",
              "    <tr>\n",
              "      <th>2013-10-04</th>\n",
              "      <td>118.674660</td>\n",
              "      <td>25</td>\n",
              "    </tr>\n",
              "    <tr>\n",
              "      <th>2013-10-05</th>\n",
              "      <td>121.338660</td>\n",
              "      <td>25</td>\n",
              "    </tr>\n",
              "    <tr>\n",
              "      <th>...</th>\n",
              "      <td>...</td>\n",
              "      <td>...</td>\n",
              "    </tr>\n",
              "    <tr>\n",
              "      <th>2021-05-14</th>\n",
              "      <td>49764.132082</td>\n",
              "      <td>6.25</td>\n",
              "    </tr>\n",
              "    <tr>\n",
              "      <th>2021-05-15</th>\n",
              "      <td>50032.693137</td>\n",
              "      <td>6.25</td>\n",
              "    </tr>\n",
              "    <tr>\n",
              "      <th>2021-05-16</th>\n",
              "      <td>47885.625255</td>\n",
              "      <td>6.25</td>\n",
              "    </tr>\n",
              "    <tr>\n",
              "      <th>2021-05-17</th>\n",
              "      <td>45604.615754</td>\n",
              "      <td>6.25</td>\n",
              "    </tr>\n",
              "    <tr>\n",
              "      <th>2021-05-18</th>\n",
              "      <td>43144.471291</td>\n",
              "      <td>6.25</td>\n",
              "    </tr>\n",
              "  </tbody>\n",
              "</table>\n",
              "<p>2787 rows × 2 columns</p>\n",
              "</div>\n",
              "      <button class=\"colab-df-convert\" onclick=\"convertToInteractive('df-355c0d6c-b8f1-4887-bd88-0716d93523e0')\"\n",
              "              title=\"Convert this dataframe to an interactive table.\"\n",
              "              style=\"display:none;\">\n",
              "        \n",
              "  <svg xmlns=\"http://www.w3.org/2000/svg\" height=\"24px\"viewBox=\"0 0 24 24\"\n",
              "       width=\"24px\">\n",
              "    <path d=\"M0 0h24v24H0V0z\" fill=\"none\"/>\n",
              "    <path d=\"M18.56 5.44l.94 2.06.94-2.06 2.06-.94-2.06-.94-.94-2.06-.94 2.06-2.06.94zm-11 1L8.5 8.5l.94-2.06 2.06-.94-2.06-.94L8.5 2.5l-.94 2.06-2.06.94zm10 10l.94 2.06.94-2.06 2.06-.94-2.06-.94-.94-2.06-.94 2.06-2.06.94z\"/><path d=\"M17.41 7.96l-1.37-1.37c-.4-.4-.92-.59-1.43-.59-.52 0-1.04.2-1.43.59L10.3 9.45l-7.72 7.72c-.78.78-.78 2.05 0 2.83L4 21.41c.39.39.9.59 1.41.59.51 0 1.02-.2 1.41-.59l7.78-7.78 2.81-2.81c.8-.78.8-2.07 0-2.86zM5.41 20L4 18.59l7.72-7.72 1.47 1.35L5.41 20z\"/>\n",
              "  </svg>\n",
              "      </button>\n",
              "      \n",
              "  <style>\n",
              "    .colab-df-container {\n",
              "      display:flex;\n",
              "      flex-wrap:wrap;\n",
              "      gap: 12px;\n",
              "    }\n",
              "\n",
              "    .colab-df-convert {\n",
              "      background-color: #E8F0FE;\n",
              "      border: none;\n",
              "      border-radius: 50%;\n",
              "      cursor: pointer;\n",
              "      display: none;\n",
              "      fill: #1967D2;\n",
              "      height: 32px;\n",
              "      padding: 0 0 0 0;\n",
              "      width: 32px;\n",
              "    }\n",
              "\n",
              "    .colab-df-convert:hover {\n",
              "      background-color: #E2EBFA;\n",
              "      box-shadow: 0px 1px 2px rgba(60, 64, 67, 0.3), 0px 1px 3px 1px rgba(60, 64, 67, 0.15);\n",
              "      fill: #174EA6;\n",
              "    }\n",
              "\n",
              "    [theme=dark] .colab-df-convert {\n",
              "      background-color: #3B4455;\n",
              "      fill: #D2E3FC;\n",
              "    }\n",
              "\n",
              "    [theme=dark] .colab-df-convert:hover {\n",
              "      background-color: #434B5C;\n",
              "      box-shadow: 0px 1px 3px 1px rgba(0, 0, 0, 0.15);\n",
              "      filter: drop-shadow(0px 1px 2px rgba(0, 0, 0, 0.3));\n",
              "      fill: #FFFFFF;\n",
              "    }\n",
              "  </style>\n",
              "\n",
              "      <script>\n",
              "        const buttonEl =\n",
              "          document.querySelector('#df-355c0d6c-b8f1-4887-bd88-0716d93523e0 button.colab-df-convert');\n",
              "        buttonEl.style.display =\n",
              "          google.colab.kernel.accessAllowed ? 'block' : 'none';\n",
              "\n",
              "        async function convertToInteractive(key) {\n",
              "          const element = document.querySelector('#df-355c0d6c-b8f1-4887-bd88-0716d93523e0');\n",
              "          const dataTable =\n",
              "            await google.colab.kernel.invokeFunction('convertToInteractive',\n",
              "                                                     [key], {});\n",
              "          if (!dataTable) return;\n",
              "\n",
              "          const docLinkHtml = 'Like what you see? Visit the ' +\n",
              "            '<a target=\"_blank\" href=https://colab.research.google.com/notebooks/data_table.ipynb>data table notebook</a>'\n",
              "            + ' to learn more about interactive tables.';\n",
              "          element.innerHTML = '';\n",
              "          dataTable['output_type'] = 'display_data';\n",
              "          await google.colab.output.renderOutput(dataTable, element);\n",
              "          const docLink = document.createElement('div');\n",
              "          docLink.innerHTML = docLinkHtml;\n",
              "          element.appendChild(docLink);\n",
              "        }\n",
              "      </script>\n",
              "    </div>\n",
              "  </div>\n",
              "  "
            ]
          },
          "metadata": {},
          "execution_count": 74
        }
      ]
    },
    {
      "cell_type": "code",
      "source": [
        "bitcoin_prices_block.plot(figsize= (10, 7));"
      ],
      "metadata": {
        "colab": {
          "base_uri": "https://localhost:8080/",
          "height": 459
        },
        "id": "CGjRBT8N8GKl",
        "outputId": "e256d9e0-9a50-46e0-a7e9-866b02bb9879"
      },
      "execution_count": null,
      "outputs": [
        {
          "output_type": "execute_result",
          "data": {
            "text/plain": [
              "<AxesSubplot:xlabel='Date'>"
            ]
          },
          "metadata": {},
          "execution_count": 75
        },
        {
          "output_type": "display_data",
          "data": {
            "text/plain": [
              "<Figure size 720x504 with 1 Axes>"
            ],
            "image/png": "[encoded data removed]"
          },
          "metadata": {
            "needs_background": "light"
          }
        }
      ]
    },
    {
      "cell_type": "code",
      "source": [
        "# they are at diff scales\n",
        "from sklearn.preprocessing import minmax_scale\n",
        "scaled_price_block_df = pd.DataFrame(minmax_scale(bitcoin_prices_block[[\"Price\", \"block_reward\"]]),\n",
        "                                                  columns = bitcoin_prices_block.columns,\n",
        "                                                  index = bitcoin_prices_block.index)\n",
        "scaled_price_block_df.plot(figsize= (10, 7));"
      ],
      "metadata": {
        "colab": {
          "base_uri": "https://localhost:8080/",
          "height": 442
        },
        "id": "4z6RE--d88Js",
        "outputId": "cafe2fe7-03fe-42f4-cf11-e46423b5ee36"
      },
      "execution_count": null,
      "outputs": [
        {
          "output_type": "display_data",
          "data": {
            "text/plain": [
              "<Figure size 720x504 with 1 Axes>"
            ],
            "image/png": "[encoded data removed]"
          },
          "metadata": {
            "needs_background": "light"
          }
        }
      ]
    },
    {
      "cell_type": "markdown",
      "source": [
        "## Making a windowed Dataset with pandas"
      ],
      "metadata": {
        "id": "SY8iAbmG-OfI"
      }
    },
    {
      "cell_type": "code",
      "source": [
        "bitcoin_prices_windowed = bitcoin_prices_block.copy()"
      ],
      "metadata": {
        "id": "d2mal8oPerSe"
      },
      "execution_count": null,
      "outputs": []
    },
    {
      "cell_type": "code",
      "source": [
        "# Add windowed columns\n",
        "for i in range(WINDOW_SIZE):\n",
        "  bitcoin_prices_windowed[f\"Price+{i+1}\"] = bitcoin_prices_windowed[\"Price\"].shift(periods = i + 1)\n",
        "bitcoin_prices_windowed.head(10)"
      ],
      "metadata": {
        "id": "OBCQH9Lxc_B0"
      },
      "execution_count": null,
      "outputs": []
    },
    {
      "cell_type": "code",
      "source": [
        "# Create X windows and Y horizon features\n",
        "X = bitcoin_prices_windowed.dropna().drop(\"Price, axis\").astype(np.float32)\n",
        "y = bitcoin_prices_windowed.dropna()[\"Price\"].astype(np.float32)\n",
        "\n",
        "X.head(), y.head()"
      ],
      "metadata": {
        "id": "ZUgTXoLoev4c"
      },
      "execution_count": null,
      "outputs": []
    },
    {
      "cell_type": "code",
      "source": [
        "# Creating train and test set\n",
        "split_size = int(len(X)* 0.8)\n",
        "\n",
        "X_train, y_train = X[:split_size], y[:split_size]\n",
        "X_test, y_test = X[split_size:], y[split_size:]\n",
        "\n",
        "len(X_train), len(y_train), len(X_test), len(y_test)"
      ],
      "metadata": {
        "id": "KR1vqG7Xfc2j"
      },
      "execution_count": null,
      "outputs": []
    },
    {
      "cell_type": "code",
      "source": [],
      "metadata": {
        "id": "QmBfeCoGf-wb"
      },
      "execution_count": null,
      "outputs": []
    },
    {
      "cell_type": "markdown",
      "source": [],
      "metadata": {
        "id": "4WNzh8uFfXYT"
      }
    }
  ]
}