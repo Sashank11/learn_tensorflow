{
  "nbformat": 4,
  "nbformat_minor": 0,
  "metadata": {
    "colab": {
      "provenance": [],
      "authorship_tag": "ABX9TyMdBLFW9W0oYcfdSktQVvF2",
      "include_colab_link": true
    },
    "kernelspec": {
      "name": "python3",
      "display_name": "Python 3"
    },
    "language_info": {
      "name": "python"
    },
    "accelerator": "GPU",
    "gpuClass": "standard"
  },
  "cells": [
    {
      "cell_type": "markdown",
      "metadata": {
        "id": "view-in-github",
        "colab_type": "text"
      },
      "source": [
        "<a href=\"https://colab.research.google.com/github/Sashank11/learn_tensorflow/blob/main/Forcasting.ipynb\" target=\"_parent\"><img src=\"https://colab.research.google.com/assets/colab-badge.svg\" alt=\"Open In Colab\"/></a>"
      ]
    },
    {
      "cell_type": "markdown",
      "source": [
        "# This is test notebook"
      ],
      "metadata": {
        "id": "FfqMXqntYWg6"
      }
    },
    {
      "cell_type": "code",
      "source": [
        "!wget https://raw.githubusercontent.com/mrdbourke/tensorflow-deep-learning/main/extras/BTC_USD_2013-10-01_2021-05-18-CoinDesk.csv"
      ],
      "metadata": {
        "colab": {
          "base_uri": "https://localhost:8080/"
        },
        "id": "JLWDA1a-Ycg7",
        "outputId": "9788352f-c760-4c81-caf3-622e41744974"
      },
      "execution_count": 3,
      "outputs": [
        {
          "output_type": "stream",
          "name": "stdout",
          "text": [
            "--2023-03-12 12:34:13--  https://raw.githubusercontent.com/mrdbourke/tensorflow-deep-learning/main/extras/BTC_USD_2013-10-01_2021-05-18-CoinDesk.csv\n",
            "Resolving raw.githubusercontent.com (raw.githubusercontent.com)... 185.199.111.133, 185.199.108.133, 185.199.110.133, ...\n",
            "Connecting to raw.githubusercontent.com (raw.githubusercontent.com)|185.199.111.133|:443... connected.\n",
            "HTTP request sent, awaiting response... 200 OK\n",
            "Length: 178509 (174K) [text/plain]\n",
            "Saving to: ‘BTC_USD_2013-10-01_2021-05-18-CoinDesk.csv.2’\n",
            "\n",
            "\r          BTC_USD_2   0%[                    ]       0  --.-KB/s               \rBTC_USD_2013-10-01_ 100%[===================>] 174.33K  --.-KB/s    in 0.003s  \n",
            "\n",
            "2023-03-12 12:34:13 (50.0 MB/s) - ‘BTC_USD_2013-10-01_2021-05-18-CoinDesk.csv.2’ saved [178509/178509]\n",
            "\n"
          ]
        }
      ]
    },
    {
      "cell_type": "markdown",
      "source": [
        "# Importing with pandas"
      ],
      "metadata": {
        "id": "9u2NeXCgiHHk"
      }
    },
    {
      "cell_type": "code",
      "source": [
        "import pandas as pd\n",
        "df = pd.read_csv(\"/content/BTC_USD_2013-10-01_2021-05-18-CoinDesk.csv\",parse_dates = [\"Date\"], \n",
        "                 index_col = [\"Date\"]) # Telling pandas its a datatime type\n",
        "\n",
        "df.head()"
      ],
      "metadata": {
        "colab": {
          "base_uri": "https://localhost:8080/",
          "height": 238
        },
        "id": "XiE6CfePjmOd",
        "outputId": "54501476-914b-4b97-c43f-fe79cdccc662"
      },
      "execution_count": 4,
      "outputs": [
        {
          "output_type": "execute_result",
          "data": {
            "text/plain": [
              "           Currency  Closing Price (USD)  24h Open (USD)  24h High (USD)  \\\n",
              "Date                                                                       \n",
              "2013-10-01      BTC            123.65499       124.30466       124.75166   \n",
              "2013-10-02      BTC            125.45500       123.65499       125.75850   \n",
              "2013-10-03      BTC            108.58483       125.45500       125.66566   \n",
              "2013-10-04      BTC            118.67466       108.58483       118.67500   \n",
              "2013-10-05      BTC            121.33866       118.67466       121.93633   \n",
              "\n",
              "            24h Low (USD)  \n",
              "Date                       \n",
              "2013-10-01      122.56349  \n",
              "2013-10-02      123.63383  \n",
              "2013-10-03       83.32833  \n",
              "2013-10-04      107.05816  \n",
              "2013-10-05      118.00566  "
            ],
            "text/html": [
              "\n",
              "  <div id=\"df-b2067c0f-bc5b-4d42-b0d3-7ca1858cf182\">\n",
              "    <div class=\"colab-df-container\">\n",
              "      <div>\n",
              "<style scoped>\n",
              "    .dataframe tbody tr th:only-of-type {\n",
              "        vertical-align: middle;\n",
              "    }\n",
              "\n",
              "    .dataframe tbody tr th {\n",
              "        vertical-align: top;\n",
              "    }\n",
              "\n",
              "    .dataframe thead th {\n",
              "        text-align: right;\n",
              "    }\n",
              "</style>\n",
              "<table border=\"1\" class=\"dataframe\">\n",
              "  <thead>\n",
              "    <tr style=\"text-align: right;\">\n",
              "      <th></th>\n",
              "      <th>Currency</th>\n",
              "      <th>Closing Price (USD)</th>\n",
              "      <th>24h Open (USD)</th>\n",
              "      <th>24h High (USD)</th>\n",
              "      <th>24h Low (USD)</th>\n",
              "    </tr>\n",
              "    <tr>\n",
              "      <th>Date</th>\n",
              "      <th></th>\n",
              "      <th></th>\n",
              "      <th></th>\n",
              "      <th></th>\n",
              "      <th></th>\n",
              "    </tr>\n",
              "  </thead>\n",
              "  <tbody>\n",
              "    <tr>\n",
              "      <th>2013-10-01</th>\n",
              "      <td>BTC</td>\n",
              "      <td>123.65499</td>\n",
              "      <td>124.30466</td>\n",
              "      <td>124.75166</td>\n",
              "      <td>122.56349</td>\n",
              "    </tr>\n",
              "    <tr>\n",
              "      <th>2013-10-02</th>\n",
              "      <td>BTC</td>\n",
              "      <td>125.45500</td>\n",
              "      <td>123.65499</td>\n",
              "      <td>125.75850</td>\n",
              "      <td>123.63383</td>\n",
              "    </tr>\n",
              "    <tr>\n",
              "      <th>2013-10-03</th>\n",
              "      <td>BTC</td>\n",
              "      <td>108.58483</td>\n",
              "      <td>125.45500</td>\n",
              "      <td>125.66566</td>\n",
              "      <td>83.32833</td>\n",
              "    </tr>\n",
              "    <tr>\n",
              "      <th>2013-10-04</th>\n",
              "      <td>BTC</td>\n",
              "      <td>118.67466</td>\n",
              "      <td>108.58483</td>\n",
              "      <td>118.67500</td>\n",
              "      <td>107.05816</td>\n",
              "    </tr>\n",
              "    <tr>\n",
              "      <th>2013-10-05</th>\n",
              "      <td>BTC</td>\n",
              "      <td>121.33866</td>\n",
              "      <td>118.67466</td>\n",
              "      <td>121.93633</td>\n",
              "      <td>118.00566</td>\n",
              "    </tr>\n",
              "  </tbody>\n",
              "</table>\n",
              "</div>\n",
              "      <button class=\"colab-df-convert\" onclick=\"convertToInteractive('df-b2067c0f-bc5b-4d42-b0d3-7ca1858cf182')\"\n",
              "              title=\"Convert this dataframe to an interactive table.\"\n",
              "              style=\"display:none;\">\n",
              "        \n",
              "  <svg xmlns=\"http://www.w3.org/2000/svg\" height=\"24px\"viewBox=\"0 0 24 24\"\n",
              "       width=\"24px\">\n",
              "    <path d=\"M0 0h24v24H0V0z\" fill=\"none\"/>\n",
              "    <path d=\"M18.56 5.44l.94 2.06.94-2.06 2.06-.94-2.06-.94-.94-2.06-.94 2.06-2.06.94zm-11 1L8.5 8.5l.94-2.06 2.06-.94-2.06-.94L8.5 2.5l-.94 2.06-2.06.94zm10 10l.94 2.06.94-2.06 2.06-.94-2.06-.94-.94-2.06-.94 2.06-2.06.94z\"/><path d=\"M17.41 7.96l-1.37-1.37c-.4-.4-.92-.59-1.43-.59-.52 0-1.04.2-1.43.59L10.3 9.45l-7.72 7.72c-.78.78-.78 2.05 0 2.83L4 21.41c.39.39.9.59 1.41.59.51 0 1.02-.2 1.41-.59l7.78-7.78 2.81-2.81c.8-.78.8-2.07 0-2.86zM5.41 20L4 18.59l7.72-7.72 1.47 1.35L5.41 20z\"/>\n",
              "  </svg>\n",
              "      </button>\n",
              "      \n",
              "  <style>\n",
              "    .colab-df-container {\n",
              "      display:flex;\n",
              "      flex-wrap:wrap;\n",
              "      gap: 12px;\n",
              "    }\n",
              "\n",
              "    .colab-df-convert {\n",
              "      background-color: #E8F0FE;\n",
              "      border: none;\n",
              "      border-radius: 50%;\n",
              "      cursor: pointer;\n",
              "      display: none;\n",
              "      fill: #1967D2;\n",
              "      height: 32px;\n",
              "      padding: 0 0 0 0;\n",
              "      width: 32px;\n",
              "    }\n",
              "\n",
              "    .colab-df-convert:hover {\n",
              "      background-color: #E2EBFA;\n",
              "      box-shadow: 0px 1px 2px rgba(60, 64, 67, 0.3), 0px 1px 3px 1px rgba(60, 64, 67, 0.15);\n",
              "      fill: #174EA6;\n",
              "    }\n",
              "\n",
              "    [theme=dark] .colab-df-convert {\n",
              "      background-color: #3B4455;\n",
              "      fill: #D2E3FC;\n",
              "    }\n",
              "\n",
              "    [theme=dark] .colab-df-convert:hover {\n",
              "      background-color: #434B5C;\n",
              "      box-shadow: 0px 1px 3px 1px rgba(0, 0, 0, 0.15);\n",
              "      filter: drop-shadow(0px 1px 2px rgba(0, 0, 0, 0.3));\n",
              "      fill: #FFFFFF;\n",
              "    }\n",
              "  </style>\n",
              "\n",
              "      <script>\n",
              "        const buttonEl =\n",
              "          document.querySelector('#df-b2067c0f-bc5b-4d42-b0d3-7ca1858cf182 button.colab-df-convert');\n",
              "        buttonEl.style.display =\n",
              "          google.colab.kernel.accessAllowed ? 'block' : 'none';\n",
              "\n",
              "        async function convertToInteractive(key) {\n",
              "          const element = document.querySelector('#df-b2067c0f-bc5b-4d42-b0d3-7ca1858cf182');\n",
              "          const dataTable =\n",
              "            await google.colab.kernel.invokeFunction('convertToInteractive',\n",
              "                                                     [key], {});\n",
              "          if (!dataTable) return;\n",
              "\n",
              "          const docLinkHtml = 'Like what you see? Visit the ' +\n",
              "            '<a target=\"_blank\" href=https://colab.research.google.com/notebooks/data_table.ipynb>data table notebook</a>'\n",
              "            + ' to learn more about interactive tables.';\n",
              "          element.innerHTML = '';\n",
              "          dataTable['output_type'] = 'display_data';\n",
              "          await google.colab.output.renderOutput(dataTable, element);\n",
              "          const docLink = document.createElement('div');\n",
              "          docLink.innerHTML = docLinkHtml;\n",
              "          element.appendChild(docLink);\n",
              "        }\n",
              "      </script>\n",
              "    </div>\n",
              "  </div>\n",
              "  "
            ]
          },
          "metadata": {},
          "execution_count": 4
        }
      ]
    },
    {
      "cell_type": "code",
      "source": [
        "df.info()"
      ],
      "metadata": {
        "colab": {
          "base_uri": "https://localhost:8080/"
        },
        "id": "1zoIuPbEkTJP",
        "outputId": "ded05d81-9d95-471b-f356-e9c6c3b8a932"
      },
      "execution_count": 5,
      "outputs": [
        {
          "output_type": "stream",
          "name": "stdout",
          "text": [
            "<class 'pandas.core.frame.DataFrame'>\n",
            "DatetimeIndex: 2787 entries, 2013-10-01 to 2021-05-18\n",
            "Data columns (total 5 columns):\n",
            " #   Column               Non-Null Count  Dtype  \n",
            "---  ------               --------------  -----  \n",
            " 0   Currency             2787 non-null   object \n",
            " 1   Closing Price (USD)  2787 non-null   float64\n",
            " 2   24h Open (USD)       2787 non-null   float64\n",
            " 3   24h High (USD)       2787 non-null   float64\n",
            " 4   24h Low (USD)        2787 non-null   float64\n",
            "dtypes: float64(4), object(1)\n",
            "memory usage: 130.6+ KB\n"
          ]
        }
      ]
    },
    {
      "cell_type": "code",
      "source": [
        "len(df)"
      ],
      "metadata": {
        "colab": {
          "base_uri": "https://localhost:8080/"
        },
        "id": "mnDxVGmVkawQ",
        "outputId": "cbf4e2bd-e63d-452c-9c2e-8aa8a67c2db2"
      },
      "execution_count": 6,
      "outputs": [
        {
          "output_type": "execute_result",
          "data": {
            "text/plain": [
              "2787"
            ]
          },
          "metadata": {},
          "execution_count": 6
        }
      ]
    },
    {
      "cell_type": "markdown",
      "source": [
        "# Visualizing"
      ],
      "metadata": {
        "id": "mnXX5RVLkfLd"
      }
    },
    {
      "cell_type": "code",
      "source": [
        "# looking at the closing price for each day"
      ],
      "metadata": {
        "id": "0gz-k7KLEq3k"
      },
      "execution_count": 7,
      "outputs": []
    },
    {
      "cell_type": "code",
      "source": [
        "bitcoin_prices = pd.DataFrame(df[\"Closing Price (USD)\"]).rename(columns = {\"Closing Price (USD)\": \"Price\"})\n",
        "bitcoin_prices.head()"
      ],
      "metadata": {
        "colab": {
          "base_uri": "https://localhost:8080/",
          "height": 238
        },
        "id": "FaFxbOwYJKyN",
        "outputId": "4c866b23-f3dc-4262-e7fe-23b116086a41"
      },
      "execution_count": 8,
      "outputs": [
        {
          "output_type": "execute_result",
          "data": {
            "text/plain": [
              "                Price\n",
              "Date                 \n",
              "2013-10-01  123.65499\n",
              "2013-10-02  125.45500\n",
              "2013-10-03  108.58483\n",
              "2013-10-04  118.67466\n",
              "2013-10-05  121.33866"
            ],
            "text/html": [
              "\n",
              "  <div id=\"df-5093f60a-bf0a-40f1-a92d-71f8b6f20b28\">\n",
              "    <div class=\"colab-df-container\">\n",
              "      <div>\n",
              "<style scoped>\n",
              "    .dataframe tbody tr th:only-of-type {\n",
              "        vertical-align: middle;\n",
              "    }\n",
              "\n",
              "    .dataframe tbody tr th {\n",
              "        vertical-align: top;\n",
              "    }\n",
              "\n",
              "    .dataframe thead th {\n",
              "        text-align: right;\n",
              "    }\n",
              "</style>\n",
              "<table border=\"1\" class=\"dataframe\">\n",
              "  <thead>\n",
              "    <tr style=\"text-align: right;\">\n",
              "      <th></th>\n",
              "      <th>Price</th>\n",
              "    </tr>\n",
              "    <tr>\n",
              "      <th>Date</th>\n",
              "      <th></th>\n",
              "    </tr>\n",
              "  </thead>\n",
              "  <tbody>\n",
              "    <tr>\n",
              "      <th>2013-10-01</th>\n",
              "      <td>123.65499</td>\n",
              "    </tr>\n",
              "    <tr>\n",
              "      <th>2013-10-02</th>\n",
              "      <td>125.45500</td>\n",
              "    </tr>\n",
              "    <tr>\n",
              "      <th>2013-10-03</th>\n",
              "      <td>108.58483</td>\n",
              "    </tr>\n",
              "    <tr>\n",
              "      <th>2013-10-04</th>\n",
              "      <td>118.67466</td>\n",
              "    </tr>\n",
              "    <tr>\n",
              "      <th>2013-10-05</th>\n",
              "      <td>121.33866</td>\n",
              "    </tr>\n",
              "  </tbody>\n",
              "</table>\n",
              "</div>\n",
              "      <button class=\"colab-df-convert\" onclick=\"convertToInteractive('df-5093f60a-bf0a-40f1-a92d-71f8b6f20b28')\"\n",
              "              title=\"Convert this dataframe to an interactive table.\"\n",
              "              style=\"display:none;\">\n",
              "        \n",
              "  <svg xmlns=\"http://www.w3.org/2000/svg\" height=\"24px\"viewBox=\"0 0 24 24\"\n",
              "       width=\"24px\">\n",
              "    <path d=\"M0 0h24v24H0V0z\" fill=\"none\"/>\n",
              "    <path d=\"M18.56 5.44l.94 2.06.94-2.06 2.06-.94-2.06-.94-.94-2.06-.94 2.06-2.06.94zm-11 1L8.5 8.5l.94-2.06 2.06-.94-2.06-.94L8.5 2.5l-.94 2.06-2.06.94zm10 10l.94 2.06.94-2.06 2.06-.94-2.06-.94-.94-2.06-.94 2.06-2.06.94z\"/><path d=\"M17.41 7.96l-1.37-1.37c-.4-.4-.92-.59-1.43-.59-.52 0-1.04.2-1.43.59L10.3 9.45l-7.72 7.72c-.78.78-.78 2.05 0 2.83L4 21.41c.39.39.9.59 1.41.59.51 0 1.02-.2 1.41-.59l7.78-7.78 2.81-2.81c.8-.78.8-2.07 0-2.86zM5.41 20L4 18.59l7.72-7.72 1.47 1.35L5.41 20z\"/>\n",
              "  </svg>\n",
              "      </button>\n",
              "      \n",
              "  <style>\n",
              "    .colab-df-container {\n",
              "      display:flex;\n",
              "      flex-wrap:wrap;\n",
              "      gap: 12px;\n",
              "    }\n",
              "\n",
              "    .colab-df-convert {\n",
              "      background-color: #E8F0FE;\n",
              "      border: none;\n",
              "      border-radius: 50%;\n",
              "      cursor: pointer;\n",
              "      display: none;\n",
              "      fill: #1967D2;\n",
              "      height: 32px;\n",
              "      padding: 0 0 0 0;\n",
              "      width: 32px;\n",
              "    }\n",
              "\n",
              "    .colab-df-convert:hover {\n",
              "      background-color: #E2EBFA;\n",
              "      box-shadow: 0px 1px 2px rgba(60, 64, 67, 0.3), 0px 1px 3px 1px rgba(60, 64, 67, 0.15);\n",
              "      fill: #174EA6;\n",
              "    }\n",
              "\n",
              "    [theme=dark] .colab-df-convert {\n",
              "      background-color: #3B4455;\n",
              "      fill: #D2E3FC;\n",
              "    }\n",
              "\n",
              "    [theme=dark] .colab-df-convert:hover {\n",
              "      background-color: #434B5C;\n",
              "      box-shadow: 0px 1px 3px 1px rgba(0, 0, 0, 0.15);\n",
              "      filter: drop-shadow(0px 1px 2px rgba(0, 0, 0, 0.3));\n",
              "      fill: #FFFFFF;\n",
              "    }\n",
              "  </style>\n",
              "\n",
              "      <script>\n",
              "        const buttonEl =\n",
              "          document.querySelector('#df-5093f60a-bf0a-40f1-a92d-71f8b6f20b28 button.colab-df-convert');\n",
              "        buttonEl.style.display =\n",
              "          google.colab.kernel.accessAllowed ? 'block' : 'none';\n",
              "\n",
              "        async function convertToInteractive(key) {\n",
              "          const element = document.querySelector('#df-5093f60a-bf0a-40f1-a92d-71f8b6f20b28');\n",
              "          const dataTable =\n",
              "            await google.colab.kernel.invokeFunction('convertToInteractive',\n",
              "                                                     [key], {});\n",
              "          if (!dataTable) return;\n",
              "\n",
              "          const docLinkHtml = 'Like what you see? Visit the ' +\n",
              "            '<a target=\"_blank\" href=https://colab.research.google.com/notebooks/data_table.ipynb>data table notebook</a>'\n",
              "            + ' to learn more about interactive tables.';\n",
              "          element.innerHTML = '';\n",
              "          dataTable['output_type'] = 'display_data';\n",
              "          await google.colab.output.renderOutput(dataTable, element);\n",
              "          const docLink = document.createElement('div');\n",
              "          docLink.innerHTML = docLinkHtml;\n",
              "          element.appendChild(docLink);\n",
              "        }\n",
              "      </script>\n",
              "    </div>\n",
              "  </div>\n",
              "  "
            ]
          },
          "metadata": {},
          "execution_count": 8
        }
      ]
    },
    {
      "cell_type": "code",
      "source": [
        "import matplotlib.pyplot as plt\n",
        "bitcoin_prices.plot(figsize=(10,7))\n",
        "plt.ylabel(\"BTC Price\")\n",
        "plt.title(\"Price of Bitcoin from 2013-2021\", fontsize = 16)\n",
        "plt.legend(fontsize =14);"
      ],
      "metadata": {
        "colab": {
          "base_uri": "https://localhost:8080/",
          "height": 460
        },
        "id": "9dqpGPxiJnnm",
        "outputId": "9757bc9d-b9e5-4920-ebb7-dc1840da3076"
      },
      "execution_count": 9,
      "outputs": [
        {
          "output_type": "display_data",
          "data": {
            "text/plain": [
              "<Figure size 720x504 with 1 Axes>"
            ],
            "image/png": "[encoded data removed]"
          },
          "metadata": {
            "needs_background": "light"
          }
        }
      ]
    },
    {
      "cell_type": "markdown",
      "source": [
        "# Train test set"
      ],
      "metadata": {
        "id": "XIoYKTVlJ4Xo"
      }
    },
    {
      "cell_type": "code",
      "source": [
        "# Get bitcoin date array\n",
        "timesteps = bitcoin_prices.index.to_numpy()\n",
        "prices = bitcoin_prices[\"Price\"].to_numpy()\n",
        "\n",
        "timesteps[:10], prices[:10]"
      ],
      "metadata": {
        "colab": {
          "base_uri": "https://localhost:8080/"
        },
        "id": "bDZzCS67t8rw",
        "outputId": "dc245842-f2a9-4549-dca5-2c20d8909e33"
      },
      "execution_count": 10,
      "outputs": [
        {
          "output_type": "execute_result",
          "data": {
            "text/plain": [
              "(array(['2013-10-01T00:00:00.000000000', '2013-10-02T00:00:00.000000000',\n",
              "        '2013-10-03T00:00:00.000000000', '2013-10-04T00:00:00.000000000',\n",
              "        '2013-10-05T00:00:00.000000000', '2013-10-06T00:00:00.000000000',\n",
              "        '2013-10-07T00:00:00.000000000', '2013-10-08T00:00:00.000000000',\n",
              "        '2013-10-09T00:00:00.000000000', '2013-10-10T00:00:00.000000000'],\n",
              "       dtype='datetime64[ns]'),\n",
              " array([123.65499, 125.455  , 108.58483, 118.67466, 121.33866, 120.65533,\n",
              "        121.795  , 123.033  , 124.049  , 125.96116]))"
            ]
          },
          "metadata": {},
          "execution_count": 10
        }
      ]
    },
    {
      "cell_type": "code",
      "source": [
        "# correct way to split - time series split\n",
        "split_size = int(0.8 * len(prices))\n",
        "\n",
        "X_train, y_train = timesteps[:split_size], prices[:split_size]\n",
        "\n",
        "X_test, y_test = timesteps[split_size:], prices[split_size:]\n",
        "\n",
        "len(X_train), len(y_train), len(X_test), len(y_test)"
      ],
      "metadata": {
        "colab": {
          "base_uri": "https://localhost:8080/"
        },
        "id": "U_xTNVmzudH3",
        "outputId": "b8b5c8d0-eea9-4e0b-dc09-fd47f75494e0"
      },
      "execution_count": 11,
      "outputs": [
        {
          "output_type": "execute_result",
          "data": {
            "text/plain": [
              "(2229, 2229, 558, 558)"
            ]
          },
          "metadata": {},
          "execution_count": 11
        }
      ]
    },
    {
      "cell_type": "code",
      "source": [
        "# plot the splits\n",
        "plt.figure(figsize = (10,7))\n",
        "plt.scatter(X_train, y_train, s = 5, label = \"Train Data\")\n",
        "plt.scatter(X_test, y_test, s = 5, label = \"Test Data\")\n",
        "plt.xlabel(\"Date\")\n",
        "plt.ylabel(\"BTC Price\")\n",
        "plt.legend(fontsize = 14)\n",
        "plt.show();"
      ],
      "metadata": {
        "colab": {
          "base_uri": "https://localhost:8080/",
          "height": 442
        },
        "id": "mYzObtKwwoNT",
        "outputId": "fe765474-82b9-4312-ffaa-246e202a2075"
      },
      "execution_count": 12,
      "outputs": [
        {
          "output_type": "display_data",
          "data": {
            "text/plain": [
              "<Figure size 720x504 with 1 Axes>"
            ],
            "image/png": "[encoded data removed]"
          },
          "metadata": {
            "needs_background": "light"
          }
        }
      ]
    },
    {
      "cell_type": "code",
      "source": [
        "# Creating plotting function for future use\n",
        "\n",
        "def plot_time_series(timesteps, values, format='.', start=0, end=None, label=None):\n",
        "  # Plot the series\n",
        "  plt.plot(timesteps[start:end], values[start:end], format, label=label)\n",
        "  plt.xlabel(\"Time\")\n",
        "  plt.ylabel(\"BTC Price\")\n",
        "  if label:\n",
        "    plt.legend(fontsize=14) # make label bigger\n",
        "  plt.grid(True)"
      ],
      "metadata": {
        "id": "N8YI5ZCZxIPj"
      },
      "execution_count": 13,
      "outputs": []
    },
    {
      "cell_type": "code",
      "source": [
        "plt.figure(figsize = (10, 7))\n",
        "plot_time_series(timesteps = X_train, values = y_train, label = \"Train Data\")\n",
        "plot_time_series(timesteps = X_test, values = y_test, label = \"Test Data\")"
      ],
      "metadata": {
        "colab": {
          "base_uri": "https://localhost:8080/",
          "height": 442
        },
        "id": "NNo7jfRr27Yt",
        "outputId": "5327cbfe-30b2-440c-d861-e75e761b3572"
      },
      "execution_count": 14,
      "outputs": [
        {
          "output_type": "display_data",
          "data": {
            "text/plain": [
              "<Figure size 720x504 with 1 Axes>"
            ],
            "image/png": "[encoded data removed]"
          },
          "metadata": {
            "needs_background": "light"
          }
        }
      ]
    },
    {
      "cell_type": "markdown",
      "source": [
        "# Creating Models"
      ],
      "metadata": {
        "id": "w8peIlXs3Vf-"
      }
    },
    {
      "cell_type": "markdown",
      "source": [
        "### Naive model"
      ],
      "metadata": {
        "id": "_AFkad5a3keB"
      }
    },
    {
      "cell_type": "markdown",
      "source": [
        "## Model 0"
      ],
      "metadata": {
        "id": "WsPmht-A3s14"
      }
    },
    {
      "cell_type": "code",
      "source": [
        "naive_forecast = y_test[:-1]\n",
        "naive_forecast[:10], naive_forecast[-10:]"
      ],
      "metadata": {
        "colab": {
          "base_uri": "https://localhost:8080/"
        },
        "id": "iMh5M-qfJeNI",
        "outputId": "f5eed065-01ed-462c-9440-dbeec06c02bd"
      },
      "execution_count": 15,
      "outputs": [
        {
          "output_type": "execute_result",
          "data": {
            "text/plain": [
              "(array([9226.48582088, 8794.35864452, 8798.04205463, 9081.18687849,\n",
              "        8711.53433917, 8760.89271814, 8749.52059102, 8656.97092235,\n",
              "        8500.64355816, 8469.2608989 ]),\n",
              " array([57107.12067189, 58788.20967893, 58102.19142623, 55715.54665129,\n",
              "        56573.5554719 , 52147.82118698, 49764.1320816 , 50032.69313676,\n",
              "        47885.62525472, 45604.61575361]))"
            ]
          },
          "metadata": {},
          "execution_count": 15
        }
      ]
    },
    {
      "cell_type": "code",
      "source": [
        "#plot\n",
        "plt.figure(figsize = (10,7))\n",
        "plot_time_series(timesteps = X_train, values = y_train, label = \"Train Data\")\n",
        "plot_time_series(timesteps=X_test, values=y_test, label=\"Test data\")\n",
        "plot_time_series(timesteps=X_test[1:], values=naive_forecast, format=\"-\", label=\"Naive forecast\");"
      ],
      "metadata": {
        "colab": {
          "base_uri": "https://localhost:8080/",
          "height": 442
        },
        "id": "lbCwpdW7L5YL",
        "outputId": "3294c070-d3a4-4829-8cf6-8be39daa9412"
      },
      "execution_count": 16,
      "outputs": [
        {
          "output_type": "display_data",
          "data": {
            "text/plain": [
              "<Figure size 720x504 with 1 Axes>"
            ],
            "image/png": "[encoded data removed]"
          },
          "metadata": {
            "needs_background": "light"
          }
        }
      ]
    },
    {
      "cell_type": "code",
      "source": [
        "plt.figure(figsize=(10, 7))\n",
        "offset = 300 # offset the values by 300 timesteps \n",
        "plot_time_series(timesteps=X_test, values=y_test, start=offset, label=\"Test data\")\n",
        "plot_time_series(timesteps=X_test[1:], values=naive_forecast, format=\"-\", start=offset, label=\"Naive forecast\");"
      ],
      "metadata": {
        "colab": {
          "base_uri": "https://localhost:8080/",
          "height": 442
        },
        "id": "vcu73w-uMQqZ",
        "outputId": "9aba5cdd-5a91-43b5-918f-8264d9f68aa3"
      },
      "execution_count": 17,
      "outputs": [
        {
          "output_type": "display_data",
          "data": {
            "text/plain": [
              "<Figure size 720x504 with 1 Axes>"
            ],
            "image/png": "[encoded data removed]"
          },
          "metadata": {
            "needs_background": "light"
          }
        }
      ]
    },
    {
      "cell_type": "markdown",
      "source": [
        "### Evaluating in time series Model\n",
        "\n",
        "* MAE\n",
        "* MSE\n",
        "* RMSE\n",
        "* MAPE/sMAPE\n",
        "* MASE"
      ],
      "metadata": {
        "id": "yFegQLn6MUhL"
      }
    },
    {
      "cell_type": "code",
      "source": [
        "import tensorflow as tf"
      ],
      "metadata": {
        "id": "bBE1e26mMZ5m"
      },
      "execution_count": 18,
      "outputs": []
    },
    {
      "cell_type": "code",
      "source": [
        "# MASE implementation\n",
        "def mean_absolute_scaled_error(y_true, y_pred):\n",
        "  mae = tf.reduce_mean(tf.abs(y_true-y_pred))\n",
        "  mae_naive_no_season = tf.reduce_mean(tf.abs(y_true[1:]- y_true[:-1]))\n",
        "  return mae/mae_naive_no_season"
      ],
      "metadata": {
        "id": "g8mMZIY3yAnD"
      },
      "execution_count": 19,
      "outputs": []
    },
    {
      "cell_type": "code",
      "source": [
        "mean_absolute_scaled_error(y_true = y_test[1:], y_pred = naive_forecast).numpy()"
      ],
      "metadata": {
        "colab": {
          "base_uri": "https://localhost:8080/"
        },
        "id": "_1xhuLRt3OEu",
        "outputId": "dbeb6fa7-0d76-46a9-cc2d-2f0c334c12ee"
      },
      "execution_count": 20,
      "outputs": [
        {
          "output_type": "execute_result",
          "data": {
            "text/plain": [
              "0.9995699939182624"
            ]
          },
          "metadata": {},
          "execution_count": 20
        }
      ]
    },
    {
      "cell_type": "code",
      "source": [
        "def evaluate_preds(y_true, y_pred):\n",
        "  # Make sure float32 (for metric calculations)\n",
        "  y_true = tf.cast(y_true, dtype=tf.float32)\n",
        "  y_pred = tf.cast(y_pred, dtype=tf.float32)\n",
        "\n",
        "  # Calculate various metrics\n",
        "  mae = tf.keras.metrics.mean_absolute_error(y_true, y_pred)\n",
        "  mse = tf.keras.metrics.mean_squared_error(y_true, y_pred) # puts and emphasis on outliers (all errors get squared)\n",
        "  rmse = tf.sqrt(mse)\n",
        "  mape = tf.keras.metrics.mean_absolute_percentage_error(y_true, y_pred)\n",
        "  mase = mean_absolute_scaled_error(y_true, y_pred)\n",
        "  \n",
        "  return {\"mae\": mae.numpy(),\n",
        "          \"mse\": mse.numpy(),\n",
        "          \"rmse\": rmse.numpy(),\n",
        "          \"mape\": mape.numpy(),\n",
        "          \"mase\": mase.numpy()}"
      ],
      "metadata": {
        "id": "su2rOKSN3VAj"
      },
      "execution_count": 21,
      "outputs": []
    },
    {
      "cell_type": "code",
      "source": [
        "naive_results = evaluate_preds(y_true = y_test[1:], y_pred = naive_forecast)\n",
        "naive_results"
      ],
      "metadata": {
        "colab": {
          "base_uri": "https://localhost:8080/"
        },
        "id": "s_FXDSPR4wB8",
        "outputId": "2eea0ead-1e09-4693-a031-8ccb54090e7e"
      },
      "execution_count": 22,
      "outputs": [
        {
          "output_type": "execute_result",
          "data": {
            "text/plain": [
              "{'mae': 567.9802,\n",
              " 'mse': 1147547.0,\n",
              " 'rmse': 1071.2362,\n",
              " 'mape': 2.516525,\n",
              " 'mase': 0.99957}"
            ]
          },
          "metadata": {},
          "execution_count": 22
        }
      ]
    },
    {
      "cell_type": "markdown",
      "source": [
        "### Windowing our dataset"
      ],
      "metadata": {
        "id": "VqOzS3rh5rXb"
      }
    },
    {
      "cell_type": "code",
      "source": [
        "#Global variables for window and horizon size\n",
        "HORIZON = 1\n",
        "WINDOW_SIZE = 7"
      ],
      "metadata": {
        "id": "mIVKptrlVIZH"
      },
      "execution_count": 23,
      "outputs": []
    },
    {
      "cell_type": "code",
      "source": [
        "#function to label windowed data\n",
        "def get_labelled_windows(x, horizon=HORIZON):\n",
        "  return x[:, :-horizon], x[:, -horizon:]"
      ],
      "metadata": {
        "id": "aUSk4HBwV5Uc"
      },
      "execution_count": 24,
      "outputs": []
    },
    {
      "cell_type": "code",
      "source": [
        "test_window, test_label = get_labelled_windows(tf.expand_dims(tf.range(8) + 1, axis = 0))\n",
        "test_window, test_label"
      ],
      "metadata": {
        "colab": {
          "base_uri": "https://localhost:8080/"
        },
        "id": "ApRNdIQuXF5H",
        "outputId": "57904cb0-fd26-4b14-ba50-235157cc8be5"
      },
      "execution_count": 25,
      "outputs": [
        {
          "output_type": "execute_result",
          "data": {
            "text/plain": [
              "(<tf.Tensor: shape=(1, 7), dtype=int32, numpy=array([[1, 2, 3, 4, 5, 6, 7]], dtype=int32)>,\n",
              " <tf.Tensor: shape=(1, 1), dtype=int32, numpy=array([[8]], dtype=int32)>)"
            ]
          },
          "metadata": {},
          "execution_count": 25
        }
      ]
    },
    {
      "cell_type": "code",
      "source": [
        "import numpy as np\n",
        "# Create function to view NumPy arrays as windows \n",
        "def make_windows(x, window_size=7, horizon=1):\n",
        "  \"\"\"\n",
        "  Turns a 1D array into a 2D array of sequential windows of window_size.\n",
        "  \"\"\"\n",
        "  # 1. Create a window of specific window_size (add the horizon on the end for later labelling)\n",
        "  window_step = np.expand_dims(np.arange(window_size+horizon), axis=0)\n",
        "  # print(f\"Window step:\\n {window_step}\")\n",
        "\n",
        "  # 2. Create a 2D array of multiple window steps (minus 1 to account for 0 indexing)\n",
        "  window_indexes = window_step + np.expand_dims(np.arange(len(x)-(window_size+horizon-1)), axis=0).T # create 2D array of windows of size window_size\n",
        "  # print(f\"Window indexes:\\n {window_indexes[:3], window_indexes[-3:], window_indexes.shape}\")\n",
        "\n",
        "  # 3. Index on the target array (time series) with 2D array of multiple window steps\n",
        "  windowed_array = x[window_indexes]\n",
        "\n",
        "  # 4. Get the labelled windows\n",
        "  windows, labels = get_labelled_windows(windowed_array, horizon=horizon)\n",
        "\n",
        "  return windows, labels"
      ],
      "metadata": {
        "id": "96dHhfdsXV23"
      },
      "execution_count": 26,
      "outputs": []
    },
    {
      "cell_type": "code",
      "source": [
        "full_windows, full_labels = make_windows(prices, window_size=WINDOW_SIZE, horizon=HORIZON)\n",
        "len(full_windows), len(full_labels)\n"
      ],
      "metadata": {
        "colab": {
          "base_uri": "https://localhost:8080/"
        },
        "id": "JSHrzCA0sTjC",
        "outputId": "a4d5f806-6b69-49a8-84c7-20f29b25aab2"
      },
      "execution_count": 27,
      "outputs": [
        {
          "output_type": "execute_result",
          "data": {
            "text/plain": [
              "(2780, 2780)"
            ]
          },
          "metadata": {},
          "execution_count": 27
        }
      ]
    },
    {
      "cell_type": "code",
      "source": [
        "# View the first 3 windows/labels\n",
        "for i in range(3):\n",
        "  print(f\"Window: {full_windows[i]} -> Label: {full_labels[i]}\")"
      ],
      "metadata": {
        "colab": {
          "base_uri": "https://localhost:8080/"
        },
        "id": "WO4jajCQsU8x",
        "outputId": "0242e7a2-0fc6-4db5-9970-596a8712d40e"
      },
      "execution_count": 28,
      "outputs": [
        {
          "output_type": "stream",
          "name": "stdout",
          "text": [
            "Window: [123.65499 125.455   108.58483 118.67466 121.33866 120.65533 121.795  ] -> Label: [123.033]\n",
            "Window: [125.455   108.58483 118.67466 121.33866 120.65533 121.795   123.033  ] -> Label: [124.049]\n",
            "Window: [108.58483 118.67466 121.33866 120.65533 121.795   123.033   124.049  ] -> Label: [125.96116]\n"
          ]
        }
      ]
    },
    {
      "cell_type": "markdown",
      "source": [
        "### Turning windows into training and test sets"
      ],
      "metadata": {
        "id": "k3v62KSfsbgY"
      }
    },
    {
      "cell_type": "markdown",
      "source": [
        "## Turning windows into training and test sets\n",
        "\n"
      ],
      "metadata": {
        "id": "NBtwkDJEsnRP"
      }
    },
    {
      "cell_type": "code",
      "source": [
        "def make_train_test_splits(windows, labels, test_split = 0.2):\n",
        "  split_size = int(len(windows) * (1-test_split))\n",
        "  train_windows = windows[:split_size]\n",
        "  train_labels =  labels[:split_size]\n",
        "  test_windows = windows[split_size:]\n",
        "  test_labels =  labels[split_size:]\n",
        "  return train_windows, test_windows, train_labels, test_labels"
      ],
      "metadata": {
        "id": "bfp2nkLY9t1G"
      },
      "execution_count": 29,
      "outputs": []
    },
    {
      "cell_type": "code",
      "source": [
        "train_windows, test_windows, train_labels, test_labels = make_train_test_splits(windows = full_windows, labels = full_labels)\n",
        "len(train_windows), len(test_windows), len(train_labels), len(test_labels)"
      ],
      "metadata": {
        "colab": {
          "base_uri": "https://localhost:8080/"
        },
        "id": "MIwHUet2D80f",
        "outputId": "e1097a05-2903-4e06-dc96-0d436685c2bf"
      },
      "execution_count": 30,
      "outputs": [
        {
          "output_type": "execute_result",
          "data": {
            "text/plain": [
              "(2224, 556, 2224, 556)"
            ]
          },
          "metadata": {},
          "execution_count": 30
        }
      ]
    },
    {
      "cell_type": "code",
      "source": [
        "len(full_windows) * 0.8"
      ],
      "metadata": {
        "colab": {
          "base_uri": "https://localhost:8080/"
        },
        "id": "V0Y_aYlMEVkA",
        "outputId": "817de879-bc8e-4fb8-98aa-f3ed83ebefb8"
      },
      "execution_count": 31,
      "outputs": [
        {
          "output_type": "execute_result",
          "data": {
            "text/plain": [
              "2224.0"
            ]
          },
          "metadata": {},
          "execution_count": 31
        }
      ]
    },
    {
      "cell_type": "code",
      "source": [
        "train_windows[:5], train_labels[:5]"
      ],
      "metadata": {
        "colab": {
          "base_uri": "https://localhost:8080/"
        },
        "id": "Yc5WrDYGEmNy",
        "outputId": "c355b295-35f1-4859-a66d-28f34564466d"
      },
      "execution_count": 32,
      "outputs": [
        {
          "output_type": "execute_result",
          "data": {
            "text/plain": [
              "(array([[123.65499, 125.455  , 108.58483, 118.67466, 121.33866, 120.65533,\n",
              "         121.795  ],\n",
              "        [125.455  , 108.58483, 118.67466, 121.33866, 120.65533, 121.795  ,\n",
              "         123.033  ],\n",
              "        [108.58483, 118.67466, 121.33866, 120.65533, 121.795  , 123.033  ,\n",
              "         124.049  ],\n",
              "        [118.67466, 121.33866, 120.65533, 121.795  , 123.033  , 124.049  ,\n",
              "         125.96116],\n",
              "        [121.33866, 120.65533, 121.795  , 123.033  , 124.049  , 125.96116,\n",
              "         125.27966]]), array([[123.033  ],\n",
              "        [124.049  ],\n",
              "        [125.96116],\n",
              "        [125.27966],\n",
              "        [125.9275 ]]))"
            ]
          },
          "metadata": {},
          "execution_count": 32
        }
      ]
    },
    {
      "cell_type": "code",
      "source": [
        "np.array_equal(np.squeeze(train_labels[:-HORIZON-1]), y_train[WINDOW_SIZE:])"
      ],
      "metadata": {
        "colab": {
          "base_uri": "https://localhost:8080/"
        },
        "id": "Xgn9KcmFE55j",
        "outputId": "985f6f0b-3361-4eac-81b9-51a441e519d9"
      },
      "execution_count": 33,
      "outputs": [
        {
          "output_type": "execute_result",
          "data": {
            "text/plain": [
              "True"
            ]
          },
          "metadata": {},
          "execution_count": 33
        }
      ]
    },
    {
      "cell_type": "markdown",
      "source": [
        "## Make a modelling checkpoint"
      ],
      "metadata": {
        "id": "J08oLyanFW7d"
      }
    },
    {
      "cell_type": "code",
      "source": [
        "import os\n",
        "\n",
        "def create_model_checkpoint(model_name, save_path = \"model_experiments\"):\n",
        "  return tf.keras.callbacks.ModelCheckpoint(filepath=os.path.join(save_path, model_name),\n",
        "                                            verbose = 0,\n",
        "                                            save_best_only = True)"
      ],
      "metadata": {
        "id": "mniwBAJ0FpCo"
      },
      "execution_count": 34,
      "outputs": []
    },
    {
      "cell_type": "markdown",
      "source": [
        "# Creating Models"
      ],
      "metadata": {
        "id": "du_iGlCqGpgk"
      }
    },
    {
      "cell_type": "markdown",
      "source": [
        "### Model 1: window = 7, horizon = 1"
      ],
      "metadata": {
        "id": "0XXNeXPOG3zB"
      }
    },
    {
      "cell_type": "code",
      "source": [
        "import tensorflow as tf\n",
        "from tensorflow.keras import layers\n",
        "tf.random.set_seed(42)\n",
        "\n",
        "# Construct model\n",
        "model_1 = tf.keras.Sequential([\n",
        "    layers.Dense(128, activation = \"relu\"),\n",
        "    layers.Dense(HORIZON, activation =\"linear\")\n",
        "], name = \"model_1_dense\")\n",
        "\n",
        "# Compiling\n",
        "model_1.compile(loss = \"mae\",\n",
        "                optimizer = tf.keras.optimizers.Adam(),\n",
        "                metrics = [\"mae\", \"mse\"])\n",
        "# fitting\n",
        "model_1.fit(x = train_windows,\n",
        "            y = train_labels,\n",
        "            epochs = 100,\n",
        "            verbose = 1,\n",
        "            batch_size =  128,\n",
        "            validation_data = (test_windows, test_labels),\n",
        "            callbacks = [create_model_checkpoint(model_name = model_1.name)])"
      ],
      "metadata": {
        "colab": {
          "base_uri": "https://localhost:8080/"
        },
        "id": "S4pAfe0QLdkp",
        "outputId": "6fe72a7f-ea6d-4329-fafb-40dc6441f5ae"
      },
      "execution_count": 35,
      "outputs": [
        {
          "output_type": "stream",
          "name": "stdout",
          "text": [
            "Epoch 1/100\n",
            "14/18 [======================>.......] - ETA: 0s - loss: 785.2159 - mae: 785.2159 - mse: 2346159.5000   "
          ]
        },
        {
          "output_type": "stream",
          "name": "stderr",
          "text": [
            "WARNING:absl:Found untraced functions such as _update_step_xla while saving (showing 1 of 1). These functions will not be directly callable after loading.\n"
          ]
        },
        {
          "output_type": "stream",
          "name": "stdout",
          "text": [
            "\b\b\b\b\b\b\b\b\b\b\b\b\b\b\b\b\b\b\b\b\b\b\b\b\b\b\b\b\b\b\b\b\b\b\b\b\b\b\b\b\b\b\b\b\b\b\b\b\b\b\b\b\b\b\b\b\b\b\b\b\b\b\b\b\b\b\b\b\b\b\b\b\b\b\b\b\b\b\b\b\b\b\b\b\b\b\b\b\b\b\b\b\b\b\b\b\b\b\b\b\b\r18/18 [==============================] - 4s 117ms/step - loss: 722.9395 - mae: 722.9395 - mse: 2017558.5000 - val_loss: 1788.3499 - val_mae: 1788.3499 - val_mse: 8765871.0000\n",
            "Epoch 2/100\n",
            "16/18 [=========================>....] - ETA: 0s - loss: 239.6189 - mae: 239.6189 - mse: 263411.2500"
          ]
        },
        {
          "output_type": "stream",
          "name": "stderr",
          "text": [
            "WARNING:absl:Found untraced functions such as _update_step_xla while saving (showing 1 of 1). These functions will not be directly callable after loading.\n"
          ]
        },
        {
          "output_type": "stream",
          "name": "stdout",
          "text": [
            "\b\b\b\b\b\b\b\b\b\b\b\b\b\b\b\b\b\b\b\b\b\b\b\b\b\b\b\b\b\b\b\b\b\b\b\b\b\b\b\b\b\b\b\b\b\b\b\b\b\b\b\b\b\b\b\b\b\b\b\b\b\b\b\b\b\b\b\b\b\b\b\b\b\b\b\b\b\b\b\b\b\b\b\b\b\b\b\b\b\b\b\b\b\b\b\b\b\b\b\b\r18/18 [==============================] - 1s 46ms/step - loss: 234.0010 - mae: 234.0010 - mse: 251738.8750 - val_loss: 1201.5088 - val_mae: 1201.5088 - val_mse: 4617847.0000\n",
            "Epoch 3/100\n",
            " 9/18 [==============>...............] - ETA: 0s - loss: 192.8259 - mae: 192.8259 - mse: 181833.9219"
          ]
        },
        {
          "output_type": "stream",
          "name": "stderr",
          "text": [
            "WARNING:absl:Found untraced functions such as _update_step_xla while saving (showing 1 of 1). These functions will not be directly callable after loading.\n"
          ]
        },
        {
          "output_type": "stream",
          "name": "stdout",
          "text": [
            "\b\b\b\b\b\b\b\b\b\b\b\b\b\b\b\b\b\b\b\b\b\b\b\b\b\b\b\b\b\b\b\b\b\b\b\b\b\b\b\b\b\b\b\b\b\b\b\b\b\b\b\b\b\b\b\b\b\b\b\b\b\b\b\b\b\b\b\b\b\b\b\b\b\b\b\b\b\b\b\b\b\b\b\b\b\b\b\b\b\b\b\b\b\b\b\b\b\b\b\b\r18/18 [==============================] - 1s 55ms/step - loss: 187.0506 - mae: 187.0506 - mse: 175514.5469 - val_loss: 972.3395 - val_mae: 972.3395 - val_mse: 3062794.5000\n",
            "Epoch 4/100\n",
            "12/18 [===================>..........] - ETA: 0s - loss: 179.1797 - mae: 179.1797 - mse: 174468.8906"
          ]
        },
        {
          "output_type": "stream",
          "name": "stderr",
          "text": [
            "WARNING:absl:Found untraced functions such as _update_step_xla while saving (showing 1 of 1). These functions will not be directly callable after loading.\n"
          ]
        },
        {
          "output_type": "stream",
          "name": "stdout",
          "text": [
            "\b\b\b\b\b\b\b\b\b\b\b\b\b\b\b\b\b\b\b\b\b\b\b\b\b\b\b\b\b\b\b\b\b\b\b\b\b\b\b\b\b\b\b\b\b\b\b\b\b\b\b\b\b\b\b\b\b\b\b\b\b\b\b\b\b\b\b\b\b\b\b\b\b\b\b\b\b\b\b\b\b\b\b\b\b\b\b\b\b\b\b\b\b\b\b\b\b\b\b\b\r18/18 [==============================] - 1s 55ms/step - loss: 171.1029 - mae: 171.1029 - mse: 156785.2031 - val_loss: 950.7714 - val_mae: 950.7714 - val_mse: 2896333.2500\n",
            "Epoch 5/100\n",
            "10/18 [===============>..............] - ETA: 0s - loss: 173.2445 - mae: 173.2445 - mse: 159679.2344"
          ]
        },
        {
          "output_type": "stream",
          "name": "stderr",
          "text": [
            "WARNING:absl:Found untraced functions such as _update_step_xla while saving (showing 1 of 1). These functions will not be directly callable after loading.\n"
          ]
        },
        {
          "output_type": "stream",
          "name": "stdout",
          "text": [
            "\b\b\b\b\b\b\b\b\b\b\b\b\b\b\b\b\b\b\b\b\b\b\b\b\b\b\b\b\b\b\b\b\b\b\b\b\b\b\b\b\b\b\b\b\b\b\b\b\b\b\b\b\b\b\b\b\b\b\b\b\b\b\b\b\b\b\b\b\b\b\b\b\b\b\b\b\b\b\b\b\b\b\b\b\b\b\b\b\b\b\b\b\b\b\b\b\b\b\b\b\r18/18 [==============================] - 1s 68ms/step - loss: 167.0972 - mae: 167.0972 - mse: 150423.6250 - val_loss: 906.4163 - val_mae: 906.4163 - val_mse: 2761152.0000\n",
            "Epoch 6/100\n",
            "18/18 [==============================] - ETA: 0s - loss: 167.8561 - mae: 167.8561 - mse: 147253.3281"
          ]
        },
        {
          "output_type": "stream",
          "name": "stderr",
          "text": [
            "WARNING:absl:Found untraced functions such as _update_step_xla while saving (showing 1 of 1). These functions will not be directly callable after loading.\n"
          ]
        },
        {
          "output_type": "stream",
          "name": "stdout",
          "text": [
            "\b\b\b\b\b\b\b\b\b\b\b\b\b\b\b\b\b\b\b\b\b\b\b\b\b\b\b\b\b\b\b\b\b\b\b\b\b\b\b\b\b\b\b\b\b\b\b\b\b\b\b\b\b\b\b\b\b\b\b\b\b\b\b\b\b\b\b\b\b\b\b\b\b\b\b\b\b\b\b\b\b\b\b\b\b\b\b\b\b\b\b\b\b\b\b\b\b\b\b\b\r18/18 [==============================] - 2s 104ms/step - loss: 167.8561 - mae: 167.8561 - mse: 147253.3281 - val_loss: 896.4940 - val_mae: 896.4940 - val_mse: 2617029.0000\n",
            "Epoch 7/100\n",
            "14/18 [======================>.......] - ETA: 0s - loss: 165.8628 - mae: 165.8628 - mse: 149436.1562"
          ]
        },
        {
          "output_type": "stream",
          "name": "stderr",
          "text": [
            "WARNING:absl:Found untraced functions such as _update_step_xla while saving (showing 1 of 1). These functions will not be directly callable after loading.\n"
          ]
        },
        {
          "output_type": "stream",
          "name": "stdout",
          "text": [
            "\b\b\b\b\b\b\b\b\b\b\b\b\b\b\b\b\b\b\b\b\b\b\b\b\b\b\b\b\b\b\b\b\b\b\b\b\b\b\b\b\b\b\b\b\b\b\b\b\b\b\b\b\b\b\b\b\b\b\b\b\b\b\b\b\b\b\b\b\b\b\b\b\b\b\b\b\b\b\b\b\b\b\b\b\b\b\b\b\b\b\b\b\b\b\b\b\b\b\b\b\r18/18 [==============================] - 2s 111ms/step - loss: 159.7153 - mae: 159.7153 - mse: 136598.6719 - val_loss: 863.2475 - val_mae: 863.2475 - val_mse: 2508667.7500\n",
            "Epoch 8/100\n",
            " 1/18 [>.............................] - ETA: 0s - loss: 128.0988 - mae: 128.0988 - mse: 71136.3438"
          ]
        },
        {
          "output_type": "stream",
          "name": "stderr",
          "text": [
            "WARNING:absl:Found untraced functions such as _update_step_xla while saving (showing 1 of 1). These functions will not be directly callable after loading.\n"
          ]
        },
        {
          "output_type": "stream",
          "name": "stdout",
          "text": [
            "\b\b\b\b\b\b\b\b\b\b\b\b\b\b\b\b\b\b\b\b\b\b\b\b\b\b\b\b\b\b\b\b\b\b\b\b\b\b\b\b\b\b\b\b\b\b\b\b\b\b\b\b\b\b\b\b\b\b\b\b\b\b\b\b\b\b\b\b\b\b\b\b\b\b\b\b\b\b\b\b\b\b\b\b\b\b\b\b\b\b\b\b\b\b\b\b\b\b\b\r18/18 [==============================] - 1s 65ms/step - loss: 155.4716 - mae: 155.4716 - mse: 131000.1328 - val_loss: 848.9984 - val_mae: 848.9984 - val_mse: 2427041.2500\n",
            "Epoch 9/100\n",
            "12/18 [===================>..........] - ETA: 0s - loss: 157.7668 - mae: 157.7668 - mse: 135681.6875"
          ]
        },
        {
          "output_type": "stream",
          "name": "stderr",
          "text": [
            "WARNING:absl:Found untraced functions such as _update_step_xla while saving (showing 1 of 1). These functions will not be directly callable after loading.\n"
          ]
        },
        {
          "output_type": "stream",
          "name": "stdout",
          "text": [
            "\b\b\b\b\b\b\b\b\b\b\b\b\b\b\b\b\b\b\b\b\b\b\b\b\b\b\b\b\b\b\b\b\b\b\b\b\b\b\b\b\b\b\b\b\b\b\b\b\b\b\b\b\b\b\b\b\b\b\b\b\b\b\b\b\b\b\b\b\b\b\b\b\b\b\b\b\b\b\b\b\b\b\b\b\b\b\b\b\b\b\b\b\b\b\b\b\b\b\b\b\r18/18 [==============================] - 1s 52ms/step - loss: 153.7182 - mae: 153.7182 - mse: 128615.6562 - val_loss: 824.5302 - val_mae: 824.5302 - val_mse: 2270165.7500\n",
            "Epoch 10/100\n",
            "15/18 [========================>.....] - ETA: 0s - loss: 146.0420 - mae: 146.0420 - mse: 116351.4297"
          ]
        },
        {
          "output_type": "stream",
          "name": "stderr",
          "text": [
            "WARNING:absl:Found untraced functions such as _update_step_xla while saving (showing 1 of 1). These functions will not be directly callable after loading.\n"
          ]
        },
        {
          "output_type": "stream",
          "name": "stdout",
          "text": [
            "\b\b\b\b\b\b\b\b\b\b\b\b\b\b\b\b\b\b\b\b\b\b\b\b\b\b\b\b\b\b\b\b\b\b\b\b\b\b\b\b\b\b\b\b\b\b\b\b\b\b\b\b\b\b\b\b\b\b\b\b\b\b\b\b\b\b\b\b\b\b\b\b\b\b\b\b\b\b\b\b\b\b\b\b\b\b\b\b\b\b\b\b\b\b\b\b\b\b\b\b\r18/18 [==============================] - 1s 41ms/step - loss: 149.5981 - mae: 149.5981 - mse: 123989.9844 - val_loss: 804.8969 - val_mae: 804.8969 - val_mse: 2168859.7500\n",
            "Epoch 11/100\n",
            "18/18 [==============================] - 0s 7ms/step - loss: 145.9151 - mae: 145.9151 - mse: 116224.5938 - val_loss: 847.0002 - val_mae: 847.0002 - val_mse: 2207130.5000\n",
            "Epoch 12/100\n",
            "18/18 [==============================] - 0s 7ms/step - loss: 145.5309 - mae: 145.5309 - mse: 114358.5078 - val_loss: 849.9148 - val_mae: 849.9148 - val_mse: 2182092.0000\n",
            "Epoch 13/100\n",
            "16/18 [=========================>....] - ETA: 0s - loss: 141.7111 - mae: 141.7111 - mse: 112343.2578"
          ]
        },
        {
          "output_type": "stream",
          "name": "stderr",
          "text": [
            "WARNING:absl:Found untraced functions such as _update_step_xla while saving (showing 1 of 1). These functions will not be directly callable after loading.\n"
          ]
        },
        {
          "output_type": "stream",
          "name": "stdout",
          "text": [
            "\b\b\b\b\b\b\b\b\b\b\b\b\b\b\b\b\b\b\b\b\b\b\b\b\b\b\b\b\b\b\b\b\b\b\b\b\b\b\b\b\b\b\b\b\b\b\b\b\b\b\b\b\b\b\b\b\b\b\b\b\b\b\b\b\b\b\b\b\b\b\b\b\b\b\b\b\b\b\b\b\b\b\b\b\b\b\b\b\b\b\b\b\b\b\b\b\b\b\b\b\r18/18 [==============================] - 1s 40ms/step - loss: 141.9335 - mae: 141.9335 - mse: 111504.9375 - val_loss: 776.0787 - val_mae: 776.0787 - val_mse: 1960184.6250\n",
            "Epoch 14/100\n",
            "15/18 [========================>.....] - ETA: 0s - loss: 134.5205 - mae: 134.5205 - mse: 104052.3516"
          ]
        },
        {
          "output_type": "stream",
          "name": "stderr",
          "text": [
            "WARNING:absl:Found untraced functions such as _update_step_xla while saving (showing 1 of 1). These functions will not be directly callable after loading.\n"
          ]
        },
        {
          "output_type": "stream",
          "name": "stdout",
          "text": [
            "\b\b\b\b\b\b\b\b\b\b\b\b\b\b\b\b\b\b\b\b\b\b\b\b\b\b\b\b\b\b\b\b\b\b\b\b\b\b\b\b\b\b\b\b\b\b\b\b\b\b\b\b\b\b\b\b\b\b\b\b\b\b\b\b\b\b\b\b\b\b\b\b\b\b\b\b\b\b\b\b\b\b\b\b\b\b\b\b\b\b\b\b\b\b\b\b\b\b\b\b\r18/18 [==============================] - 1s 34ms/step - loss: 136.5783 - mae: 136.5783 - mse: 105199.1719 - val_loss: 760.9498 - val_mae: 760.9498 - val_mse: 1890841.1250\n",
            "Epoch 15/100\n",
            "18/18 [==============================] - ETA: 0s - loss: 137.3696 - mae: 137.3696 - mse: 103613.2266"
          ]
        },
        {
          "output_type": "stream",
          "name": "stderr",
          "text": [
            "WARNING:absl:Found untraced functions such as _update_step_xla while saving (showing 1 of 1). These functions will not be directly callable after loading.\n"
          ]
        },
        {
          "output_type": "stream",
          "name": "stdout",
          "text": [
            "\b\b\b\b\b\b\b\b\b\b\b\b\b\b\b\b\b\b\b\b\b\b\b\b\b\b\b\b\b\b\b\b\b\b\b\b\b\b\b\b\b\b\b\b\b\b\b\b\b\b\b\b\b\b\b\b\b\b\b\b\b\b\b\b\b\b\b\b\b\b\b\b\b\b\b\b\b\b\b\b\b\b\b\b\b\b\b\b\b\b\b\b\b\b\b\b\b\b\b\b\r18/18 [==============================] - 1s 29ms/step - loss: 137.3696 - mae: 137.3696 - mse: 103613.2266 - val_loss: 735.7166 - val_mae: 735.7166 - val_mse: 1806153.5000\n",
            "Epoch 16/100\n",
            "18/18 [==============================] - 0s 5ms/step - loss: 132.3004 - mae: 132.3004 - mse: 97600.8359 - val_loss: 739.0428 - val_mae: 739.0428 - val_mse: 1782181.8750\n",
            "Epoch 17/100\n",
            "18/18 [==============================] - 0s 5ms/step - loss: 131.1165 - mae: 131.1165 - mse: 97774.4844 - val_loss: 757.5254 - val_mae: 757.5254 - val_mse: 1811512.3750\n",
            "Epoch 18/100\n",
            " 1/18 [>.............................] - ETA: 0s - loss: 147.3542 - mae: 147.3542 - mse: 110406.0859"
          ]
        },
        {
          "output_type": "stream",
          "name": "stderr",
          "text": [
            "WARNING:absl:Found untraced functions such as _update_step_xla while saving (showing 1 of 1). These functions will not be directly callable after loading.\n"
          ]
        },
        {
          "output_type": "stream",
          "name": "stdout",
          "text": [
            "\b\b\b\b\b\b\b\b\b\b\b\b\b\b\b\b\b\b\b\b\b\b\b\b\b\b\b\b\b\b\b\b\b\b\b\b\b\b\b\b\b\b\b\b\b\b\b\b\b\b\b\b\b\b\b\b\b\b\b\b\b\b\b\b\b\b\b\b\b\b\b\b\b\b\b\b\b\b\b\b\b\b\b\b\b\b\b\b\b\b\b\b\b\b\b\b\b\b\b\b\r18/18 [==============================] - 1s 30ms/step - loss: 130.7903 - mae: 130.7903 - mse: 95651.5156 - val_loss: 704.2164 - val_mae: 704.2164 - val_mse: 1662681.3750\n",
            "Epoch 19/100\n",
            "18/18 [==============================] - 0s 5ms/step - loss: 128.0654 - mae: 128.0654 - mse: 93028.6016 - val_loss: 719.0927 - val_mae: 719.0927 - val_mse: 1676373.8750\n",
            "Epoch 20/100\n",
            "18/18 [==============================] - 0s 5ms/step - loss: 126.1648 - mae: 126.1648 - mse: 90228.4453 - val_loss: 741.1692 - val_mae: 741.1692 - val_mse: 1848695.3750\n",
            "Epoch 21/100\n",
            " 1/18 [>.............................] - ETA: 0s - loss: 177.7392 - mae: 177.7392 - mse: 135299.9062"
          ]
        },
        {
          "output_type": "stream",
          "name": "stderr",
          "text": [
            "WARNING:absl:Found untraced functions such as _update_step_xla while saving (showing 1 of 1). These functions will not be directly callable after loading.\n"
          ]
        },
        {
          "output_type": "stream",
          "name": "stdout",
          "text": [
            "\b\b\b\b\b\b\b\b\b\b\b\b\b\b\b\b\b\b\b\b\b\b\b\b\b\b\b\b\b\b\b\b\b\b\b\b\b\b\b\b\b\b\b\b\b\b\b\b\b\b\b\b\b\b\b\b\b\b\b\b\b\b\b\b\b\b\b\b\b\b\b\b\b\b\b\b\b\b\b\b\b\b\b\b\b\b\b\b\b\b\b\b\b\b\b\b\b\b\b\b\r18/18 [==============================] - 0s 29ms/step - loss: 131.1330 - mae: 131.1330 - mse: 96440.4297 - val_loss: 685.8741 - val_mae: 685.8741 - val_mse: 1566924.2500\n",
            "Epoch 22/100\n",
            "14/18 [======================>.......] - ETA: 0s - loss: 128.2114 - mae: 128.2114 - mse: 96543.3906 "
          ]
        },
        {
          "output_type": "stream",
          "name": "stderr",
          "text": [
            "WARNING:absl:Found untraced functions such as _update_step_xla while saving (showing 1 of 1). These functions will not be directly callable after loading.\n"
          ]
        },
        {
          "output_type": "stream",
          "name": "stdout",
          "text": [
            "\b\b\b\b\b\b\b\b\b\b\b\b\b\b\b\b\b\b\b\b\b\b\b\b\b\b\b\b\b\b\b\b\b\b\b\b\b\b\b\b\b\b\b\b\b\b\b\b\b\b\b\b\b\b\b\b\b\b\b\b\b\b\b\b\b\b\b\b\b\b\b\b\b\b\b\b\b\b\b\b\b\b\b\b\b\b\b\b\b\b\b\b\b\b\b\b\b\b\b\r18/18 [==============================] - 1s 31ms/step - loss: 123.1151 - mae: 123.1151 - mse: 86608.8906 - val_loss: 672.8072 - val_mae: 672.8072 - val_mse: 1524325.8750\n",
            "Epoch 23/100\n",
            "18/18 [==============================] - ETA: 0s - loss: 124.5238 - mae: 124.5238 - mse: 86731.7422"
          ]
        },
        {
          "output_type": "stream",
          "name": "stderr",
          "text": [
            "WARNING:absl:Found untraced functions such as _update_step_xla while saving (showing 1 of 1). These functions will not be directly callable after loading.\n"
          ]
        },
        {
          "output_type": "stream",
          "name": "stdout",
          "text": [
            "\b\b\b\b\b\b\b\b\b\b\b\b\b\b\b\b\b\b\b\b\b\b\b\b\b\b\b\b\b\b\b\b\b\b\b\b\b\b\b\b\b\b\b\b\b\b\b\b\b\b\b\b\b\b\b\b\b\b\b\b\b\b\b\b\b\b\b\b\b\b\b\b\b\b\b\b\b\b\b\b\b\b\b\b\b\b\b\b\b\b\b\b\b\b\b\b\b\b\b\r18/18 [==============================] - 1s 29ms/step - loss: 124.5238 - mae: 124.5238 - mse: 86731.7422 - val_loss: 659.0934 - val_mae: 659.0934 - val_mse: 1482440.7500\n",
            "Epoch 24/100\n",
            " 1/18 [>.............................] - ETA: 0s - loss: 131.2898 - mae: 131.2898 - mse: 82510.8438"
          ]
        },
        {
          "output_type": "stream",
          "name": "stderr",
          "text": [
            "WARNING:absl:Found untraced functions such as _update_step_xla while saving (showing 1 of 1). These functions will not be directly callable after loading.\n"
          ]
        },
        {
          "output_type": "stream",
          "name": "stdout",
          "text": [
            "\b\b\b\b\b\b\b\b\b\b\b\b\b\b\b\b\b\b\b\b\b\b\b\b\b\b\b\b\b\b\b\b\b\b\b\b\b\b\b\b\b\b\b\b\b\b\b\b\b\b\b\b\b\b\b\b\b\b\b\b\b\b\b\b\b\b\b\b\b\b\b\b\b\b\b\b\b\b\b\b\b\b\b\b\b\b\b\b\b\b\b\b\b\b\b\b\b\b\b\r18/18 [==============================] - 1s 29ms/step - loss: 123.9446 - mae: 123.9446 - mse: 87014.7656 - val_loss: 648.0121 - val_mae: 648.0121 - val_mse: 1452843.8750\n",
            "Epoch 25/100\n",
            "18/18 [==============================] - ETA: 0s - loss: 119.2019 - mae: 119.2019 - mse: 82601.3281"
          ]
        },
        {
          "output_type": "stream",
          "name": "stderr",
          "text": [
            "WARNING:absl:Found untraced functions such as _update_step_xla while saving (showing 1 of 1). These functions will not be directly callable after loading.\n"
          ]
        },
        {
          "output_type": "stream",
          "name": "stdout",
          "text": [
            "\b\b\b\b\b\b\b\b\b\b\b\b\b\b\b\b\b\b\b\b\b\b\b\b\b\b\b\b\b\b\b\b\b\b\b\b\b\b\b\b\b\b\b\b\b\b\b\b\b\b\b\b\b\b\b\b\b\b\b\b\b\b\b\b\b\b\b\b\b\b\b\b\b\b\b\b\b\b\b\b\b\b\b\b\b\b\b\b\b\b\b\b\b\b\b\b\b\b\b\r18/18 [==============================] - 1s 29ms/step - loss: 119.2019 - mae: 119.2019 - mse: 82601.3281 - val_loss: 640.2433 - val_mae: 640.2433 - val_mse: 1423511.2500\n",
            "Epoch 26/100\n",
            "18/18 [==============================] - ETA: 0s - loss: 119.5477 - mae: 119.5477 - mse: 82026.4375"
          ]
        },
        {
          "output_type": "stream",
          "name": "stderr",
          "text": [
            "WARNING:absl:Found untraced functions such as _update_step_xla while saving (showing 1 of 1). These functions will not be directly callable after loading.\n"
          ]
        },
        {
          "output_type": "stream",
          "name": "stdout",
          "text": [
            "\b\b\b\b\b\b\b\b\b\b\b\b\b\b\b\b\b\b\b\b\b\b\b\b\b\b\b\b\b\b\b\b\b\b\b\b\b\b\b\b\b\b\b\b\b\b\b\b\b\b\b\b\b\b\b\b\b\b\b\b\b\b\b\b\b\b\b\b\b\b\b\b\b\b\b\b\b\b\b\b\b\b\b\b\b\b\b\b\b\b\b\b\b\b\b\b\b\b\b\r18/18 [==============================] - 1s 31ms/step - loss: 119.5477 - mae: 119.5477 - mse: 82026.4375 - val_loss: 634.3946 - val_mae: 634.3946 - val_mse: 1400137.3750\n",
            "Epoch 27/100\n",
            "17/18 [===========================>..] - ETA: 0s - loss: 120.7968 - mae: 120.7968 - mse: 79773.4062 "
          ]
        },
        {
          "output_type": "stream",
          "name": "stderr",
          "text": [
            "WARNING:absl:Found untraced functions such as _update_step_xla while saving (showing 1 of 1). These functions will not be directly callable after loading.\n"
          ]
        },
        {
          "output_type": "stream",
          "name": "stdout",
          "text": [
            "\b\b\b\b\b\b\b\b\b\b\b\b\b\b\b\b\b\b\b\b\b\b\b\b\b\b\b\b\b\b\b\b\b\b\b\b\b\b\b\b\b\b\b\b\b\b\b\b\b\b\b\b\b\b\b\b\b\b\b\b\b\b\b\b\b\b\b\b\b\b\b\b\b\b\b\b\b\b\b\b\b\b\b\b\b\b\b\b\b\b\b\b\b\b\b\b\b\b\b\r18/18 [==============================] - 1s 44ms/step - loss: 121.0901 - mae: 121.0901 - mse: 81447.2344 - val_loss: 629.6850 - val_mae: 629.6850 - val_mse: 1394403.8750\n",
            "Epoch 28/100\n",
            " 1/18 [>.............................] - ETA: 0s - loss: 111.6957 - mae: 111.6957 - mse: 73183.6250"
          ]
        },
        {
          "output_type": "stream",
          "name": "stderr",
          "text": [
            "WARNING:absl:Found untraced functions such as _update_step_xla while saving (showing 1 of 1). These functions will not be directly callable after loading.\n"
          ]
        },
        {
          "output_type": "stream",
          "name": "stdout",
          "text": [
            "\b\b\b\b\b\b\b\b\b\b\b\b\b\b\b\b\b\b\b\b\b\b\b\b\b\b\b\b\b\b\b\b\b\b\b\b\b\b\b\b\b\b\b\b\b\b\b\b\b\b\b\b\b\b\b\b\b\b\b\b\b\b\b\b\b\b\b\b\b\b\b\b\b\b\b\b\b\b\b\b\b\b\b\b\b\b\b\b\b\b\b\b\b\b\b\b\b\b\b\r18/18 [==============================] - 1s 30ms/step - loss: 116.5591 - mae: 116.5591 - mse: 79503.6797 - val_loss: 624.4832 - val_mae: 624.4832 - val_mse: 1375017.5000\n",
            "Epoch 29/100\n",
            " 1/18 [>.............................] - ETA: 0s - loss: 115.4258 - mae: 115.4258 - mse: 94849.8125"
          ]
        },
        {
          "output_type": "stream",
          "name": "stderr",
          "text": [
            "WARNING:absl:Found untraced functions such as _update_step_xla while saving (showing 1 of 1). These functions will not be directly callable after loading.\n"
          ]
        },
        {
          "output_type": "stream",
          "name": "stdout",
          "text": [
            "\b\b\b\b\b\b\b\b\b\b\b\b\b\b\b\b\b\b\b\b\b\b\b\b\b\b\b\b\b\b\b\b\b\b\b\b\b\b\b\b\b\b\b\b\b\b\b\b\b\b\b\b\b\b\b\b\b\b\b\b\b\b\b\b\b\b\b\b\b\b\b\b\b\b\b\b\b\b\b\b\b\b\b\b\b\b\b\b\b\b\b\b\b\b\b\b\b\b\b\r18/18 [==============================] - 1s 30ms/step - loss: 117.0281 - mae: 117.0281 - mse: 79242.6953 - val_loss: 616.4133 - val_mae: 616.4133 - val_mse: 1341199.5000\n",
            "Epoch 30/100\n",
            " 1/18 [>.............................] - ETA: 0s - loss: 133.0917 - mae: 133.0917 - mse: 99217.3438"
          ]
        },
        {
          "output_type": "stream",
          "name": "stderr",
          "text": [
            "WARNING:absl:Found untraced functions such as _update_step_xla while saving (showing 1 of 1). These functions will not be directly callable after loading.\n"
          ]
        },
        {
          "output_type": "stream",
          "name": "stdout",
          "text": [
            "\b\b\b\b\b\b\b\b\b\b\b\b\b\b\b\b\b\b\b\b\b\b\b\b\b\b\b\b\b\b\b\b\b\b\b\b\b\b\b\b\b\b\b\b\b\b\b\b\b\b\b\b\b\b\b\b\b\b\b\b\b\b\b\b\b\b\b\b\b\b\b\b\b\b\b\b\b\b\b\b\b\b\b\b\b\b\b\b\b\b\b\b\b\b\b\b\b\b\b\r18/18 [==============================] - 1s 29ms/step - loss: 122.3436 - mae: 122.3436 - mse: 82632.5156 - val_loss: 613.9470 - val_mae: 613.9470 - val_mse: 1336185.3750\n",
            "Epoch 31/100\n",
            "18/18 [==============================] - ETA: 0s - loss: 113.1672 - mae: 113.1672 - mse: 75056.1328"
          ]
        },
        {
          "output_type": "stream",
          "name": "stderr",
          "text": [
            "WARNING:absl:Found untraced functions such as _update_step_xla while saving (showing 1 of 1). These functions will not be directly callable after loading.\n"
          ]
        },
        {
          "output_type": "stream",
          "name": "stdout",
          "text": [
            "\b\b\b\b\b\b\b\b\b\b\b\b\b\b\b\b\b\b\b\b\b\b\b\b\b\b\b\b\b\b\b\b\b\b\b\b\b\b\b\b\b\b\b\b\b\b\b\b\b\b\b\b\b\b\b\b\b\b\b\b\b\b\b\b\b\b\b\b\b\b\b\b\b\b\b\b\b\b\b\b\b\b\b\b\b\b\b\b\b\b\b\b\b\b\b\b\b\b\b\r18/18 [==============================] - 1s 30ms/step - loss: 113.1672 - mae: 113.1672 - mse: 75056.1328 - val_loss: 612.2979 - val_mae: 612.2979 - val_mse: 1317421.8750\n",
            "Epoch 32/100\n",
            "18/18 [==============================] - ETA: 0s - loss: 114.0841 - mae: 114.0841 - mse: 77298.7188"
          ]
        },
        {
          "output_type": "stream",
          "name": "stderr",
          "text": [
            "WARNING:absl:Found untraced functions such as _update_step_xla while saving (showing 1 of 1). These functions will not be directly callable after loading.\n"
          ]
        },
        {
          "output_type": "stream",
          "name": "stdout",
          "text": [
            "\b\b\b\b\b\b\b\b\b\b\b\b\b\b\b\b\b\b\b\b\b\b\b\b\b\b\b\b\b\b\b\b\b\b\b\b\b\b\b\b\b\b\b\b\b\b\b\b\b\b\b\b\b\b\b\b\b\b\b\b\b\b\b\b\b\b\b\b\b\b\b\b\b\b\b\b\b\b\b\b\b\b\b\b\b\b\b\b\b\b\b\b\b\b\b\b\b\b\b\r18/18 [==============================] - 1s 29ms/step - loss: 114.0841 - mae: 114.0841 - mse: 77298.7188 - val_loss: 605.4290 - val_mae: 605.4290 - val_mse: 1305376.3750\n",
            "Epoch 33/100\n",
            "18/18 [==============================] - 0s 6ms/step - loss: 115.5507 - mae: 115.5507 - mse: 78055.7812 - val_loss: 657.2770 - val_mae: 657.2770 - val_mse: 1404970.8750\n",
            "Epoch 34/100\n",
            "18/18 [==============================] - 0s 5ms/step - loss: 114.4828 - mae: 114.4828 - mse: 76871.8438 - val_loss: 609.6163 - val_mae: 609.6163 - val_mse: 1315406.8750\n",
            "Epoch 35/100\n",
            "18/18 [==============================] - 0s 5ms/step - loss: 113.6491 - mae: 113.6491 - mse: 76814.2266 - val_loss: 630.6559 - val_mae: 630.6559 - val_mse: 1364925.1250\n",
            "Epoch 36/100\n",
            "15/18 [========================>.....] - ETA: 0s - loss: 112.4941 - mae: 112.4941 - mse: 74838.9141 "
          ]
        },
        {
          "output_type": "stream",
          "name": "stderr",
          "text": [
            "WARNING:absl:Found untraced functions such as _update_step_xla while saving (showing 1 of 1). These functions will not be directly callable after loading.\n"
          ]
        },
        {
          "output_type": "stream",
          "name": "stdout",
          "text": [
            "\b\b\b\b\b\b\b\b\b\b\b\b\b\b\b\b\b\b\b\b\b\b\b\b\b\b\b\b\b\b\b\b\b\b\b\b\b\b\b\b\b\b\b\b\b\b\b\b\b\b\b\b\b\b\b\b\b\b\b\b\b\b\b\b\b\b\b\b\b\b\b\b\b\b\b\b\b\b\b\b\b\b\b\b\b\b\b\b\b\b\b\b\b\b\b\b\b\b\b\r18/18 [==============================] - 1s 30ms/step - loss: 113.9240 - mae: 113.9240 - mse: 74241.7891 - val_loss: 595.0815 - val_mae: 595.0815 - val_mse: 1271841.1250\n",
            "Epoch 37/100\n",
            " 1/18 [>.............................] - ETA: 0s - loss: 127.1245 - mae: 127.1245 - mse: 103521.4844"
          ]
        },
        {
          "output_type": "stream",
          "name": "stderr",
          "text": [
            "WARNING:absl:Found untraced functions such as _update_step_xla while saving (showing 1 of 1). These functions will not be directly callable after loading.\n"
          ]
        },
        {
          "output_type": "stream",
          "name": "stdout",
          "text": [
            "\b\b\b\b\b\b\b\b\b\b\b\b\b\b\b\b\b\b\b\b\b\b\b\b\b\b\b\b\b\b\b\b\b\b\b\b\b\b\b\b\b\b\b\b\b\b\b\b\b\b\b\b\b\b\b\b\b\b\b\b\b\b\b\b\b\b\b\b\b\b\b\b\b\b\b\b\b\b\b\b\b\b\b\b\b\b\b\b\b\b\b\b\b\b\b\b\b\b\b\b\r18/18 [==============================] - 0s 28ms/step - loss: 110.9327 - mae: 110.9327 - mse: 73826.9141 - val_loss: 590.2042 - val_mae: 590.2042 - val_mse: 1253290.1250\n",
            "Epoch 38/100\n",
            "18/18 [==============================] - 0s 5ms/step - loss: 113.3513 - mae: 113.3513 - mse: 74507.8594 - val_loss: 635.9001 - val_mae: 635.9001 - val_mse: 1364653.6250\n",
            "Epoch 39/100\n",
            "18/18 [==============================] - 0s 5ms/step - loss: 113.1526 - mae: 113.1526 - mse: 73258.6016 - val_loss: 592.2261 - val_mae: 592.2261 - val_mse: 1246515.3750\n",
            "Epoch 40/100\n",
            " 1/18 [>.............................] - ETA: 0s - loss: 106.2200 - mae: 106.2200 - mse: 94287.5078"
          ]
        },
        {
          "output_type": "stream",
          "name": "stderr",
          "text": [
            "WARNING:absl:Found untraced functions such as _update_step_xla while saving (showing 1 of 1). These functions will not be directly callable after loading.\n"
          ]
        },
        {
          "output_type": "stream",
          "name": "stdout",
          "text": [
            "\b\b\b\b\b\b\b\b\b\b\b\b\b\b\b\b\b\b\b\b\b\b\b\b\b\b\b\b\b\b\b\b\b\b\b\b\b\b\b\b\b\b\b\b\b\b\b\b\b\b\b\b\b\b\b\b\b\b\b\b\b\b\b\b\b\b\b\b\b\b\b\b\b\b\b\b\b\b\b\b\b\b\b\b\b\b\b\b\b\b\b\b\b\b\b\b\b\b\b\r18/18 [==============================] - 1s 34ms/step - loss: 109.8590 - mae: 109.8590 - mse: 71852.2031 - val_loss: 584.6891 - val_mae: 584.6891 - val_mse: 1238265.3750\n",
            "Epoch 41/100\n",
            "18/18 [==============================] - 0s 7ms/step - loss: 110.0274 - mae: 110.0274 - mse: 72138.1797 - val_loss: 631.7769 - val_mae: 631.7769 - val_mse: 1341375.8750\n",
            "Epoch 42/100\n",
            "18/18 [==============================] - 0s 9ms/step - loss: 114.8511 - mae: 114.8511 - mse: 75645.2266 - val_loss: 642.8746 - val_mae: 642.8746 - val_mse: 1347308.8750\n",
            "Epoch 43/100\n",
            "18/18 [==============================] - 0s 7ms/step - loss: 115.6430 - mae: 115.6430 - mse: 72344.0469 - val_loss: 630.4019 - val_mae: 630.4019 - val_mse: 1332445.8750\n",
            "Epoch 44/100\n",
            "18/18 [==============================] - 0s 6ms/step - loss: 114.7121 - mae: 114.7121 - mse: 72995.9453 - val_loss: 599.2340 - val_mae: 599.2340 - val_mse: 1250046.8750\n",
            "Epoch 45/100\n",
            "18/18 [==============================] - 0s 7ms/step - loss: 109.0320 - mae: 109.0320 - mse: 71700.4531 - val_loss: 606.2343 - val_mae: 606.2343 - val_mse: 1272521.0000\n",
            "Epoch 46/100\n",
            "18/18 [==============================] - 0s 8ms/step - loss: 109.7312 - mae: 109.7312 - mse: 70570.2656 - val_loss: 658.2054 - val_mae: 658.2054 - val_mse: 1377445.7500\n",
            "Epoch 47/100\n",
            "18/18 [==============================] - 0s 7ms/step - loss: 114.0418 - mae: 114.0418 - mse: 74525.8125 - val_loss: 590.0920 - val_mae: 590.0920 - val_mse: 1227883.0000\n",
            "Epoch 48/100\n",
            "18/18 [==============================] - 0s 7ms/step - loss: 108.3173 - mae: 108.3173 - mse: 70542.4219 - val_loss: 595.3824 - val_mae: 595.3824 - val_mse: 1237565.3750\n",
            "Epoch 49/100\n",
            "18/18 [==============================] - 0s 7ms/step - loss: 111.2793 - mae: 111.2793 - mse: 72473.9297 - val_loss: 641.8035 - val_mae: 641.8035 - val_mse: 1332621.6250\n",
            "Epoch 50/100\n",
            "16/18 [=========================>....] - ETA: 0s - loss: 116.5808 - mae: 116.5808 - mse: 74472.4062 "
          ]
        },
        {
          "output_type": "stream",
          "name": "stderr",
          "text": [
            "WARNING:absl:Found untraced functions such as _update_step_xla while saving (showing 1 of 1). These functions will not be directly callable after loading.\n"
          ]
        },
        {
          "output_type": "stream",
          "name": "stdout",
          "text": [
            "\b\b\b\b\b\b\b\b\b\b\b\b\b\b\b\b\b\b\b\b\b\b\b\b\b\b\b\b\b\b\b\b\b\b\b\b\b\b\b\b\b\b\b\b\b\b\b\b\b\b\b\b\b\b\b\b\b\b\b\b\b\b\b\b\b\b\b\b\b\b\b\b\b\b\b\b\b\b\b\b\b\b\b\b\b\b\b\b\b\b\b\b\b\b\b\b\b\b\b\r18/18 [==============================] - 1s 41ms/step - loss: 118.3325 - mae: 118.3325 - mse: 76182.4688 - val_loss: 576.6597 - val_mae: 576.6597 - val_mse: 1201850.0000\n",
            "Epoch 51/100\n",
            "18/18 [==============================] - 0s 5ms/step - loss: 108.6366 - mae: 108.6366 - mse: 70064.5625 - val_loss: 577.8292 - val_mae: 577.8292 - val_mse: 1201751.5000\n",
            "Epoch 52/100\n",
            "18/18 [==============================] - 0s 5ms/step - loss: 112.5702 - mae: 112.5702 - mse: 73481.6797 - val_loss: 589.2440 - val_mae: 589.2440 - val_mse: 1222517.1250\n",
            "Epoch 53/100\n",
            "18/18 [==============================] - 0s 5ms/step - loss: 109.8345 - mae: 109.8345 - mse: 71311.2266 - val_loss: 597.2653 - val_mae: 597.2653 - val_mse: 1236208.7500\n",
            "Epoch 54/100\n",
            " 1/18 [>.............................] - ETA: 0s - loss: 101.1565 - mae: 101.1565 - mse: 62153.4922"
          ]
        },
        {
          "output_type": "stream",
          "name": "stderr",
          "text": [
            "WARNING:absl:Found untraced functions such as _update_step_xla while saving (showing 1 of 1). These functions will not be directly callable after loading.\n"
          ]
        },
        {
          "output_type": "stream",
          "name": "stdout",
          "text": [
            "\b\b\b\b\b\b\b\b\b\b\b\b\b\b\b\b\b\b\b\b\b\b\b\b\b\b\b\b\b\b\b\b\b\b\b\b\b\b\b\b\b\b\b\b\b\b\b\b\b\b\b\b\b\b\b\b\b\b\b\b\b\b\b\b\b\b\b\b\b\b\b\b\b\b\b\b\b\b\b\b\b\b\b\b\b\b\b\b\b\b\b\b\b\b\b\b\b\b\b\r18/18 [==============================] - 0s 29ms/step - loss: 107.7445 - mae: 107.7445 - mse: 69284.8047 - val_loss: 576.6335 - val_mae: 576.6335 - val_mse: 1199030.7500\n",
            "Epoch 55/100\n",
            " 1/18 [>.............................] - ETA: 0s - loss: 125.4266 - mae: 125.4266 - mse: 96178.4922"
          ]
        },
        {
          "output_type": "stream",
          "name": "stderr",
          "text": [
            "WARNING:absl:Found untraced functions such as _update_step_xla while saving (showing 1 of 1). These functions will not be directly callable after loading.\n"
          ]
        },
        {
          "output_type": "stream",
          "name": "stdout",
          "text": [
            "\b\b\b\b\b\b\b\b\b\b\b\b\b\b\b\b\b\b\b\b\b\b\b\b\b\b\b\b\b\b\b\b\b\b\b\b\b\b\b\b\b\b\b\b\b\b\b\b\b\b\b\b\b\b\b\b\b\b\b\b\b\b\b\b\b\b\b\b\b\b\b\b\b\b\b\b\b\b\b\b\b\b\b\b\b\b\b\b\b\b\b\b\b\b\b\b\b\b\b\r18/18 [==============================] - 0s 28ms/step - loss: 114.1455 - mae: 114.1455 - mse: 74872.9062 - val_loss: 570.9386 - val_mae: 570.9386 - val_mse: 1187864.8750\n",
            "Epoch 56/100\n",
            "18/18 [==============================] - 0s 6ms/step - loss: 112.4833 - mae: 112.4833 - mse: 72114.8281 - val_loss: 828.3880 - val_mae: 828.3880 - val_mse: 1940682.6250\n",
            "Epoch 57/100\n",
            "18/18 [==============================] - 0s 6ms/step - loss: 135.3260 - mae: 135.3260 - mse: 89841.4062 - val_loss: 733.1284 - val_mae: 733.1284 - val_mse: 1613901.3750\n",
            "Epoch 58/100\n",
            "18/18 [==============================] - 0s 5ms/step - loss: 115.1450 - mae: 115.1450 - mse: 72726.3047 - val_loss: 584.5749 - val_mae: 584.5749 - val_mse: 1209719.2500\n",
            "Epoch 59/100\n",
            "18/18 [==============================] - 0s 5ms/step - loss: 110.6249 - mae: 110.6249 - mse: 70695.3125 - val_loss: 625.9889 - val_mae: 625.9889 - val_mse: 1304142.3750\n",
            "Epoch 60/100\n",
            "18/18 [==============================] - 0s 5ms/step - loss: 111.7830 - mae: 111.7830 - mse: 73212.3125 - val_loss: 626.9613 - val_mae: 626.9613 - val_mse: 1293429.3750\n",
            "Epoch 61/100\n",
            " 1/18 [>.............................] - ETA: 0s - loss: 140.3918 - mae: 140.3918 - mse: 98351.9141"
          ]
        },
        {
          "output_type": "stream",
          "name": "stderr",
          "text": [
            "WARNING:absl:Found untraced functions such as _update_step_xla while saving (showing 1 of 1). These functions will not be directly callable after loading.\n"
          ]
        },
        {
          "output_type": "stream",
          "name": "stdout",
          "text": [
            "\b\b\b\b\b\b\b\b\b\b\b\b\b\b\b\b\b\b\b\b\b\b\b\b\b\b\b\b\b\b\b\b\b\b\b\b\b\b\b\b\b\b\b\b\b\b\b\b\b\b\b\b\b\b\b\b\b\b\b\b\b\b\b\b\b\b\b\b\b\b\b\b\b\b\b\b\b\b\b\b\b\b\b\b\b\b\b\b\b\b\b\b\b\b\b\b\b\b\b\r18/18 [==============================] - 0s 28ms/step - loss: 109.3198 - mae: 109.3198 - mse: 71893.5156 - val_loss: 567.5192 - val_mae: 567.5192 - val_mse: 1179464.6250\n",
            "Epoch 62/100\n",
            "18/18 [==============================] - 0s 5ms/step - loss: 106.5691 - mae: 106.5691 - mse: 68715.7734 - val_loss: 579.0518 - val_mae: 579.0518 - val_mse: 1196547.7500\n",
            "Epoch 63/100\n",
            "18/18 [==============================] - 0s 5ms/step - loss: 110.0175 - mae: 110.0175 - mse: 71022.7109 - val_loss: 620.7774 - val_mae: 620.7774 - val_mse: 1280115.3750\n",
            "Epoch 64/100\n",
            "18/18 [==============================] - 0s 6ms/step - loss: 108.4940 - mae: 108.4940 - mse: 69705.3984 - val_loss: 575.7818 - val_mae: 575.7818 - val_mse: 1189618.5000\n",
            "Epoch 65/100\n",
            "18/18 [==============================] - 0s 5ms/step - loss: 107.8568 - mae: 107.8568 - mse: 69582.5156 - val_loss: 568.0596 - val_mae: 568.0596 - val_mse: 1176019.7500\n",
            "Epoch 66/100\n",
            "18/18 [==============================] - 0s 5ms/step - loss: 106.7165 - mae: 106.7165 - mse: 69054.4609 - val_loss: 569.7177 - val_mae: 569.7177 - val_mse: 1177475.5000\n",
            "Epoch 67/100\n",
            "18/18 [==============================] - 0s 5ms/step - loss: 106.7674 - mae: 106.7674 - mse: 68003.6484 - val_loss: 658.4827 - val_mae: 658.4827 - val_mse: 1377613.7500\n",
            "Epoch 68/100\n",
            "18/18 [==============================] - 0s 5ms/step - loss: 108.7689 - mae: 108.7689 - mse: 68044.9531 - val_loss: 581.5227 - val_mae: 581.5227 - val_mse: 1197345.6250\n",
            "Epoch 69/100\n",
            "18/18 [==============================] - 0s 5ms/step - loss: 116.8285 - mae: 116.8285 - mse: 72626.9531 - val_loss: 725.6150 - val_mae: 725.6150 - val_mse: 1538446.7500\n",
            "Epoch 70/100\n",
            "18/18 [==============================] - 0s 5ms/step - loss: 129.2358 - mae: 129.2358 - mse: 82449.8281 - val_loss: 679.1640 - val_mae: 679.1640 - val_mse: 1406864.8750\n",
            "Epoch 71/100\n",
            "18/18 [==============================] - 0s 5ms/step - loss: 123.4727 - mae: 123.4727 - mse: 78920.2656 - val_loss: 638.4212 - val_mae: 638.4212 - val_mse: 1311498.8750\n",
            "Epoch 72/100\n",
            "18/18 [==============================] - 0s 6ms/step - loss: 107.6620 - mae: 107.6620 - mse: 69582.2812 - val_loss: 572.3010 - val_mae: 572.3010 - val_mse: 1180780.1250\n",
            "Epoch 73/100\n",
            "17/18 [===========================>..] - ETA: 0s - loss: 108.7653 - mae: 108.7653 - mse: 69930.1875 "
          ]
        },
        {
          "output_type": "stream",
          "name": "stderr",
          "text": [
            "WARNING:absl:Found untraced functions such as _update_step_xla while saving (showing 1 of 1). These functions will not be directly callable after loading.\n"
          ]
        },
        {
          "output_type": "stream",
          "name": "stdout",
          "text": [
            "\b\b\b\b\b\b\b\b\b\b\b\b\b\b\b\b\b\b\b\b\b\b\b\b\b\b\b\b\b\b\b\b\b\b\b\b\b\b\b\b\b\b\b\b\b\b\b\b\b\b\b\b\b\b\b\b\b\b\b\b\b\b\b\b\b\b\b\b\b\b\b\b\b\b\b\b\b\b\b\b\b\b\b\b\b\b\b\b\b\b\b\b\b\b\b\b\b\b\b\r18/18 [==============================] - 0s 28ms/step - loss: 108.1417 - mae: 108.1417 - mse: 69195.6172 - val_loss: 566.2025 - val_mae: 566.2025 - val_mse: 1169957.1250\n",
            "Epoch 74/100\n",
            "18/18 [==============================] - 0s 5ms/step - loss: 107.8813 - mae: 107.8813 - mse: 69686.5156 - val_loss: 572.0419 - val_mae: 572.0419 - val_mse: 1177503.7500\n",
            "Epoch 75/100\n",
            "18/18 [==============================] - 0s 5ms/step - loss: 106.6109 - mae: 106.6109 - mse: 68775.8672 - val_loss: 574.1190 - val_mae: 574.1190 - val_mse: 1179010.0000\n",
            "Epoch 76/100\n",
            "18/18 [==============================] - 0s 5ms/step - loss: 109.2313 - mae: 109.2313 - mse: 69994.1250 - val_loss: 569.3940 - val_mae: 569.3940 - val_mse: 1171653.0000\n",
            "Epoch 77/100\n",
            "18/18 [==============================] - 0s 5ms/step - loss: 107.5516 - mae: 107.5516 - mse: 69067.9375 - val_loss: 586.0229 - val_mae: 586.0229 - val_mse: 1207207.3750\n",
            "Epoch 78/100\n",
            "18/18 [==============================] - 0s 6ms/step - loss: 108.5868 - mae: 108.5868 - mse: 68607.7344 - val_loss: 574.6313 - val_mae: 574.6313 - val_mse: 1183951.0000\n",
            "Epoch 79/100\n",
            "18/18 [==============================] - 0s 6ms/step - loss: 109.3738 - mae: 109.3738 - mse: 72348.2812 - val_loss: 567.0283 - val_mae: 567.0283 - val_mse: 1167914.5000\n",
            "Epoch 80/100\n",
            "18/18 [==============================] - 0s 6ms/step - loss: 106.3066 - mae: 106.3066 - mse: 68636.1641 - val_loss: 585.4343 - val_mae: 585.4343 - val_mse: 1197525.5000\n",
            "Epoch 81/100\n",
            "18/18 [==============================] - 0s 5ms/step - loss: 107.3467 - mae: 107.3467 - mse: 69149.3203 - val_loss: 574.0969 - val_mae: 574.0969 - val_mse: 1179695.8750\n",
            "Epoch 82/100\n",
            "17/18 [===========================>..] - ETA: 0s - loss: 114.3325 - mae: 114.3325 - mse: 73651.6172 "
          ]
        },
        {
          "output_type": "stream",
          "name": "stderr",
          "text": [
            "WARNING:absl:Found untraced functions such as _update_step_xla while saving (showing 1 of 1). These functions will not be directly callable after loading.\n"
          ]
        },
        {
          "output_type": "stream",
          "name": "stdout",
          "text": [
            "\b\b\b\b\b\b\b\b\b\b\b\b\b\b\b\b\b\b\b\b\b\b\b\b\b\b\b\b\b\b\b\b\b\b\b\b\b\b\b\b\b\b\b\b\b\b\b\b\b\b\b\b\b\b\b\b\b\b\b\b\b\b\b\b\b\b\b\b\b\b\b\b\b\b\b\b\b\b\b\b\b\b\b\b\b\b\b\b\b\b\b\b\b\b\b\b\b\b\b\r18/18 [==============================] - 1s 44ms/step - loss: 115.3870 - mae: 115.3870 - mse: 74923.4688 - val_loss: 564.2176 - val_mae: 564.2176 - val_mse: 1161807.2500\n",
            "Epoch 83/100\n",
            "18/18 [==============================] - 0s 6ms/step - loss: 113.0124 - mae: 113.0124 - mse: 72305.3203 - val_loss: 641.3568 - val_mae: 641.3568 - val_mse: 1327931.6250\n",
            "Epoch 84/100\n",
            "18/18 [==============================] - 0s 5ms/step - loss: 113.1747 - mae: 113.1747 - mse: 71374.4844 - val_loss: 603.4635 - val_mae: 603.4635 - val_mse: 1242166.5000\n",
            "Epoch 85/100\n",
            "18/18 [==============================] - 0s 5ms/step - loss: 107.3971 - mae: 107.3971 - mse: 68602.7812 - val_loss: 581.9209 - val_mae: 581.9209 - val_mse: 1189390.2500\n",
            "Epoch 86/100\n",
            "18/18 [==============================] - 0s 5ms/step - loss: 107.4477 - mae: 107.4477 - mse: 67697.2500 - val_loss: 579.2120 - val_mae: 579.2120 - val_mse: 1183522.6250\n",
            "Epoch 87/100\n",
            "18/18 [==============================] - 0s 5ms/step - loss: 105.3951 - mae: 105.3951 - mse: 66951.0469 - val_loss: 602.5140 - val_mae: 602.5140 - val_mse: 1236240.5000\n",
            "Epoch 88/100\n",
            "18/18 [==============================] - 0s 6ms/step - loss: 108.7339 - mae: 108.7339 - mse: 69818.7734 - val_loss: 566.2919 - val_mae: 566.2919 - val_mse: 1164832.3750\n",
            "Epoch 89/100\n",
            "18/18 [==============================] - 0s 5ms/step - loss: 107.4725 - mae: 107.4725 - mse: 67482.5156 - val_loss: 589.2812 - val_mae: 589.2812 - val_mse: 1210911.2500\n",
            "Epoch 90/100\n",
            "18/18 [==============================] - 0s 5ms/step - loss: 105.5939 - mae: 105.5939 - mse: 66924.2734 - val_loss: 626.0063 - val_mae: 626.0063 - val_mse: 1281049.5000\n",
            "Epoch 91/100\n",
            "18/18 [==============================] - 0s 6ms/step - loss: 114.7718 - mae: 114.7718 - mse: 72630.0781 - val_loss: 680.4298 - val_mae: 680.4298 - val_mse: 1432903.8750\n",
            "Epoch 92/100\n",
            "18/18 [==============================] - 0s 7ms/step - loss: 108.7381 - mae: 108.7381 - mse: 69194.9688 - val_loss: 575.8578 - val_mae: 575.8578 - val_mse: 1186086.5000\n",
            "Epoch 93/100\n",
            "18/18 [==============================] - 0s 5ms/step - loss: 109.3052 - mae: 109.3052 - mse: 68257.3672 - val_loss: 567.5145 - val_mae: 567.5145 - val_mse: 1163892.0000\n",
            "Epoch 94/100\n",
            "18/18 [==============================] - 0s 6ms/step - loss: 109.8996 - mae: 109.8996 - mse: 70287.1172 - val_loss: 570.5728 - val_mae: 570.5728 - val_mse: 1169692.5000\n",
            "Epoch 95/100\n",
            "18/18 [==============================] - 0s 6ms/step - loss: 107.7713 - mae: 107.7713 - mse: 67261.2266 - val_loss: 582.7568 - val_mae: 582.7568 - val_mse: 1196366.0000\n",
            "Epoch 96/100\n",
            "18/18 [==============================] - 0s 5ms/step - loss: 105.9183 - mae: 105.9183 - mse: 67178.6797 - val_loss: 578.9478 - val_mae: 578.9478 - val_mse: 1188659.5000\n",
            "Epoch 97/100\n",
            "18/18 [==============================] - 0s 5ms/step - loss: 105.3424 - mae: 105.3424 - mse: 67707.5938 - val_loss: 579.5400 - val_mae: 579.5400 - val_mse: 1182309.1250\n",
            "Epoch 98/100\n",
            "18/18 [==============================] - 0s 5ms/step - loss: 105.3631 - mae: 105.3631 - mse: 68020.9062 - val_loss: 582.8687 - val_mae: 582.8687 - val_mse: 1196829.8750\n",
            "Epoch 99/100\n",
            "18/18 [==============================] - 0s 5ms/step - loss: 108.0153 - mae: 108.0153 - mse: 69486.8359 - val_loss: 570.9387 - val_mae: 570.9387 - val_mse: 1170534.2500\n",
            "Epoch 100/100\n",
            "18/18 [==============================] - 0s 5ms/step - loss: 116.9387 - mae: 116.9387 - mse: 71305.8828 - val_loss: 714.1324 - val_mae: 714.1324 - val_mse: 1497927.3750\n"
          ]
        },
        {
          "output_type": "execute_result",
          "data": {
            "text/plain": [
              "<keras.callbacks.History at 0x7f8f3505b310>"
            ]
          },
          "metadata": {},
          "execution_count": 35
        }
      ]
    },
    {
      "cell_type": "code",
      "source": [
        "# Eval\n",
        "model_1.evaluate(test_windows, test_labels)"
      ],
      "metadata": {
        "colab": {
          "base_uri": "https://localhost:8080/"
        },
        "id": "WswOVg4GOG9q",
        "outputId": "f89a3757-cb1e-4bf0-ed9b-12e62a8c729c"
      },
      "execution_count": 36,
      "outputs": [
        {
          "output_type": "stream",
          "name": "stdout",
          "text": [
            "18/18 [==============================] - 0s 2ms/step - loss: 714.1326 - mae: 714.1326 - mse: 1497927.7500\n"
          ]
        },
        {
          "output_type": "execute_result",
          "data": {
            "text/plain": [
              "[714.132568359375, 714.132568359375, 1497927.75]"
            ]
          },
          "metadata": {},
          "execution_count": 36
        }
      ]
    },
    {
      "cell_type": "code",
      "source": [
        "# loading model\n",
        "model_1 = tf.keras.models.load_model(\"model_experiments/model_1_dense/\")\n",
        "model_1.evaluate(test_windows, test_labels)"
      ],
      "metadata": {
        "colab": {
          "base_uri": "https://localhost:8080/"
        },
        "id": "70v1-AOePfUe",
        "outputId": "cc2c13fe-e446-4b29-b5bb-7088a257669a"
      },
      "execution_count": 37,
      "outputs": [
        {
          "output_type": "stream",
          "name": "stdout",
          "text": [
            "18/18 [==============================] - 0s 2ms/step - loss: 564.2175 - mae: 564.2175 - mse: 1161807.1250\n"
          ]
        },
        {
          "output_type": "execute_result",
          "data": {
            "text/plain": [
              "[564.217529296875, 564.217529296875, 1161807.125]"
            ]
          },
          "metadata": {},
          "execution_count": 37
        }
      ]
    },
    {
      "cell_type": "code",
      "source": [
        "def make_preds(model, input_data):\n",
        "  forecast = model.predict(input_data)\n",
        "  return tf.squeeze(forecast)"
      ],
      "metadata": {
        "id": "YAXjX4ZxP4nD"
      },
      "execution_count": 38,
      "outputs": []
    },
    {
      "cell_type": "code",
      "source": [
        "# Make preds\n",
        "model_1_preds = make_preds(model_1, test_windows)\n",
        "len(model_1_preds), model_1_preds[:10]"
      ],
      "metadata": {
        "colab": {
          "base_uri": "https://localhost:8080/"
        },
        "id": "bEFo69XP0ow7",
        "outputId": "e717ed5c-e5ac-4867-e782-b5b7ed46f63e"
      },
      "execution_count": 39,
      "outputs": [
        {
          "output_type": "stream",
          "name": "stdout",
          "text": [
            "18/18 [==============================] - 0s 2ms/step\n"
          ]
        },
        {
          "output_type": "execute_result",
          "data": {
            "text/plain": [
              "(556, <tf.Tensor: shape=(10,), dtype=float32, numpy=\n",
              " array([8831.383, 8764.553, 9020.612, 8789.213, 8729.873, 8711.177,\n",
              "        8661.567, 8539.623, 8425.637, 8521.519], dtype=float32)>)"
            ]
          },
          "metadata": {},
          "execution_count": 39
        }
      ]
    },
    {
      "cell_type": "code",
      "source": [
        "# Eval preds\n",
        "model_1_res = evaluate_preds(y_true = tf.squeeze(test_labels),\n",
        "                                                 y_pred = model_1_preds)\n",
        "model_1_res"
      ],
      "metadata": {
        "colab": {
          "base_uri": "https://localhost:8080/"
        },
        "id": "xTjRw-cv1FZZ",
        "outputId": "c69f8246-0d9b-41a9-d779-70ba3929c435"
      },
      "execution_count": 40,
      "outputs": [
        {
          "output_type": "execute_result",
          "data": {
            "text/plain": [
              "{'mae': 564.2175,\n",
              " 'mse': 1161807.2,\n",
              " 'rmse': 1077.8717,\n",
              " 'mape': 2.5279284,\n",
              " 'mase': 0.9911739}"
            ]
          },
          "metadata": {},
          "execution_count": 40
        }
      ]
    },
    {
      "cell_type": "code",
      "source": [
        "# Plot model 1\n",
        "offset = 450\n",
        "plt.figure(figsize=(10,7))\n",
        "plot_time_series(timesteps = X_test[-len(test_windows):],\n",
        "                 values = test_labels[:, 0],\n",
        "                 start = offset,\n",
        "                 label = \"Test Data\")\n",
        "\n",
        "plot_time_series(timesteps = X_test[-len(test_windows):],\n",
        "                 values = model_1_preds,\n",
        "                 start = offset,\n",
        "                 format = \"-\",\n",
        "                 label = \"model_1_preds\")"
      ],
      "metadata": {
        "colab": {
          "base_uri": "https://localhost:8080/",
          "height": 446
        },
        "id": "sSP3GpFO1qNa",
        "outputId": "53f8429c-6bed-4a6e-a1e3-c3cb5c618edd"
      },
      "execution_count": 41,
      "outputs": [
        {
          "output_type": "display_data",
          "data": {
            "text/plain": [
              "<Figure size 720x504 with 1 Axes>"
            ],
            "image/png": "[encoded data removed]"
          },
          "metadata": {
            "needs_background": "light"
          }
        }
      ]
    },
    {
      "cell_type": "code",
      "source": [
        "HORIZON = 7\n",
        "WINDOW_SIZE = 30"
      ],
      "metadata": {
        "id": "pV_8puZV289U"
      },
      "execution_count": 42,
      "outputs": []
    },
    {
      "cell_type": "code",
      "source": [
        "full_windows, full_labels = make_windows(prices, window_size = WINDOW_SIZE, horizon = HORIZON)\n",
        "len(full_windows), len(full_labels)"
      ],
      "metadata": {
        "colab": {
          "base_uri": "https://localhost:8080/"
        },
        "id": "61HFGzdI4zPP",
        "outputId": "179bd451-aa60-47ac-ffc9-815b100be356"
      },
      "execution_count": 43,
      "outputs": [
        {
          "output_type": "execute_result",
          "data": {
            "text/plain": [
              "(2751, 2751)"
            ]
          },
          "metadata": {},
          "execution_count": 43
        }
      ]
    },
    {
      "cell_type": "code",
      "source": [
        "# Train and test\n",
        "train_windows, test_windows, train_labels, test_labels = make_train_test_splits(windows = full_windows,\n",
        "                                                                  labels = full_labels,\n",
        "                                                                  test_split = 0.2)"
      ],
      "metadata": {
        "id": "VEKbKiMV5Dka"
      },
      "execution_count": 44,
      "outputs": []
    },
    {
      "cell_type": "markdown",
      "source": [
        "### Model 2"
      ],
      "metadata": {
        "id": "tijQYURl9DUX"
      }
    },
    {
      "cell_type": "code",
      "source": [
        "import tensorflow as tf\n",
        "from tensorflow.keras import layers\n",
        "tf.random.set_seed(42)\n",
        "\n",
        "# Construct model\n",
        "model_2 = tf.keras.Sequential([\n",
        "    layers.Dense(128, activation = \"relu\"),\n",
        "    layers.Dense(HORIZON, activation =\"linear\")\n",
        "], name = \"model_2_dense\")\n",
        "\n",
        "# Compiling\n",
        "model_2.compile(loss = \"mae\",\n",
        "                optimizer = tf.keras.optimizers.Adam(),\n",
        "                metrics = [\"mae\", \"mse\"])\n",
        "# fitting\n",
        "model_2.fit(x = train_windows,\n",
        "            y = train_labels,\n",
        "            epochs = 100,\n",
        "            verbose = 0,\n",
        "            batch_size =  128,\n",
        "            validation_data = (test_windows, test_labels),\n",
        "            callbacks = [create_model_checkpoint(model_name = model_2.name)])"
      ],
      "metadata": {
        "colab": {
          "base_uri": "https://localhost:8080/"
        },
        "id": "TC8mbKpN9Tx3",
        "outputId": "15cf9b6f-7928-4417-8af5-5eba8db776d8"
      },
      "execution_count": 45,
      "outputs": [
        {
          "output_type": "stream",
          "name": "stderr",
          "text": [
            "WARNING:absl:Found untraced functions such as _update_step_xla while saving (showing 1 of 1). These functions will not be directly callable after loading.\n",
            "WARNING:absl:Found untraced functions such as _update_step_xla while saving (showing 1 of 1). These functions will not be directly callable after loading.\n",
            "WARNING:absl:Found untraced functions such as _update_step_xla while saving (showing 1 of 1). These functions will not be directly callable after loading.\n",
            "WARNING:absl:Found untraced functions such as _update_step_xla while saving (showing 1 of 1). These functions will not be directly callable after loading.\n",
            "WARNING:absl:Found untraced functions such as _update_step_xla while saving (showing 1 of 1). These functions will not be directly callable after loading.\n",
            "WARNING:absl:Found untraced functions such as _update_step_xla while saving (showing 1 of 1). These functions will not be directly callable after loading.\n",
            "WARNING:absl:Found untraced functions such as _update_step_xla while saving (showing 1 of 1). These functions will not be directly callable after loading.\n",
            "WARNING:absl:Found untraced functions such as _update_step_xla while saving (showing 1 of 1). These functions will not be directly callable after loading.\n",
            "WARNING:absl:Found untraced functions such as _update_step_xla while saving (showing 1 of 1). These functions will not be directly callable after loading.\n",
            "WARNING:absl:Found untraced functions such as _update_step_xla while saving (showing 1 of 1). These functions will not be directly callable after loading.\n",
            "WARNING:absl:Found untraced functions such as _update_step_xla while saving (showing 1 of 1). These functions will not be directly callable after loading.\n",
            "WARNING:absl:Found untraced functions such as _update_step_xla while saving (showing 1 of 1). These functions will not be directly callable after loading.\n",
            "WARNING:absl:Found untraced functions such as _update_step_xla while saving (showing 1 of 1). These functions will not be directly callable after loading.\n",
            "WARNING:absl:Found untraced functions such as _update_step_xla while saving (showing 1 of 1). These functions will not be directly callable after loading.\n",
            "WARNING:absl:Found untraced functions such as _update_step_xla while saving (showing 1 of 1). These functions will not be directly callable after loading.\n",
            "WARNING:absl:Found untraced functions such as _update_step_xla while saving (showing 1 of 1). These functions will not be directly callable after loading.\n",
            "WARNING:absl:Found untraced functions such as _update_step_xla while saving (showing 1 of 1). These functions will not be directly callable after loading.\n",
            "WARNING:absl:Found untraced functions such as _update_step_xla while saving (showing 1 of 1). These functions will not be directly callable after loading.\n",
            "WARNING:absl:Found untraced functions such as _update_step_xla while saving (showing 1 of 1). These functions will not be directly callable after loading.\n",
            "WARNING:absl:Found untraced functions such as _update_step_xla while saving (showing 1 of 1). These functions will not be directly callable after loading.\n",
            "WARNING:absl:Found untraced functions such as _update_step_xla while saving (showing 1 of 1). These functions will not be directly callable after loading.\n",
            "WARNING:absl:Found untraced functions such as _update_step_xla while saving (showing 1 of 1). These functions will not be directly callable after loading.\n",
            "WARNING:absl:Found untraced functions such as _update_step_xla while saving (showing 1 of 1). These functions will not be directly callable after loading.\n",
            "WARNING:absl:Found untraced functions such as _update_step_xla while saving (showing 1 of 1). These functions will not be directly callable after loading.\n",
            "WARNING:absl:Found untraced functions such as _update_step_xla while saving (showing 1 of 1). These functions will not be directly callable after loading.\n"
          ]
        },
        {
          "output_type": "execute_result",
          "data": {
            "text/plain": [
              "<keras.callbacks.History at 0x7f8f213bd2e0>"
            ]
          },
          "metadata": {},
          "execution_count": 45
        }
      ]
    },
    {
      "cell_type": "code",
      "source": [
        "model_2.evaluate(test_windows, test_labels)"
      ],
      "metadata": {
        "colab": {
          "base_uri": "https://localhost:8080/"
        },
        "id": "4hiDnmi69uMQ",
        "outputId": "eb15f65e-2338-4188-ea61-80048805a71e"
      },
      "execution_count": 46,
      "outputs": [
        {
          "output_type": "stream",
          "name": "stdout",
          "text": [
            "18/18 [==============================] - 0s 2ms/step - loss: 1379.7836 - mae: 1379.7836 - mse: 6011283.5000\n"
          ]
        },
        {
          "output_type": "execute_result",
          "data": {
            "text/plain": [
              "[1379.7835693359375, 1379.7835693359375, 6011283.5]"
            ]
          },
          "metadata": {},
          "execution_count": 46
        }
      ]
    },
    {
      "cell_type": "code",
      "source": [
        "# Loading the best perfoming instance into the model\n",
        "model_2 = tf.keras.models.load_model(\"model_experiments/model_2_dense/\")\n",
        "model_2.evaluate(test_windows, test_labels)"
      ],
      "metadata": {
        "colab": {
          "base_uri": "https://localhost:8080/"
        },
        "id": "1-0rlBDj-c26",
        "outputId": "49fc8884-b38c-429c-841a-b5471190d3ab"
      },
      "execution_count": 47,
      "outputs": [
        {
          "output_type": "stream",
          "name": "stdout",
          "text": [
            "18/18 [==============================] - 0s 2ms/step - loss: 1236.1534 - mae: 1236.1534 - mse: 5328507.5000\n"
          ]
        },
        {
          "output_type": "execute_result",
          "data": {
            "text/plain": [
              "[1236.1534423828125, 1236.1534423828125, 5328507.5]"
            ]
          },
          "metadata": {},
          "execution_count": 47
        }
      ]
    },
    {
      "cell_type": "code",
      "source": [
        "model_2_preds = make_preds(model_2,\n",
        "                           input_data = test_windows)"
      ],
      "metadata": {
        "colab": {
          "base_uri": "https://localhost:8080/"
        },
        "id": "3fzk3L0r-0q8",
        "outputId": "9e828eda-1757-443a-c743-42e6f5c70fd0"
      },
      "execution_count": 48,
      "outputs": [
        {
          "output_type": "stream",
          "name": "stdout",
          "text": [
            "18/18 [==============================] - 0s 1ms/step\n"
          ]
        }
      ]
    },
    {
      "cell_type": "code",
      "source": [
        "# making eval fun work for larger horizons\n",
        "def evaluate_preds(y_true, y_pred):\n",
        "  # Make sure float32 (for metric calculations)\n",
        "  y_true = tf.cast(y_true, dtype=tf.float32)\n",
        "  y_pred = tf.cast(y_pred, dtype=tf.float32)\n",
        "\n",
        "  # Calculate various metrics\n",
        "  mae = tf.keras.metrics.mean_absolute_error(y_true, y_pred)\n",
        "  mse = tf.keras.metrics.mean_squared_error(y_true, y_pred) # puts and emphasis on outliers (all errors get squared)\n",
        "  rmse = tf.sqrt(mse)\n",
        "  mape = tf.keras.metrics.mean_absolute_percentage_error(y_true, y_pred)\n",
        "  mase = mean_absolute_scaled_error(y_true, y_pred)\n",
        "  \n",
        "  # for diff horizon\n",
        "  if mae.ndim > 0:\n",
        "    mae = tf.reduce_mean(mae)\n",
        "    mse = tf.reduce_mean(mse)\n",
        "    rmse = tf.reduce_mean(rmse)\n",
        "    mape = tf.reduce_mean(mape)\n",
        "    mase = tf.reduce_mean(mase)\n",
        "\n",
        "  return {\"mae\": mae.numpy(),\n",
        "          \"mse\": mse.numpy(),\n",
        "          \"rmse\": rmse.numpy(),\n",
        "          \"mape\": mape.numpy(),\n",
        "          \"mase\": mase.numpy()}"
      ],
      "metadata": {
        "id": "LhX4SW8OBJrI"
      },
      "execution_count": 49,
      "outputs": []
    },
    {
      "cell_type": "code",
      "source": [
        "model_2_results = evaluate_preds(y_true = tf.squeeze(test_labels),\n",
        "                                 y_pred = model_2_preds)\n",
        "model_2_results"
      ],
      "metadata": {
        "colab": {
          "base_uri": "https://localhost:8080/"
        },
        "id": "u38zgFoy-9lX",
        "outputId": "ae9224d1-1afc-4364-bd6b-4039812a5ea3"
      },
      "execution_count": 50,
      "outputs": [
        {
          "output_type": "execute_result",
          "data": {
            "text/plain": [
              "{'mae': 1236.1534,\n",
              " 'mse': 5328507.0,\n",
              " 'rmse': 1418.4436,\n",
              " 'mape': 5.532939,\n",
              " 'mase': 2.199666}"
            ]
          },
          "metadata": {},
          "execution_count": 50
        }
      ]
    },
    {
      "cell_type": "code",
      "source": [
        "#Plot model 2\n",
        "offset = 300\n",
        "plt.figure(figsize=(10,7))\n",
        "plot_time_series(timesteps = X_test[-len(test_windows):],\n",
        "                 values = test_labels[:, 0],\n",
        "                 start = offset,\n",
        "                 format = \".\",\n",
        "                 label = \"Test Data\")\n",
        "\n",
        "plot_time_series(timesteps = X_test[-len(test_windows):],\n",
        "                 values = tf.reduce_mean(model_2_preds, axis = 1),\n",
        "                 start = offset,\n",
        "                 format = \"-\",\n",
        "                 label = \"model_2_preds\")"
      ],
      "metadata": {
        "colab": {
          "base_uri": "https://localhost:8080/",
          "height": 442
        },
        "id": "x2ZYQMbG_M4a",
        "outputId": "cd106f49-7dca-4f9a-9794-3d93be4beffa"
      },
      "execution_count": 51,
      "outputs": [
        {
          "output_type": "display_data",
          "data": {
            "text/plain": [
              "<Figure size 720x504 with 1 Axes>"
            ],
            "image/png": "[encoded data removed]"
          },
          "metadata": {
            "needs_background": "light"
          }
        }
      ]
    },
    {
      "cell_type": "code",
      "source": [
        "pd.DataFrame({\"naive\": naive_results[\"mae\"],\n",
        "              \"horizon_1_window_7\": model_1_res[\"mae\"],\n",
        "              \"horizon_7_window_30\": model_2_results[\"mae\"]}, index = [\"mae\"]).plot(figsize = (10,7), kind = \"bar\");"
      ],
      "metadata": {
        "colab": {
          "base_uri": "https://localhost:8080/",
          "height": 440
        },
        "id": "ESHogCzC_fAc",
        "outputId": "4a04997a-62ce-4202-c672-90f038f43e02"
      },
      "execution_count": 52,
      "outputs": [
        {
          "output_type": "display_data",
          "data": {
            "text/plain": [
              "<Figure size 720x504 with 1 Axes>"
            ],
            "image/png": "[encoded data removed]"
          },
          "metadata": {
            "needs_background": "light"
          }
        }
      ]
    },
    {
      "cell_type": "markdown",
      "source": [
        "### Conv 1D model"
      ],
      "metadata": {
        "id": "wkiomQ-thCm5"
      }
    },
    {
      "cell_type": "code",
      "source": [
        "HORIZON = 1\n",
        "WINDOW_SIZE = 7"
      ],
      "metadata": {
        "id": "bmirfDS1iRVp"
      },
      "execution_count": 53,
      "outputs": []
    },
    {
      "cell_type": "code",
      "source": [
        "full_windows, full_labels = make_windows(prices, window_size = WINDOW_SIZE, horizon = HORIZON)\n",
        "len(full_windows), len(full_labels)"
      ],
      "metadata": {
        "colab": {
          "base_uri": "https://localhost:8080/"
        },
        "id": "cKFSG0oiim_1",
        "outputId": "a39c166b-5c3c-4754-db4b-f8e334c81b8d"
      },
      "execution_count": 54,
      "outputs": [
        {
          "output_type": "execute_result",
          "data": {
            "text/plain": [
              "(2780, 2780)"
            ]
          },
          "metadata": {},
          "execution_count": 54
        }
      ]
    },
    {
      "cell_type": "markdown",
      "source": [
        "## Train-Test sets"
      ],
      "metadata": {
        "id": "DIoArheoixBS"
      }
    },
    {
      "cell_type": "code",
      "source": [
        "train_windows, test_windows, train_labels, test_labels = make_train_test_splits(windows = full_windows, labels = full_labels)\n",
        "len(train_windows), len(test_windows), len(train_labels), len(test_labels)"
      ],
      "metadata": {
        "colab": {
          "base_uri": "https://localhost:8080/"
        },
        "id": "CgAF_iCMi8Y_",
        "outputId": "9f74aac4-fd4c-4497-82e9-f19f317a7fc4"
      },
      "execution_count": 55,
      "outputs": [
        {
          "output_type": "execute_result",
          "data": {
            "text/plain": [
              "(2224, 556, 2224, 556)"
            ]
          },
          "metadata": {},
          "execution_count": 55
        }
      ]
    },
    {
      "cell_type": "markdown",
      "source": [
        "# Reshaping data to fit in Conv1D layer"
      ],
      "metadata": {
        "id": "kuMddJ27jENH"
      }
    },
    {
      "cell_type": "code",
      "source": [
        "x = tf.constant(train_windows[0])\n",
        "x"
      ],
      "metadata": {
        "colab": {
          "base_uri": "https://localhost:8080/"
        },
        "id": "9VBZz8DIjnxP",
        "outputId": "8b4502c6-6d65-4e58-ac88-1b44b09408d4"
      },
      "execution_count": 56,
      "outputs": [
        {
          "output_type": "execute_result",
          "data": {
            "text/plain": [
              "<tf.Tensor: shape=(7,), dtype=float64, numpy=\n",
              "array([123.65499, 125.455  , 108.58483, 118.67466, 121.33866, 120.65533,\n",
              "       121.795  ])>"
            ]
          },
          "metadata": {},
          "execution_count": 56
        }
      ]
    },
    {
      "cell_type": "code",
      "source": [
        "expand_dims_layers = layers.Lambda(lambda x: tf.expand_dims(x, axis = 1))"
      ],
      "metadata": {
        "id": "9UI4cVeykFv1"
      },
      "execution_count": 57,
      "outputs": []
    },
    {
      "cell_type": "code",
      "source": [
        "x.shape\n"
      ],
      "metadata": {
        "colab": {
          "base_uri": "https://localhost:8080/"
        },
        "id": "FrU0y0BlkOoa",
        "outputId": "c3423c2e-8896-4e4c-f7e5-dd4d8b584085"
      },
      "execution_count": 58,
      "outputs": [
        {
          "output_type": "execute_result",
          "data": {
            "text/plain": [
              "TensorShape([7])"
            ]
          },
          "metadata": {},
          "execution_count": 58
        }
      ]
    },
    {
      "cell_type": "code",
      "source": [
        "expand_dims_layers(x).shape\n",
        "expand_dims_layers(x)"
      ],
      "metadata": {
        "colab": {
          "base_uri": "https://localhost:8080/"
        },
        "id": "srbU0HOikphy",
        "outputId": "de058905-7c0f-4f50-df4b-7214fbe009ac"
      },
      "execution_count": 59,
      "outputs": [
        {
          "output_type": "execute_result",
          "data": {
            "text/plain": [
              "<tf.Tensor: shape=(7, 1), dtype=float32, numpy=\n",
              "array([[123.65499],\n",
              "       [125.455  ],\n",
              "       [108.58483],\n",
              "       [118.67466],\n",
              "       [121.33866],\n",
              "       [120.65533],\n",
              "       [121.795  ]], dtype=float32)>"
            ]
          },
          "metadata": {},
          "execution_count": 59
        }
      ]
    },
    {
      "cell_type": "markdown",
      "source": [
        "## Create Conv1D layer"
      ],
      "metadata": {
        "id": "h9FJioqvkunJ"
      }
    },
    {
      "cell_type": "code",
      "source": [
        "tf.random.set_seed(42)\n",
        "\n",
        "model_4 = tf.keras.Sequential([\n",
        "    layers.Lambda(lambda x: tf.expand_dims(x, axis = 1)),\n",
        "    layers.Conv1D(filters = 128, kernel_size = 5, strides = 1, padding = \"causal\", activation = \"relu\" ),\n",
        "    layers.Dense(HORIZON)\n",
        "],  name = \"model_4_1D\")\n",
        "\n",
        "\n",
        "model_4.compile(loss = \"mae\",\n",
        "                optimizer = tf.keras.optimizers.Adam())\n",
        "\n",
        "model_4.fit(train_windows, train_labels,\n",
        "            batch_size = 128,\n",
        "            epochs = 100,\n",
        "            verbose = 1,\n",
        "            validation_data = (test_windows, test_labels),\n",
        "            callbacks = [create_model_checkpoint(model_name = model_4.name)])"
      ],
      "metadata": {
        "colab": {
          "base_uri": "https://localhost:8080/"
        },
        "id": "mQkO7ENZlCFo",
        "outputId": "190b7d85-f125-4be5-d203-70e3974dfb82"
      },
      "execution_count": 60,
      "outputs": [
        {
          "output_type": "stream",
          "name": "stdout",
          "text": [
            "Epoch 1/100\n",
            "15/18 [========================>.....] - ETA: 0s - loss: 1572.8521 "
          ]
        },
        {
          "output_type": "stream",
          "name": "stderr",
          "text": [
            "WARNING:absl:Found untraced functions such as _jit_compiled_convolution_op, _update_step_xla while saving (showing 2 of 2). These functions will not be directly callable after loading.\n"
          ]
        },
        {
          "output_type": "stream",
          "name": "stdout",
          "text": [
            "\b\b\b\b\b\b\b\b\b\b\b\b\b\b\b\b\b\b\b\b\b\b\b\b\b\b\b\b\b\b\b\b\b\b\b\b\b\b\b\b\b\b\b\b\b\b\b\b\b\b\b\b\b\b\b\b\b\b\b\b\b\b\b\b\b\b\r18/18 [==============================] - 3s 53ms/step - loss: 1396.0452 - val_loss: 1323.8539\n",
            "Epoch 2/100\n",
            "18/18 [==============================] - 0s 8ms/step - loss: 324.2292 - val_loss: 1712.3501\n",
            "Epoch 3/100\n",
            "13/18 [====================>.........] - ETA: 0s - loss: 221.7499"
          ]
        },
        {
          "output_type": "stream",
          "name": "stderr",
          "text": [
            "WARNING:absl:Found untraced functions such as _jit_compiled_convolution_op, _update_step_xla while saving (showing 2 of 2). These functions will not be directly callable after loading.\n"
          ]
        },
        {
          "output_type": "stream",
          "name": "stdout",
          "text": [
            "\b\b\b\b\b\b\b\b\b\b\b\b\b\b\b\b\b\b\b\b\b\b\b\b\b\b\b\b\b\b\b\b\b\b\b\b\b\b\b\b\b\b\b\b\b\b\b\b\b\b\b\b\b\b\b\b\b\b\b\b\b\b\b\b\b\r18/18 [==============================] - 1s 55ms/step - loss: 217.2618 - val_loss: 1135.9353\n",
            "Epoch 4/100\n",
            "11/18 [=================>............] - ETA: 0s - loss: 203.3429"
          ]
        },
        {
          "output_type": "stream",
          "name": "stderr",
          "text": [
            "WARNING:absl:Found untraced functions such as _jit_compiled_convolution_op, _update_step_xla while saving (showing 2 of 2). These functions will not be directly callable after loading.\n"
          ]
        },
        {
          "output_type": "stream",
          "name": "stdout",
          "text": [
            "\b\b\b\b\b\b\b\b\b\b\b\b\b\b\b\b\b\b\b\b\b\b\b\b\b\b\b\b\b\b\b\b\b\b\b\b\b\b\b\b\b\b\b\b\b\b\b\b\b\b\b\b\b\b\b\b\b\b\b\b\b\b\b\b\b\r18/18 [==============================] - 1s 57ms/step - loss: 190.0801 - val_loss: 1014.5773\n",
            "Epoch 5/100\n",
            "18/18 [==============================] - 0s 6ms/step - loss: 182.9309 - val_loss: 1030.3219\n",
            "Epoch 6/100\n",
            "18/18 [==============================] - 0s 5ms/step - loss: 180.1534 - val_loss: 1022.6909\n",
            "Epoch 7/100\n",
            "16/18 [=========================>....] - ETA: 0s - loss: 184.3644"
          ]
        },
        {
          "output_type": "stream",
          "name": "stderr",
          "text": [
            "WARNING:absl:Found untraced functions such as _jit_compiled_convolution_op, _update_step_xla while saving (showing 2 of 2). These functions will not be directly callable after loading.\n"
          ]
        },
        {
          "output_type": "stream",
          "name": "stdout",
          "text": [
            "\b\b\b\b\b\b\b\b\b\b\b\b\b\b\b\b\b\b\b\b\b\b\b\b\b\b\b\b\b\b\b\b\b\b\b\b\b\b\b\b\b\b\b\b\b\b\b\b\b\b\b\b\b\b\b\b\b\b\b\b\b\b\b\b\b\r18/18 [==============================] - 1s 39ms/step - loss: 179.9342 - val_loss: 975.4612\n",
            "Epoch 8/100\n",
            "18/18 [==============================] - 0s 8ms/step - loss: 174.0450 - val_loss: 980.2030\n",
            "Epoch 9/100\n",
            "18/18 [==============================] - 0s 6ms/step - loss: 171.1215 - val_loss: 992.6566\n",
            "Epoch 10/100\n",
            "17/18 [===========================>..] - ETA: 0s - loss: 166.9008"
          ]
        },
        {
          "output_type": "stream",
          "name": "stderr",
          "text": [
            "WARNING:absl:Found untraced functions such as _jit_compiled_convolution_op, _update_step_xla while saving (showing 2 of 2). These functions will not be directly callable after loading.\n"
          ]
        },
        {
          "output_type": "stream",
          "name": "stdout",
          "text": [
            "\b\b\b\b\b\b\b\b\b\b\b\b\b\b\b\b\b\b\b\b\b\b\b\b\b\b\b\b\b\b\b\b\b\b\b\b\b\b\b\b\b\b\b\b\b\b\b\b\b\b\b\b\b\b\b\b\b\b\b\b\b\b\b\b\b\r18/18 [==============================] - 1s 39ms/step - loss: 168.3382 - val_loss: 936.5872\n",
            "Epoch 11/100\n",
            "17/18 [===========================>..] - ETA: 0s - loss: 165.2429"
          ]
        },
        {
          "output_type": "stream",
          "name": "stderr",
          "text": [
            "WARNING:absl:Found untraced functions such as _jit_compiled_convolution_op, _update_step_xla while saving (showing 2 of 2). These functions will not be directly callable after loading.\n"
          ]
        },
        {
          "output_type": "stream",
          "name": "stdout",
          "text": [
            "\b\b\b\b\b\b\b\b\b\b\b\b\b\b\b\b\b\b\b\b\b\b\b\b\b\b\b\b\b\b\b\b\b\b\b\b\b\b\b\b\b\b\b\b\b\b\b\b\b\b\b\b\b\b\b\b\b\b\b\b\b\b\b\b\b\r18/18 [==============================] - 1s 37ms/step - loss: 164.9740 - val_loss: 917.1176\n",
            "Epoch 12/100\n",
            "18/18 [==============================] - 0s 5ms/step - loss: 162.1502 - val_loss: 985.4736\n",
            "Epoch 13/100\n",
            "18/18 [==============================] - ETA: 0s - loss: 161.0810"
          ]
        },
        {
          "output_type": "stream",
          "name": "stderr",
          "text": [
            "WARNING:absl:Found untraced functions such as _jit_compiled_convolution_op, _update_step_xla while saving (showing 2 of 2). These functions will not be directly callable after loading.\n"
          ]
        },
        {
          "output_type": "stream",
          "name": "stdout",
          "text": [
            "\b\b\b\b\b\b\b\b\b\b\b\b\b\b\b\b\b\b\b\b\b\b\b\b\b\b\b\b\b\b\b\b\b\b\b\b\b\b\b\b\b\b\b\b\b\b\b\b\b\b\b\b\b\b\b\b\b\b\b\b\b\b\b\b\b\r18/18 [==============================] - 1s 54ms/step - loss: 161.0810 - val_loss: 890.2059\n",
            "Epoch 14/100\n",
            "18/18 [==============================] - 0s 6ms/step - loss: 156.2469 - val_loss: 890.5217\n",
            "Epoch 15/100\n",
            "14/18 [======================>.......] - ETA: 0s - loss: 158.6451"
          ]
        },
        {
          "output_type": "stream",
          "name": "stderr",
          "text": [
            "WARNING:absl:Found untraced functions such as _jit_compiled_convolution_op, _update_step_xla while saving (showing 2 of 2). These functions will not be directly callable after loading.\n"
          ]
        },
        {
          "output_type": "stream",
          "name": "stdout",
          "text": [
            "\b\b\b\b\b\b\b\b\b\b\b\b\b\b\b\b\b\b\b\b\b\b\b\b\b\b\b\b\b\b\b\b\b\b\b\b\b\b\b\b\b\b\b\b\b\b\b\b\b\b\b\b\b\b\b\b\b\b\b\b\b\b\b\b\b\r18/18 [==============================] - 1s 39ms/step - loss: 156.7163 - val_loss: 884.6732\n",
            "Epoch 16/100\n",
            "14/18 [======================>.......] - ETA: 0s - loss: 150.5890"
          ]
        },
        {
          "output_type": "stream",
          "name": "stderr",
          "text": [
            "WARNING:absl:Found untraced functions such as _jit_compiled_convolution_op, _update_step_xla while saving (showing 2 of 2). These functions will not be directly callable after loading.\n"
          ]
        },
        {
          "output_type": "stream",
          "name": "stdout",
          "text": [
            "\b\b\b\b\b\b\b\b\b\b\b\b\b\b\b\b\b\b\b\b\b\b\b\b\b\b\b\b\b\b\b\b\b\b\b\b\b\b\b\b\b\b\b\b\b\b\b\b\b\b\b\b\b\b\b\b\b\b\b\b\b\b\b\b\b\r18/18 [==============================] - 1s 39ms/step - loss: 150.2646 - val_loss: 869.8442\n",
            "Epoch 17/100\n",
            "17/18 [===========================>..] - ETA: 0s - loss: 148.1091"
          ]
        },
        {
          "output_type": "stream",
          "name": "stderr",
          "text": [
            "WARNING:absl:Found untraced functions such as _jit_compiled_convolution_op, _update_step_xla while saving (showing 2 of 2). These functions will not be directly callable after loading.\n"
          ]
        },
        {
          "output_type": "stream",
          "name": "stdout",
          "text": [
            "\b\b\b\b\b\b\b\b\b\b\b\b\b\b\b\b\b\b\b\b\b\b\b\b\b\b\b\b\b\b\b\b\b\b\b\b\b\b\b\b\b\b\b\b\b\b\b\b\b\b\b\b\b\b\b\b\b\b\b\b\b\b\b\b\b\r18/18 [==============================] - 1s 38ms/step - loss: 148.3633 - val_loss: 868.7375\n",
            "Epoch 18/100\n",
            "15/18 [========================>.....] - ETA: 0s - loss: 153.2567"
          ]
        },
        {
          "output_type": "stream",
          "name": "stderr",
          "text": [
            "WARNING:absl:Found untraced functions such as _jit_compiled_convolution_op, _update_step_xla while saving (showing 2 of 2). These functions will not be directly callable after loading.\n"
          ]
        },
        {
          "output_type": "stream",
          "name": "stdout",
          "text": [
            "\b\b\b\b\b\b\b\b\b\b\b\b\b\b\b\b\b\b\b\b\b\b\b\b\b\b\b\b\b\b\b\b\b\b\b\b\b\b\b\b\b\b\b\b\b\b\b\b\b\b\b\b\b\b\b\b\b\b\b\b\b\b\b\b\b\r18/18 [==============================] - 1s 38ms/step - loss: 146.7420 - val_loss: 836.1967\n",
            "Epoch 19/100\n",
            "14/18 [======================>.......] - ETA: 0s - loss: 147.4214"
          ]
        },
        {
          "output_type": "stream",
          "name": "stderr",
          "text": [
            "WARNING:absl:Found untraced functions such as _jit_compiled_convolution_op, _update_step_xla while saving (showing 2 of 2). These functions will not be directly callable after loading.\n"
          ]
        },
        {
          "output_type": "stream",
          "name": "stdout",
          "text": [
            "\b\b\b\b\b\b\b\b\b\b\b\b\b\b\b\b\b\b\b\b\b\b\b\b\b\b\b\b\b\b\b\b\b\b\b\b\b\b\b\b\b\b\b\b\b\b\b\b\b\b\b\b\b\b\b\b\b\b\b\b\b\b\b\b\b\r18/18 [==============================] - 1s 39ms/step - loss: 143.5147 - val_loss: 800.7670\n",
            "Epoch 20/100\n",
            "18/18 [==============================] - 0s 5ms/step - loss: 143.2571 - val_loss: 804.0783\n",
            "Epoch 21/100\n",
            "17/18 [===========================>..] - ETA: 0s - loss: 139.9498"
          ]
        },
        {
          "output_type": "stream",
          "name": "stderr",
          "text": [
            "WARNING:absl:Found untraced functions such as _jit_compiled_convolution_op, _update_step_xla while saving (showing 2 of 2). These functions will not be directly callable after loading.\n"
          ]
        },
        {
          "output_type": "stream",
          "name": "stdout",
          "text": [
            "\b\b\b\b\b\b\b\b\b\b\b\b\b\b\b\b\b\b\b\b\b\b\b\b\b\b\b\b\b\b\b\b\b\b\b\b\b\b\b\b\b\b\b\b\b\b\b\b\b\b\b\b\b\b\b\b\b\b\b\b\b\b\b\b\b\r18/18 [==============================] - 1s 37ms/step - loss: 141.0797 - val_loss: 765.9391\n",
            "Epoch 22/100\n",
            "18/18 [==============================] - ETA: 0s - loss: 139.5949"
          ]
        },
        {
          "output_type": "stream",
          "name": "stderr",
          "text": [
            "WARNING:absl:Found untraced functions such as _jit_compiled_convolution_op, _update_step_xla while saving (showing 2 of 2). These functions will not be directly callable after loading.\n"
          ]
        },
        {
          "output_type": "stream",
          "name": "stdout",
          "text": [
            "\b\b\b\b\b\b\b\b\b\b\b\b\b\b\b\b\b\b\b\b\b\b\b\b\b\b\b\b\b\b\b\b\b\b\b\b\b\b\b\b\b\b\b\b\b\b\b\b\b\b\b\b\b\b\b\b\b\b\b\b\b\b\b\b\b\r18/18 [==============================] - 1s 38ms/step - loss: 139.5949 - val_loss: 758.9454\n",
            "Epoch 23/100\n",
            "17/18 [===========================>..] - ETA: 0s - loss: 133.4742"
          ]
        },
        {
          "output_type": "stream",
          "name": "stderr",
          "text": [
            "WARNING:absl:Found untraced functions such as _jit_compiled_convolution_op, _update_step_xla while saving (showing 2 of 2). These functions will not be directly callable after loading.\n"
          ]
        },
        {
          "output_type": "stream",
          "name": "stdout",
          "text": [
            "\b\b\b\b\b\b\b\b\b\b\b\b\b\b\b\b\b\b\b\b\b\b\b\b\b\b\b\b\b\b\b\b\b\b\b\b\b\b\b\b\b\b\b\b\b\b\b\b\b\b\b\b\b\b\b\b\b\b\b\b\b\b\b\b\b\r18/18 [==============================] - 1s 39ms/step - loss: 134.5883 - val_loss: 748.4240\n",
            "Epoch 24/100\n",
            "18/18 [==============================] - ETA: 0s - loss: 134.2928"
          ]
        },
        {
          "output_type": "stream",
          "name": "stderr",
          "text": [
            "WARNING:absl:Found untraced functions such as _jit_compiled_convolution_op, _update_step_xla while saving (showing 2 of 2). These functions will not be directly callable after loading.\n"
          ]
        },
        {
          "output_type": "stream",
          "name": "stdout",
          "text": [
            "\b\b\b\b\b\b\b\b\b\b\b\b\b\b\b\b\b\b\b\b\b\b\b\b\b\b\b\b\b\b\b\b\b\b\b\b\b\b\b\b\b\b\b\b\b\b\b\b\b\b\b\b\b\b\b\b\b\b\b\b\b\b\b\b\b\r18/18 [==============================] - 1s 38ms/step - loss: 134.2928 - val_loss: 742.9275\n",
            "Epoch 25/100\n",
            "17/18 [===========================>..] - ETA: 0s - loss: 132.3356"
          ]
        },
        {
          "output_type": "stream",
          "name": "stderr",
          "text": [
            "WARNING:absl:Found untraced functions such as _jit_compiled_convolution_op, _update_step_xla while saving (showing 2 of 2). These functions will not be directly callable after loading.\n"
          ]
        },
        {
          "output_type": "stream",
          "name": "stdout",
          "text": [
            "\b\b\b\b\b\b\b\b\b\b\b\b\b\b\b\b\b\b\b\b\b\b\b\b\b\b\b\b\b\b\b\b\b\b\b\b\b\b\b\b\b\b\b\b\b\b\b\b\b\b\b\b\b\b\b\b\b\b\b\b\b\b\b\b\b\r18/18 [==============================] - 1s 49ms/step - loss: 131.7502 - val_loss: 723.1124\n",
            "Epoch 26/100\n",
            "18/18 [==============================] - 0s 7ms/step - loss: 132.9987 - val_loss: 732.8251\n",
            "Epoch 27/100\n",
            "12/18 [===================>..........] - ETA: 0s - loss: 135.7906"
          ]
        },
        {
          "output_type": "stream",
          "name": "stderr",
          "text": [
            "WARNING:absl:Found untraced functions such as _jit_compiled_convolution_op, _update_step_xla while saving (showing 2 of 2). These functions will not be directly callable after loading.\n"
          ]
        },
        {
          "output_type": "stream",
          "name": "stdout",
          "text": [
            "\b\b\b\b\b\b\b\b\b\b\b\b\b\b\b\b\b\b\b\b\b\b\b\b\b\b\b\b\b\b\b\b\b\b\b\b\b\b\b\b\b\b\b\b\b\b\b\b\b\b\b\b\b\b\b\b\b\b\b\b\b\b\b\b\b\r18/18 [==============================] - 1s 78ms/step - loss: 130.4526 - val_loss: 703.1611\n",
            "Epoch 28/100\n",
            "18/18 [==============================] - 0s 6ms/step - loss: 126.6482 - val_loss: 704.5807\n",
            "Epoch 29/100\n",
            "17/18 [===========================>..] - ETA: 0s - loss: 123.5483"
          ]
        },
        {
          "output_type": "stream",
          "name": "stderr",
          "text": [
            "WARNING:absl:Found untraced functions such as _jit_compiled_convolution_op, _update_step_xla while saving (showing 2 of 2). These functions will not be directly callable after loading.\n"
          ]
        },
        {
          "output_type": "stream",
          "name": "stdout",
          "text": [
            "\b\b\b\b\b\b\b\b\b\b\b\b\b\b\b\b\b\b\b\b\b\b\b\b\b\b\b\b\b\b\b\b\b\b\b\b\b\b\b\b\b\b\b\b\b\b\b\b\b\b\b\b\b\b\b\b\b\b\b\b\b\b\b\b\b\r18/18 [==============================] - 1s 39ms/step - loss: 125.7168 - val_loss: 698.2095\n",
            "Epoch 30/100\n",
            "18/18 [==============================] - 0s 6ms/step - loss: 129.6680 - val_loss: 799.1720\n",
            "Epoch 31/100\n",
            "18/18 [==============================] - 0s 6ms/step - loss: 137.5801 - val_loss: 813.3571\n",
            "Epoch 32/100\n",
            "17/18 [===========================>..] - ETA: 0s - loss: 132.7099"
          ]
        },
        {
          "output_type": "stream",
          "name": "stderr",
          "text": [
            "WARNING:absl:Found untraced functions such as _jit_compiled_convolution_op, _update_step_xla while saving (showing 2 of 2). These functions will not be directly callable after loading.\n"
          ]
        },
        {
          "output_type": "stream",
          "name": "stdout",
          "text": [
            "\b\b\b\b\b\b\b\b\b\b\b\b\b\b\b\b\b\b\b\b\b\b\b\b\b\b\b\b\b\b\b\b\b\b\b\b\b\b\b\b\b\b\b\b\b\b\b\b\b\b\b\b\b\b\b\b\b\b\b\b\b\b\b\b\b\r18/18 [==============================] - 1s 37ms/step - loss: 132.1501 - val_loss: 689.2328\n",
            "Epoch 33/100\n",
            "18/18 [==============================] - ETA: 0s - loss: 125.2259"
          ]
        },
        {
          "output_type": "stream",
          "name": "stderr",
          "text": [
            "WARNING:absl:Found untraced functions such as _jit_compiled_convolution_op, _update_step_xla while saving (showing 2 of 2). These functions will not be directly callable after loading.\n"
          ]
        },
        {
          "output_type": "stream",
          "name": "stdout",
          "text": [
            "\b\b\b\b\b\b\b\b\b\b\b\b\b\b\b\b\b\b\b\b\b\b\b\b\b\b\b\b\b\b\b\b\b\b\b\b\b\b\b\b\b\b\b\b\b\b\b\b\b\b\b\b\b\b\b\b\b\b\b\b\b\b\b\b\b\r18/18 [==============================] - 1s 38ms/step - loss: 125.2259 - val_loss: 686.9803\n",
            "Epoch 34/100\n",
            "17/18 [===========================>..] - ETA: 0s - loss: 121.2419"
          ]
        },
        {
          "output_type": "stream",
          "name": "stderr",
          "text": [
            "WARNING:absl:Found untraced functions such as _jit_compiled_convolution_op, _update_step_xla while saving (showing 2 of 2). These functions will not be directly callable after loading.\n"
          ]
        },
        {
          "output_type": "stream",
          "name": "stdout",
          "text": [
            "\b\b\b\b\b\b\b\b\b\b\b\b\b\b\b\b\b\b\b\b\b\b\b\b\b\b\b\b\b\b\b\b\b\b\b\b\b\b\b\b\b\b\b\b\b\b\b\b\b\b\b\b\b\b\b\b\b\b\b\b\b\b\b\b\b\r18/18 [==============================] - 1s 37ms/step - loss: 121.8596 - val_loss: 664.1882\n",
            "Epoch 35/100\n",
            "15/18 [========================>.....] - ETA: 0s - loss: 123.2296"
          ]
        },
        {
          "output_type": "stream",
          "name": "stderr",
          "text": [
            "WARNING:absl:Found untraced functions such as _jit_compiled_convolution_op, _update_step_xla while saving (showing 2 of 2). These functions will not be directly callable after loading.\n"
          ]
        },
        {
          "output_type": "stream",
          "name": "stdout",
          "text": [
            "\b\b\b\b\b\b\b\b\b\b\b\b\b\b\b\b\b\b\b\b\b\b\b\b\b\b\b\b\b\b\b\b\b\b\b\b\b\b\b\b\b\b\b\b\b\b\b\b\b\b\b\b\b\b\b\b\b\b\b\b\b\b\b\b\b\r18/18 [==============================] - 1s 37ms/step - loss: 120.4626 - val_loss: 659.5623\n",
            "Epoch 36/100\n",
            "18/18 [==============================] - 0s 6ms/step - loss: 123.6898 - val_loss: 720.7512\n",
            "Epoch 37/100\n",
            "17/18 [===========================>..] - ETA: 0s - loss: 121.1409"
          ]
        },
        {
          "output_type": "stream",
          "name": "stderr",
          "text": [
            "WARNING:absl:Found untraced functions such as _jit_compiled_convolution_op, _update_step_xla while saving (showing 2 of 2). These functions will not be directly callable after loading.\n"
          ]
        },
        {
          "output_type": "stream",
          "name": "stdout",
          "text": [
            "\b\b\b\b\b\b\b\b\b\b\b\b\b\b\b\b\b\b\b\b\b\b\b\b\b\b\b\b\b\b\b\b\b\b\b\b\b\b\b\b\b\b\b\b\b\b\b\b\b\b\b\b\b\b\b\b\b\b\b\b\b\b\b\b\b\r18/18 [==============================] - 1s 40ms/step - loss: 121.9951 - val_loss: 643.1843\n",
            "Epoch 38/100\n",
            "16/18 [=========================>....] - ETA: 0s - loss: 118.7351"
          ]
        },
        {
          "output_type": "stream",
          "name": "stderr",
          "text": [
            "WARNING:absl:Found untraced functions such as _jit_compiled_convolution_op, _update_step_xla while saving (showing 2 of 2). These functions will not be directly callable after loading.\n"
          ]
        },
        {
          "output_type": "stream",
          "name": "stdout",
          "text": [
            "\b\b\b\b\b\b\b\b\b\b\b\b\b\b\b\b\b\b\b\b\b\b\b\b\b\b\b\b\b\b\b\b\b\b\b\b\b\b\b\b\b\b\b\b\b\b\b\b\b\b\b\b\b\b\b\b\b\b\b\b\b\b\b\b\b\r18/18 [==============================] - 1s 38ms/step - loss: 118.9839 - val_loss: 637.6893\n",
            "Epoch 39/100\n",
            "18/18 [==============================] - 0s 5ms/step - loss: 119.2643 - val_loss: 659.9678\n",
            "Epoch 40/100\n",
            "17/18 [===========================>..] - ETA: 0s - loss: 117.8724"
          ]
        },
        {
          "output_type": "stream",
          "name": "stderr",
          "text": [
            "WARNING:absl:Found untraced functions such as _jit_compiled_convolution_op, _update_step_xla while saving (showing 2 of 2). These functions will not be directly callable after loading.\n"
          ]
        },
        {
          "output_type": "stream",
          "name": "stdout",
          "text": [
            "\b\b\b\b\b\b\b\b\b\b\b\b\b\b\b\b\b\b\b\b\b\b\b\b\b\b\b\b\b\b\b\b\b\b\b\b\b\b\b\b\b\b\b\b\b\b\b\b\b\b\b\b\b\b\b\b\b\b\b\b\b\b\b\b\b\r18/18 [==============================] - 1s 38ms/step - loss: 117.4837 - val_loss: 637.2958\n",
            "Epoch 41/100\n",
            "18/18 [==============================] - 0s 6ms/step - loss: 118.2406 - val_loss: 643.4413\n",
            "Epoch 42/100\n",
            "16/18 [=========================>....] - ETA: 0s - loss: 122.3252"
          ]
        },
        {
          "output_type": "stream",
          "name": "stderr",
          "text": [
            "WARNING:absl:Found untraced functions such as _jit_compiled_convolution_op, _update_step_xla while saving (showing 2 of 2). These functions will not be directly callable after loading.\n"
          ]
        },
        {
          "output_type": "stream",
          "name": "stdout",
          "text": [
            "\b\b\b\b\b\b\b\b\b\b\b\b\b\b\b\b\b\b\b\b\b\b\b\b\b\b\b\b\b\b\b\b\b\b\b\b\b\b\b\b\b\b\b\b\b\b\b\b\b\b\b\b\b\b\b\b\b\b\b\b\b\b\b\b\b\r18/18 [==============================] - 1s 38ms/step - loss: 122.7041 - val_loss: 623.2410\n",
            "Epoch 43/100\n",
            "18/18 [==============================] - 0s 5ms/step - loss: 116.0725 - val_loss: 635.4371\n",
            "Epoch 44/100\n",
            "18/18 [==============================] - 0s 5ms/step - loss: 118.2626 - val_loss: 641.2299\n",
            "Epoch 45/100\n",
            "18/18 [==============================] - 0s 6ms/step - loss: 119.2065 - val_loss: 629.2326\n",
            "Epoch 46/100\n",
            "17/18 [===========================>..] - ETA: 0s - loss: 115.8795"
          ]
        },
        {
          "output_type": "stream",
          "name": "stderr",
          "text": [
            "WARNING:absl:Found untraced functions such as _jit_compiled_convolution_op, _update_step_xla while saving (showing 2 of 2). These functions will not be directly callable after loading.\n"
          ]
        },
        {
          "output_type": "stream",
          "name": "stdout",
          "text": [
            "\b\b\b\b\b\b\b\b\b\b\b\b\b\b\b\b\b\b\b\b\b\b\b\b\b\b\b\b\b\b\b\b\b\b\b\b\b\b\b\b\b\b\b\b\b\b\b\b\b\b\b\b\b\b\b\b\b\b\b\b\b\b\b\b\b\r18/18 [==============================] - 1s 37ms/step - loss: 116.4143 - val_loss: 613.5785\n",
            "Epoch 47/100\n",
            "18/18 [==============================] - 0s 5ms/step - loss: 117.4191 - val_loss: 679.2040\n",
            "Epoch 48/100\n",
            "18/18 [==============================] - 0s 6ms/step - loss: 115.5137 - val_loss: 638.1384\n",
            "Epoch 49/100\n",
            "18/18 [==============================] - 0s 5ms/step - loss: 115.5625 - val_loss: 615.2393\n",
            "Epoch 50/100\n",
            "17/18 [===========================>..] - ETA: 0s - loss: 115.2554"
          ]
        },
        {
          "output_type": "stream",
          "name": "stderr",
          "text": [
            "WARNING:absl:Found untraced functions such as _jit_compiled_convolution_op, _update_step_xla while saving (showing 2 of 2). These functions will not be directly callable after loading.\n"
          ]
        },
        {
          "output_type": "stream",
          "name": "stdout",
          "text": [
            "\b\b\b\b\b\b\b\b\b\b\b\b\b\b\b\b\b\b\b\b\b\b\b\b\b\b\b\b\b\b\b\b\b\b\b\b\b\b\b\b\b\b\b\b\b\b\b\b\b\b\b\b\b\b\b\b\b\b\b\b\b\b\b\b\b\r18/18 [==============================] - 1s 57ms/step - loss: 115.4658 - val_loss: 607.8864\n",
            "Epoch 51/100\n",
            "18/18 [==============================] - 0s 6ms/step - loss: 115.0039 - val_loss: 610.1338\n",
            "Epoch 52/100\n",
            "18/18 [==============================] - 0s 5ms/step - loss: 113.9738 - val_loss: 612.7875\n",
            "Epoch 53/100\n",
            "18/18 [==============================] - 0s 6ms/step - loss: 116.3735 - val_loss: 618.2054\n",
            "Epoch 54/100\n",
            "18/18 [==============================] - 0s 5ms/step - loss: 118.9897 - val_loss: 639.8877\n",
            "Epoch 55/100\n",
            "17/18 [===========================>..] - ETA: 0s - loss: 115.4935"
          ]
        },
        {
          "output_type": "stream",
          "name": "stderr",
          "text": [
            "WARNING:absl:Found untraced functions such as _jit_compiled_convolution_op, _update_step_xla while saving (showing 2 of 2). These functions will not be directly callable after loading.\n"
          ]
        },
        {
          "output_type": "stream",
          "name": "stdout",
          "text": [
            "\b\b\b\b\b\b\b\b\b\b\b\b\b\b\b\b\b\b\b\b\b\b\b\b\b\b\b\b\b\b\b\b\b\b\b\b\b\b\b\b\b\b\b\b\b\b\b\b\b\b\b\b\b\b\b\b\b\b\b\b\b\b\b\b\b\r18/18 [==============================] - 1s 38ms/step - loss: 113.9608 - val_loss: 599.4172\n",
            "Epoch 56/100\n",
            "18/18 [==============================] - 0s 5ms/step - loss: 112.2823 - val_loss: 743.6880\n",
            "Epoch 57/100\n",
            "18/18 [==============================] - 0s 10ms/step - loss: 126.9909 - val_loss: 692.1935\n",
            "Epoch 58/100\n",
            "18/18 [==============================] - 0s 8ms/step - loss: 121.9388 - val_loss: 692.4733\n",
            "Epoch 59/100\n",
            "18/18 [==============================] - 0s 7ms/step - loss: 113.8148 - val_loss: 607.2744\n",
            "Epoch 60/100\n",
            "18/18 [==============================] - 0s 7ms/step - loss: 113.5030 - val_loss: 645.8698\n",
            "Epoch 61/100\n",
            "18/18 [==============================] - 0s 8ms/step - loss: 113.4463 - val_loss: 599.8871\n",
            "Epoch 62/100\n",
            "18/18 [==============================] - 0s 8ms/step - loss: 110.9651 - val_loss: 605.3477\n",
            "Epoch 63/100\n",
            "12/18 [===================>..........] - ETA: 0s - loss: 117.4885"
          ]
        },
        {
          "output_type": "stream",
          "name": "stderr",
          "text": [
            "WARNING:absl:Found untraced functions such as _jit_compiled_convolution_op, _update_step_xla while saving (showing 2 of 2). These functions will not be directly callable after loading.\n"
          ]
        },
        {
          "output_type": "stream",
          "name": "stdout",
          "text": [
            "\b\b\b\b\b\b\b\b\b\b\b\b\b\b\b\b\b\b\b\b\b\b\b\b\b\b\b\b\b\b\b\b\b\b\b\b\b\b\b\b\b\b\b\b\b\b\b\b\b\b\b\b\b\b\b\b\b\b\b\b\b\b\b\b\b\r18/18 [==============================] - 1s 55ms/step - loss: 113.4933 - val_loss: 590.8257\n",
            "Epoch 64/100\n",
            "18/18 [==============================] - 0s 8ms/step - loss: 111.1333 - val_loss: 630.2567\n",
            "Epoch 65/100\n",
            "13/18 [====================>.........] - ETA: 0s - loss: 114.6145"
          ]
        },
        {
          "output_type": "stream",
          "name": "stderr",
          "text": [
            "WARNING:absl:Found untraced functions such as _jit_compiled_convolution_op, _update_step_xla while saving (showing 2 of 2). These functions will not be directly callable after loading.\n"
          ]
        },
        {
          "output_type": "stream",
          "name": "stdout",
          "text": [
            "\b\b\b\b\b\b\b\b\b\b\b\b\b\b\b\b\b\b\b\b\b\b\b\b\b\b\b\b\b\b\b\b\b\b\b\b\b\b\b\b\b\b\b\b\b\b\b\b\b\b\b\b\b\b\b\b\b\b\b\b\b\b\b\b\b\r18/18 [==============================] - 1s 43ms/step - loss: 114.3787 - val_loss: 588.4288\n",
            "Epoch 66/100\n",
            "16/18 [=========================>....] - ETA: 0s - loss: 112.1672"
          ]
        },
        {
          "output_type": "stream",
          "name": "stderr",
          "text": [
            "WARNING:absl:Found untraced functions such as _jit_compiled_convolution_op, _update_step_xla while saving (showing 2 of 2). These functions will not be directly callable after loading.\n"
          ]
        },
        {
          "output_type": "stream",
          "name": "stdout",
          "text": [
            "\b\b\b\b\b\b\b\b\b\b\b\b\b\b\b\b\b\b\b\b\b\b\b\b\b\b\b\b\b\b\b\b\b\b\b\b\b\b\b\b\b\b\b\b\b\b\b\b\b\b\b\b\b\b\b\b\b\b\b\b\b\b\b\b\b\r18/18 [==============================] - 1s 38ms/step - loss: 111.2403 - val_loss: 585.3050\n",
            "Epoch 67/100\n",
            "18/18 [==============================] - 0s 5ms/step - loss: 109.8292 - val_loss: 626.9175\n",
            "Epoch 68/100\n",
            "18/18 [==============================] - 0s 6ms/step - loss: 115.7065 - val_loss: 685.9918\n",
            "Epoch 69/100\n",
            "18/18 [==============================] - 0s 6ms/step - loss: 129.1712 - val_loss: 684.3921\n",
            "Epoch 70/100\n",
            "17/18 [===========================>..] - ETA: 0s - loss: 119.0240"
          ]
        },
        {
          "output_type": "stream",
          "name": "stderr",
          "text": [
            "WARNING:absl:Found untraced functions such as _jit_compiled_convolution_op, _update_step_xla while saving (showing 2 of 2). These functions will not be directly callable after loading.\n"
          ]
        },
        {
          "output_type": "stream",
          "name": "stdout",
          "text": [
            "\b\b\b\b\b\b\b\b\b\b\b\b\b\b\b\b\b\b\b\b\b\b\b\b\b\b\b\b\b\b\b\b\b\b\b\b\b\b\b\b\b\b\b\b\b\b\b\b\b\b\b\b\b\b\b\b\b\b\b\b\b\b\b\b\b\r18/18 [==============================] - 1s 39ms/step - loss: 120.3083 - val_loss: 584.6094\n",
            "Epoch 71/100\n",
            "18/18 [==============================] - 0s 6ms/step - loss: 111.6333 - val_loss: 608.4698\n",
            "Epoch 72/100\n",
            "18/18 [==============================] - 0s 5ms/step - loss: 112.3076 - val_loss: 607.4186\n",
            "Epoch 73/100\n",
            "18/18 [==============================] - 0s 6ms/step - loss: 112.1215 - val_loss: 595.9928\n",
            "Epoch 74/100\n",
            "15/18 [========================>.....] - ETA: 0s - loss: 109.7375"
          ]
        },
        {
          "output_type": "stream",
          "name": "stderr",
          "text": [
            "WARNING:absl:Found untraced functions such as _jit_compiled_convolution_op, _update_step_xla while saving (showing 2 of 2). These functions will not be directly callable after loading.\n"
          ]
        },
        {
          "output_type": "stream",
          "name": "stdout",
          "text": [
            "\b\b\b\b\b\b\b\b\b\b\b\b\b\b\b\b\b\b\b\b\b\b\b\b\b\b\b\b\b\b\b\b\b\b\b\b\b\b\b\b\b\b\b\b\b\b\b\b\b\b\b\b\b\b\b\b\b\b\b\b\b\b\b\b\b\r18/18 [==============================] - 1s 41ms/step - loss: 109.8344 - val_loss: 581.0099\n",
            "Epoch 75/100\n",
            "18/18 [==============================] - 0s 6ms/step - loss: 110.6878 - val_loss: 615.4250\n",
            "Epoch 76/100\n",
            "18/18 [==============================] - 0s 6ms/step - loss: 112.8090 - val_loss: 596.7527\n",
            "Epoch 77/100\n",
            "18/18 [==============================] - ETA: 0s - loss: 110.3902"
          ]
        },
        {
          "output_type": "stream",
          "name": "stderr",
          "text": [
            "WARNING:absl:Found untraced functions such as _jit_compiled_convolution_op, _update_step_xla while saving (showing 2 of 2). These functions will not be directly callable after loading.\n"
          ]
        },
        {
          "output_type": "stream",
          "name": "stdout",
          "text": [
            "\b\b\b\b\b\b\b\b\b\b\b\b\b\b\b\b\b\b\b\b\b\b\b\b\b\b\b\b\b\b\b\b\b\b\b\b\b\b\b\b\b\b\b\b\b\b\b\b\b\b\b\b\b\b\b\b\b\b\b\b\b\b\b\b\b\r18/18 [==============================] - 1s 40ms/step - loss: 110.3902 - val_loss: 578.5244\n",
            "Epoch 78/100\n",
            "18/18 [==============================] - 0s 5ms/step - loss: 110.5935 - val_loss: 579.5068\n",
            "Epoch 79/100\n",
            "18/18 [==============================] - 0s 6ms/step - loss: 110.5020 - val_loss: 603.1794\n",
            "Epoch 80/100\n",
            "18/18 [==============================] - 0s 6ms/step - loss: 110.2127 - val_loss: 579.2258\n",
            "Epoch 81/100\n",
            "14/18 [======================>.......] - ETA: 0s - loss: 108.2618"
          ]
        },
        {
          "output_type": "stream",
          "name": "stderr",
          "text": [
            "WARNING:absl:Found untraced functions such as _jit_compiled_convolution_op, _update_step_xla while saving (showing 2 of 2). These functions will not be directly callable after loading.\n"
          ]
        },
        {
          "output_type": "stream",
          "name": "stdout",
          "text": [
            "\b\b\b\b\b\b\b\b\b\b\b\b\b\b\b\b\b\b\b\b\b\b\b\b\b\b\b\b\b\b\b\b\b\b\b\b\b\b\b\b\b\b\b\b\b\b\b\b\b\b\b\b\b\b\b\b\b\b\b\b\b\b\b\b\b\r18/18 [==============================] - 1s 45ms/step - loss: 108.9503 - val_loss: 576.5950\n",
            "Epoch 82/100\n",
            "18/18 [==============================] - 0s 8ms/step - loss: 116.1314 - val_loss: 583.8904\n",
            "Epoch 83/100\n",
            "18/18 [==============================] - 0s 8ms/step - loss: 111.1289 - val_loss: 681.0704\n",
            "Epoch 84/100\n",
            "18/18 [==============================] - 0s 7ms/step - loss: 113.2618 - val_loss: 580.6133\n",
            "Epoch 85/100\n",
            "18/18 [==============================] - 0s 8ms/step - loss: 108.2263 - val_loss: 586.7076\n",
            "Epoch 86/100\n",
            "18/18 [==============================] - 0s 8ms/step - loss: 111.1468 - val_loss: 661.8199\n",
            "Epoch 87/100\n",
            "12/18 [===================>..........] - ETA: 0s - loss: 113.1511"
          ]
        },
        {
          "output_type": "stream",
          "name": "stderr",
          "text": [
            "WARNING:absl:Found untraced functions such as _jit_compiled_convolution_op, _update_step_xla while saving (showing 2 of 2). These functions will not be directly callable after loading.\n"
          ]
        },
        {
          "output_type": "stream",
          "name": "stdout",
          "text": [
            "\b\b\b\b\b\b\b\b\b\b\b\b\b\b\b\b\b\b\b\b\b\b\b\b\b\b\b\b\b\b\b\b\b\b\b\b\b\b\b\b\b\b\b\b\b\b\b\b\b\b\b\b\b\b\b\b\b\b\b\b\b\b\b\b\b\r18/18 [==============================] - 1s 55ms/step - loss: 111.4284 - val_loss: 573.8431\n",
            "Epoch 88/100\n",
            "18/18 [==============================] - 0s 8ms/step - loss: 109.0347 - val_loss: 610.0131\n",
            "Epoch 89/100\n",
            "18/18 [==============================] - 0s 7ms/step - loss: 111.0396 - val_loss: 574.1083\n",
            "Epoch 90/100\n",
            "18/18 [==============================] - 0s 5ms/step - loss: 107.9855 - val_loss: 626.0286\n",
            "Epoch 91/100\n",
            "18/18 [==============================] - 0s 5ms/step - loss: 114.9837 - val_loss: 587.9434\n",
            "Epoch 92/100\n",
            "18/18 [==============================] - 0s 6ms/step - loss: 109.6920 - val_loss: 573.9604\n",
            "Epoch 93/100\n",
            "18/18 [==============================] - 0s 7ms/step - loss: 113.5855 - val_loss: 609.8712\n",
            "Epoch 94/100\n",
            "18/18 [==============================] - 0s 5ms/step - loss: 109.6809 - val_loss: 577.2081\n",
            "Epoch 95/100\n",
            "18/18 [==============================] - 0s 6ms/step - loss: 107.8399 - val_loss: 587.4921\n",
            "Epoch 96/100\n",
            "18/18 [==============================] - 0s 6ms/step - loss: 111.1949 - val_loss: 600.4713\n",
            "Epoch 97/100\n",
            "18/18 [==============================] - 0s 6ms/step - loss: 109.8714 - val_loss: 583.0977\n",
            "Epoch 98/100\n",
            "17/18 [===========================>..] - ETA: 0s - loss: 109.1826"
          ]
        },
        {
          "output_type": "stream",
          "name": "stderr",
          "text": [
            "WARNING:absl:Found untraced functions such as _jit_compiled_convolution_op, _update_step_xla while saving (showing 2 of 2). These functions will not be directly callable after loading.\n"
          ]
        },
        {
          "output_type": "stream",
          "name": "stdout",
          "text": [
            "\b\b\b\b\b\b\b\b\b\b\b\b\b\b\b\b\b\b\b\b\b\b\b\b\b\b\b\b\b\b\b\b\b\b\b\b\b\b\b\b\b\b\b\b\b\b\b\b\b\b\b\b\b\b\b\b\b\b\b\b\b\b\b\b\b\r18/18 [==============================] - 1s 38ms/step - loss: 108.4269 - val_loss: 572.1394\n",
            "Epoch 99/100\n",
            "15/18 [========================>.....] - ETA: 0s - loss: 106.8494"
          ]
        },
        {
          "output_type": "stream",
          "name": "stderr",
          "text": [
            "WARNING:absl:Found untraced functions such as _jit_compiled_convolution_op, _update_step_xla while saving (showing 2 of 2). These functions will not be directly callable after loading.\n"
          ]
        },
        {
          "output_type": "stream",
          "name": "stdout",
          "text": [
            "\b\b\b\b\b\b\b\b\b\b\b\b\b\b\b\b\b\b\b\b\b\b\b\b\b\b\b\b\b\b\b\b\b\b\b\b\b\b\b\b\b\b\b\b\b\b\b\b\b\b\b\b\b\b\b\b\b\b\b\b\b\b\b\b\b\r18/18 [==============================] - 1s 58ms/step - loss: 108.0234 - val_loss: 569.2289\n",
            "Epoch 100/100\n",
            "18/18 [==============================] - 0s 6ms/step - loss: 112.6242 - val_loss: 647.4440\n"
          ]
        },
        {
          "output_type": "execute_result",
          "data": {
            "text/plain": [
              "<keras.callbacks.History at 0x7f8f20f13940>"
            ]
          },
          "metadata": {},
          "execution_count": 60
        }
      ]
    },
    {
      "cell_type": "code",
      "source": [
        "model_4.summary()"
      ],
      "metadata": {
        "colab": {
          "base_uri": "https://localhost:8080/"
        },
        "id": "XRy7bJRUnsBc",
        "outputId": "67374a6a-2dc1-49cc-d8da-20e19399db25"
      },
      "execution_count": 61,
      "outputs": [
        {
          "output_type": "stream",
          "name": "stdout",
          "text": [
            "Model: \"model_4_1D\"\n",
            "_________________________________________________________________\n",
            " Layer (type)                Output Shape              Param #   \n",
            "=================================================================\n",
            " lambda_1 (Lambda)           (None, 1, 7)              0         \n",
            "                                                                 \n",
            " conv1d (Conv1D)             (None, 1, 128)            4608      \n",
            "                                                                 \n",
            " dense_4 (Dense)             (None, 1, 1)              129       \n",
            "                                                                 \n",
            "=================================================================\n",
            "Total params: 4,737\n",
            "Trainable params: 4,737\n",
            "Non-trainable params: 0\n",
            "_________________________________________________________________\n"
          ]
        }
      ]
    },
    {
      "cell_type": "code",
      "source": [
        "model_4.evaluate(test_windows, test_labels)"
      ],
      "metadata": {
        "colab": {
          "base_uri": "https://localhost:8080/"
        },
        "id": "waxA6ScYoEfq",
        "outputId": "cf4cd203-183e-43d6-c279-dd83dc974fa9"
      },
      "execution_count": 62,
      "outputs": [
        {
          "output_type": "stream",
          "name": "stdout",
          "text": [
            "18/18 [==============================] - 0s 4ms/step - loss: 647.4442\n"
          ]
        },
        {
          "output_type": "execute_result",
          "data": {
            "text/plain": [
              "647.4441528320312"
            ]
          },
          "metadata": {},
          "execution_count": 62
        }
      ]
    },
    {
      "cell_type": "code",
      "source": [
        "# load back best performing instance\n",
        "model_4 = tf.keras.models.load_model(\"model_experiments/model_4_1D\")\n",
        "model_4.evaluate(test_windows, test_labels)"
      ],
      "metadata": {
        "colab": {
          "base_uri": "https://localhost:8080/"
        },
        "id": "WHAAEeS6oa9M",
        "outputId": "acdd170b-9ba5-4071-bfca-a659869ba6e9"
      },
      "execution_count": 63,
      "outputs": [
        {
          "output_type": "stream",
          "name": "stdout",
          "text": [
            "18/18 [==============================] - 0s 4ms/step - loss: 569.2291\n"
          ]
        },
        {
          "output_type": "execute_result",
          "data": {
            "text/plain": [
              "569.2290649414062"
            ]
          },
          "metadata": {},
          "execution_count": 63
        }
      ]
    },
    {
      "cell_type": "code",
      "source": [
        "model_4_preds = make_preds(model_4, test_windows)\n",
        "model_4_preds[:10]"
      ],
      "metadata": {
        "colab": {
          "base_uri": "https://localhost:8080/"
        },
        "id": "Kid6n24-or-4",
        "outputId": "73bf499a-2cfd-48b5-8d9b-dc5b11af5158"
      },
      "execution_count": 64,
      "outputs": [
        {
          "output_type": "stream",
          "name": "stdout",
          "text": [
            "18/18 [==============================] - 0s 3ms/step\n"
          ]
        },
        {
          "output_type": "execute_result",
          "data": {
            "text/plain": [
              "<tf.Tensor: shape=(10,), dtype=float32, numpy=\n",
              "array([8887.623, 8785.551, 9003.359, 8774.943, 8753.999, 8749.56 ,\n",
              "       8682.721, 8519.49 , 8477.542, 8516.456], dtype=float32)>"
            ]
          },
          "metadata": {},
          "execution_count": 64
        }
      ]
    },
    {
      "cell_type": "code",
      "source": [
        "# Results\n",
        "model_4_results = evaluate_preds(y_true = tf.squeeze(test_labels), y_pred = model_4_preds)\n",
        "model_4_results"
      ],
      "metadata": {
        "colab": {
          "base_uri": "https://localhost:8080/"
        },
        "id": "NfIzrB4Bo4gs",
        "outputId": "6e972f03-eddb-4676-d95c-5117dd9e679e"
      },
      "execution_count": 65,
      "outputs": [
        {
          "output_type": "execute_result",
          "data": {
            "text/plain": [
              "{'mae': 569.22906,\n",
              " 'mse': 1172866.6,\n",
              " 'rmse': 1082.9896,\n",
              " 'mape': 2.5444324,\n",
              " 'mase': 0.9999778}"
            ]
          },
          "metadata": {},
          "execution_count": 65
        }
      ]
    },
    {
      "cell_type": "markdown",
      "source": [
        "## Model 5 : RNN"
      ],
      "metadata": {
        "id": "5UwK9ObwpHyP"
      }
    },
    {
      "cell_type": "code",
      "source": [
        "import tensorflow as tf\n",
        "tf.random.set_seed(42)\n",
        "# Functional API\n",
        "inputs = layers.Input(shape = (WINDOW_SIZE))\n",
        "x = layers.Lambda(lambda x: tf.expand_dims(x, axis = 1))(inputs)\n",
        "# x = layers.LSTM(128, return_sequences = True)(x)\n",
        "x = layers.LSTM(128, activation = \"relu\")(x)\n",
        "# x = layers.Dense(32, activation = \"relu\")(x)\n",
        "output = layers.Dense(HORIZON)(x)\n",
        "model_5 = tf.keras.Model(inputs = inputs, outputs = output, name = \"model_5_LSTM\")\n",
        "\n",
        "model_5.compile(loss = \"mae\",\n",
        "                optimizer = tf.keras.optimizers.Adam())\n",
        "\n",
        "model_5.fit(train_windows,\n",
        "            train_labels,\n",
        "            epochs = 100,\n",
        "            verbose = 1,\n",
        "            batch_size = 128,\n",
        "            validation_data = (test_windows, test_labels),\n",
        "            callbacks = [create_model_checkpoint(model_name = model_5.name)])"
      ],
      "metadata": {
        "colab": {
          "base_uri": "https://localhost:8080/"
        },
        "id": "Gfo7WgAmpkS8",
        "outputId": "1ff21b9f-71d3-458c-928f-9257d6b1b5f7"
      },
      "execution_count": 66,
      "outputs": [
        {
          "output_type": "stream",
          "name": "stderr",
          "text": [
            "WARNING:tensorflow:Layer lstm will not use cuDNN kernels since it doesn't meet the criteria. It will use a generic GPU kernel as fallback when running on GPU.\n"
          ]
        },
        {
          "output_type": "stream",
          "name": "stdout",
          "text": [
            "Epoch 1/100\n",
            "18/18 [==============================] - 4s 113ms/step - loss: 2903.2322 - val_loss: 14001.4258\n",
            "Epoch 2/100\n",
            "18/18 [==============================] - 2s 100ms/step - loss: 1591.8767 - val_loss: 5836.5708\n",
            "Epoch 3/100\n",
            "18/18 [==============================] - 2s 119ms/step - loss: 431.8095 - val_loss: 1462.2448\n",
            "Epoch 4/100\n",
            "18/18 [==============================] - 2s 99ms/step - loss: 219.1590 - val_loss: 1143.3141\n",
            "Epoch 5/100\n",
            "18/18 [==============================] - 2s 106ms/step - loss: 194.2991 - val_loss: 1128.4552\n",
            "Epoch 6/100\n",
            "18/18 [==============================] - 2s 131ms/step - loss: 190.1988 - val_loss: 1047.4208\n",
            "Epoch 7/100\n",
            "18/18 [==============================] - 0s 7ms/step - loss: 182.2340 - val_loss: 1093.8984\n",
            "Epoch 8/100\n",
            "18/18 [==============================] - 0s 7ms/step - loss: 191.0205 - val_loss: 1132.8728\n",
            "Epoch 9/100\n",
            "18/18 [==============================] - 0s 7ms/step - loss: 188.1602 - val_loss: 1088.5709\n",
            "Epoch 10/100\n",
            "18/18 [==============================] - 0s 8ms/step - loss: 186.8352 - val_loss: 1052.8074\n",
            "Epoch 11/100\n",
            "18/18 [==============================] - 0s 7ms/step - loss: 185.1839 - val_loss: 1055.0789\n",
            "Epoch 12/100\n",
            "18/18 [==============================] - 0s 7ms/step - loss: 185.1019 - val_loss: 1057.4674\n",
            "Epoch 13/100\n",
            "18/18 [==============================] - 2s 119ms/step - loss: 183.2463 - val_loss: 1042.8977\n",
            "Epoch 14/100\n",
            "18/18 [==============================] - 0s 8ms/step - loss: 181.5880 - val_loss: 1054.8298\n",
            "Epoch 15/100\n",
            "18/18 [==============================] - 2s 98ms/step - loss: 176.3154 - val_loss: 1007.0110\n",
            "Epoch 16/100\n",
            "18/18 [==============================] - 0s 8ms/step - loss: 187.5332 - val_loss: 1062.9978\n",
            "Epoch 17/100\n",
            "18/18 [==============================] - 0s 8ms/step - loss: 184.0356 - val_loss: 1029.0892\n",
            "Epoch 18/100\n",
            "18/18 [==============================] - 0s 7ms/step - loss: 177.3165 - val_loss: 1025.1558\n",
            "Epoch 19/100\n",
            "18/18 [==============================] - 2s 97ms/step - loss: 175.7128 - val_loss: 1006.1862\n",
            "Epoch 20/100\n",
            "18/18 [==============================] - 2s 97ms/step - loss: 174.7226 - val_loss: 979.8436\n",
            "Epoch 21/100\n",
            "18/18 [==============================] - 0s 7ms/step - loss: 173.6689 - val_loss: 984.7909\n",
            "Epoch 22/100\n",
            "18/18 [==============================] - 3s 147ms/step - loss: 172.2874 - val_loss: 971.1331\n",
            "Epoch 23/100\n",
            "18/18 [==============================] - 2s 112ms/step - loss: 171.7810 - val_loss: 970.6594\n",
            "Epoch 24/100\n",
            "18/18 [==============================] - 0s 10ms/step - loss: 169.2774 - val_loss: 985.2559\n",
            "Epoch 25/100\n",
            "18/18 [==============================] - 2s 97ms/step - loss: 167.5447 - val_loss: 951.0712\n",
            "Epoch 26/100\n",
            "18/18 [==============================] - 2s 97ms/step - loss: 165.8031 - val_loss: 937.1563\n",
            "Epoch 27/100\n",
            "18/18 [==============================] - 0s 7ms/step - loss: 165.3911 - val_loss: 939.8619\n",
            "Epoch 28/100\n",
            "18/18 [==============================] - 0s 7ms/step - loss: 163.7484 - val_loss: 939.4963\n",
            "Epoch 29/100\n",
            "18/18 [==============================] - 0s 10ms/step - loss: 161.9638 - val_loss: 952.9208\n",
            "Epoch 30/100\n",
            "18/18 [==============================] - 2s 121ms/step - loss: 160.4295 - val_loss: 924.6782\n",
            "Epoch 31/100\n",
            "18/18 [==============================] - 2s 98ms/step - loss: 158.2763 - val_loss: 890.5294\n",
            "Epoch 32/100\n",
            "18/18 [==============================] - 3s 190ms/step - loss: 157.6501 - val_loss: 885.4220\n",
            "Epoch 33/100\n",
            "18/18 [==============================] - 0s 10ms/step - loss: 157.5015 - val_loss: 966.2322\n",
            "Epoch 34/100\n",
            "18/18 [==============================] - 2s 98ms/step - loss: 156.7219 - val_loss: 879.9237\n",
            "Epoch 35/100\n",
            "18/18 [==============================] - 3s 192ms/step - loss: 152.7871 - val_loss: 876.5984\n",
            "Epoch 36/100\n",
            "18/18 [==============================] - 2s 127ms/step - loss: 153.6472 - val_loss: 845.9564\n",
            "Epoch 37/100\n",
            "18/18 [==============================] - 2s 115ms/step - loss: 151.5155 - val_loss: 837.8087\n",
            "Epoch 38/100\n",
            "18/18 [==============================] - 0s 7ms/step - loss: 148.9464 - val_loss: 846.5344\n",
            "Epoch 39/100\n",
            "18/18 [==============================] - 2s 127ms/step - loss: 147.9967 - val_loss: 820.3699\n",
            "Epoch 40/100\n",
            "18/18 [==============================] - 2s 139ms/step - loss: 148.6368 - val_loss: 811.7133\n",
            "Epoch 41/100\n",
            "18/18 [==============================] - 0s 8ms/step - loss: 144.9739 - val_loss: 817.1447\n",
            "Epoch 42/100\n",
            "18/18 [==============================] - 2s 102ms/step - loss: 143.6979 - val_loss: 801.3619\n",
            "Epoch 43/100\n",
            "18/18 [==============================] - 0s 7ms/step - loss: 141.9850 - val_loss: 803.6411\n",
            "Epoch 44/100\n",
            "18/18 [==============================] - 2s 97ms/step - loss: 140.0869 - val_loss: 787.7311\n",
            "Epoch 45/100\n",
            "18/18 [==============================] - 0s 7ms/step - loss: 139.6972 - val_loss: 795.6379\n",
            "Epoch 46/100\n",
            "18/18 [==============================] - 2s 99ms/step - loss: 137.8882 - val_loss: 777.1258\n",
            "Epoch 47/100\n",
            "18/18 [==============================] - 2s 123ms/step - loss: 137.4813 - val_loss: 765.4098\n",
            "Epoch 48/100\n",
            "18/18 [==============================] - 0s 7ms/step - loss: 135.5900 - val_loss: 773.4557\n",
            "Epoch 49/100\n",
            "18/18 [==============================] - 2s 129ms/step - loss: 134.9365 - val_loss: 753.9429\n",
            "Epoch 50/100\n",
            "18/18 [==============================] - 0s 13ms/step - loss: 136.2028 - val_loss: 757.7034\n",
            "Epoch 51/100\n",
            "18/18 [==============================] - 0s 14ms/step - loss: 136.0431 - val_loss: 803.1772\n",
            "Epoch 52/100\n",
            "18/18 [==============================] - 2s 102ms/step - loss: 138.8720 - val_loss: 725.9307\n",
            "Epoch 53/100\n",
            "18/18 [==============================] - 2s 99ms/step - loss: 132.2656 - val_loss: 721.4315\n",
            "Epoch 54/100\n",
            "18/18 [==============================] - 0s 8ms/step - loss: 131.0180 - val_loss: 733.7100\n",
            "Epoch 55/100\n",
            "18/18 [==============================] - 2s 123ms/step - loss: 128.6706 - val_loss: 717.0847\n",
            "Epoch 56/100\n",
            "18/18 [==============================] - 2s 99ms/step - loss: 128.6738 - val_loss: 702.1647\n",
            "Epoch 57/100\n",
            "18/18 [==============================] - 0s 8ms/step - loss: 129.8177 - val_loss: 711.6619\n",
            "Epoch 58/100\n",
            "18/18 [==============================] - 2s 99ms/step - loss: 125.5852 - val_loss: 690.8883\n",
            "Epoch 59/100\n",
            "18/18 [==============================] - 2s 133ms/step - loss: 124.1407 - val_loss: 686.3754\n",
            "Epoch 60/100\n",
            "18/18 [==============================] - 0s 12ms/step - loss: 124.4529 - val_loss: 694.4506\n",
            "Epoch 61/100\n",
            "18/18 [==============================] - 0s 13ms/step - loss: 124.1427 - val_loss: 727.6328\n",
            "Epoch 62/100\n",
            "18/18 [==============================] - 0s 12ms/step - loss: 126.9347 - val_loss: 742.5303\n",
            "Epoch 63/100\n",
            "18/18 [==============================] - 0s 10ms/step - loss: 127.7201 - val_loss: 695.2037\n",
            "Epoch 64/100\n",
            "18/18 [==============================] - 2s 97ms/step - loss: 121.8041 - val_loss: 666.2258\n",
            "Epoch 65/100\n",
            "18/18 [==============================] - 2s 124ms/step - loss: 120.8247 - val_loss: 660.1667\n",
            "Epoch 66/100\n",
            "18/18 [==============================] - 0s 7ms/step - loss: 120.4774 - val_loss: 674.5959\n",
            "Epoch 67/100\n",
            "18/18 [==============================] - 2s 98ms/step - loss: 120.8225 - val_loss: 653.3878\n",
            "Epoch 68/100\n",
            "18/18 [==============================] - 2s 97ms/step - loss: 121.0760 - val_loss: 649.1380\n",
            "Epoch 69/100\n",
            "18/18 [==============================] - 0s 7ms/step - loss: 122.9196 - val_loss: 661.0887\n",
            "Epoch 70/100\n",
            "18/18 [==============================] - 2s 97ms/step - loss: 120.4157 - val_loss: 642.5721\n",
            "Epoch 71/100\n",
            "18/18 [==============================] - 0s 7ms/step - loss: 118.9943 - val_loss: 671.2374\n",
            "Epoch 72/100\n",
            "18/18 [==============================] - 0s 7ms/step - loss: 122.0970 - val_loss: 653.5825\n",
            "Epoch 73/100\n",
            "18/18 [==============================] - 3s 160ms/step - loss: 119.4900 - val_loss: 634.2039\n",
            "Epoch 74/100\n",
            "18/18 [==============================] - 0s 7ms/step - loss: 117.6296 - val_loss: 644.5868\n",
            "Epoch 75/100\n",
            "18/18 [==============================] - 0s 7ms/step - loss: 117.4821 - val_loss: 662.9924\n",
            "Epoch 76/100\n",
            "18/18 [==============================] - 2s 98ms/step - loss: 116.9069 - val_loss: 626.7078\n",
            "Epoch 77/100\n",
            "18/18 [==============================] - 0s 8ms/step - loss: 117.7077 - val_loss: 686.6099\n",
            "Epoch 78/100\n",
            "18/18 [==============================] - 2s 97ms/step - loss: 119.2341 - val_loss: 624.1865\n",
            "Epoch 79/100\n",
            "18/18 [==============================] - 2s 119ms/step - loss: 115.1799 - val_loss: 620.1741\n",
            "Epoch 80/100\n",
            "18/18 [==============================] - 0s 7ms/step - loss: 115.4100 - val_loss: 629.0759\n",
            "Epoch 81/100\n",
            "18/18 [==============================] - 0s 8ms/step - loss: 116.3186 - val_loss: 711.5044\n",
            "Epoch 82/100\n",
            "18/18 [==============================] - 0s 8ms/step - loss: 121.4299 - val_loss: 653.5651\n",
            "Epoch 83/100\n",
            "18/18 [==============================] - 0s 8ms/step - loss: 116.4823 - val_loss: 669.2241\n",
            "Epoch 84/100\n",
            "18/18 [==============================] - 0s 7ms/step - loss: 118.6986 - val_loss: 644.3431\n",
            "Epoch 85/100\n",
            "18/18 [==============================] - 0s 8ms/step - loss: 116.2138 - val_loss: 624.7264\n",
            "Epoch 86/100\n",
            "18/18 [==============================] - 2s 137ms/step - loss: 116.0316 - val_loss: 610.5444\n",
            "Epoch 87/100\n",
            "18/18 [==============================] - 0s 8ms/step - loss: 113.9717 - val_loss: 613.1545\n",
            "Epoch 88/100\n",
            "18/18 [==============================] - 0s 7ms/step - loss: 114.5409 - val_loss: 638.8181\n",
            "Epoch 89/100\n",
            "18/18 [==============================] - 0s 8ms/step - loss: 113.1466 - val_loss: 647.7770\n",
            "Epoch 90/100\n",
            "18/18 [==============================] - 0s 7ms/step - loss: 119.3446 - val_loss: 627.9105\n",
            "Epoch 91/100\n",
            "18/18 [==============================] - 0s 7ms/step - loss: 115.5115 - val_loss: 653.7731\n",
            "Epoch 92/100\n",
            "18/18 [==============================] - 0s 7ms/step - loss: 114.0697 - val_loss: 610.9171\n",
            "Epoch 93/100\n",
            "18/18 [==============================] - 2s 139ms/step - loss: 113.4479 - val_loss: 600.8602\n",
            "Epoch 94/100\n",
            "18/18 [==============================] - 0s 7ms/step - loss: 111.9109 - val_loss: 601.9874\n",
            "Epoch 95/100\n",
            "18/18 [==============================] - 2s 95ms/step - loss: 111.6867 - val_loss: 598.2810\n",
            "Epoch 96/100\n",
            "18/18 [==============================] - 0s 8ms/step - loss: 113.2495 - val_loss: 614.5656\n",
            "Epoch 97/100\n",
            "18/18 [==============================] - 0s 8ms/step - loss: 114.6204 - val_loss: 630.4883\n",
            "Epoch 98/100\n",
            "18/18 [==============================] - 2s 99ms/step - loss: 113.2369 - val_loss: 597.2807\n",
            "Epoch 99/100\n",
            "18/18 [==============================] - 2s 120ms/step - loss: 111.7116 - val_loss: 596.4736\n",
            "Epoch 100/100\n",
            "18/18 [==============================] - 0s 8ms/step - loss: 114.0615 - val_loss: 599.4006\n"
          ]
        },
        {
          "output_type": "execute_result",
          "data": {
            "text/plain": [
              "<keras.callbacks.History at 0x7f8e9b6ac310>"
            ]
          },
          "metadata": {},
          "execution_count": 66
        }
      ]
    },
    {
      "cell_type": "code",
      "source": [
        "# eval\n",
        "model_5 = tf.keras.models.load_model(\"model_experiments/model_5_LSTM\")\n",
        "model_5.evaluate(test_windows, test_labels)"
      ],
      "metadata": {
        "colab": {
          "base_uri": "https://localhost:8080/"
        },
        "id": "F6hfo09Pxt9N",
        "outputId": "9c73fda7-850c-4711-b491-fe742db8c927"
      },
      "execution_count": 67,
      "outputs": [
        {
          "output_type": "stream",
          "name": "stderr",
          "text": [
            "WARNING:tensorflow:Layer lstm will not use cuDNN kernels since it doesn't meet the criteria. It will use a generic GPU kernel as fallback when running on GPU.\n"
          ]
        },
        {
          "output_type": "stream",
          "name": "stdout",
          "text": [
            "18/18 [==============================] - 0s 4ms/step - loss: 596.4736\n"
          ]
        },
        {
          "output_type": "execute_result",
          "data": {
            "text/plain": [
              "596.4735717773438"
            ]
          },
          "metadata": {},
          "execution_count": 67
        }
      ]
    },
    {
      "cell_type": "code",
      "source": [
        "model_5_preds = make_preds(model_5, test_windows)\n",
        "model_5_preds[:5]"
      ],
      "metadata": {
        "colab": {
          "base_uri": "https://localhost:8080/"
        },
        "id": "khMDetJQzkjK",
        "outputId": "25521ffd-72a6-4deb-ce28-7643936aa1d2"
      },
      "execution_count": 68,
      "outputs": [
        {
          "output_type": "stream",
          "name": "stdout",
          "text": [
            "18/18 [==============================] - 0s 2ms/step\n"
          ]
        },
        {
          "output_type": "execute_result",
          "data": {
            "text/plain": [
              "<tf.Tensor: shape=(5,), dtype=float32, numpy=array([8940.198, 8815.423, 8941.51 , 8763.906, 8733.53 ], dtype=float32)>"
            ]
          },
          "metadata": {},
          "execution_count": 68
        }
      ]
    },
    {
      "cell_type": "code",
      "source": [
        "model_5_results = evaluate_preds(y_true = tf.squeeze(test_labels),\n",
        "                                 y_pred = model_5_preds)\n",
        "model_5_results"
      ],
      "metadata": {
        "colab": {
          "base_uri": "https://localhost:8080/"
        },
        "id": "lQwQka1Rzk31",
        "outputId": "956337b1-4fa8-4ae4-d7ed-45348e56172f"
      },
      "execution_count": 70,
      "outputs": [
        {
          "output_type": "execute_result",
          "data": {
            "text/plain": [
              "{'mae': 596.4737,\n",
              " 'mse': 1259174.5,\n",
              " 'rmse': 1122.1294,\n",
              " 'mape': 2.685592,\n",
              " 'mase': 1.047839}"
            ]
          },
          "metadata": {},
          "execution_count": 70
        }
      ]
    },
    {
      "cell_type": "markdown",
      "source": [
        "## Multivariate time series\n",
        "\n",
        "---\n",
        "\n"
      ],
      "metadata": {
        "id": "tcVBg5lE3yCV"
      }
    },
    {
      "cell_type": "code",
      "source": [
        "# Block reward values\n",
        "block_reward_1 = 50 # 3 January 2009 (2009-01-03) - this block reward isn't in our dataset (it starts from 01 October 2013)\n",
        "block_reward_2 = 25 # 28 November 2012 \n",
        "block_reward_3 = 12.5 # 9 July 2016\n",
        "block_reward_4 = 6.25 # 11 May 2020"
      ],
      "metadata": {
        "id": "WZYaZolN1JPj"
      },
      "execution_count": 71,
      "outputs": []
    },
    {
      "cell_type": "code",
      "source": [
        "# Block reward dates (datetime form of the above date stamps)\n",
        "block_reward_2_datetime = np.datetime64(\"2012-11-28\")\n",
        "block_reward_3_datetime = np.datetime64(\"2016-07-09\")\n",
        "block_reward_4_datetime = np.datetime64(\"2020-05-11\")"
      ],
      "metadata": {
        "id": "9QDIpGXJ3ofg"
      },
      "execution_count": 72,
      "outputs": []
    },
    {
      "cell_type": "code",
      "source": [],
      "metadata": {
        "id": "rgISaJeA3qbI"
      },
      "execution_count": null,
      "outputs": []
    }
  ]
}